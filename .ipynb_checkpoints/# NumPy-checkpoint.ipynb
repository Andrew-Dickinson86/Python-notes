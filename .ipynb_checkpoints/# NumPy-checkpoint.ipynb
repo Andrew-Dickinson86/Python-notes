{
 "cells": [
  {
   "cell_type": "markdown",
   "id": "b27b78a3-398d-49de-8897-c8a9000af69d",
   "metadata": {},
   "source": [
    "## <center>NumPy</center>"
   ]
  },
  {
   "cell_type": "markdown",
   "id": "513cf8fd-0120-4a62-a9f9-0adbdb390d84",
   "metadata": {},
   "source": [
    "### Useful Links"
   ]
  },
  {
   "cell_type": "markdown",
   "id": "51265bab-bf9d-406c-b8f1-e7cec76fc0b1",
   "metadata": {},
   "source": [
    "[Python Quick Reference](https://www.python.org/ftp/python/doc/1.1/quick-ref.1.1.html)"
   ]
  },
  {
   "cell_type": "markdown",
   "id": "66d3e336-1033-4e6a-b436-e9de1cac76e3",
   "metadata": {},
   "source": [
    "[Python3 cheat sheet](https://perso.limsi.fr/pointal/_media/python:cours:mementopython3-english.pdf)"
   ]
  },
  {
   "cell_type": "markdown",
   "id": "c9952e37-16ef-49cd-8d89-dc752674a9f4",
   "metadata": {},
   "source": [
    "[Python.org](https://www.python.org/)"
   ]
  },
  {
   "cell_type": "markdown",
   "id": "ab6d8d53-b0a5-44f1-ad2b-e7dad6257d14",
   "metadata": {},
   "source": [
    "[Python Standard Library](https://docs.python.org/3/library/index.html)"
   ]
  },
  {
   "cell_type": "markdown",
   "id": "e1e8f734-4103-4b77-b335-3f27d33a0494",
   "metadata": {},
   "source": [
    "[Python Functions](https://docs.python.org/3/library/functions)"
   ]
  },
  {
   "cell_type": "markdown",
   "id": "2ec822de-15f4-4564-bdf8-405b43e7cd37",
   "metadata": {},
   "source": [
    "[Python NumPy](https://numpy.org/)"
   ]
  },
  {
   "cell_type": "markdown",
   "id": "80009376-7edf-4bb8-9071-7c356db7a489",
   "metadata": {},
   "source": [
    "[Matplotlib (PyPlot)](https://matplotlib.org/stable/index.html#)"
   ]
  },
  {
   "cell_type": "markdown",
   "id": "5d826114-4045-4185-9489-21b9ec2c55a4",
   "metadata": {},
   "source": [
    "---"
   ]
  },
  {
   "cell_type": "markdown",
   "id": "aefd1658-b167-4bd7-91ae-31ef28775e88",
   "metadata": {},
   "source": [
    "|<td colspan=3> <center><bold><h3>**Table of contents**<center>|||\n",
    "|---|:---|:---:|\n",
    "|**01.**|[**NumPy**](#NumPy;)|import library,<br>cast list to numpy,<br>numpy matrix objects,<br>largest element in array or matrix,<br>zeros( ), ones( ), eye( ), empty( ) functions,<br>cast dataset to ndarray<br>index / slice arrays,<br>dtype / size / ndim / shape methods,<br>array addition / subtraction / multiplication,<br>add axis to array<br>hadamard / dot product,<br>matrix multiplication,<br>norm of a matrix or vector,<br>transpose a matrix,<br>trace of a matrix,<br>determinant of a matrix,<br>inverse of a matrix,<br>Moore-Penrose pseudoinverse,<br>eig function (eigenvalues/vectors),<br>min, max, square root, mean, standard deviation of an array, pi,<br>random numbers with Numpy, int / float / seed<br>random binomial / uniform / poisson / normal / gassian distributions<br>linspace,<br>matplotlib|"
   ]
  },
  {
   "cell_type": "markdown",
   "id": "9b910a4b-6ab7-4505-8b3b-e1a973d8d07f",
   "metadata": {},
   "source": [
    "* NumPy is a Python library for data analysis, mainly used for numerical data  \n",
    "* Can be computationally faster and require less memory than regular Python  "
   ]
  },
  {
   "cell_type": "markdown",
   "id": "acc47878-701c-4378-b404-e647fcb80f72",
   "metadata": {},
   "source": [
    "**import numpy**:  \n",
    "\n",
    "**`import numpy as np`**  \n",
    "\n",
    "* Keyword **\"import\"** to import library  \n",
    "* **\"numpy\"** is the library name  \n",
    "* Keyword **\"as\"** is **optional** to change name referred to in script...in this case to the standard abbreviation \"np\"  \n",
    "* Once the library has been imported, we have access to pre-built functions and classes  "
   ]
  },
  {
   "cell_type": "code",
   "execution_count": 1,
   "id": "570370c4-634d-4aac-8161-05703b74dfe8",
   "metadata": {},
   "outputs": [],
   "source": [
    "# importing numpy library and assigning it to \"np\"\n",
    "\n",
    "import numpy as np"
   ]
  },
  {
   "cell_type": "markdown",
   "id": "3d1d5190-20b2-4eeb-93fb-0957645e3f2e",
   "metadata": {},
   "source": [
    "**import specific package**  \n",
    "\n",
    "**`from libraryName import packageName`**  \n",
    "* Will import only the package named from the library named  \n",
    "* Can change name package will be referred to in script by optionally including **as newReferringName** after imported package name  "
   ]
  },
  {
   "cell_type": "markdown",
   "id": "9ac940fa-b9d1-4849-aa88-ebf26576c70d",
   "metadata": {},
   "source": [
    "**cast list to numpy n-dimensional (nd) array**:  \n",
    "\n",
    "**`np_var = np.array([ele1, ele2...])`**  \n",
    "* An array is a list that is arranged in **multiple directions**, see picture below  \n",
    "* When there are more dimensions there will be more nested lists, note Python will print out as a table for easier viewing  \n",
    "* Assign to a variable to save  \n",
    "* \"np\" is the library name as imported  *\n",
    "* Requires **round AND square** brackets  \n",
    "* NumPy **array elements** need to be the **SAME type**  \n",
    "* The main **difference between np.array** and **np.asarray** is that np.array creates a copy of the object array and does not reflect changes to the original array. np.asarray reflects changes to the original array  "
   ]
  },
  {
   "cell_type": "markdown",
   "id": "c51168f3-91ad-4df8-8222-fbb5f664698c",
   "metadata": {},
   "source": [
    "![](http://venus.ifca.unican.es/Rintro/_images/dataStructuresNew.png \"visualization of Vectors, Matrices and Arrays\")"
   ]
  },
  {
   "cell_type": "code",
   "execution_count": 2,
   "id": "8774f4a3-5058-43cd-b07b-b9058dda8a24",
   "metadata": {},
   "outputs": [
    {
     "name": "stdout",
     "output_type": "stream",
     "text": [
      "[1 3 5 6]\n",
      "<class 'numpy.ndarray'>\n"
     ]
    }
   ],
   "source": [
    "# example casting list to nd array\n",
    "\n",
    "A = np.array([1,3,5,6])\n",
    "print(A)\n",
    "print(type(A))"
   ]
  },
  {
   "cell_type": "markdown",
   "id": "e5d13f66-80b1-4a2f-8276-c590e543429f",
   "metadata": {},
   "source": [
    "**numpy matrix object:**  \n",
    "\n",
    "**`np_var = np.matrix([[ele11,ele12...],`**  \n",
    "&emsp;&emsp;&emsp;&emsp;&emsp;&emsp;&emsp;&emsp;&emsp;&emsp;**`[ele21, ele22...]])`**  \n",
    "* Returns a matrix from an array-like object, or from a string of data  \n",
    "* A matrix is a specialized 2-D array that retains its 2-D nature through operations  \n",
    "* It has certain special operators, such as `*` (matrix multiplication) and `**` (matrix power)  "
   ]
  },
  {
   "cell_type": "code",
   "execution_count": 3,
   "id": "3d3842ce-0e64-41db-8ec3-bdd7e2436482",
   "metadata": {},
   "outputs": [
    {
     "name": "stdout",
     "output_type": "stream",
     "text": [
      "[[1 2]\n",
      " [3 4]]\n"
     ]
    }
   ],
   "source": [
    "A = np.matrix([[1,2],\n",
    "             [3,4]])\n",
    "\n",
    "print(A)"
   ]
  },
  {
   "cell_type": "markdown",
   "id": "715c396c-02d6-465d-b9e4-94dbb05dfa20",
   "metadata": {},
   "source": [
    "**largest element in an array or matrix:**  \n",
    "\n",
    "**`np.max(np_var)`**  \n",
    "* Returns the largest element in array or matrix  "
   ]
  },
  {
   "cell_type": "code",
   "execution_count": 4,
   "id": "0c04a3d5-e137-4f0a-8c76-4982217bf3ad",
   "metadata": {},
   "outputs": [
    {
     "data": {
      "text/plain": [
       "13"
      ]
     },
     "execution_count": 4,
     "metadata": {},
     "output_type": "execute_result"
    }
   ],
   "source": [
    "A = np.matrix([[12,13],\n",
    "               [9,2]])\n",
    "np.max(A)"
   ]
  },
  {
   "cell_type": "markdown",
   "id": "6f0201f9-a292-4323-9732-aabf451c0a00",
   "metadata": {},
   "source": [
    "**zeros**:  \n",
    "\n",
    "**`np.zeros(shape)`**  \n",
    "* Creates an array of given shape **filled with zeros**  \n",
    "* **`shape`** is the number of elements in each direction in the array, **1D arrays** need just the **number of elements**, **2D arrays** should be given as a **tuple** (10,3) would produce an array with 10 rows, each with 3 elements  \n",
    "* Note the zeros will be entered as **floats**  \n",
    "* **If you don't have the data**, best practice is to initialise a matrix with zeros and populate it"
   ]
  },
  {
   "cell_type": "code",
   "execution_count": 5,
   "id": "541777fd-dd43-41b3-9753-237a5f66f72f",
   "metadata": {},
   "outputs": [
    {
     "data": {
      "text/plain": [
       "1"
      ]
     },
     "execution_count": 5,
     "metadata": {},
     "output_type": "execute_result"
    }
   ],
   "source": [
    "# Creats a 1D array full of zeros\n",
    "\n",
    "np.zeros(5).ndim"
   ]
  },
  {
   "cell_type": "code",
   "execution_count": 6,
   "id": "ce322d58-9efd-4602-ab33-68fdf046eed1",
   "metadata": {},
   "outputs": [
    {
     "data": {
      "text/plain": [
       "array([[0., 0., 0.],\n",
       "       [0., 0., 0.],\n",
       "       [0., 0., 0.],\n",
       "       [0., 0., 0.],\n",
       "       [0., 0., 0.],\n",
       "       [0., 0., 0.],\n",
       "       [0., 0., 0.],\n",
       "       [0., 0., 0.],\n",
       "       [0., 0., 0.],\n",
       "       [0., 0., 0.]])"
      ]
     },
     "execution_count": 6,
     "metadata": {},
     "output_type": "execute_result"
    }
   ],
   "source": [
    "# Creates a 2D array full of zeros\n",
    "\n",
    "np.zeros((10,3))"
   ]
  },
  {
   "cell_type": "markdown",
   "id": "4df49aad-144e-494c-bc7b-f8697b13fa34",
   "metadata": {},
   "source": [
    "**ones**:  \n",
    "\n",
    "**`np.ones(shape)`**  \n",
    "* Similar to zeros (above), but fills the array with ones  \n",
    "* Note the ones are entered as **floats**  "
   ]
  },
  {
   "cell_type": "code",
   "execution_count": 7,
   "id": "354e5b34-7258-4859-bf02-3c970a137e17",
   "metadata": {},
   "outputs": [
    {
     "data": {
      "text/plain": [
       "array([[1., 1., 1., 1.],\n",
       "       [1., 1., 1., 1.],\n",
       "       [1., 1., 1., 1.]])"
      ]
     },
     "execution_count": 7,
     "metadata": {},
     "output_type": "execute_result"
    }
   ],
   "source": [
    "# Creates a 2D array full of ones\n",
    "\n",
    "np.ones((3,4))"
   ]
  },
  {
   "cell_type": "markdown",
   "id": "d1df0112-9acc-447c-ae77-88713ad81417",
   "metadata": {},
   "source": [
    "**eye** function (**Identity matrix**):  \n",
    "\n",
    "**`np.eye(N, M=None)`**  \n",
    "* **`N`** is the number of **rows** in the output  \n",
    "* **`M`** is the number of **columns**, defaults to **`N`** when set to **None**  \n",
    "* Produces a matrix filled with **zeros**, with **ones on the diagonal**  \n",
    "* If **`M`** is not specified, produces a **square matrix** (same number of rows and columns)  \n",
    "* Matrices of this form (max one '1' per row and column) are called permutation matrices  "
   ]
  },
  {
   "cell_type": "code",
   "execution_count": 8,
   "id": "9106a6ff-6075-4242-8ef1-f5535bb03e61",
   "metadata": {},
   "outputs": [
    {
     "data": {
      "text/plain": [
       "array([[1., 0., 0., 0., 0.],\n",
       "       [0., 1., 0., 0., 0.],\n",
       "       [0., 0., 1., 0., 0.],\n",
       "       [0., 0., 0., 1., 0.],\n",
       "       [0., 0., 0., 0., 1.]])"
      ]
     },
     "execution_count": 8,
     "metadata": {},
     "output_type": "execute_result"
    }
   ],
   "source": [
    "np.eye(5)"
   ]
  },
  {
   "cell_type": "markdown",
   "id": "00f08053-c384-4a26-a91c-ca713ae98e60",
   "metadata": {},
   "source": [
    "**empty** function:  \n",
    "\n",
    "**`np.empty(shape, dtype=float)`**  \n",
    "* **`dtype`** Desired output data-type for the array, e.g, numpy.int8. Default is numpy.float64  \n",
    "* Use **`dtype='U10'`** for **unicode string of max length 10**  "
   ]
  },
  {
   "cell_type": "code",
   "execution_count": 9,
   "id": "4a4ad5bb-654b-4ac9-807e-6737078fd8f7",
   "metadata": {},
   "outputs": [
    {
     "name": "stdout",
     "output_type": "stream",
     "text": [
      "['' '' '' '' '']\n"
     ]
    }
   ],
   "source": [
    "# creating an empty array\n",
    "emptyArray = np.empty(5, dtype='U10')\n",
    "print(emptyArray)"
   ]
  },
  {
   "cell_type": "markdown",
   "id": "36160a82-5f70-42fb-ba5c-0eafa3fec3ed",
   "metadata": {},
   "source": [
    "**Cast dataset (list) as ndarray**:  \n",
    "\n",
    "**`ndarrayVar = np.asarray(dataset)`**  \n",
    "* Casts **`dataset`** as ndarray  \n",
    "* The main **difference between np.array** and **np.asarray** is that np.array creates a copy of the object array and does not reflect changes to the original array. np.asarray reflects changes to the original array  "
   ]
  },
  {
   "cell_type": "code",
   "execution_count": 10,
   "id": "462e6990-4583-481b-9ce8-fdee9d39f648",
   "metadata": {},
   "outputs": [
    {
     "name": "stdout",
     "output_type": "stream",
     "text": [
      "\n",
      "X:\n",
      "[[5.1, 3.5, 1.4, 0.2], [4.9, 3.0, 1.4, 0.2], [4.7, 3.2, 1.3, 0.2], [4.6, 3.1, 1.5, 0.2], [5.0, 3.6, 1.4, 0.2], [5.4, 3.9, 1.7, 0.4], [4.6, 3.4, 1.4, 0.3], [5.0, 3.4, 1.5, 0.2], [4.4, 2.9, 1.4, 0.2], [4.9, 3.1, 1.5, 0.1], [5.4, 3.7, 1.5, 0.2], [4.8, 3.4, 1.6, 0.2], [4.8, 3.0, 1.4, 0.1], [4.3, 3.0, 1.1, 0.1], [5.8, 4.0, 1.2, 0.2], [5.7, 4.4, 1.5, 0.4], [5.4, 3.9, 1.3, 0.4], [5.1, 3.5, 1.4, 0.3], [5.7, 3.8, 1.7, 0.3], [5.1, 3.8, 1.5, 0.3], [5.4, 3.4, 1.7, 0.2], [5.1, 3.7, 1.5, 0.4], [4.6, 3.6, 1.0, 0.2], [5.1, 3.3, 1.7, 0.5], [4.8, 3.4, 1.9, 0.2], [5.0, 3.0, 1.6, 0.2], [5.0, 3.4, 1.6, 0.4], [5.2, 3.5, 1.5, 0.2], [5.2, 3.4, 1.4, 0.2], [4.7, 3.2, 1.6, 0.2], [4.8, 3.1, 1.6, 0.2], [5.4, 3.4, 1.5, 0.4], [5.2, 4.1, 1.5, 0.1], [5.5, 4.2, 1.4, 0.2], [4.9, 3.1, 1.5, 0.1], [5.0, 3.2, 1.2, 0.2], [5.5, 3.5, 1.3, 0.2], [4.9, 3.1, 1.5, 0.1], [4.4, 3.0, 1.3, 0.2], [5.1, 3.4, 1.5, 0.2], [5.0, 3.5, 1.3, 0.3], [4.5, 2.3, 1.3, 0.3], [4.4, 3.2, 1.3, 0.2], [5.0, 3.5, 1.6, 0.6], [5.1, 3.8, 1.9, 0.4], [4.8, 3.0, 1.4, 0.3], [5.1, 3.8, 1.6, 0.2], [4.6, 3.2, 1.4, 0.2], [5.3, 3.7, 1.5, 0.2], [5.0, 3.3, 1.4, 0.2], [7.0, 3.2, 4.7, 1.4], [6.4, 3.2, 4.5, 1.5], [6.9, 3.1, 4.9, 1.5], [5.5, 2.3, 4.0, 1.3], [6.5, 2.8, 4.6, 1.5], [5.7, 2.8, 4.5, 1.3], [6.3, 3.3, 4.7, 1.6], [4.9, 2.4, 3.3, 1.0], [6.6, 2.9, 4.6, 1.3], [5.2, 2.7, 3.9, 1.4], [5.0, 2.0, 3.5, 1.0], [5.9, 3.0, 4.2, 1.5], [6.0, 2.2, 4.0, 1.0], [6.1, 2.9, 4.7, 1.4], [5.6, 2.9, 3.6, 1.3], [6.7, 3.1, 4.4, 1.4], [5.6, 3.0, 4.5, 1.5], [5.8, 2.7, 4.1, 1.0], [6.2, 2.2, 4.5, 1.5], [5.6, 2.5, 3.9, 1.1], [5.9, 3.2, 4.8, 1.8], [6.1, 2.8, 4.0, 1.3], [6.3, 2.5, 4.9, 1.5], [6.1, 2.8, 4.7, 1.2], [6.4, 2.9, 4.3, 1.3], [6.6, 3.0, 4.4, 1.4], [6.8, 2.8, 4.8, 1.4], [6.7, 3.0, 5.0, 1.7], [6.0, 2.9, 4.5, 1.5], [5.7, 2.6, 3.5, 1.0], [5.5, 2.4, 3.8, 1.1], [5.5, 2.4, 3.7, 1.0], [5.8, 2.7, 3.9, 1.2], [6.0, 2.7, 5.1, 1.6], [5.4, 3.0, 4.5, 1.5], [6.0, 3.4, 4.5, 1.6], [6.7, 3.1, 4.7, 1.5], [6.3, 2.3, 4.4, 1.3], [5.6, 3.0, 4.1, 1.3], [5.5, 2.5, 4.0, 1.3], [5.5, 2.6, 4.4, 1.2], [6.1, 3.0, 4.6, 1.4], [5.8, 2.6, 4.0, 1.2], [5.0, 2.3, 3.3, 1.0], [5.6, 2.7, 4.2, 1.3], [5.7, 3.0, 4.2, 1.2], [5.7, 2.9, 4.2, 1.3], [6.2, 2.9, 4.3, 1.3], [5.1, 2.5, 3.0, 1.1], [5.7, 2.8, 4.1, 1.3], [6.3, 3.3, 6.0, 2.5], [5.8, 2.7, 5.1, 1.9], [7.1, 3.0, 5.9, 2.1], [6.3, 2.9, 5.6, 1.8], [6.5, 3.0, 5.8, 2.2], [7.6, 3.0, 6.6, 2.1], [4.9, 2.5, 4.5, 1.7], [7.3, 2.9, 6.3, 1.8], [6.7, 2.5, 5.8, 1.8], [7.2, 3.6, 6.1, 2.5], [6.5, 3.2, 5.1, 2.0], [6.4, 2.7, 5.3, 1.9], [6.8, 3.0, 5.5, 2.1], [5.7, 2.5, 5.0, 2.0], [5.8, 2.8, 5.1, 2.4], [6.4, 3.2, 5.3, 2.3], [6.5, 3.0, 5.5, 1.8], [7.7, 3.8, 6.7, 2.2], [7.7, 2.6, 6.9, 2.3], [6.0, 2.2, 5.0, 1.5], [6.9, 3.2, 5.7, 2.3], [5.6, 2.8, 4.9, 2.0], [7.7, 2.8, 6.7, 2.0], [6.3, 2.7, 4.9, 1.8], [6.7, 3.3, 5.7, 2.1], [7.2, 3.2, 6.0, 1.8], [6.2, 2.8, 4.8, 1.8], [6.1, 3.0, 4.9, 1.8], [6.4, 2.8, 5.6, 2.1], [7.2, 3.0, 5.8, 1.6], [7.4, 2.8, 6.1, 1.9], [7.9, 3.8, 6.4, 2.0], [6.4, 2.8, 5.6, 2.2], [6.3, 2.8, 5.1, 1.5], [6.1, 2.6, 5.6, 1.4], [7.7, 3.0, 6.1, 2.3], [6.3, 3.4, 5.6, 2.4], [6.4, 3.1, 5.5, 1.8], [6.0, 3.0, 4.8, 1.8], [6.9, 3.1, 5.4, 2.1], [6.7, 3.1, 5.6, 2.4], [6.9, 3.1, 5.1, 2.3], [5.8, 2.7, 5.1, 1.9], [6.8, 3.2, 5.9, 2.3], [6.7, 3.3, 5.7, 2.5], [6.7, 3.0, 5.2, 2.3], [6.3, 2.5, 5.0, 1.9], [6.5, 3.0, 5.2, 2.0], [6.2, 3.4, 5.4, 2.3], [5.9, 3.0, 5.1, 1.8]]\n",
      "\n",
      "Y:\n",
      "['setosa', 'setosa', 'setosa', 'setosa', 'setosa', 'setosa', 'setosa', 'setosa', 'setosa', 'setosa', 'setosa', 'setosa', 'setosa', 'setosa', 'setosa', 'setosa', 'setosa', 'setosa', 'setosa', 'setosa', 'setosa', 'setosa', 'setosa', 'setosa', 'setosa', 'setosa', 'setosa', 'setosa', 'setosa', 'setosa', 'setosa', 'setosa', 'setosa', 'setosa', 'setosa', 'setosa', 'setosa', 'setosa', 'setosa', 'setosa', 'setosa', 'setosa', 'setosa', 'setosa', 'setosa', 'setosa', 'setosa', 'setosa', 'setosa', 'setosa', 'versicolor', 'versicolor', 'versicolor', 'versicolor', 'versicolor', 'versicolor', 'versicolor', 'versicolor', 'versicolor', 'versicolor', 'versicolor', 'versicolor', 'versicolor', 'versicolor', 'versicolor', 'versicolor', 'versicolor', 'versicolor', 'versicolor', 'versicolor', 'versicolor', 'versicolor', 'versicolor', 'versicolor', 'versicolor', 'versicolor', 'versicolor', 'versicolor', 'versicolor', 'versicolor', 'versicolor', 'versicolor', 'versicolor', 'versicolor', 'versicolor', 'versicolor', 'versicolor', 'versicolor', 'versicolor', 'versicolor', 'versicolor', 'versicolor', 'versicolor', 'versicolor', 'versicolor', 'versicolor', 'versicolor', 'versicolor', 'versicolor', 'versicolor', 'virginica', 'virginica', 'virginica', 'virginica', 'virginica', 'virginica', 'virginica', 'virginica', 'virginica', 'virginica', 'virginica', 'virginica', 'virginica', 'virginica', 'virginica', 'virginica', 'virginica', 'virginica', 'virginica', 'virginica', 'virginica', 'virginica', 'virginica', 'virginica', 'virginica', 'virginica', 'virginica', 'virginica', 'virginica', 'virginica', 'virginica', 'virginica', 'virginica', 'virginica', 'virginica', 'virginica', 'virginica', 'virginica', 'virginica', 'virginica', 'virginica', 'virginica', 'virginica', 'virginica', 'virginica', 'virginica', 'virginica', 'virginica', 'virginica', 'virginica']\n"
     ]
    }
   ],
   "source": [
    "# Reads in csv file, adds data to a dataset (list) \n",
    "# Then adds data into its own dataset and labels into another dataset in preperation for casting to an ndarray\n",
    "\n",
    "import csv\n",
    "import pandas as pd\n",
    "\n",
    "dataset =[]\n",
    "\n",
    "with open('iris.csv') as fs:\n",
    "    csv_reader = csv.reader(fs)\n",
    "    header = next(csv_reader)\n",
    "    for r in csv_reader:\n",
    "        dataset.append(r)\n",
    "\n",
    "X = [None] * len(dataset)    # Data\n",
    "Y = [None] * len(dataset)    # Labels\n",
    "\n",
    "for i in range(len(dataset)):\n",
    "    X[i] = [ float(x) for x in dataset[i][0:-1]]\n",
    "    Y[i] = dataset[i][-1]\n",
    "    \n",
    "del dataset\n",
    "\n",
    "print(\"\\nX:\")\n",
    "print(X)\n",
    "print(\"\\nY:\")\n",
    "print(Y)"
   ]
  },
  {
   "cell_type": "code",
   "execution_count": 11,
   "id": "518bb84c-2ed2-4d0a-9228-a2e1e4749420",
   "metadata": {},
   "outputs": [
    {
     "name": "stdout",
     "output_type": "stream",
     "text": [
      "[[5.1 3.5 1.4 0.2]\n",
      " [4.9 3.  1.4 0.2]\n",
      " [4.7 3.2 1.3 0.2]\n",
      " [4.6 3.1 1.5 0.2]\n",
      " [5.  3.6 1.4 0.2]\n",
      " [5.4 3.9 1.7 0.4]\n",
      " [4.6 3.4 1.4 0.3]\n",
      " [5.  3.4 1.5 0.2]\n",
      " [4.4 2.9 1.4 0.2]\n",
      " [4.9 3.1 1.5 0.1]\n",
      " [5.4 3.7 1.5 0.2]\n",
      " [4.8 3.4 1.6 0.2]\n",
      " [4.8 3.  1.4 0.1]\n",
      " [4.3 3.  1.1 0.1]\n",
      " [5.8 4.  1.2 0.2]\n",
      " [5.7 4.4 1.5 0.4]\n",
      " [5.4 3.9 1.3 0.4]\n",
      " [5.1 3.5 1.4 0.3]\n",
      " [5.7 3.8 1.7 0.3]\n",
      " [5.1 3.8 1.5 0.3]\n",
      " [5.4 3.4 1.7 0.2]\n",
      " [5.1 3.7 1.5 0.4]\n",
      " [4.6 3.6 1.  0.2]\n",
      " [5.1 3.3 1.7 0.5]\n",
      " [4.8 3.4 1.9 0.2]\n",
      " [5.  3.  1.6 0.2]\n",
      " [5.  3.4 1.6 0.4]\n",
      " [5.2 3.5 1.5 0.2]\n",
      " [5.2 3.4 1.4 0.2]\n",
      " [4.7 3.2 1.6 0.2]\n",
      " [4.8 3.1 1.6 0.2]\n",
      " [5.4 3.4 1.5 0.4]\n",
      " [5.2 4.1 1.5 0.1]\n",
      " [5.5 4.2 1.4 0.2]\n",
      " [4.9 3.1 1.5 0.1]\n",
      " [5.  3.2 1.2 0.2]\n",
      " [5.5 3.5 1.3 0.2]\n",
      " [4.9 3.1 1.5 0.1]\n",
      " [4.4 3.  1.3 0.2]\n",
      " [5.1 3.4 1.5 0.2]\n",
      " [5.  3.5 1.3 0.3]\n",
      " [4.5 2.3 1.3 0.3]\n",
      " [4.4 3.2 1.3 0.2]\n",
      " [5.  3.5 1.6 0.6]\n",
      " [5.1 3.8 1.9 0.4]\n",
      " [4.8 3.  1.4 0.3]\n",
      " [5.1 3.8 1.6 0.2]\n",
      " [4.6 3.2 1.4 0.2]\n",
      " [5.3 3.7 1.5 0.2]\n",
      " [5.  3.3 1.4 0.2]\n",
      " [7.  3.2 4.7 1.4]\n",
      " [6.4 3.2 4.5 1.5]\n",
      " [6.9 3.1 4.9 1.5]\n",
      " [5.5 2.3 4.  1.3]\n",
      " [6.5 2.8 4.6 1.5]\n",
      " [5.7 2.8 4.5 1.3]\n",
      " [6.3 3.3 4.7 1.6]\n",
      " [4.9 2.4 3.3 1. ]\n",
      " [6.6 2.9 4.6 1.3]\n",
      " [5.2 2.7 3.9 1.4]\n",
      " [5.  2.  3.5 1. ]\n",
      " [5.9 3.  4.2 1.5]\n",
      " [6.  2.2 4.  1. ]\n",
      " [6.1 2.9 4.7 1.4]\n",
      " [5.6 2.9 3.6 1.3]\n",
      " [6.7 3.1 4.4 1.4]\n",
      " [5.6 3.  4.5 1.5]\n",
      " [5.8 2.7 4.1 1. ]\n",
      " [6.2 2.2 4.5 1.5]\n",
      " [5.6 2.5 3.9 1.1]\n",
      " [5.9 3.2 4.8 1.8]\n",
      " [6.1 2.8 4.  1.3]\n",
      " [6.3 2.5 4.9 1.5]\n",
      " [6.1 2.8 4.7 1.2]\n",
      " [6.4 2.9 4.3 1.3]\n",
      " [6.6 3.  4.4 1.4]\n",
      " [6.8 2.8 4.8 1.4]\n",
      " [6.7 3.  5.  1.7]\n",
      " [6.  2.9 4.5 1.5]\n",
      " [5.7 2.6 3.5 1. ]\n",
      " [5.5 2.4 3.8 1.1]\n",
      " [5.5 2.4 3.7 1. ]\n",
      " [5.8 2.7 3.9 1.2]\n",
      " [6.  2.7 5.1 1.6]\n",
      " [5.4 3.  4.5 1.5]\n",
      " [6.  3.4 4.5 1.6]\n",
      " [6.7 3.1 4.7 1.5]\n",
      " [6.3 2.3 4.4 1.3]\n",
      " [5.6 3.  4.1 1.3]\n",
      " [5.5 2.5 4.  1.3]\n",
      " [5.5 2.6 4.4 1.2]\n",
      " [6.1 3.  4.6 1.4]\n",
      " [5.8 2.6 4.  1.2]\n",
      " [5.  2.3 3.3 1. ]\n",
      " [5.6 2.7 4.2 1.3]\n",
      " [5.7 3.  4.2 1.2]\n",
      " [5.7 2.9 4.2 1.3]\n",
      " [6.2 2.9 4.3 1.3]\n",
      " [5.1 2.5 3.  1.1]\n",
      " [5.7 2.8 4.1 1.3]\n",
      " [6.3 3.3 6.  2.5]\n",
      " [5.8 2.7 5.1 1.9]\n",
      " [7.1 3.  5.9 2.1]\n",
      " [6.3 2.9 5.6 1.8]\n",
      " [6.5 3.  5.8 2.2]\n",
      " [7.6 3.  6.6 2.1]\n",
      " [4.9 2.5 4.5 1.7]\n",
      " [7.3 2.9 6.3 1.8]\n",
      " [6.7 2.5 5.8 1.8]\n",
      " [7.2 3.6 6.1 2.5]\n",
      " [6.5 3.2 5.1 2. ]\n",
      " [6.4 2.7 5.3 1.9]\n",
      " [6.8 3.  5.5 2.1]\n",
      " [5.7 2.5 5.  2. ]\n",
      " [5.8 2.8 5.1 2.4]\n",
      " [6.4 3.2 5.3 2.3]\n",
      " [6.5 3.  5.5 1.8]\n",
      " [7.7 3.8 6.7 2.2]\n",
      " [7.7 2.6 6.9 2.3]\n",
      " [6.  2.2 5.  1.5]\n",
      " [6.9 3.2 5.7 2.3]\n",
      " [5.6 2.8 4.9 2. ]\n",
      " [7.7 2.8 6.7 2. ]\n",
      " [6.3 2.7 4.9 1.8]\n",
      " [6.7 3.3 5.7 2.1]\n",
      " [7.2 3.2 6.  1.8]\n",
      " [6.2 2.8 4.8 1.8]\n",
      " [6.1 3.  4.9 1.8]\n",
      " [6.4 2.8 5.6 2.1]\n",
      " [7.2 3.  5.8 1.6]\n",
      " [7.4 2.8 6.1 1.9]\n",
      " [7.9 3.8 6.4 2. ]\n",
      " [6.4 2.8 5.6 2.2]\n",
      " [6.3 2.8 5.1 1.5]\n",
      " [6.1 2.6 5.6 1.4]\n",
      " [7.7 3.  6.1 2.3]\n",
      " [6.3 3.4 5.6 2.4]\n",
      " [6.4 3.1 5.5 1.8]\n",
      " [6.  3.  4.8 1.8]\n",
      " [6.9 3.1 5.4 2.1]\n",
      " [6.7 3.1 5.6 2.4]\n",
      " [6.9 3.1 5.1 2.3]\n",
      " [5.8 2.7 5.1 1.9]\n",
      " [6.8 3.2 5.9 2.3]\n",
      " [6.7 3.3 5.7 2.5]\n",
      " [6.7 3.  5.2 2.3]\n",
      " [6.3 2.5 5.  1.9]\n",
      " [6.5 3.  5.2 2. ]\n",
      " [6.2 3.4 5.4 2.3]\n",
      " [5.9 3.  5.1 1.8]]\n"
     ]
    }
   ],
   "source": [
    "# Casts data dataset to nparray \"Xnp\" and labels dataset to nparray \"Ynp\"\n",
    "\n",
    "Xnp = np.asarray(X)\n",
    "Ynp = np.asarray(Y)\n",
    "\n",
    "print(Xnp)"
   ]
  },
  {
   "cell_type": "markdown",
   "id": "bf05f11d-c634-4997-8e9b-41080857e99f",
   "metadata": {},
   "source": [
    "**index numpy arrays**:  \n",
    "\n",
    "**`np_var[list_index(row_in_2D)][element_index(column_in_2D]`**  \n",
    "**OR**  \n",
    "**`np_var[row, column]`**  \n",
    "* As with indexing lists, **first element starts at \"0\"**  \n",
    "* **Square brackets** to index  \n",
    "* **Change** element with **\"=\"**, this will make change to original array  \n",
    "* When indexing multiple dimension arrays, start with highest level  \n",
    "* Indexing 1D arrays will only require element index  \n",
    "* Indexing a **3D** array would be **`np_var[slice, row, column]`**  "
   ]
  },
  {
   "cell_type": "code",
   "execution_count": 13,
   "id": "b1a7cf73-2f6b-4721-b0c3-ec2d77091faf",
   "metadata": {},
   "outputs": [
    {
     "name": "stdout",
     "output_type": "stream",
     "text": [
      "[1 3 5 6]\n"
     ]
    },
    {
     "data": {
      "text/plain": [
       "5"
      ]
     },
     "execution_count": 13,
     "metadata": {},
     "output_type": "execute_result"
    }
   ],
   "source": [
    "# indexing a 1D nd array\n",
    "\n",
    "A = np.array([1,3,5,6])\n",
    "\n",
    "print(A)\n",
    "\n",
    "A[2]"
   ]
  },
  {
   "cell_type": "code",
   "execution_count": 14,
   "id": "58a16493-0a42-4357-9050-2bb4986ddf47",
   "metadata": {},
   "outputs": [
    {
     "name": "stdout",
     "output_type": "stream",
     "text": [
      "[[[ 3  4]\n",
      "  [ 5  6]]\n",
      "\n",
      " [[ 7  8]\n",
      "  [ 9 10]]] \n",
      "\n",
      "8\n",
      "8\n"
     ]
    }
   ],
   "source": [
    "# indexing a multidimensional array\n",
    "# note how Python prints out for easier viewing of dimensions\n",
    "\n",
    "array = np.array([[[3,4],[5,6]],[[7,8],[9,10]]])\n",
    "\n",
    "print(array, \"\\n\")\n",
    "\n",
    "print(array[1][0][1])        # assessing element value \"8\" \n",
    "print(array[1,0,1])          # assessing same element"
   ]
  },
  {
   "cell_type": "code",
   "execution_count": 15,
   "id": "ea683185-c5cc-4cfe-bcdc-fde2386f172f",
   "metadata": {
    "scrolled": true
   },
   "outputs": [
    {
     "name": "stdout",
     "output_type": "stream",
     "text": [
      "[1 3 5 6]\n",
      "[ 1  3 70  6]\n"
     ]
    }
   ],
   "source": [
    "# changing 3rd element of nd array \"a\"\n",
    "# note this will make change to the original array\n",
    "\n",
    "print(A)\n",
    "\n",
    "A[2] = 70\n",
    "print(A)"
   ]
  },
  {
   "cell_type": "markdown",
   "id": "173e1260-127d-4843-a430-fea34672f83e",
   "metadata": {},
   "source": [
    "**slice nd array**:  \n",
    "\n",
    "**`np_var[index:index]`** \n",
    "\n",
    "**slice 2D array**:\n",
    "\n",
    "**`np_var[row_indexFrom:row_indexTo,col_indexFrom:col_indexTo]`**  \n",
    "* Same as slicing lists and tuples  \n",
    "* **Square brackets**  \n",
    "* Change selected elements with **\"=\"**, this will make change to original array  \n",
    "* When changing elements, cannot use this method to add extra elements, however can change more than one element to the same thing  \n",
    "* **Note how Python prints arrays** for easier viewing of diemensions and more like tables, when slicing 2D arrays this can be helpful as first index refers to the row and second index refers to the column  "
   ]
  },
  {
   "cell_type": "code",
   "execution_count": 16,
   "id": "81442ee3-293f-4eee-884e-a1c258845a19",
   "metadata": {},
   "outputs": [
    {
     "name": "stdout",
     "output_type": "stream",
     "text": [
      "array before: [ 1  3 70  6]\n",
      "array after: [1 5 5 6]\n"
     ]
    }
   ],
   "source": [
    "# slicing and changing elements \n",
    "\n",
    "print(\"array before:\", A)\n",
    "\n",
    "A[1:3] = 5\n",
    "print(\"array after:\", A)"
   ]
  },
  {
   "cell_type": "code",
   "execution_count": 17,
   "id": "5ce2d935-8a13-4d9a-9d17-582266d3b4da",
   "metadata": {},
   "outputs": [
    {
     "data": {
      "text/plain": [
       "array([ 1,  7, 15,  6])"
      ]
     },
     "execution_count": 17,
     "metadata": {},
     "output_type": "execute_result"
    }
   ],
   "source": [
    "A[1:3] = 7, 15\n",
    "A"
   ]
  },
  {
   "cell_type": "code",
   "execution_count": 18,
   "id": "5580975b-9b03-49f6-b987-e8a512537a28",
   "metadata": {},
   "outputs": [
    {
     "name": "stdout",
     "output_type": "stream",
     "text": [
      "array:\n",
      "\n",
      " [[1 2]\n",
      " [3 4]\n",
      " [5 6]] \n",
      "\n",
      "slice [0:2,1]:\n",
      "\n",
      " [2 4]\n"
     ]
    }
   ],
   "source": [
    "# slicing a multidimensional array\n",
    "\n",
    "Arr = np.array([[1,2],[3,4],[5,6]])\n",
    "\n",
    "print(\"array:\\n\\n\", Arr, \"\\n\")\n",
    "\n",
    "print(\"slice [0:2,1]:\\n\\n\", Arr[0:2,1])"
   ]
  },
  {
   "cell_type": "markdown",
   "id": "7361ea0d-2a87-4744-a72a-b937a303ffaf",
   "metadata": {},
   "source": [
    "**obtain data type of nd array**:  \n",
    "\n",
    "**`np_var.dtype`**  \n",
    "* Will return datatype of \"np_var\"  "
   ]
  },
  {
   "cell_type": "code",
   "execution_count": 19,
   "id": "ce526265-2ee3-4832-9cf3-4db7ac9b78e3",
   "metadata": {},
   "outputs": [
    {
     "data": {
      "text/plain": [
       "dtype('int32')"
      ]
     },
     "execution_count": 19,
     "metadata": {},
     "output_type": "execute_result"
    }
   ],
   "source": [
    "# obtaining datatype for an nd array (here a 64 bit integer)\n",
    "\n",
    "A.dtype"
   ]
  },
  {
   "cell_type": "markdown",
   "id": "12861c5b-10cd-4486-9c32-9e3abe037c79",
   "metadata": {},
   "source": [
    "**number of elements in nd array**:  \n",
    "\n",
    "**`np_var.size`**  \n",
    "* Will return number of elements in nd array"
   ]
  },
  {
   "cell_type": "code",
   "execution_count": 20,
   "id": "d485d661-9da3-4fff-a01f-eaf2835e9e76",
   "metadata": {},
   "outputs": [
    {
     "data": {
      "text/plain": [
       "4"
      ]
     },
     "execution_count": 20,
     "metadata": {},
     "output_type": "execute_result"
    }
   ],
   "source": [
    "# obtaining number of elements in nd array \"a\"\n",
    "\n",
    "A.size"
   ]
  },
  {
   "cell_type": "markdown",
   "id": "56bd6e6d-4d38-4572-a9a4-05f3b1b0b836",
   "metadata": {},
   "source": [
    "**number of dimensions in nd array**:  \n",
    "\n",
    "**`np_var.ndim`**  \n",
    "* Will return number of dimensions in nd array  \n",
    "* Think of this as how many nested lists there are i.e. **number of levels NOT number of lists at bottom level** as this would be the arrays shape,  \n",
    "e.g. **`1D = array( [...] )` `2D = array( [[...],[...],[...]] )` `3D = array( [[[...],[...]]] )`**  "
   ]
  },
  {
   "cell_type": "code",
   "execution_count": 21,
   "id": "44f25f6b-5c18-484f-b1e0-4ce29fa64b37",
   "metadata": {},
   "outputs": [
    {
     "data": {
      "text/plain": [
       "1"
      ]
     },
     "execution_count": 21,
     "metadata": {},
     "output_type": "execute_result"
    }
   ],
   "source": [
    "# obtaining number of dimensions in nd array\n",
    "\n",
    "A.ndim"
   ]
  },
  {
   "cell_type": "markdown",
   "id": "8711c824-0e17-4659-9cbb-4b18a5f79e4a",
   "metadata": {},
   "source": [
    "**shape: size of nd array in each dimension**:  \n",
    "\n",
    "**`np_var.shape`**  \n",
    "* Will return number of elements in each dimension (direction)  "
   ]
  },
  {
   "cell_type": "code",
   "execution_count": 22,
   "id": "4e76fb24-1837-47e6-8a1e-1fc32bc69451",
   "metadata": {},
   "outputs": [
    {
     "data": {
      "text/plain": [
       "(4,)"
      ]
     },
     "execution_count": 22,
     "metadata": {},
     "output_type": "execute_result"
    }
   ],
   "source": [
    "# obtaining shape of nd array\n",
    "\n",
    "A.shape"
   ]
  },
  {
   "cell_type": "code",
   "execution_count": 23,
   "id": "9c5b6b96-c526-4276-aad6-52a1f07158de",
   "metadata": {},
   "outputs": [
    {
     "name": "stdout",
     "output_type": "stream",
     "text": [
      "[[[1]\n",
      "  [2]]\n",
      "\n",
      " [[3]\n",
      "  [4]]\n",
      "\n",
      " [[5]\n",
      "  [6]]\n",
      "\n",
      " [[7]\n",
      "  [8]]] \n",
      "\n",
      "Dimensions: 3 , count number of levels to first element\n",
      "Shape: (4, 2, 1)\n",
      "Size: 8 , total number of elements\n"
     ]
    }
   ],
   "source": [
    "# example demonstraiting dimensions, shape & size\n",
    "# note how Python prints out array for easier viewing of dimensions\n",
    "\n",
    "\n",
    "a = [[[1],[2]],[[3],[4]],[[5],[6]],[[7],[8]]]\n",
    "\n",
    "\n",
    "\n",
    "A = np.array(a)\n",
    "print(A, \"\\n\")\n",
    "print(\"Dimensions:\", A.ndim, \", count number of levels to first element\")\n",
    "print(\"Shape:\", A.shape)\n",
    "print(\"Size:\", A.size, \", total number of elements\")"
   ]
  },
  {
   "cell_type": "markdown",
   "id": "e8ee4bd5-1f6f-4dcb-a64f-506e3b6dfaa2",
   "metadata": {},
   "source": [
    "**unique** function:  \n",
    "\n",
    "**`np.unique(np_var, return_index=False, return_inverse=False, return_counts=False, axis=None)`**  \n",
    "* Returns the sorted unique elements of an array  \n",
    "* If **`return_index=True`** also return the indices of **`np_var`** that result in the unique array  \n",
    "* If **`return_inverse=True`** also return the indices of the unique array that can be used to reconstruct **`np_var`**  \n",
    "* If **`return_counts=True`** also return the number of times each unique item appears in **`np_var`**  "
   ]
  },
  {
   "cell_type": "code",
   "execution_count": 24,
   "id": "37dabfb4-21ed-4b18-b6da-ab618dcc024a",
   "metadata": {},
   "outputs": [
    {
     "name": "stdout",
     "output_type": "stream",
     "text": [
      "unique: [2 5 6 7 8 9]\n",
      "return_index: (array([2, 5, 6, 7, 8, 9]), array([1, 0, 2, 4, 7, 9], dtype=int64))\n",
      "return_inverse: (array([2, 5, 6, 7, 8, 9]), array([1, 0, 2, 0, 3, 1, 2, 4, 0, 5], dtype=int64))\n",
      "return_counts: (array([2, 5, 6, 7, 8, 9]), array([3, 2, 2, 1, 1, 1], dtype=int64))\n"
     ]
    }
   ],
   "source": [
    "# Using unique function\n",
    "\n",
    "arr = np.array([5,2,6,2,7,5,6,8,2,9])\n",
    "\n",
    "print(\"unique:\", np.unique(arr))\n",
    "print(\"return_index:\", np.unique(arr, return_index=True))\n",
    "print(\"return_inverse:\", np.unique(arr, return_inverse=True))\n",
    "print(\"return_counts:\", np.unique(arr, return_counts=True))"
   ]
  },
  {
   "cell_type": "markdown",
   "id": "4ab3f62b-3412-4b0e-a4d6-31dcfcc9c311",
   "metadata": {},
   "source": [
    "**array addition / subtraction**:  \n",
    "\n",
    "**`np_var3 = np_var +/- np_var2`**  \n",
    "* Arrays can be added / subtracted  \n",
    "* Arrays must be **SAME SHAPE** to be added or subtracted together  \n",
    "* Will add or subtract elements of the same position  \n",
    "* Can **add/subtract scalers** to a **single array** in a similar way  \n",
    "* Can also **add/subtract vectors**, known as **broadcasting**  \n",
    "(another array containing the same number of elements as the 1D part of the array) e.g.:  \n",
    "$\\;\\;\\;\\;$**`matrix = np.array([[1,2,3],[4,5,6]])`**  \n",
    "$\\;\\;\\;\\;$**`vector = np.array([0.5 ,0.25,0.8 ])`**  \n",
    "$\\;\\;\\;\\;$**`matrix + vector = ([1.5 ,2.25,3.8 ],[4.5 ,5.25,6.8 ])`**  \n",
    "    * **Above** example would **broadcast** across the **columns** (3 elements in the vector, and 3 columns in the matrix)  \n",
    "    * To **broadcast** across the **rows**, vector must be in the **same shape** as the **matrix**, for the above, the vector would be:  \n",
    "$\\;\\;\\;\\;$**`np.array([[0.25], [0.5]])`**  \n",
    "* Results in another array of the same size as those added or subtracted together  "
   ]
  },
  {
   "cell_type": "markdown",
   "id": "e9cd6b3c-9d4b-4291-ace6-5a912a8ec3ea",
   "metadata": {},
   "source": [
    "![](https://mathinsight.org/media/image/image/vector_2d_add.png \"Vector addition\")"
   ]
  },
  {
   "cell_type": "code",
   "execution_count": 25,
   "id": "e634bfcd-601d-4e9f-906a-222845aad60f",
   "metadata": {},
   "outputs": [
    {
     "name": "stdout",
     "output_type": "stream",
     "text": [
      "original array:\n",
      " [[1 2 3]\n",
      " [4 5 6]] \n",
      "\n",
      "array + 2.5:\n",
      " [[3.5 4.5 5.5]\n",
      " [6.5 7.5 8.5]]\n"
     ]
    }
   ],
   "source": [
    "# example of array addition\n",
    "\n",
    "a = np.array([[1,2,3],[4,5,6]])\n",
    "\n",
    "print(\"original array:\\n\", a, \"\\n\")\n",
    "print(\"array + 2.5:\\n\", a+2.5)"
   ]
  },
  {
   "cell_type": "code",
   "execution_count": 26,
   "id": "dfd05cd6-542a-4432-8643-1e923c31d009",
   "metadata": {},
   "outputs": [
    {
     "name": "stdout",
     "output_type": "stream",
     "text": [
      "Array U:\n",
      " [[2 4 5]\n",
      " [2 3 6]] \n",
      "\n",
      "Array V:\n",
      " [[3.2 5.  1. ]\n",
      " [3.  2.  1. ]] \n",
      "\n",
      "Array U+V:\n",
      " [[5.2 9.  6. ]\n",
      " [5.  5.  7. ]]\n"
     ]
    }
   ],
   "source": [
    "# example of matrix addition\n",
    "\n",
    "U = np.array([[2,4,5],[2,3,6]])\n",
    "V = np.array([[3.2,5,1],[3,2,1]])\n",
    "\n",
    "Z = U + V\n",
    "print(\"Array U:\\n\", U, \"\\n\")\n",
    "print(\"Array V:\\n\", V, \"\\n\")\n",
    "print(\"Array U+V:\\n\", Z)"
   ]
  },
  {
   "cell_type": "code",
   "execution_count": 27,
   "id": "6c67277b-f493-4b45-8fde-f0c445cadc34",
   "metadata": {},
   "outputs": [
    {
     "data": {
      "text/plain": [
       "array([[1.25, 2.5 , 3.75],\n",
       "       [4.25, 5.5 , 6.75]])"
      ]
     },
     "execution_count": 27,
     "metadata": {},
     "output_type": "execute_result"
    }
   ],
   "source": [
    "# example of broadcasting a vector across columns\n",
    "\n",
    "matrix = np.array([[1,2,3],[4,5,6]])\n",
    "vector = np.array([0.25 ,0.5,0.75 ])\n",
    "matrixAddVector = matrix + vector\n",
    "\n",
    "matrixAddVector"
   ]
  },
  {
   "cell_type": "code",
   "execution_count": 28,
   "id": "56cceda9-6f90-46a3-a887-e3f23606fe90",
   "metadata": {},
   "outputs": [
    {
     "data": {
      "text/plain": [
       "array([[1.25, 2.25, 3.25],\n",
       "       [4.5 , 5.5 , 6.5 ]])"
      ]
     },
     "execution_count": 28,
     "metadata": {},
     "output_type": "execute_result"
    }
   ],
   "source": [
    "# example of broadcasting a vector across rows\n",
    "\n",
    "matrix = np.array([[1,2,3],[4,5,6]])\n",
    "vector = np.array([[0.25], [0.5]])\n",
    "matrixAddVector = matrix + vector\n",
    "\n",
    "matrixAddVector"
   ]
  },
  {
   "cell_type": "markdown",
   "id": "e0bb717f-051b-4549-906b-9877260eeb29",
   "metadata": {},
   "source": [
    "**array multiplication**:  \n",
    "\n",
    "**`np_var2 = #timesToMultiply * np_var`**  \n",
    "* This will multiply the array by a scalar  \n",
    "* A constant can also be added or subtracted to every element in a similar way (this is called **Broadcasting**)  "
   ]
  },
  {
   "cell_type": "code",
   "execution_count": 29,
   "id": "60b768d1-adc4-4bf5-82b9-e263320e2b32",
   "metadata": {},
   "outputs": [
    {
     "data": {
      "text/plain": [
       "array([ 3,  6, 15])"
      ]
     },
     "execution_count": 29,
     "metadata": {},
     "output_type": "execute_result"
    }
   ],
   "source": [
    "# example of array multiplication\n",
    "\n",
    "U = np.array([1,2,5])\n",
    "X = 3 * U\n",
    "X"
   ]
  },
  {
   "cell_type": "code",
   "execution_count": 30,
   "id": "8ad8a776-8c23-43ea-bd38-8419ecf1c2d2",
   "metadata": {},
   "outputs": [
    {
     "data": {
      "text/plain": [
       "array([ 6,  9, 18])"
      ]
     },
     "execution_count": 30,
     "metadata": {},
     "output_type": "execute_result"
    }
   ],
   "source": [
    "# example of Broadcasting, adding a constant\n",
    "\n",
    "c = 3\n",
    "\n",
    "Z = X + c\n",
    "Z"
   ]
  },
  {
   "cell_type": "markdown",
   "id": "0e20c241-a785-46df-9d49-45b5e377f00f",
   "metadata": {},
   "source": [
    "**add axis to array**:  \n",
    "\n",
    "**`newArrayVar = arrayVar[:,:,np.newaxis]`**  \n",
    "* The number of passed dimensions ( **`:,`** ) should match the current arrays shape  "
   ]
  },
  {
   "cell_type": "code",
   "execution_count": 31,
   "id": "d8eae23b-f19d-401a-94d7-524f4b8927d3",
   "metadata": {},
   "outputs": [
    {
     "name": "stdout",
     "output_type": "stream",
     "text": [
      "someArray:\n",
      " (2, 3) \n",
      "\n",
      "newArray:\n",
      " (2, 3, 1)\n"
     ]
    }
   ],
   "source": [
    "# Adding an axis to an array\n",
    "\n",
    "someArray = np.array([[1,2,3],[4,5,6]])\n",
    "\n",
    "newArray = someArray[:,:,np.newaxis]\n",
    "\n",
    "print(\"someArray:\\n\", someArray.shape, \"\\n\")\n",
    "print(\"newArray:\\n\", newArray.shape)"
   ]
  },
  {
   "cell_type": "markdown",
   "id": "369fcbf6-3ded-4acf-8ea7-fd99da741485",
   "metadata": {},
   "source": [
    "**hadamard product ( X ◦ Y )**:  \n",
    "\n",
    "**`np_var3 = np_var * np_var2`**  \n",
    "* Each element in corresponding positions will be multiplied together producing an array of equal shape  \n",
    "* **Arrays must** be of **equal size** \n",
    "* See matrix multiplication for arrays of larger dimensions  "
   ]
  },
  {
   "cell_type": "code",
   "execution_count": 32,
   "id": "53145897-4a80-4006-9094-dbe2a5f8e0bb",
   "metadata": {},
   "outputs": [
    {
     "data": {
      "text/plain": [
       "array([ 3,  4, 10])"
      ]
     },
     "execution_count": 32,
     "metadata": {},
     "output_type": "execute_result"
    }
   ],
   "source": [
    "# example of Hadamard product\n",
    "\n",
    "U = np.array([1,2,5])\n",
    "V = np.array([3,2,2])\n",
    "\n",
    "Z = U * V\n",
    "Z"
   ]
  },
  {
   "cell_type": "code",
   "execution_count": 33,
   "id": "a4d13adb-4d10-45b2-8d44-b92052f598c8",
   "metadata": {},
   "outputs": [
    {
     "data": {
      "text/plain": [
       "array([[ 3,  4],\n",
       "       [ 8, 18]])"
      ]
     },
     "execution_count": 33,
     "metadata": {},
     "output_type": "execute_result"
    }
   ],
   "source": [
    "# another example of Hadamard product with 2D array\n",
    "\n",
    "X = np.array([[1,2],[4,6]])\n",
    "Y = np.array([[3,2],[2,3]])\n",
    "\n",
    "Z = X * Y\n",
    "Z"
   ]
  },
  {
   "cell_type": "markdown",
   "id": "a1c30797-ad6d-47bd-921a-bee625e89128",
   "metadata": {},
   "source": [
    "**dot product / scalar product ( X · Y )**:  \n",
    "\n",
    "**`np.dot(np_var1, np_var2)`**  \n",
    "OR  \n",
    "**`np_var1 @ np_var2`**  \n",
    "* Among other things, the dot product can be used to test if two vectors are **perpendicular**, this will be shown if the dot product is **== 0**  \n",
    "* Arrays **must be compatible size** (n x m, m x p) -> (n x p)  \n",
    "* np.matrix can be used instead of arrays, when multiplying with np.matrix, dot product can be obtained with **\\***, however be careful, as **\\*** with arrays will try to broadcast rather than calculate the dot product  "
   ]
  },
  {
   "cell_type": "code",
   "execution_count": 34,
   "id": "c6045c18-9314-4ac4-967b-e067289ab753",
   "metadata": {},
   "outputs": [
    {
     "data": {
      "text/plain": [
       "28"
      ]
     },
     "execution_count": 34,
     "metadata": {},
     "output_type": "execute_result"
    }
   ],
   "source": [
    "# example of scalar dot product\n",
    "\n",
    "U = np.array([1,7])\n",
    "V = np.array([21,1])\n",
    "\n",
    "np.dot(U,V)"
   ]
  },
  {
   "cell_type": "markdown",
   "id": "159e9d22-8036-4df2-a73e-c9f779786ccf",
   "metadata": {},
   "source": [
    "**matrix multiplication**:  \n",
    "\n",
    "**`np.dot(np_var1, np_var2)`**  \n",
    "* **Matrix A's number of columns must be equal to Matrix B's number of rows** to be able to muliply matrices  \n",
    "* **Different** process to that of 1D array dot product  \n",
    "* Assisn to new array variable to save  \n",
    "* NOTE - **`originalMatrix @ inverseOfMatrix = IdentityMatrix`** (Matrix multiplied by its inverse will give the matrix of 1's on the main diagonal and zeros everywhere else)  \n",
    "* Creates a new array by obtaining the dot product of Matrix A's i'th row to Matrix B's j'th column:  \n",
    "\n",
    "**1st row, 1st column:**  \n",
    "1x7 + 2x9 + 3x11 = 58![](https://www.mathsisfun.com/algebra/images/matrix-multiply-a.svg \"matrix mulitiplication\")  \n",
    "\n",
    "**1st row, 2nd column:**  \n",
    "1x8 + 2x10 + 3x12 = 64![](https://www.mathsisfun.com/algebra/images/matrix-multiply-b.svg \"matrix mulitiplication\")  \n",
    "\n",
    "**completed:**\n",
    "![](https://www.mathsisfun.com/algebra/images/matrix-multiply-c.svg \"matrix mulitiplication\")"
   ]
  },
  {
   "cell_type": "code",
   "execution_count": 35,
   "id": "31f2e9fc-57e8-4dab-a5f4-51d77292e302",
   "metadata": {},
   "outputs": [
    {
     "name": "stdout",
     "output_type": "stream",
     "text": [
      "Matrix A:\n",
      " [[0 1 1]\n",
      " [1 0 1]] \n",
      "\n",
      "Matrix B:\n",
      " [[ 1  1]\n",
      " [ 1  1]\n",
      " [-1  1]] \n",
      "\n",
      "Matrix AB =\n",
      " [[0 2]\n",
      " [0 2]]\n"
     ]
    }
   ],
   "source": [
    "# example of matrix multiplication\n",
    "\n",
    "A = np.array([[0,1,1],[1,0,1]])\n",
    "B = np.array([[1,1],[1,1],[-1,1]])\n",
    "\n",
    "print(\"Matrix A:\\n\",A,\"\\n\")\n",
    "print(\"Matrix B:\\n\",B,\"\\n\")\n",
    "\n",
    "C = np.dot(A,B)\n",
    "print(\"Matrix AB =\\n\",C)"
   ]
  },
  {
   "cell_type": "markdown",
   "id": "23a0b21a-2845-433d-b119-e0e49dadf5f3",
   "metadata": {},
   "source": [
    "**Norm of a matrix or vector:**  \n",
    "\n",
    "**`np.linalg.norm(np_var)`**  \n",
    "* Returns the Frobenius norm by default (Squareroot of the sum of all squared elements)  "
   ]
  },
  {
   "cell_type": "code",
   "execution_count": 36,
   "id": "e7faaa08-f153-4679-96e8-c9aa3ea5f517",
   "metadata": {},
   "outputs": [
    {
     "data": {
      "text/plain": [
       "7.0710678118654755"
      ]
     },
     "execution_count": 36,
     "metadata": {},
     "output_type": "execute_result"
    }
   ],
   "source": [
    "# Return the frobenius norm of a matrix\n",
    "\n",
    "A = np.array([[0,-4],\n",
    "              [3,3],\n",
    "              [-4,0]])\n",
    "np.linalg.norm(A)"
   ]
  },
  {
   "cell_type": "markdown",
   "id": "24911671-dbd0-429a-9d37-abc3b3d5c012",
   "metadata": {},
   "source": [
    "**transpose a matrix**:  \n",
    "\n",
    "**`np_var.T`**  \n",
    "* Keyword **T** will transpose an array or matrix (flips a matrix over its diagonal which switches the row and column indices to create a new matrix)  "
   ]
  },
  {
   "cell_type": "code",
   "execution_count": 37,
   "id": "608ec91b-fa99-40c6-873e-c031f80a0345",
   "metadata": {},
   "outputs": [
    {
     "name": "stdout",
     "output_type": "stream",
     "text": [
      "Original array:\n",
      " [[1 1]\n",
      " [2 2]\n",
      " [3 3]] \n",
      "\n",
      "Transposed array:\n",
      " [[1 2 3]\n",
      " [1 2 3]]\n"
     ]
    }
   ],
   "source": [
    "# example of transposing a matrix\n",
    "\n",
    "# create an array\n",
    "array = np.array([[1,1],[2,2],[3,3]])\n",
    "print(\"Original array:\\n\",array,\"\\n\")\n",
    "\n",
    "# transpose array\n",
    "transposed = array.T\n",
    "print(\"Transposed array:\\n\",transposed)"
   ]
  },
  {
   "cell_type": "markdown",
   "id": "ed824f00-3d1c-45d5-a117-3e0fdd0bae0e",
   "metadata": {},
   "source": [
    "**trace of a matrix:**  \n",
    "\n",
    "**`np.trace(np_array_var)`**  \n",
    "* Computes sum of elements[i, i+row index]  \n",
    "* The trace of a matrix is the **sum of the main diagonal elements**  \n",
    "* Note a trace of a matrix **ONLY exits** for a **square matrix**, however if array/matrix is not square in numpy, it still computes because **numpy trace does NOT include a check for square matrix**    "
   ]
  },
  {
   "cell_type": "code",
   "execution_count": 38,
   "id": "42d0951b-1b49-4fbd-9fa2-b2a1e08f86c9",
   "metadata": {},
   "outputs": [
    {
     "data": {
      "text/plain": [
       "12"
      ]
     },
     "execution_count": 38,
     "metadata": {},
     "output_type": "execute_result"
    }
   ],
   "source": [
    "# Trace of a matrix/array\n",
    "\n",
    "A = np.matrix([[1,2,3],\n",
    "              [3,4,5],\n",
    "              [4,5,7]])\n",
    "\n",
    "np.trace(A)"
   ]
  },
  {
   "cell_type": "markdown",
   "id": "0e6871a1-5feb-40d2-88d8-775f057ed9a4",
   "metadata": {},
   "source": [
    "**determinant of a matrix:**  \n",
    "\n",
    "**`np.linalg.det(np_array_var)`**  \n",
    "* Array/matrix **MUST** be **square**  \n",
    "* Calculates the determinant of a matrix (sum of products of elements of any row or column and theri corresponding cofactors)  \n",
    "* Note numpy uses approximations to calculate determinants and so **may not be accurate**  "
   ]
  },
  {
   "cell_type": "code",
   "execution_count": 39,
   "id": "66c272ce-74f7-44bb-91b7-5585ee297f58",
   "metadata": {},
   "outputs": [
    {
     "data": {
      "text/plain": [
       "-1.9999999999999998"
      ]
     },
     "execution_count": 39,
     "metadata": {},
     "output_type": "execute_result"
    }
   ],
   "source": [
    "# Determinant of a matrix\n",
    "\n",
    "A = np.matrix([[1,2,3],\n",
    "              [3,4,5],\n",
    "              [4,5,7]])\n",
    "\n",
    "np.linalg.det(A)"
   ]
  },
  {
   "cell_type": "markdown",
   "id": "7074a73b-c9c2-4ee1-908c-9fa688a3249a",
   "metadata": {},
   "source": [
    "**inverse of a matrix:**  \n",
    "\n",
    "**`np.linalg.inv(np_array_var)`**  \n",
    "OR  \n",
    "**`matrixVar.I`**  \n",
    "* Returns the **inverse** of an array or matrix   \n",
    "* Array/matrix **MUST** be **square**  \n",
    "* **`.I`** method **ONLY** works on **numpy matrix** objects  \n",
    "* NOTE - **`originalMatrix @ inverseOfMatrix = IdentityMatrix`** (Matrix multiplied by its inverse will give the matrix of 1's on the main diagonal and zeros everywhere else)  "
   ]
  },
  {
   "cell_type": "code",
   "execution_count": 40,
   "id": "8ff1ea15-bfd6-461b-9d7d-cb6187bee7f1",
   "metadata": {},
   "outputs": [
    {
     "name": "stdout",
     "output_type": "stream",
     "text": [
      "[[ 0.2 -0.2]\n",
      " [-0.1  0.6]]\n"
     ]
    }
   ],
   "source": [
    "# Get inverse of an array\n",
    "\n",
    "A = np.array([[6,2],\n",
    "              [1,2]])\n",
    "\n",
    "print(np.linalg.inv(A))"
   ]
  },
  {
   "cell_type": "code",
   "execution_count": 41,
   "id": "0381c77e-75c5-4647-a6fd-fdf0e3e4bd3a",
   "metadata": {},
   "outputs": [
    {
     "name": "stdout",
     "output_type": "stream",
     "text": [
      "[[ 0.2 -0.2]\n",
      " [-0.1  0.6]]\n"
     ]
    }
   ],
   "source": [
    "# Get inverse of a numpy matrix\n",
    "\n",
    "B = np.matrix([[6,2],\n",
    "              [1,2]])\n",
    "\n",
    "print(B.I)"
   ]
  },
  {
   "cell_type": "markdown",
   "id": "ef7daec6-df12-4d0b-bb37-b1e174d49952",
   "metadata": {},
   "source": [
    "**Moore-Penrose pseudoinverse of a matrix:**  \n",
    "\n",
    "**`np.linalg.pinv(np_array_var)`**  \n",
    "* **Non-square matrix** version of matrix **inverse**  \n",
    "* **A<sup>+</sup>· A = I** &emsp; but &emsp; **A · A<sup>+</sup> ≠ I**  \n",
    "* Note numpy approximates, and so sometimes this can be **inaccurate**  "
   ]
  },
  {
   "cell_type": "code",
   "execution_count": 42,
   "id": "90ed486c-f3ee-4b6c-80a1-549809f8d476",
   "metadata": {},
   "outputs": [
    {
     "data": {
      "text/plain": [
       "matrix([[ 0.16666667, -0.10606061,  0.03030303],\n",
       "        [-0.16666667,  0.28787879,  0.06060606]])"
      ]
     },
     "execution_count": 42,
     "metadata": {},
     "output_type": "execute_result"
    }
   ],
   "source": [
    "# Moore-Penrose pseudoinverse of a matrix\n",
    "\n",
    "A = np.matrix([[7,2],\n",
    "              [3,4],\n",
    "              [5,3]])\n",
    "\n",
    "np.linalg.pinv(A)"
   ]
  },
  {
   "cell_type": "code",
   "execution_count": 43,
   "id": "3b6029a1-0a31-49bf-926e-762111a928d3",
   "metadata": {},
   "outputs": [
    {
     "data": {
      "text/plain": [
       "matrix([[1.00000000e+00, 2.70616862e-16],\n",
       "        [2.63677968e-16, 1.00000000e+00]])"
      ]
     },
     "execution_count": 43,
     "metadata": {},
     "output_type": "execute_result"
    }
   ],
   "source": [
    "# A+.A   -  Should equal identity matrix, but note this can sometimes not work correctly\n",
    "\n",
    "np.linalg.pinv(A) @ A"
   ]
  },
  {
   "cell_type": "markdown",
   "id": "249d9716-8947-4df8-b8e8-ea7a753dbd02",
   "metadata": {},
   "source": [
    "**eig function:**  \n",
    "\n",
    "**`np.linalg.eig(np_var)`**  \n",
    "* Returns the eigenvalues as an array (w) and corresponding eigenvectors as another array (v)  "
   ]
  },
  {
   "cell_type": "code",
   "execution_count": 44,
   "id": "28ebecde-5059-4ce3-a6d3-3e9a18377d2a",
   "metadata": {},
   "outputs": [
    {
     "data": {
      "text/plain": [
       "(array([ 2., -1.,  1.]),\n",
       " array([[ 6.66666667e-01,  4.08248290e-01,  7.07106781e-01],\n",
       "        [ 3.33333333e-01, -4.08248290e-01,  7.07106781e-01],\n",
       "        [-6.66666667e-01,  8.16496581e-01,  5.66950743e-17]]))"
      ]
     },
     "execution_count": 44,
     "metadata": {},
     "output_type": "execute_result"
    }
   ],
   "source": [
    "A = np.array([[1,0,-1],\n",
    "              [1,0,0],\n",
    "              [-2,2,1]])\n",
    "\n",
    "np.linalg.eig(A)"
   ]
  },
  {
   "cell_type": "markdown",
   "id": "447fd399-0bfc-49e1-981f-1e6a2996de25",
   "metadata": {},
   "source": [
    "**min** method:  \n",
    "\n",
    "**`np_var.min(axis=None)`**  \n",
    "* Returns lowest value in array  \n",
    "* **`axis`** calculates across an axis rather than of all elements, and refers to the index of the axis. e.g. in a 2D array:  \n",
    "    * **`axis=0`** would calculate across the columns  \n",
    "    * **`axis=1`** would calculate across the rows  "
   ]
  },
  {
   "cell_type": "code",
   "execution_count": 45,
   "id": "9b443e87-c678-436e-be91-c288a22132a8",
   "metadata": {},
   "outputs": [
    {
     "data": {
      "text/plain": [
       "array([[3, 5, 7],\n",
       "       [1, 2, 3]])"
      ]
     },
     "execution_count": 45,
     "metadata": {},
     "output_type": "execute_result"
    }
   ],
   "source": [
    "# Creating 2D array\n",
    "\n",
    "array = np.array([[3,5,7],[1,2,3]])\n",
    "\n",
    "array"
   ]
  },
  {
   "cell_type": "code",
   "execution_count": 46,
   "id": "b60a6194-cdee-481e-919e-60cd2bd3b7d4",
   "metadata": {},
   "outputs": [
    {
     "data": {
      "text/plain": [
       "1"
      ]
     },
     "execution_count": 46,
     "metadata": {},
     "output_type": "execute_result"
    }
   ],
   "source": [
    "# Get lowest value of all elements\n",
    "array.min()"
   ]
  },
  {
   "cell_type": "code",
   "execution_count": 47,
   "id": "63d91961-6409-4251-a6c8-8dc6a5d154d8",
   "metadata": {},
   "outputs": [
    {
     "data": {
      "text/plain": [
       "array([1, 2, 3])"
      ]
     },
     "execution_count": 47,
     "metadata": {},
     "output_type": "execute_result"
    }
   ],
   "source": [
    "# Get lowest value of each column\n",
    "array.min(axis=0)"
   ]
  },
  {
   "cell_type": "code",
   "execution_count": 48,
   "id": "5b647aae-6a0f-48eb-b44c-1396ad6cf873",
   "metadata": {},
   "outputs": [
    {
     "data": {
      "text/plain": [
       "array([3, 1])"
      ]
     },
     "execution_count": 48,
     "metadata": {},
     "output_type": "execute_result"
    }
   ],
   "source": [
    "# Get lowest value of each row\n",
    "array.min(axis=1)"
   ]
  },
  {
   "cell_type": "markdown",
   "id": "15c9a367-74ca-4449-bea1-054e2d304a30",
   "metadata": {},
   "source": [
    "**max** method:  \n",
    "\n",
    "**`np_var.max(axis=None)`**  \n",
    "* Will return higest value element  \n",
    "* **`axis`** calculates across an axis rather than of all elements, and refers to the index of the axis. e.g. in a 2D array:  \n",
    "    * **`axis=0`** would calculate across the columns  \n",
    "    * **`axis=1`** would calculate across the rows  "
   ]
  },
  {
   "cell_type": "code",
   "execution_count": 49,
   "id": "6beabec1-6914-4f17-ba8b-fe6df705b421",
   "metadata": {},
   "outputs": [
    {
     "data": {
      "text/plain": [
       "7"
      ]
     },
     "execution_count": 49,
     "metadata": {},
     "output_type": "execute_result"
    }
   ],
   "source": [
    "# Get highest value of all elements\n",
    "array.max()"
   ]
  },
  {
   "cell_type": "code",
   "execution_count": 50,
   "id": "c12e284f-0006-45bd-b609-7f0a666609ed",
   "metadata": {},
   "outputs": [
    {
     "data": {
      "text/plain": [
       "array([3, 5, 7])"
      ]
     },
     "execution_count": 50,
     "metadata": {},
     "output_type": "execute_result"
    }
   ],
   "source": [
    "# Get highest value of each column\n",
    "array.max(axis=0)"
   ]
  },
  {
   "cell_type": "code",
   "execution_count": 51,
   "id": "31637fad-2384-4d07-b6f1-ae17040a8f54",
   "metadata": {},
   "outputs": [
    {
     "data": {
      "text/plain": [
       "array([3, 1])"
      ]
     },
     "execution_count": 51,
     "metadata": {},
     "output_type": "execute_result"
    }
   ],
   "source": [
    "# Get highest value of each row\n",
    "array.min(axis=1)"
   ]
  },
  {
   "cell_type": "markdown",
   "id": "08c18f23-d148-4792-9833-e3711e345c20",
   "metadata": {},
   "source": [
    "**square root** method:  \n",
    "\n",
    "**`np.sqrt(np_var)`**  \n",
    "* Calculates square root of **each element** in an array  "
   ]
  },
  {
   "cell_type": "code",
   "execution_count": 52,
   "id": "23359814-88d2-451b-9128-c37cae21f230",
   "metadata": {},
   "outputs": [
    {
     "data": {
      "text/plain": [
       "array([[1.73205081, 2.23606798, 2.64575131],\n",
       "       [1.        , 1.41421356, 1.73205081]])"
      ]
     },
     "execution_count": 52,
     "metadata": {},
     "output_type": "execute_result"
    }
   ],
   "source": [
    "np.sqrt(array)"
   ]
  },
  {
   "cell_type": "markdown",
   "id": "a9063e15-3865-42b3-bfe6-99412b06a452",
   "metadata": {},
   "source": [
    "**mean of array elements**:  \n",
    "\n",
    "**`np_var.mean(axis=None)`**  \n",
    "* Calculates mean (average) of all elements in an array  \n",
    "* **`axis`** calculates across an axis rather than of all elements, and refers to the index of the axis. e.g. in a 2D array:  \n",
    "    * **`axis=0`** would calculate across the columns  \n",
    "    * **`axis=1`** would calculate across the rows  \n",
    "* **Mean** is denoted by the following symbols:  \n",
    "    * **μ** - (mu) population parameter, i.e. the mean of the entire population  \n",
    "    * **x̅** - (x-bar) is the mean of a sample  "
   ]
  },
  {
   "cell_type": "code",
   "execution_count": 53,
   "id": "9f96d9f8-4866-4a58-b4a8-2efada177087",
   "metadata": {},
   "outputs": [
    {
     "data": {
      "text/plain": [
       "3.5"
      ]
     },
     "execution_count": 53,
     "metadata": {},
     "output_type": "execute_result"
    }
   ],
   "source": [
    "# Calculating mean of all elements\n",
    "\n",
    "array.mean()"
   ]
  },
  {
   "cell_type": "code",
   "execution_count": 54,
   "id": "1838912b-7c22-47ab-8c53-5acb988e5558",
   "metadata": {},
   "outputs": [
    {
     "data": {
      "text/plain": [
       "array([2. , 3.5, 5. ])"
      ]
     },
     "execution_count": 54,
     "metadata": {},
     "output_type": "execute_result"
    }
   ],
   "source": [
    "# Calculating mean across columns\n",
    "array.mean(axis=0)"
   ]
  },
  {
   "cell_type": "code",
   "execution_count": 55,
   "id": "cf20f86c-bf33-4688-9f32-80f3060bec55",
   "metadata": {},
   "outputs": [
    {
     "data": {
      "text/plain": [
       "array([5., 2.])"
      ]
     },
     "execution_count": 55,
     "metadata": {},
     "output_type": "execute_result"
    }
   ],
   "source": [
    "# Calculating mean across rows\n",
    "array.mean(axis=1)"
   ]
  },
  {
   "cell_type": "markdown",
   "id": "06d1ea05-560e-47d6-8f49-02cdfcb65fd7",
   "metadata": {},
   "source": [
    "**variance of elements**:  \n",
    "\n",
    "**`np_var.var(axis=None)`**  \n",
    "**OR**  \n",
    "**`((np_var.mean( ) - np_var)**2).sum( ) / np_var.size`**  \n",
    "* * Returns variance of the elements in the array  \n",
    "* **`axis`** calculates across an axis rather than of all elements, and refers to the index of the axis. e.g. in a 2D array:  \n",
    "    * **`axis=0`** would calculate across the columns  \n",
    "    * **`axis=1`** would calculate across the rows  \n",
    "* **Variance measures the average degree to which each point differs from the mean**  \n",
    "* **Variance is the average of all data points within a group**  \n",
    "* **Variance gives an actual value to how much the numbers in a data set vary from the mean**  \n",
    "* **Variance** is denoted by **σ$^2$** (sigma squared)  \n",
    "\n",
    "**Defined:**  \n",
    "\n",
    "$\\sigma^2(x) = \\frac{1}{N} \\sum_{i=1}^N (x_i - \\bar{x})^2$"
   ]
  },
  {
   "cell_type": "code",
   "execution_count": 56,
   "id": "5d9c1d4d-e6e4-48bb-a3bc-deb77aef15ff",
   "metadata": {},
   "outputs": [
    {
     "name": "stdout",
     "output_type": "stream",
     "text": [
      "3.9166666666666665\n",
      "3.9166666666666665\n"
     ]
    }
   ],
   "source": [
    "# Calculating the variance manually and with numpy method\n",
    "\n",
    "var = ((array.mean() - array)**2).sum()/array.size\n",
    "print(var)\n",
    "\n",
    "print(array.var())"
   ]
  },
  {
   "cell_type": "markdown",
   "id": "28c8b188-c1e0-4d8e-a142-0514e890de8e",
   "metadata": {},
   "source": [
    "**standard deviation of elements**:  \n",
    "\n",
    "**`np_var.std(axis=None)`**  \n",
    "**OR**  \n",
    "**`np.sqrt(((np_var.mean( ) - np_var)**2).sum( ) / np_var.size)`**  \n",
    "* Returns standard deviation of the elements in the array  \n",
    "* **`axis`** calculates across an axis rather than of all elements, and refers to the index of the axis. e.g. in a 2D array:  \n",
    "    * **`axis=0`** would calculate across the columns  \n",
    "    * **`axis=1`** would calculate across the rows  \n",
    "* **Standard deviation** is the **spread of a group of numbers from the mean**  \n",
    "* **Standard deviation is the square root of the variance**  \n",
    "* **Standard deviation** is a statistical measure that people can use **to determine how spread out numbers are in a data set** \n",
    "* **Standard deviation** is denoted by **σ** (sigma)  \n",
    "\n",
    "**Defined:**  \n",
    "$\\sigma(x) = \\sqrt{\\frac{1}{N} \\sum_{i=1}^N (x_i - \\bar{x})^2}$  \n",
    "\n",
    "**Normal distribution:**  \n",
    "![](https://i.insider.com/546e68776bb3f74f68b7d0ba?width=769&format=jpeg)"
   ]
  },
  {
   "cell_type": "code",
   "execution_count": 57,
   "id": "54a90a53-6c43-4d6e-bc09-1143349717a1",
   "metadata": {},
   "outputs": [
    {
     "name": "stdout",
     "output_type": "stream",
     "text": [
      "1.9790570145063195\n",
      "1.9790570145063195\n",
      "1.9790570145063195\n"
     ]
    }
   ],
   "source": [
    "# Calculating standard deviation of all elements in 3 different ways\n",
    "\n",
    "std = np.sqrt(((array.mean() - array)**2).sum()/array.size)\n",
    "print(std)\n",
    "\n",
    "print(np.sqrt(var))\n",
    "\n",
    "print(array.std())"
   ]
  },
  {
   "cell_type": "code",
   "execution_count": 58,
   "id": "81beb035-4a2e-445a-96ca-9566bcf6fa95",
   "metadata": {},
   "outputs": [
    {
     "data": {
      "text/plain": [
       "array([1. , 1.5, 2. ])"
      ]
     },
     "execution_count": 58,
     "metadata": {},
     "output_type": "execute_result"
    }
   ],
   "source": [
    "# standard deviation of columns\n",
    "array.std(axis=0)"
   ]
  },
  {
   "cell_type": "code",
   "execution_count": 59,
   "id": "15e36111-faa9-402b-a5b3-b56bf05640ee",
   "metadata": {},
   "outputs": [
    {
     "data": {
      "text/plain": [
       "array([1.63299316, 0.81649658])"
      ]
     },
     "execution_count": 59,
     "metadata": {},
     "output_type": "execute_result"
    }
   ],
   "source": [
    "# standard deviation of rows\n",
    "array.std(axis=1)"
   ]
  },
  {
   "cell_type": "markdown",
   "id": "e2b1b733-aaa7-4155-b783-0269c63c3ab0",
   "metadata": {},
   "source": [
    "**access value of pi π**:  \n",
    "\n",
    "**`np.pi`**  \n",
    "* Will return value of Pi"
   ]
  },
  {
   "cell_type": "code",
   "execution_count": 60,
   "id": "f645b7f2-88f4-4748-8d14-def029826406",
   "metadata": {},
   "outputs": [
    {
     "data": {
      "text/plain": [
       "3.141592653589793"
      ]
     },
     "execution_count": 60,
     "metadata": {},
     "output_type": "execute_result"
    }
   ],
   "source": [
    "# accessing value of Pi\n",
    "\n",
    "np.pi"
   ]
  },
  {
   "cell_type": "markdown",
   "id": "223c4fa0-6f40-46ca-bcdd-818dba68d0a1",
   "metadata": {},
   "source": [
    "**Random numbers with NumPy**:  \n",
    "\n",
    "Part of NumPy library, option to import just package:  \n",
    "**`from numpy import random`**  "
   ]
  },
  {
   "cell_type": "markdown",
   "id": "0a9502c1-8e4e-45d7-bfb9-7abc7832787e",
   "metadata": {},
   "source": [
    "**Random int**:  \n",
    "\n",
    "**`np.random.randint(low, high=None, size=None)`**  \n",
    "* Returns a random int  \n",
    "* **`low`** = lowest integer to be drawn from distribution  \n",
    "* **`high`** = if provided, this is one above the largest initeger to be drawn  \n",
    "* **`size`** = output shape  \n",
    "* If **only 1 parameter** provided, this is taken as the high value and low = 0   "
   ]
  },
  {
   "cell_type": "code",
   "execution_count": 61,
   "id": "a9881a0d-b58e-444b-9ba7-dd688cb1644f",
   "metadata": {},
   "outputs": [
    {
     "data": {
      "text/plain": [
       "array([[3, 1, 0, 2, 0, 1],\n",
       "       [2, 1, 1, 4, 3, 2]])"
      ]
     },
     "execution_count": 61,
     "metadata": {},
     "output_type": "execute_result"
    }
   ],
   "source": [
    "# Generates a 2D array with 2 rows and 6 columns containing random elements between 0 and 4\n",
    "\n",
    "np.random.randint(5,size=(2,6))"
   ]
  },
  {
   "cell_type": "markdown",
   "id": "d845e0ac-e924-4ddd-ac2e-b7d00cbe768e",
   "metadata": {},
   "source": [
    "**Random float**:  \n",
    "\n",
    "**`np.random.rand(d0,d1...dn)`**  \n",
    "* Returns a random float between 0 and 1\n",
    "* **`d0, d1...dn`** is optional and defines the return shape  "
   ]
  },
  {
   "cell_type": "code",
   "execution_count": 62,
   "id": "11326188-200f-4a7d-9852-c1d05d614c25",
   "metadata": {},
   "outputs": [
    {
     "data": {
      "text/plain": [
       "0.6423185118557615"
      ]
     },
     "execution_count": 62,
     "metadata": {},
     "output_type": "execute_result"
    }
   ],
   "source": [
    "# Generate a random float between 0 and 1\n",
    "\n",
    "np.random.rand()"
   ]
  },
  {
   "cell_type": "code",
   "execution_count": 63,
   "id": "35fb62a3-ffe1-4261-99af-0a7455b235b4",
   "metadata": {},
   "outputs": [
    {
     "data": {
      "text/plain": [
       "array([[0.59484011, 0.88328449],\n",
       "       [0.23953866, 0.63052292],\n",
       "       [0.88175004, 0.26520233]])"
      ]
     },
     "execution_count": 63,
     "metadata": {},
     "output_type": "execute_result"
    }
   ],
   "source": [
    "# Generate a 2D array with 3 rows and 2 columns populated with random floats between 0 and 1\n",
    "\n",
    "np.random.rand(3,2)"
   ]
  },
  {
   "cell_type": "markdown",
   "id": "70b84302-6786-4692-8381-4dc59a4e4dc3",
   "metadata": {},
   "source": [
    "**Random Seed**:  \n",
    "\n",
    "**`np.random.seed(self, seed=None)`**  \n",
    "* The random number generator needs a number to start with (a seed value), to be able to generate a random number  \n",
    "* By default the random number generator uses the current system time  \n",
    "* Use the seed() method to customize the start number of the random number generator  \n",
    "* Note: If you use the same seed value twice you will get the same random number twice  "
   ]
  },
  {
   "cell_type": "code",
   "execution_count": 64,
   "id": "b26fd7e0-8619-402c-a784-74db0c363cf5",
   "metadata": {},
   "outputs": [
    {
     "data": {
      "text/plain": [
       "0.22103292812978448"
      ]
     },
     "execution_count": 64,
     "metadata": {},
     "output_type": "execute_result"
    }
   ],
   "source": [
    "# Random float using system time (run cell multiple times)\n",
    "\n",
    "np.random.rand()"
   ]
  },
  {
   "cell_type": "code",
   "execution_count": 65,
   "id": "49247484-c431-4a19-8e70-05fd55696846",
   "metadata": {},
   "outputs": [
    {
     "data": {
      "text/plain": [
       "0.771320643266746"
      ]
     },
     "execution_count": 65,
     "metadata": {},
     "output_type": "execute_result"
    }
   ],
   "source": [
    "# Sets seed to 10, will return the same random number each time its run\n",
    "\n",
    "np.random.seed(10)\n",
    "np.random.rand()"
   ]
  },
  {
   "cell_type": "markdown",
   "id": "8d383a5f-bf41-4d15-b486-d1fbc304e034",
   "metadata": {},
   "source": [
    "**Random Binomial**:  \n",
    "\n",
    "Binomials have:  \n",
    "* A fixed number of trials  \n",
    "* Only have 2 possible outcomes  \n",
    "* the outcomes are independent of each other  \n",
    "* the probability of success remains the same for each trial  \n",
    "\n",
    "**`np.random.binomial(n, p, size=None)`**  \n",
    "* **`n`** is number or trials per experiment  \n",
    "* **`p`** is probability of sucess. In the interval [0,1]  \n",
    "* **`size`** Number of times to run the experiment, default None = 1\n",
    "* **Returns number of successes for each experiment**  "
   ]
  },
  {
   "cell_type": "code",
   "execution_count": 66,
   "id": "9d239ce4-32ea-4b65-b352-e1df559f498f",
   "metadata": {},
   "outputs": [
    {
     "data": {
      "text/plain": [
       "array([0, 0, 0, 0, 0, 0, 0, 0, 0, 0])"
      ]
     },
     "execution_count": 66,
     "metadata": {},
     "output_type": "execute_result"
    }
   ],
   "source": [
    "# Example, we roll 2 dice 5 times in each experiment\n",
    "# The probability of a double is 1/36\n",
    "# We run the experiment 10 times\n",
    "# Output will be how may successes in each experiment\n",
    "\n",
    "np.random.binomial(5, (1/36), size=10)"
   ]
  },
  {
   "cell_type": "code",
   "execution_count": 67,
   "id": "e3c2991f-3945-4a8b-ab79-c471a69ff94d",
   "metadata": {},
   "outputs": [],
   "source": [
    "# importing pyplot for examples below\n",
    "\n",
    "from matplotlib import pyplot as plt"
   ]
  },
  {
   "cell_type": "markdown",
   "id": "9b180e57-fb90-4fb0-acb4-756ca41e5f68",
   "metadata": {},
   "source": [
    "**Random Uniform**:  \n",
    "\n",
    "**`np.random.uniform(low=0.0, high=1.0, size=None)`**  \n",
    "* Generates random numbers between low and high (inclusive) with equal probability  \n",
    "* **`size`** is samples drawn  "
   ]
  },
  {
   "cell_type": "code",
   "execution_count": 68,
   "id": "9784c35d-7655-4563-a252-eae2f7b2d17d",
   "metadata": {},
   "outputs": [
    {
     "data": {
      "image/png": "[encoded data removed]",
      "text/plain": [
       "<Figure size 432x288 with 1 Axes>"
      ]
     },
     "metadata": {
      "needs_background": "light"
     },
     "output_type": "display_data"
    }
   ],
   "source": [
    "# 1000 random samples between 0 and 1 (inclusive)\n",
    "\n",
    "samples = np.random.uniform(0, 1, size=1000)\n",
    "plt.hist(samples)\n",
    "plt.show()"
   ]
  },
  {
   "cell_type": "markdown",
   "id": "fd39cd94-d16f-4cab-8e07-431ae96d689c",
   "metadata": {},
   "source": [
    "**Random Poisson**:  \n",
    "\n",
    "**`np.random.poisson(lam=1.0, size=None)`**  \n",
    "* **`lam`** is expectation of interval, must be >= 0  \n",
    "* **`size`** is samples drawn  "
   ]
  },
  {
   "cell_type": "code",
   "execution_count": 69,
   "id": "76698cd9-c5ed-4c93-8a9a-2ef5ececf12d",
   "metadata": {},
   "outputs": [
    {
     "data": {
      "image/png": "[encoded data removed]",
      "text/plain": [
       "<Figure size 432x288 with 1 Axes>"
      ]
     },
     "metadata": {
      "needs_background": "light"
     },
     "output_type": "display_data"
    }
   ],
   "source": [
    "samples = np.random.poisson(lam=3, size=1000)\n",
    "plt.hist(samples)\n",
    "plt.show()"
   ]
  },
  {
   "cell_type": "markdown",
   "id": "82b03597-d166-4147-9491-f8ef7edbca25",
   "metadata": {},
   "source": [
    "**Random Normal Distribution**:  \n",
    "\n",
    "**`np.random.randn(d0,d1,...dn)`**  \n",
    "* **`d0,d1,...dn`** is the dimentions of the returned array, **must be non-negative**  "
   ]
  },
  {
   "cell_type": "code",
   "execution_count": 70,
   "id": "6cfd47d0-e764-46d2-8974-f80264c76eee",
   "metadata": {},
   "outputs": [
    {
     "data": {
      "image/png": "[encoded data removed]",
      "text/plain": [
       "<Figure size 432x288 with 1 Axes>"
      ]
     },
     "metadata": {
      "needs_background": "light"
     },
     "output_type": "display_data"
    }
   ],
   "source": [
    "# 1000 samples from normal distribution\n",
    "\n",
    "samples = np.random.randn(1000)\n",
    "plt.hist(samples)\n",
    "plt.show()"
   ]
  },
  {
   "cell_type": "markdown",
   "id": "e54aa7a8-2688-412a-9d5c-d8b42b01fad2",
   "metadata": {},
   "source": [
    "**Random Gassian distribution**:  \n",
    "\n",
    "**`Normal distribution * σ + μ`**  \n",
    "* See above for normal distribution  \n",
    "* **`σ`** is **standard deviation**  \n",
    "* **`μ`** is **mean**  "
   ]
  },
  {
   "cell_type": "code",
   "execution_count": 71,
   "id": "17261028-e9b1-4aba-8ac8-ed3b48f72df0",
   "metadata": {},
   "outputs": [
    {
     "data": {
      "image/png": "[encoded data removed]",
      "text/plain": [
       "<Figure size 432x288 with 1 Axes>"
      ]
     },
     "metadata": {
      "needs_background": "light"
     },
     "output_type": "display_data"
    }
   ],
   "source": [
    "# Gassian distribution\n",
    "\n",
    "mu=5\n",
    "sigma=2\n",
    "\n",
    "# 1000 samples\n",
    "for n in range(100,1001,100):\n",
    "    samples = np.random.randn(n) * sigma + mu \n",
    "    \n",
    "plt.hist(samples)\n",
    "plt.show()"
   ]
  },
  {
   "cell_type": "markdown",
   "id": "64865135-cef2-4830-867d-d988083c0747",
   "metadata": {},
   "source": [
    "**linspace**:\n",
    "\n",
    "**`np.linspace(start, stop, num= #samples_to_generate)`**  \n",
    "* Returns evenly spaced numbers from **\"start\" to \"stop\"**  \n",
    "* **\"num=\"** is parameter which defines how many samples to produce, defaults to 50  \n",
    "* Prounounced \"line space\"  "
   ]
  },
  {
   "cell_type": "code",
   "execution_count": 72,
   "id": "1c26eac8-b68f-4d67-beac-9fcc9d804cee",
   "metadata": {},
   "outputs": [
    {
     "data": {
      "text/plain": [
       "array([-5. , -4.5, -4. , -3.5, -3. , -2.5, -2. , -1.5, -1. , -0.5,  0. ,\n",
       "        0.5,  1. ,  1.5,  2. ,  2.5,  3. ,  3.5,  4. ,  4.5,  5. ,  5.5,\n",
       "        6. ,  6.5,  7. ,  7.5,  8. ,  8.5,  9. ,  9.5, 10. ])"
      ]
     },
     "execution_count": 72,
     "metadata": {},
     "output_type": "execute_result"
    }
   ],
   "source": [
    "# example of linspace (line space)  \n",
    "\n",
    "np.linspace(-5,10,num=31)"
   ]
  },
  {
   "cell_type": "markdown",
   "id": "b68bf9a4-bd84-4fc1-9c4c-70a91113932d",
   "metadata": {},
   "source": [
    "**matplotlib**:  \n",
    "\n",
    "[Link to info on matplotlibs colourmap](https://matplotlib.org/stable/tutorials/colors/colormaps.html)\n",
    "\n",
    "* MatPlotLib is a library used to creat static, animated, and interactive visualizations in Python  \n",
    "* Below is an example using MatPlotLib to plot a graph using some methods talked about above  "
   ]
  },
  {
   "cell_type": "code",
   "execution_count": 73,
   "id": "2c5c6587-a37c-4253-9fe5-027b404bf7b8",
   "metadata": {},
   "outputs": [],
   "source": [
    "# import library to help plot diagram\n",
    "\n",
    "import matplotlib.pyplot as plt"
   ]
  },
  {
   "cell_type": "code",
   "execution_count": 74,
   "id": "92810ddc-417a-457c-8f89-83c3f7fd9b03",
   "metadata": {},
   "outputs": [],
   "source": [
    "# displays plot in jupyter notebook\n",
    "\n",
    "%matplotlib inline"
   ]
  },
  {
   "cell_type": "code",
   "execution_count": 75,
   "id": "4580fb0b-150d-497b-8f1c-0fed0e6ee5a1",
   "metadata": {},
   "outputs": [],
   "source": [
    "# generate 100 samples from 0 to 2π\n",
    "X = np.linspace(0,2*np.pi,num=100)\n",
    "\n",
    "# map array \"x\" to new array \"y\" applying sin to each element in the array\n",
    "Y = np.sin(X)"
   ]
  },
  {
   "cell_type": "code",
   "execution_count": 76,
   "id": "d6018e00-731a-4084-b7c8-c6c92aba42f4",
   "metadata": {},
   "outputs": [
    {
     "data": {
      "text/plain": [
       "[<matplotlib.lines.Line2D at 0x17f982fec10>]"
      ]
     },
     "execution_count": 76,
     "metadata": {},
     "output_type": "execute_result"
    },
    {
     "data": {
      "image/png": "[encoded data removed]",
      "text/plain": [
       "<Figure size 432x288 with 1 Axes>"
      ]
     },
     "metadata": {
      "needs_background": "light"
     },
     "output_type": "display_data"
    }
   ],
   "source": [
    "# draw diagram with array \"x\" on x-axis and array \"y\" on y-axis\n",
    "\n",
    "plt.plot(X,Y)"
   ]
  },
  {
   "cell_type": "markdown",
   "id": "809270bb-d5a6-4fc6-87b4-e201fc600a8d",
   "metadata": {},
   "source": [
    "**subplots**:  \n",
    "\n",
    "**`plt.subplot(numberRows=1, numberCols=1, index=1)`**  \n",
    "* Plots several images in the same cell  "
   ]
  },
  {
   "cell_type": "code",
   "execution_count": 77,
   "id": "eac725e8-7679-419c-9333-81a5b777210f",
   "metadata": {},
   "outputs": [
    {
     "data": {
      "image/png": "[encoded data removed]",
      "text/plain": [
       "<Figure size 432x288 with 6 Axes>"
      ]
     },
     "metadata": {
      "needs_background": "light"
     },
     "output_type": "display_data"
    }
   ],
   "source": [
    "# subplots\n",
    "\n",
    "for i in range(1, 7):\n",
    "    plt.subplot(2, 3, i)\n",
    "    plt.text(0.5, 0.5, str((2, 3, i)),\n",
    "             fontsize=18, ha='center')"
   ]
  },
  {
   "cell_type": "markdown",
   "id": "1d2f2cd8-161e-4f81-ad06-754049363cd2",
   "metadata": {},
   "source": [
    "[<p style=\"text-align: right;\">**⬆ Table of Contents ⬆**</p>](#NumPy)"
   ]
  },
  {
   "cell_type": "markdown",
   "id": "44703d02-6956-4c83-ba94-cb1101fa487a",
   "metadata": {},
   "source": [
    "---"
   ]
  }
 ],
 "metadata": {
  "kernelspec": {
   "display_name": "Python 3 (ipykernel)",
   "language": "python",
   "name": "python3"
  },
  "language_info": {
   "codemirror_mode": {
    "name": "ipython",
    "version": 3
   },
   "file_extension": ".py",
   "mimetype": "text/x-python",
   "name": "python",
   "nbconvert_exporter": "python",
   "pygments_lexer": "ipython3",
   "version": "3.9.7"
  }
 },
 "nbformat": 4,
 "nbformat_minor": 5
}
