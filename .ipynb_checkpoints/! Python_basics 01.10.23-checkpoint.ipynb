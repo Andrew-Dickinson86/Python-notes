{
 "cells": [
  {
   "cell_type": "markdown",
   "metadata": {},
   "source": [
    "\n",
    "# <center><ins>Python Basics!</center>"
   ]
  },
  {
   "cell_type": "markdown",
   "metadata": {},
   "source": [
    "<div class=\"alert alert-success alertsuccess\" style=\"margin-top: 20px\">\n",
    "    <font size=\"5\">Authors Note</font><br><br>This notebook is an <strong>ongoing project</strong>, and as such, while every effort has been made to ensure the accuracy and completeness of the information, no guarantee is given nor responsibility taken for errors or omissions.<br><br>The notebook is designed as a <strong>reference for quickly finding correct syntax and structure paired with examples.</strong><br>Please see my other notebook (Python quick reference) which is cleaner and easier to read, but has no examples included.<br><br>I hope this comes in useful to whoever finds it.<br>Andy Taison 28/04/2022\n",
    "</div>"
   ]
  },
  {
   "cell_type": "markdown",
   "metadata": {},
   "source": [
    "|<td colspan=3> <center><bold><h3>**Table of contents**<center>|||\n",
    "|---|:---|:---:|\n",
    "|**1.**|[**Useful Links**](#-Useful-Links;)||\n",
    "|**2.**|[**Useful information**](#Useful-information;)||\n",
    "|**3.**|[**Operator precedence rule in Python**](#Operator-precedence;)||\n",
    "|**4.**|[**Mutable or Immutable**](#Mutable-or-Immutable;)||\n",
    "|**5.**|[**Strings/Variables, Operators and Basics**](#Strings/Variables-and-Basics;)|types, operators, comparisons,<br>escape sequences, basic methods,<br>user inputs,<br>formatting strings, f-strings, formatting types,<br>zfill( )|\n",
    "|**6.**|[**Regular Expressions (Regex)**](#Regular-Expressions-(Regex);)|Metacharacters<br>Special Sequences, sets<br>RegEx functions<br>Match objects, flags|\n",
    "|**7.**|[**Tuples**](#Tuples;)|( )<br>immutable, ordered|\n",
    "|**8.**|[**Lists**](#Lists;)|[ ]<br>mutable, ordered|\n",
    "|**9.**|[**Dictionaries**](#Dictionairies;)|{ : , }<br>keys are mutable and unique|\n",
    "|**10.**|[**Sets**](#Sets;)|{ }<br>unordered and unique elements,<br>mutable|\n",
    "|**11.**|[**Branching**](#Branching;)|if( ): else( ): elif( ):|\n",
    "|**12.**|[**Logic Operators**](#Logic-Operators;)|not or and|\n",
    "|**13.**|[**Loops**](#Loops;)|for :<br>parallel iteration<br>[ list comprehension ], { dictionary comprehension }<br>while :<br>break, continue, pass|\n",
    "|**14.**|[**Exception Handling**](#Exception-Handling;)|built-in exceptions,<br>try except statement,<br>raise exception<br>custom exception<br>traceback<br>assert|\n",
    "|**15.**|[**Useful Built-in Functions**](#-Useful-Built-in-Functions;)|range( ), enumerate( ),<br> .count( ), sum( ),<br>isnumeric( ), isinstance( ),<br>zip( ),<br>map( )|\n",
    "|**16.**|[**Building Functions**](#-Building-Functions;)|define, call and help on functions,<br>global / local scopes,<br>lambda functions|\n",
    "|**17.**|[**Classes, Objects and Methods**](#Classes,-Objects-and-Methods;)|define class, create objects,<br>inheritance,<br>access / change attributes,<br>create / call methods,<br>special methods,<br>get/set with @property decorator<br>dir command,<br>duck typing|\n",
    "|**18.**|[**Command line arguments**](#Command-line-arguments;)|using sys<br>argparse|\n",
    "|**19.**|[**PIP**](#PIP;)|list installed packages,<br>install / uninstall packages|\n",
    "|**20a.**|[**Working with Files<br>Opening and Reading Files**](#Opening-and-Reading-Files;)|open function,<br> .name, .mode, .close( ), .closed methods,<br> with statement,<br> .read( ), .readline( ), .readlines( ) methods|\n",
    "|**20b.**|[**Working with Files<br>Writing to Files**](#Writing-to-Files;)|.write( ) method,<br>with statement,<br> .seek( ), .tell( ) methods,<br>writting from a list, copying files|\n",
    "|**21.**|[**CSV Files**](#CSV-Files;)|reading csv files<br>reading to a dataset<br>using csv library<br>writting to csv files|\n",
    "|**22.**|[**Excel Files**](#Excel-Files;)|read Excel files to dataframe<br>ExcelFile<br>sheet_names, parse( )<br>writting to Excel from dataframe<br>ExcelWriter<br>writting formula to Excel|\n",
    "|**23.**|[**Simple APIs**](#Simple-APIs;)|| \n",
    "|**End**|[**End of Notebook / Notes**](#Notes;)||"
   ]
  },
  {
   "cell_type": "markdown",
   "metadata": {},
   "source": [
    "---"
   ]
  },
  {
   "cell_type": "markdown",
   "metadata": {},
   "source": [
    "---"
   ]
  },
  {
   "cell_type": "markdown",
   "metadata": {},
   "source": [
    "---"
   ]
  },
  {
   "cell_type": "markdown",
   "metadata": {},
   "source": [
    "## <center> Useful Links;</center>"
   ]
  },
  {
   "cell_type": "markdown",
   "metadata": {},
   "source": [
    "[Python Quick Reference](https://www.python.org/ftp/python/doc/1.1/quick-ref.1.1.html)"
   ]
  },
  {
   "cell_type": "markdown",
   "metadata": {},
   "source": [
    "[Python3 cheat sheet](https://perso.limsi.fr/pointal/_media/python:cours:mementopython3-english.pdf)"
   ]
  },
  {
   "cell_type": "markdown",
   "metadata": {},
   "source": [
    "[Python.org](https://www.python.org/)"
   ]
  },
  {
   "cell_type": "markdown",
   "metadata": {},
   "source": [
    "[Python Standard Library](https://docs.python.org/3/library/index.html)"
   ]
  },
  {
   "cell_type": "markdown",
   "metadata": {},
   "source": [
    "[Python Functions](https://docs.python.org/3/library/functions)"
   ]
  },
  {
   "cell_type": "markdown",
   "metadata": {},
   "source": [
    "[Python Pandas](https://pandas.pydata.org/)"
   ]
  },
  {
   "cell_type": "markdown",
   "metadata": {},
   "source": [
    "[Python NumPy](https://numpy.org/)"
   ]
  },
  {
   "cell_type": "markdown",
   "metadata": {},
   "source": [
    "[Matplotlib (PyPlot)](https://matplotlib.org/stable/index.html#)"
   ]
  },
  {
   "cell_type": "markdown",
   "metadata": {},
   "source": [
    "[W3schools Python](https://www.w3schools.com/python/default.asp)"
   ]
  },
  {
   "cell_type": "markdown",
   "metadata": {},
   "source": [
    "[Beginnersbook](https://beginnersbook.com/2018/03/python-tutorial-learn-programming/)"
   ]
  },
  {
   "cell_type": "markdown",
   "metadata": {},
   "source": [
    "[GeeksForGeeks](https://www.geeksforgeeks.org/python-programming-language/)"
   ]
  },
  {
   "cell_type": "markdown",
   "metadata": {},
   "source": [
    "[Syntax in Python](http://rigaux.org/language-study/syntax-across-languages-per-language/Python.html)"
   ]
  },
  {
   "cell_type": "markdown",
   "metadata": {},
   "source": [
    "[Wiki - Python syntax and semantics](https://en.wikipedia.org/wiki/Python_syntax_and_semantics)"
   ]
  },
  {
   "cell_type": "markdown",
   "metadata": {},
   "source": [
    "[For beginners](https://www.python.org/about/gettingstarted/)"
   ]
  },
  {
   "cell_type": "markdown",
   "metadata": {},
   "source": [
    "[Quiz and practice](https://app.finxter.com/learn/computer/science/) "
   ]
  },
  {
   "cell_type": "markdown",
   "metadata": {},
   "source": [
    "[Pointers to the best information available about working with Excel files in the Python](https://www.python-excel.org/)"
   ]
  },
  {
   "cell_type": "markdown",
   "metadata": {},
   "source": [
    "---"
   ]
  },
  {
   "cell_type": "markdown",
   "metadata": {},
   "source": [
    "---"
   ]
  },
  {
   "cell_type": "markdown",
   "metadata": {},
   "source": [
    "## <center>Useful information;</center>"
   ]
  },
  {
   "cell_type": "markdown",
   "metadata": {},
   "source": [
    ">Python is an interpreted, object-orientated, high-level programming language with dynamic semantics. It interprets script line by line as it executes and will stop the entire program when it encounters an error unless error was expected and handled by the programmer.  \n",
    "Python is coded in C/C++ meaning C/C++ code can be created and used within Python.  "
   ]
  },
  {
   "cell_type": "markdown",
   "metadata": {},
   "source": [
    "<div class=\"alert alert-success alertsuccess\" style=\"margin-top: 20px\">\n",
    "    [Tip:] When learning a <code>new library</code>, always start by checking out the developers website and begin with the quick start.\n",
    "</div>"
   ]
  },
  {
   "cell_type": "code",
   "execution_count": 392,
   "metadata": {},
   "outputs": [
    {
     "name": "stdout",
     "output_type": "stream",
     "text": [
      "3.9.7 (default, Sep 16 2021, 16:59:28) [MSC v.1916 64 bit (AMD64)]\n"
     ]
    }
   ],
   "source": [
    "# check the python version\n",
    "\n",
    "import sys\n",
    "print(sys.version)"
   ]
  },
  {
   "cell_type": "markdown",
   "metadata": {},
   "source": [
    "<div class=\"alert alert-success alertsuccess\" style=\"margin-top: 20px\">\n",
    "    [Tip:] <code>sys</code> is a built-in module that contains many system-specific parameters and functions, including the Python version in use. Before using it, we must explictly <code>import</code> it.\n",
    "</div>"
   ]
  },
  {
   "cell_type": "markdown",
   "metadata": {},
   "source": [
    "**Help** on operations, types, methods and functions\n",
    "\n",
    "**`help(A)`**\n",
    "* Would give help on a list and variable `A`"
   ]
  },
  {
   "cell_type": "markdown",
   "metadata": {},
   "source": [
    "**print all variables and function names of a module**:  \n",
    "\n",
    "**`print(dir(moduleName))`**  \n",
    "* This will print all the variables and function names from the module given  "
   ]
  },
  {
   "cell_type": "markdown",
   "metadata": {},
   "source": [
    "**Get Unicode code**:  \n",
    "\n",
    "**`ord(character)`**  \n",
    "* Returns the unicode of given character  "
   ]
  },
  {
   "cell_type": "code",
   "execution_count": 393,
   "metadata": {},
   "outputs": [
    {
     "data": {
      "text/plain": [
       "65"
      ]
     },
     "execution_count": 393,
     "metadata": {},
     "output_type": "execute_result"
    }
   ],
   "source": [
    "ord(\"A\")"
   ]
  },
  {
   "cell_type": "markdown",
   "metadata": {},
   "source": [
    "**tab prompt**:  \n",
    "\n",
    "\n",
    "* Use tab to autocomplete when typing variable names and functions  \n",
    "* Can also be used after **\".\"** to get a prompt list of availiable functions and methods  "
   ]
  },
  {
   "cell_type": "markdown",
   "metadata": {},
   "source": [
    "[<p style=\"text-align: right;\">**⬆ Table of Contents ⬆**</p>](#Python-Notes!)"
   ]
  },
  {
   "cell_type": "markdown",
   "metadata": {},
   "source": [
    "---"
   ]
  },
  {
   "cell_type": "markdown",
   "metadata": {},
   "source": [
    "## <center>Operator precedence;</center>"
   ]
  },
  {
   "cell_type": "markdown",
   "metadata": {},
   "source": [
    "|**Operator precedence rule in Python:**||\n",
    "|---|---|\n",
    "|( )| Parentheses|\n",
    "|**| Exponent|\n",
    "|+x, -x, ~x| Unary plus, Unary minus, Bitwise NOT|\n",
    "|*, /, //, % |Multiplication, Division, Floor Division, Modulus|\n",
    "|+, - |Addition, Subtraction|\n",
    "|<<, >> |Bitwise shift operators|\n",
    "|& |Bitwise AND|\n",
    "|^ |Bitwise XOR|\n",
    "|\\|| Bitwise OR|\n",
    "|==, !=, >, >=, <, <=, is, is not, in, not in       |Comparisions, Identity, Membership operators|\n",
    "|not |Logical NOT|\n",
    "|and |Logical AND|\n",
    "|or |Logical OR|"
   ]
  },
  {
   "cell_type": "markdown",
   "metadata": {},
   "source": [
    "[<p style=\"text-align: right;\">**⬆ Table of Contents ⬆**</p>](#Python-Notes!)"
   ]
  },
  {
   "cell_type": "markdown",
   "metadata": {},
   "source": [
    "---"
   ]
  },
  {
   "cell_type": "markdown",
   "metadata": {},
   "source": [
    "## <center>Mutable or Immutable;</center>"
   ]
  },
  {
   "cell_type": "markdown",
   "metadata": {},
   "source": [
    "|**Mutable:**|**Immutable:**|\n",
    "|:---|:---|\n",
    "|List|Int|\n",
    "|Dictionary|Float|\n",
    "|Set|Long|\n",
    "|User-Defined Classes<br>(depending on the defined attributes by the user)|Complex|\n",
    "|Byte Array|Boolean|\n",
    "||String|\n",
    "||Tuple|\n",
    "||Frozenset|\n",
    "||Unicode|"
   ]
  },
  {
   "cell_type": "markdown",
   "metadata": {},
   "source": [
    "**Python** is Pass by **object reference**  \n",
    "\n",
    "Pass by **reference** = The variable is passed directly (by reference) to a function. Any operation performed by the function on the variable will change the original object as it is the same object.  \n",
    "\n",
    "Pass by **value** = A copy of the object is passed to the function. Any operation performed by the function will not affect the original object.  \n",
    "\n",
    "Pass by **object reference** = A reference to the original object is passed, however the function will create a new variable. In essence, the object is the same, but now has two names in which to reference the object. If contents of the object is changed by the function (modified in place and can only be done with mutable objects), the contents of the original are updated too (similar to pass by reference). However if the reference/variable name is changed in the function, then the original object will not be affected (similar to pass by value).  "
   ]
  },
  {
   "cell_type": "code",
   "execution_count": 394,
   "metadata": {},
   "outputs": [
    {
     "name": "stdout",
     "output_type": "stream",
     "text": [
      "Before, outer_list:  ['one', 'two', 'three']\n",
      "Function received:  ['one', 'two', 'three']\n",
      "Function changed to by append:  ['one', 'two', 'three', 'four']\n",
      "After, outer_list:  ['one', 'two', 'three', 'four']\n"
     ]
    }
   ],
   "source": [
    "# Function modifying a list (mutable) in place\n",
    "def try_to_change_list_contents(the_list):\n",
    "    print('Function received: ', the_list)\n",
    "    the_list.append('four')\n",
    "    print('Function changed to by append: ', the_list)\n",
    "\n",
    "outer_list = ['one', 'two', 'three']\n",
    "\n",
    "print('Before, outer_list: ', outer_list)\n",
    "try_to_change_list_contents(outer_list)\n",
    "print('After, outer_list: ', outer_list)"
   ]
  },
  {
   "cell_type": "code",
   "execution_count": 395,
   "metadata": {},
   "outputs": [
    {
     "name": "stdout",
     "output_type": "stream",
     "text": [
      "Before, outer_list:  ['we', 'like', 'proper', 'English']\n",
      "Function received:  ['we', 'like', 'proper', 'English']\n",
      "Function changed to with new reference:  ['and', 'we', 'can', 'not', 'lie']\n",
      "After, outer_list:  ['we', 'like', 'proper', 'English']\n"
     ]
    }
   ],
   "source": [
    "# Function modifying a list and changing reference\n",
    "def try_to_change_list_reference(the_list):\n",
    "    print('Function received: ', the_list)\n",
    "    the_list = ['and', 'we', 'can', 'not', 'lie']\n",
    "    print('Function changed to with new reference: ', the_list)\n",
    "\n",
    "outer_list = ['we', 'like', 'proper', 'English']\n",
    "\n",
    "print('Before, outer_list: ', outer_list)\n",
    "try_to_change_list_reference(outer_list)\n",
    "print('After, outer_list: ', outer_list)"
   ]
  },
  {
   "cell_type": "code",
   "execution_count": 396,
   "metadata": {},
   "outputs": [
    {
     "name": "stdout",
     "output_type": "stream",
     "text": [
      "Before, outer_string:  It was many and many a year ago\n",
      "Function received:  It was many and many a year ago\n",
      "Function changed to with new reference (unable to modify a string in place):  It was many and many a year ago in a kingdom by the sea\n",
      "After, outer_string:  It was many and many a year ago\n"
     ]
    }
   ],
   "source": [
    "# Function modifying an immutable string\n",
    "def try_to_change_string_reference(the_string):\n",
    "    print('Function received: ', the_string)\n",
    "    the_string = the_string + ' in a kingdom by the sea'\n",
    "    print('Function changed to with new reference (unable to modify a string in place): ', the_string)\n",
    "\n",
    "outer_string = 'It was many and many a year ago'\n",
    "\n",
    "print('Before, outer_string: ', outer_string)\n",
    "try_to_change_string_reference(outer_string)\n",
    "print('After, outer_string: ', outer_string)"
   ]
  },
  {
   "cell_type": "markdown",
   "metadata": {},
   "source": [
    "[<p style=\"text-align: right;\">**⬆ Table of Contents ⬆**</p>](#Python-Notes!)"
   ]
  },
  {
   "cell_type": "markdown",
   "metadata": {},
   "source": [
    "---"
   ]
  },
  {
   "cell_type": "markdown",
   "metadata": {},
   "source": [
    "## <center>Strings/Variables and Basics;</center>"
   ]
  },
  {
   "cell_type": "markdown",
   "metadata": {},
   "source": [
    "#### **Types**"
   ]
  },
  {
   "cell_type": "markdown",
   "metadata": {},
   "source": [
    "A type is how Python represents different types of data:  \n",
    "\n",
    "* **`int`** (this is the type) = Integers: whole numbers e.g., 6 (this is the expression)  \n",
    "can be positive or negative, finite range  \n",
    "* **`float`** = Float: real numbers with decimal point e.g., 6.986  \n",
    "* **`complex`** = Complex numbers: imaginary numbers are written with a j e.g., 5j or 1 + 3j etc.\n",
    "* **`str`** = String: sequence of characters e.g., Hello  \n",
    "* **`bool`** = Boolean: True or False, must be capitalized. True contains the int or float value of 1, False is 0  "
   ]
  },
  {
   "cell_type": "markdown",
   "metadata": {},
   "source": [
    "**`None`**  - absence of data  "
   ]
  },
  {
   "cell_type": "markdown",
   "metadata": {},
   "source": [
    "The type of a variable can be viewed using the type function\n",
    "e.g., **`type(6)`** or **`print(type(var))`**"
   ]
  },
  {
   "cell_type": "code",
   "execution_count": 397,
   "metadata": {},
   "outputs": [
    {
     "data": {
      "text/plain": [
       "int"
      ]
     },
     "execution_count": 397,
     "metadata": {},
     "output_type": "execute_result"
    }
   ],
   "source": [
    "# example of type function\n",
    "type(6)"
   ]
  },
  {
   "cell_type": "code",
   "execution_count": 398,
   "metadata": {},
   "outputs": [
    {
     "data": {
      "text/plain": [
       "sys.float_info(max=1.7976931348623157e+308, max_exp=1024, max_10_exp=308, min=2.2250738585072014e-308, min_exp=-1021, min_10_exp=-307, dig=15, mant_dig=53, epsilon=2.220446049250313e-16, radix=2, rounds=1)"
      ]
     },
     "execution_count": 398,
     "metadata": {},
     "output_type": "execute_result"
    }
   ],
   "source": [
    "# system settings about float type\n",
    "\n",
    "sys.float_info"
   ]
  },
  {
   "cell_type": "code",
   "execution_count": 399,
   "metadata": {},
   "outputs": [
    {
     "name": "stdout",
     "output_type": "stream",
     "text": [
      "<class 'complex'>\n"
     ]
    }
   ],
   "source": [
    "# example of a complex number\n",
    "\n",
    "myComplex = 8j + 1\n",
    "\n",
    "print(type(myComplex))"
   ]
  },
  {
   "cell_type": "markdown",
   "metadata": {},
   "source": [
    "The type of expressions can be converted, this is called typecasting or to cast\n",
    "* int to float: **`float(6)`**: **6.0**\n",
    "* float to int: **`int(6.8)`**: **6** *caution as info is lost*\n",
    "* str to int (or float) if contains an integer value: **`int('6')`**: **6**\n",
    "* A string with a non-interger value would produce an error: **`int('A')`**: **error**\n",
    "* int or float to a string: **`str(6.9)`**: **'6.9'**\n",
    "* boolean to int or float: **`int(True)`**: **1**\n",
    "* int or float to boolean: **`bool(0)`**: **False** "
   ]
  },
  {
   "cell_type": "markdown",
   "metadata": {},
   "source": [
    ">Expressions are operations Python performs, for example basic arithmetic which is known as an operation.\n",
    "The numbers are the operands \n",
    "The maths symbols are operators "
   ]
  },
  {
   "cell_type": "markdown",
   "metadata": {},
   "source": [
    "Can get help on operations, types, methods and functions using following:  \n",
    "**`A`**=[1, 2]  \n",
    "**`help(A)`**\n",
    "Would give help on a list object  "
   ]
  },
  {
   "cell_type": "markdown",
   "metadata": {},
   "source": [
    "**Type hinting**:  \n",
    "\n",
    "**`variable/parameter: type`**  \n",
    "**`-> output type`**  \n",
    "* Used to **hint** at what types are expected  \n",
    "* Note this is **not enforced**  "
   ]
  },
  {
   "cell_type": "code",
   "execution_count": 400,
   "metadata": {},
   "outputs": [],
   "source": [
    "def say_hi(name: str) -> str:\n",
    "    return f'Hi {name}'"
   ]
  },
  {
   "cell_type": "code",
   "execution_count": 401,
   "metadata": {},
   "outputs": [
    {
     "data": {
      "text/plain": [
       "'Hi 5.0'"
      ]
     },
     "execution_count": 401,
     "metadata": {},
     "output_type": "execute_result"
    }
   ],
   "source": [
    "# Showing type hinting is not enforced\n",
    "say_hi(float(5.0))"
   ]
  },
  {
   "cell_type": "markdown",
   "metadata": {},
   "source": [
    "**Operators**"
   ]
  },
  {
   "cell_type": "markdown",
   "metadata": {},
   "source": [
    "**`/`** Single forward slash will **divide** and give result as **float** (real number, answer) e.g., 10/5=2.0 OR 6/4=1.5  \n",
    "**`//`** Double forward slash = **floor division**, will give result as **int** (loss of decimal information) note that if type isn't specified and there is a float as an operand that the answer will be calculated as an int but given in float format. This is always rounded down. e.g., 6//4=1  \n",
    "**`**`** **Exponentiation** will give the **power of**, e.g., 2\\*\\*8=8  \n",
    "**`%`** **Modulus** will give **remainder** of a division, e.g., 6%4=2   \n",
    "**`*`** Will **multiply**  e.g., 2\"*\"4=8   "
   ]
  },
  {
   "cell_type": "markdown",
   "metadata": {},
   "source": [
    "**`+=`** **Increment assignment** will add a value and a variable and assign it to the variable  \n",
    "**`-=`** **Decrement assignment** will subtract a value from a variable and assign it to the variable  \n",
    "**`/=`** **Division assignment** divides the variable by a value and assigns the result to that variable  \n",
    "**`*=`** **Multiplication assignment** multiplies the variable by a value and assigns the result to that variable  \n",
    "**`%=`** **Modulus assignment** computes the modulus of the variable and a value and assigns the result to that variable  \n",
    "**`//=`** **Floor division assignment** floor divides the variable by a value and assigns the result to that variable  \n",
    "**`**=`** **Power assignment** raises the variable to a specified power and assigns the result to the variable  \n",
    "  "
   ]
  },
  {
   "cell_type": "markdown",
   "metadata": {},
   "source": [
    "---"
   ]
  },
  {
   "cell_type": "markdown",
   "metadata": {},
   "source": [
    "**Comparison Operators**  \n",
    "* Compares some values, operands or variables including strings"
   ]
  },
  {
   "cell_type": "markdown",
   "metadata": {},
   "source": [
    "**`==`** **Equality operator** Gives result \"True\" when both sides are equal  \n",
    "**`!=`** **Inequality operator** Gives result \"True\" when both sides are **Not** equal  \n",
    "**`<`** **Less than operator** Gives result \"True\" when operand on left side is less than operand on right side  \n",
    "**`>`** **Greater than operator** Gives result \"True\" when operand on left side is greater than operand on right side  \n",
    "**`<=`** **Less than or equal to operator** Gives result \"True\" when operand on left side is less than or equal to the right side  \n",
    "**`>=`** **Greater than or equal to operator** Gives result \"True\" when operand on left side is greater than or equal to the right side  "
   ]
  },
  {
   "cell_type": "code",
   "execution_count": 402,
   "metadata": {},
   "outputs": [
    {
     "data": {
      "text/plain": [
       "True"
      ]
     },
     "execution_count": 402,
     "metadata": {},
     "output_type": "execute_result"
    }
   ],
   "source": [
    "# example of using comparison operators\n",
    "a=6 # setting variable a\n",
    "a<8"
   ]
  },
  {
   "cell_type": "code",
   "execution_count": 403,
   "metadata": {},
   "outputs": [
    {
     "data": {
      "text/plain": [
       "False"
      ]
     },
     "execution_count": 403,
     "metadata": {},
     "output_type": "execute_result"
    }
   ],
   "source": [
    "# example of using comparison operators\n",
    "\"AC/DC\"==\"Micheal Jackson\""
   ]
  },
  {
   "cell_type": "markdown",
   "metadata": {},
   "source": [
    "---"
   ]
  },
  {
   "cell_type": "markdown",
   "metadata": {},
   "source": [
    "#### **Escape sequences**"
   ]
  },
  {
   "cell_type": "markdown",
   "metadata": {},
   "source": [
    "**`\\`** Proceeds the escape sequence - This will allow you to spread lines of code over multipul lines  "
   ]
  },
  {
   "cell_type": "markdown",
   "metadata": {},
   "source": [
    "**`\\n`** For new line"
   ]
  },
  {
   "cell_type": "code",
   "execution_count": 404,
   "metadata": {},
   "outputs": [
    {
     "name": "stdout",
     "output_type": "stream",
     "text": [
      "Double space: Micheal  Jackson\n",
      "No space, with escape \\n:\n",
      "Micheal\n",
      "Jackson\n"
     ]
    }
   ],
   "source": [
    "# example of new line escape sequence\n",
    "print(\"Double space: Micheal  Jackson\") # double space only work in Markdown, not Python\n",
    "print(\"No space, with escape \\\\n:\\nMicheal\\nJackson\")"
   ]
  },
  {
   "cell_type": "markdown",
   "metadata": {},
   "source": [
    "**`\\t`** For tab  \n",
    "**`\\\\`** To insert a single **`\\`** in string    \n",
    "**`r`** To display as raw string (placed before the quotation mark)   "
   ]
  },
  {
   "cell_type": "code",
   "execution_count": 405,
   "metadata": {},
   "outputs": [
    {
     "name": "stdout",
     "output_type": "stream",
     "text": [
      "With r: Micheal\\nJackson\n",
      "Without r: Micheal\n",
      "Jackson\n"
     ]
    }
   ],
   "source": [
    "# example of raw string\n",
    "print(r\"With r: Micheal\\nJackson\")\n",
    "print(\"Without r: Micheal\\nJackson\")"
   ]
  },
  {
   "cell_type": "markdown",
   "metadata": {},
   "source": [
    "**Line continuation in code**  \n",
    "\n",
    "**`( )`**  parentheses is the prefered method  \n",
    "**`\\`**  backslash can sometimes look better, and with some lines of code is the only way for it to work  \n",
    "* **ENSURE** to indent continuing line of code  "
   ]
  },
  {
   "cell_type": "markdown",
   "metadata": {},
   "source": []
  },
  {
   "cell_type": "markdown",
   "metadata": {},
   "source": [
    " ---"
   ]
  },
  {
   "cell_type": "markdown",
   "metadata": {},
   "source": [
    "#### **Operations**"
   ]
  },
  {
   "cell_type": "markdown",
   "metadata": {},
   "source": [
    "Assignment operator **`=`**   \n",
    "Assigns values to variables  \n",
    "Or results to an expression  \n",
    "  \n",
    "**`print(var)`** Enter variable to be output,  can be entered as a string when put in quotes,  or multiple entries separated by a comma\n",
    "\n",
    "**`print blank line`**:\n",
    "* print( )\n",
    "* print(\" \")\n",
    "* print(\\n)\n",
    "\n",
    "Can perform operations on a variable and assign it to a new variable  \n",
    "**`x`**=5  \n",
    "**`y`**=10/**`x`**  \n",
    "  \n",
    "Or we can perform operations on the same variable which will change its stored value  \n",
    "**`x`**=160  \n",
    "**`x`**=**`x`**/60 **`x`**=2.66666...   "
   ]
  },
  {
   "cell_type": "markdown",
   "metadata": {},
   "source": [
    "---"
   ]
  },
  {
   "cell_type": "markdown",
   "metadata": {},
   "source": [
    "#### **Strings & Indexing**"
   ]
  },
  {
   "cell_type": "markdown",
   "metadata": {},
   "source": [
    "* Strings are immutable \n",
    "* Contained within two quotes, either single 'a' or double \"b\" but not a mixture  \n",
    "* **Multi line / long strings** are with **3 double or single quotes `\"\"\"`** before and after the string  \n",
    "* Can contain characters, digits, spaces or special characters  \n",
    "* Strings can be added when digits or characters, **beware** this will be done as text not numbers e.g., =\"1\" + \"4\" : \"14\"  \n",
    "* Each element of a string can be accessed with an index represented by array of numbers, first character will be 0 and counting up to the right.\n",
    "  Or from the end starting at -1 and counting down to the left   "
   ]
  },
  {
   "cell_type": "code",
   "execution_count": 406,
   "metadata": {},
   "outputs": [
    {
     "name": "stdout",
     "output_type": "stream",
     "text": [
      "\n",
      "        Hello,\n",
      "        this is a\n",
      "        long string\n",
      "        \n"
     ]
    }
   ],
   "source": [
    "# long strings\n",
    "\n",
    "myString = \"\"\"\n",
    "        Hello,\n",
    "        this is a\n",
    "        long string\n",
    "        \"\"\"\n",
    "\n",
    "print(myString)"
   ]
  },
  {
   "cell_type": "markdown",
   "metadata": {},
   "source": [
    "Note **square brackets** for indexing  \n",
    "**indexing**:  \n",
    "\n",
    "**`var[index]`**"
   ]
  },
  {
   "cell_type": "code",
   "execution_count": 407,
   "metadata": {},
   "outputs": [
    {
     "name": "stdout",
     "output_type": "stream",
     "text": [
      "Micheal Jackson\n"
     ]
    }
   ],
   "source": [
    "# define variable, \"name\"\n",
    "name = \"Micheal Jackson\"\n",
    "print(name)"
   ]
  },
  {
   "cell_type": "code",
   "execution_count": 408,
   "metadata": {},
   "outputs": [
    {
     "data": {
      "text/plain": [
       "'e'"
      ]
     },
     "execution_count": 408,
     "metadata": {},
     "output_type": "execute_result"
    }
   ],
   "source": [
    "# example of indexing from the left\n",
    "name[4]"
   ]
  },
  {
   "cell_type": "code",
   "execution_count": 409,
   "metadata": {},
   "outputs": [
    {
     "data": {
      "text/plain": [
       "'s'"
      ]
     },
     "execution_count": 409,
     "metadata": {},
     "output_type": "execute_result"
    }
   ],
   "source": [
    "# example of indexing from the right\n",
    "name[-3]"
   ]
  },
  {
   "cell_type": "markdown",
   "metadata": {},
   "source": [
    "**slice**:  \n",
    "\n",
    "**`var[start point : end point]`**  \n",
    "* Think of points between the characters "
   ]
  },
  {
   "cell_type": "code",
   "execution_count": 410,
   "metadata": {},
   "outputs": [
    {
     "data": {
      "text/plain": [
       "'Mich'"
      ]
     },
     "execution_count": 410,
     "metadata": {},
     "output_type": "execute_result"
    }
   ],
   "source": [
    "# example of a slice\n",
    "name[0:4]"
   ]
  },
  {
   "cell_type": "markdown",
   "metadata": {},
   "source": [
    "**stride**:  \n",
    "\n",
    "**`var[start : end : places to jump]`**  \n",
    "* If no start/end entered, it will start from beginning"
   ]
  },
  {
   "cell_type": "code",
   "execution_count": 411,
   "metadata": {},
   "outputs": [
    {
     "data": {
      "text/plain": [
       "'McelJcsn'"
      ]
     },
     "execution_count": 411,
     "metadata": {},
     "output_type": "execute_result"
    }
   ],
   "source": [
    "# example of a stride without start or end point\n",
    "name[::2]"
   ]
  },
  {
   "cell_type": "code",
   "execution_count": 412,
   "metadata": {},
   "outputs": [
    {
     "data": {
      "text/plain": [
       "'hlas'"
      ]
     },
     "execution_count": 412,
     "metadata": {},
     "output_type": "execute_result"
    }
   ],
   "source": [
    "# another example with start point\n",
    "name[3::3]"
   ]
  },
  {
   "cell_type": "markdown",
   "metadata": {},
   "source": [
    "**len** function:  \n",
    "\n",
    "**`len(var)`**  \n",
    "* Function returns length of string  \n",
    "* Note this starts at 1 as its **number of elements** NOT index numbers"
   ]
  },
  {
   "cell_type": "code",
   "execution_count": 413,
   "metadata": {},
   "outputs": [
    {
     "data": {
      "text/plain": [
       "15"
      ]
     },
     "execution_count": 413,
     "metadata": {},
     "output_type": "execute_result"
    }
   ],
   "source": [
    "# example of len function\n",
    "len(name)"
   ]
  },
  {
   "cell_type": "markdown",
   "metadata": {},
   "source": [
    "**concatenate** and combine strings:  \n",
    "\n",
    "**`new_var = var1 + var2`**"
   ]
  },
  {
   "cell_type": "code",
   "execution_count": 414,
   "metadata": {},
   "outputs": [
    {
     "name": "stdout",
     "output_type": "stream",
     "text": [
      "Micheal Jackson is the best\n"
     ]
    }
   ],
   "source": [
    "# showing string concatenate\n",
    "# note space before \"is\"\n",
    "statement= name + \" is the best\"\n",
    "print(statement)"
   ]
  },
  {
   "cell_type": "markdown",
   "metadata": {},
   "source": [
    "Be aware that concatenating strings with digits will be treated as strings, see example:"
   ]
  },
  {
   "cell_type": "code",
   "execution_count": 415,
   "metadata": {},
   "outputs": [
    {
     "name": "stdout",
     "output_type": "stream",
     "text": [
      "11\n",
      "type: <class 'str'>\n"
     ]
    }
   ],
   "source": [
    "# example of concatenating strings with digits\n",
    "digitString = \"1\" + \"1\"\n",
    "print(digitString)\n",
    "print(\"type:\", type(digitString))"
   ]
  },
  {
   "cell_type": "markdown",
   "metadata": {},
   "source": [
    "**replicate** strings:  \n",
    "\n",
    "**`#timesToRep* var`**"
   ]
  },
  {
   "cell_type": "code",
   "execution_count": 416,
   "metadata": {},
   "outputs": [
    {
     "data": {
      "text/plain": [
       "'Micheal JacksonMicheal JacksonMicheal Jackson'"
      ]
     },
     "execution_count": 416,
     "metadata": {},
     "output_type": "execute_result"
    }
   ],
   "source": [
    "# example of replicating a string\n",
    "3*name"
   ]
  },
  {
   "cell_type": "markdown",
   "metadata": {},
   "source": [
    "---"
   ]
  },
  {
   "cell_type": "markdown",
   "metadata": {},
   "source": [
    "#### **Methods**"
   ]
  },
  {
   "cell_type": "markdown",
   "metadata": {},
   "source": [
    "Strings are sequences and can use the same sequence methods as lists and tuples, they also have string methods which just work on strings.  "
   ]
  },
  {
   "cell_type": "markdown",
   "metadata": {},
   "source": [
    "**upper**:  \n",
    "\n",
    "**`var.upper()`**  \n",
    "* To make everything upper case, **must assign a variable to keep the change** "
   ]
  },
  {
   "cell_type": "code",
   "execution_count": 417,
   "metadata": {},
   "outputs": [
    {
     "data": {
      "text/plain": [
       "'MICHEAL JACKSON'"
      ]
     },
     "execution_count": 417,
     "metadata": {},
     "output_type": "execute_result"
    }
   ],
   "source": [
    "# example of `upper` method\n",
    "name.upper()"
   ]
  },
  {
   "cell_type": "code",
   "execution_count": 418,
   "metadata": {},
   "outputs": [
    {
     "name": "stdout",
     "output_type": "stream",
     "text": [
      "Micheal Jackson\n",
      "MICHEAL JACKSON\n"
     ]
    }
   ],
   "source": [
    "# showing changes do not affect original variable unless reassigned\n",
    "name = \"Micheal Jackson\"\n",
    "name.upper()  # upper change made temporarily, but not assigned to a variable \n",
    "print(name)  # will print original - lower case\n",
    "name = name.upper()  # reassigning to original variable, could be a new variable\n",
    "print(name)\n",
    "name = \"Micheal Jackson\" # resetting variable"
   ]
  },
  {
   "cell_type": "markdown",
   "metadata": {},
   "source": [
    "**replace**:  \n",
    "\n",
    "**`var.replace(\"what\", \"with\")`**  \n",
    "* Assign a variable to save change and denote the variable the change is being made to before the ' `.` '  \n",
    "* Note this is **Case sensitive**"
   ]
  },
  {
   "cell_type": "code",
   "execution_count": 419,
   "metadata": {},
   "outputs": [
    {
     "data": {
      "text/plain": [
       "'Micheal HEHEson'"
      ]
     },
     "execution_count": 419,
     "metadata": {},
     "output_type": "execute_result"
    }
   ],
   "source": [
    "# example of `replace` method\n",
    "name.replace(\"Jack\", \"HEHE\")"
   ]
  },
  {
   "cell_type": "markdown",
   "metadata": {},
   "source": [
    "**find**:  \n",
    "\n",
    "**`var.find(\"what\")`**  \n",
    "* Would output the **first index** of the sequence  \n",
    "* Will return **`-1`** if not found"
   ]
  },
  {
   "cell_type": "code",
   "execution_count": 420,
   "metadata": {},
   "outputs": [
    {
     "data": {
      "text/plain": [
       "10"
      ]
     },
     "execution_count": 420,
     "metadata": {},
     "output_type": "execute_result"
    }
   ],
   "source": [
    "# example of `find` method\n",
    "name.find(\"ck\")"
   ]
  },
  {
   "cell_type": "code",
   "execution_count": 421,
   "metadata": {},
   "outputs": [
    {
     "data": {
      "text/plain": [
       "-1"
      ]
     },
     "execution_count": 421,
     "metadata": {},
     "output_type": "execute_result"
    }
   ],
   "source": [
    "# another example of `find` method ... no hit\n",
    "name.find(\"HE\")"
   ]
  },
  {
   "cell_type": "markdown",
   "metadata": {},
   "source": [
    "---"
   ]
  },
  {
   "cell_type": "markdown",
   "metadata": {},
   "source": [
    "**strip** method:  \n",
    "\n",
    "**`var.strip()`**  \n",
    "* **Removes white spaces** and **escape characters** at the **beginning** and **end** of a string  \n",
    "* Ensure to save to a new variable to save the changes  "
   ]
  },
  {
   "cell_type": "code",
   "execution_count": 422,
   "metadata": {},
   "outputs": [
    {
     "name": "stdout",
     "output_type": "stream",
     "text": [
      "         an example of strip           \n"
     ]
    }
   ],
   "source": [
    "stringExample = \"         an example of strip           \"\n",
    "print(stringExample)"
   ]
  },
  {
   "cell_type": "code",
   "execution_count": 423,
   "metadata": {},
   "outputs": [
    {
     "name": "stdout",
     "output_type": "stream",
     "text": [
      "an example of strip\n"
     ]
    }
   ],
   "source": [
    "whiteRemoved = stringExample.strip()\n",
    "print(whiteRemoved)"
   ]
  },
  {
   "cell_type": "markdown",
   "metadata": {},
   "source": [
    "---"
   ]
  },
  {
   "cell_type": "markdown",
   "metadata": {},
   "source": [
    "**split** method:  \n",
    "\n",
    "**`listVar = strVar.split(sep=None, maxsplit=-1)`**  \n",
    "* Converts string to a list of words, standard delimiter is a **space**  \n",
    "* **`sep`** is the delimiter, None = **default whitespaces**  \n",
    "* **`maxsplit`** is the maximum number of splits to do, -1 = **default no limit**  "
   ]
  },
  {
   "cell_type": "code",
   "execution_count": 424,
   "metadata": {},
   "outputs": [
    {
     "data": {
      "text/plain": [
       "['a', 'b', 'c']"
      ]
     },
     "execution_count": 424,
     "metadata": {},
     "output_type": "execute_result"
    }
   ],
   "source": [
    "# example of spit method\n",
    "\n",
    "\"a b c\".split()"
   ]
  },
  {
   "cell_type": "markdown",
   "metadata": {},
   "source": [
    "---"
   ]
  },
  {
   "cell_type": "markdown",
   "metadata": {},
   "source": [
    "**join** method:  \n",
    "\n",
    "**`string.join(iterable)`**  \n",
    "* Creates **strings** from iterable objects  \n",
    "* Joins each **element** of an iterable (such as lists, strings, tuples, dictionaries and sets) by a **string separator**  "
   ]
  },
  {
   "cell_type": "code",
   "execution_count": 425,
   "metadata": {},
   "outputs": [
    {
     "name": "stdout",
     "output_type": "stream",
     "text": [
      "A-B-C\n",
      "1-2\n",
      "<class 'str'>\n"
     ]
    }
   ],
   "source": [
    "# example of join method\n",
    "seperator = \"-\"\n",
    "li = \"ABC\"\n",
    "joint = seperator.join(li)\n",
    "print(joint)\n",
    "\n",
    "li2 = [\"1\", \"2\"]\n",
    "print(seperator.join(li2))\n",
    "print(type(joint))"
   ]
  },
  {
   "cell_type": "markdown",
   "metadata": {},
   "source": [
    "---"
   ]
  },
  {
   "cell_type": "markdown",
   "metadata": {},
   "source": [
    "**user input**:  \n",
    "\n",
    "**`var = type(input(\"message to user\"))`**  \n",
    "* Keyword **\"input\"** used to provide input box to user  \n",
    "* **Optional message**, however better practice to provide information on what to input  \n",
    "* Defining **\"type\"** is **optional**, however note user inputs **default to strings**  "
   ]
  },
  {
   "cell_type": "code",
   "execution_count": 426,
   "metadata": {},
   "outputs": [
    {
     "name": "stdin",
     "output_type": "stream",
     "text": [
      "Enter your name:  g\n"
     ]
    },
    {
     "name": "stdout",
     "output_type": "stream",
     "text": [
      "your name is: g\n"
     ]
    }
   ],
   "source": [
    "# example of user input\n",
    "\n",
    "name = input(\"Enter your name: \")\n",
    "print(\"your name is:\", name)"
   ]
  },
  {
   "cell_type": "code",
   "execution_count": 427,
   "metadata": {},
   "outputs": [
    {
     "name": "stdin",
     "output_type": "stream",
     "text": [
      "Enter your age:  5\n"
     ]
    },
    {
     "name": "stdout",
     "output_type": "stream",
     "text": [
      "your age is: 5\n"
     ]
    }
   ],
   "source": [
    "# example of user input defining user input type\n",
    "\n",
    "age = int(input(\"Enter your age: \"))\n",
    "print(\"your age is:\", age)"
   ]
  },
  {
   "cell_type": "markdown",
   "metadata": {},
   "source": [
    "---"
   ]
  },
  {
   "cell_type": "markdown",
   "metadata": {
    "tags": []
   },
   "source": [
    "####  **Formatting Strings**  \n",
    "\n",
    "**Place holders**:  \n",
    "\n",
    "**`placeHolderVar = \"some string with placeholder a {}, and place holder b {}\"`**  \n",
    "**`placeHolderVar.format(a,b)`**\n",
    "\n",
    "\n",
    "* **`{}`** can be used as place holders to insert variables later  \n",
    "* Call the variable with the placeholders followed by **`.format`** to insert variables  \n",
    "* Placeholders can be **positional**, or identified by a **given name**, or by **index numbers**, note this will be index **of the variables provided** and not of the placeholder position index numbers  \n",
    "* Can also format using the **keys from a dictionary** and reference dictionary in format with double star **\\*\\*dictVar**  \n",
    "* **Class members** can be used in place holders such as **{a.attribute}** and the class referenced in the formatting **.format(a=Class())**  \n",
    "* Must save to a new variable to save  "
   ]
  },
  {
   "cell_type": "code",
   "execution_count": 428,
   "metadata": {},
   "outputs": [
    {
     "name": "stdout",
     "output_type": "stream",
     "text": [
      "hello, my name is Andy and I am 35 old.\n"
     ]
    }
   ],
   "source": [
    "# example of using place holders with strings\n",
    "# positional example\n",
    "\n",
    "myTemplate = \"hello, my name is {} and I am {} old.\"\n",
    "\n",
    "a = \"Andy\"\n",
    "b = 35      # note this will be changed to a String when inserted\n",
    "\n",
    "print(myTemplate.format(a,b))"
   ]
  },
  {
   "cell_type": "code",
   "execution_count": 429,
   "metadata": {},
   "outputs": [
    {
     "name": "stdout",
     "output_type": "stream",
     "text": [
      "Your laptop cost £500\n"
     ]
    }
   ],
   "source": [
    "# placeholders by reference\n",
    "\n",
    "print(\"Your {what} cost £{amount}\".format(what = \"laptop\", amount = 500))"
   ]
  },
  {
   "cell_type": "code",
   "execution_count": 430,
   "metadata": {},
   "outputs": [
    {
     "name": "stdout",
     "output_type": "stream",
     "text": [
      "My new car is red\n"
     ]
    }
   ],
   "source": [
    "# placeholders by index of given variables\n",
    "\n",
    "myTemplate = \"My new {1} is {0}\"      # note index values refer to the variables given when formatting\n",
    "colour = \"red\"\n",
    "item = \"car\"\n",
    "\n",
    "print(myTemplate.format(colour, item))"
   ]
  },
  {
   "cell_type": "code",
   "execution_count": 431,
   "metadata": {},
   "outputs": [
    {
     "data": {
      "text/plain": [
       "'Hello, Eric. You are 74.'"
      ]
     },
     "execution_count": 431,
     "metadata": {},
     "output_type": "execute_result"
    }
   ],
   "source": [
    "# Formatting with a dictionary\n",
    "\n",
    "personDictionary = {'name': 'Eric', 'age': 74}\n",
    "\n",
    "\"Hello, {name}. You are {age}.\".format(**personDictionary)"
   ]
  },
  {
   "cell_type": "code",
   "execution_count": 432,
   "metadata": {},
   "outputs": [
    {
     "name": "stdout",
     "output_type": "stream",
     "text": [
      "Adam's age is: 23\n"
     ]
    }
   ],
   "source": [
    "# Formatting class members\n",
    "\n",
    "# define Person class\n",
    "class Person:\n",
    "    age = 23\n",
    "    name = \"Adam\"\n",
    "\n",
    "# format age\n",
    "print(\"{p.name}'s age is: {p.age}\".format(p=Person()))"
   ]
  },
  {
   "cell_type": "markdown",
   "metadata": {},
   "source": [
    "**F-Strings**:  \n",
    "\n",
    "**`placeHolderVar = f\"some string with placeholder a {var_a}, and placeholder b {var_b}\"`**  \n",
    "\n",
    "* Good for when you have a calculation to put inside the placeholder  \n",
    "* F-strings do not require the use of \"format\"  \n",
    "* Requires **f before string**, this can be **upper or lower** case  "
   ]
  },
  {
   "cell_type": "code",
   "execution_count": 433,
   "metadata": {},
   "outputs": [
    {
     "name": "stdout",
     "output_type": "stream",
     "text": [
      "Bill is 54 years old\n"
     ]
    }
   ],
   "source": [
    "# formatting with f-strings\n",
    "\n",
    "name = \"Bill\"\n",
    "age = 54\n",
    "\n",
    "print(f\"{name} is {age} years old\")"
   ]
  },
  {
   "cell_type": "code",
   "execution_count": 434,
   "metadata": {},
   "outputs": [
    {
     "name": "stdout",
     "output_type": "stream",
     "text": [
      "54321.54321 and 12345.12345\n"
     ]
    }
   ],
   "source": [
    "price = 12345.12345\n",
    "age = 54321.54321\n",
    "\n",
    "print(f\"{age} and {price}\")"
   ]
  },
  {
   "cell_type": "markdown",
   "metadata": {},
   "source": [
    "**Formatting types**:  \n",
    "\n",
    "* Formatting types can be put in placeholders after the optional index/reference  "
   ]
  },
  {
   "cell_type": "markdown",
   "metadata": {},
   "source": [
    "**`:<`**  Left aligns the result (within the available space)  \n",
    "**`:>`**  Right aligns the result (within the available space)  \n",
    "**`:^`**  Center aligns the result (within the available space)  \n",
    "**`:=`**  Places the sign to the left most position  \n",
    "**`:+`**  Use a plus sign to indicate if the result is positive or negative  \n",
    "**`:-`**  Use a minus sign to show negative numbers minus sign  \n",
    "**`: `**  Use a space to insert an extra space before positive numbers (and a minus sign before negative numbers)  \n",
    "**`:,`**  Use a comma as a thousand separator  \n",
    "**`:_`**  Use a underscore as a thousand separator  \n",
    "**`:b`**  Binary format  \n",
    "**`:c`**  Converts the value into the corresponding unicode character  \n",
    "**`:d`**  Decimal format  \n",
    "**`:e`**  Scientific format, with a lower case e  \n",
    "**`:E`**  Scientific format, with an upper case E  \n",
    "**`:f`**  Fix point number format  \n",
    "**`:F`**  Fix point number format, in uppercase format (show inf and nan as INF and NAN)  \n",
    "**`:g`**  General format  \n",
    "**`:G`**  General format (using a upper case E for scientific notations)  \n",
    "**`:o`**  Octal format  \n",
    "**`:x`**  Hex format, lower case  \n",
    "**`:X`**  Hex format, upper case  \n",
    "**`:n`**  Number format  \n",
    "**`:%`**  Percentage format  "
   ]
  },
  {
   "cell_type": "markdown",
   "metadata": {},
   "source": [
    "**Decimal places, padding and truncating strings**:  \n",
    "\n",
    "**`f\"{*index/ref : *padding(number of spaces in front).*decimal places to display or max chars from string}\"`**  \n",
    "* Note the **`.`** between the padding and decimal places/chars to display  \n",
    "* When specifying **decimals**, must follow with **`f`** to denote number format  \n",
    "* To add padding with **strings**, must specify **allignment** **OR** number of **TOTAL** characters to be displayed  \n",
    "    * e.g. **`f\"{*index/ref : totalNumberCharacters . decimalPlacesToDisplay f}\"`**  \n",
    "* Can add a **character before padding** and this will be used **instead of the default space**, when doing this, the padding number will represent the max **WIDTH including the passed variable length**    "
   ]
  },
  {
   "cell_type": "code",
   "execution_count": 435,
   "metadata": {},
   "outputs": [
    {
     "name": "stdout",
     "output_type": "stream",
     "text": [
      "Without 'f' after decimal places:   1.2e+04\n",
      "With 'f' after decimal places:   12345.12\n",
      "With .format method after decimal places:  12345.12\n",
      "With 50 padding spaces, no limit on decimal:                                         12345.12345\n"
     ]
    }
   ],
   "source": [
    "# various examples of number formatting\n",
    "\n",
    "num = 12345.12345\n",
    "\n",
    "print(\"Without 'f' after decimal places: \", f\"{num : .2}\")\n",
    "print(\"With 'f' after decimal places: \", f\"{num : .2f}\")\n",
    "print(\"With .format method after decimal places: \", \"{:.2f}\".format(num))\n",
    "print(\"With 50 padding spaces, no limit on decimal: \", f\"{num : 50}\")"
   ]
  },
  {
   "cell_type": "code",
   "execution_count": 436,
   "metadata": {},
   "outputs": [
    {
     "name": "stdout",
     "output_type": "stream",
     "text": [
      "                                               abc\n",
      "\n",
      "alphabet aligned central of * characters with total width of 50:\n",
      "************abcdefghijklmnopqrstuvwxyz************\n"
     ]
    }
   ],
   "source": [
    "# truncating strings and string padding\n",
    "\n",
    "alpha = \"abcdefghijklmnopqrstuvwxyz\"\n",
    "\n",
    "print(f\"{alpha :>50.3}\")    # padding will not work for strings without allignment\n",
    "\n",
    "print()\n",
    "print(\"alphabet aligned central of * characters with total width of 50:\")\n",
    "print(f\"{alpha :*^50}\")        # note the alphabet characters are INCLUDED in the 50 padding/width total"
   ]
  },
  {
   "cell_type": "markdown",
   "metadata": {},
   "source": [
    "**zfill** method:  \n",
    "\n",
    "**`strVar.zfill(len)`**  \n",
    "* Adds zeros (0) at the beginning of the string, until it reaches the specified length  \n",
    "* If the value of the len parameter is less than the length of the string, no filling is done  "
   ]
  },
  {
   "cell_type": "code",
   "execution_count": 437,
   "metadata": {},
   "outputs": [
    {
     "name": "stdout",
     "output_type": "stream",
     "text": [
      "00000hello\n",
      "welcome to the jungle\n",
      "000010.000\n"
     ]
    }
   ],
   "source": [
    "# zfill method example\n",
    "\n",
    "a = \"hello\"\n",
    "b = \"welcome to the jungle\"      # longer than 10, so no filling done, but complete string is still kept\n",
    "c = \"10.000\"\n",
    "\n",
    "print(a.zfill(10))\n",
    "print(b.zfill(10))\n",
    "print(c.zfill(10))"
   ]
  },
  {
   "cell_type": "markdown",
   "metadata": {},
   "source": [
    "[<p style=\"text-align: right;\">**⬆ Table of Contents ⬆**</p>](#Python-Notes!)"
   ]
  },
  {
   "cell_type": "markdown",
   "metadata": {},
   "source": [
    "---"
   ]
  },
  {
   "cell_type": "markdown",
   "metadata": {
    "tags": []
   },
   "source": [
    "## <center>Regular Expressions (Regex);</center>"
   ]
  },
  {
   "cell_type": "markdown",
   "metadata": {},
   "source": [
    "**`import re`**  \n",
    "\n",
    "**`text_to_search = \"some string\"`**  \n",
    "**`patternVar = re.compile(r\"patternToMatch\")`**  \n",
    "**`matchesVar = patternVar.RegExFunction(text_to_searchVar)`**  \n",
    "\n",
    "**`for match in matchesVar:`**  \n",
    "$\\;\\;\\;\\;$**`print(match)`**  \n",
    "\n",
    "* Allow us to search for and match specific patterns of text  \n",
    "* To use, we need to first import the **`re`** module  \n",
    "* Compile method allows us to seperate out our patterns into a variable and easier to reuse that variable to perform multiple searches\n",
    "* Use **`r`** before pattern to ensure string is treated as raw string  \n",
    "* Try to make pattern to match as specific as possible, modify it as required to match further items  "
   ]
  },
  {
   "cell_type": "code",
   "execution_count": 438,
   "metadata": {},
   "outputs": [
    {
     "name": "stdout",
     "output_type": "stream",
     "text": [
      "\tTab - escape character for tab\n",
      "\\tTab - raw string\n",
      "<re.Match object; span=(1, 4), match='abc'>\n",
      "abc\n",
      "<re.Match object; span=(142, 153), match='coreyms.com'>\n"
     ]
    }
   ],
   "source": [
    "import re\n",
    "\n",
    "text_to_search = '''\n",
    "abcdefghijklmnopqrstuvwxyz\n",
    "ABCDEFGHIJKLMNOPQRSTUVWXYZ\n",
    "1234567890\n",
    "\n",
    "Ha HaHa\n",
    "\n",
    "MetaCharacters (Need to be escaped):\n",
    ". ^ $ * + ? { } [ ] \\ | ( )\n",
    "\n",
    "coreyms.com\n",
    "\n",
    "321-555-4321\n",
    "123.555.1234\n",
    "\n",
    "Mr. Schafer\n",
    "Mr Smith\n",
    "Ms Davis\n",
    "Mrs. Robinson\n",
    "Mr. T\n",
    "'''\n",
    "\n",
    "sentence = 'Start a sentence and then bring it to an end'\n",
    "\n",
    "print(\"\\tTab - escape character for tab\")\n",
    "print(r\"\\tTab - raw string\")\n",
    "\n",
    "\n",
    "# compile method allows us to seperate out our patterns into a variable and easier to reuse that variable to perform multiple searches\n",
    "\n",
    "pattern = re.compile(r\"abc\")    # specifies pattern to match - search for raw string \"abc\" \n",
    "\n",
    "matches = pattern.finditer(text_to_search)     # use pattern specified to search the text \"text_to_search\" and store matches in a variable \"matches\" \n",
    "\n",
    "for match in matches:      # for loop used to print out matches\n",
    "    print(match)          # span = beginning and end of the match indexes\n",
    "    \n",
    "print(text_to_search[1:4])     # using indexes found to print \"abc\n",
    "\n",
    "\n",
    "\n",
    "\n",
    "pattern = re.compile(r\"coreyms\\.com\")    # to search for special characters, need to escape them\n",
    "\n",
    "matches = pattern.finditer(text_to_search)      \n",
    "\n",
    "for match in matches:      \n",
    "    print(match) "
   ]
  },
  {
   "cell_type": "markdown",
   "metadata": {},
   "source": [
    "**Metacharacters**:  \n",
    "\n",
    "* Characters with a special meaning  \n",
    "* If searching for a **literal metacharacter** it **MUST** be **escaped**  \n",
    "\n",
    "|**Character**|**Description**|**Example**|**Example meaning**|\n",
    "|:---|:---|:---|:---|\n",
    "|**[ ]**|Defines a set of characters|\"[a-m]\"|Find all lower case characters alphabetically between \"a\" and \"m\"|\n",
    "|<b>\\\\<b>|Signals a special sequence (can also be used to escape special characters)|\"\\d\"|Find all digit characters|\n",
    "|**.**|Matches any character (**except** newline character)|\"he..o\"|Search for a sequence that starts with \"he\", followed by two (any(.)) characters, and an \"o\"|\n",
    "|**^**|Starts with|\"^hello\"|Check if the string starts with 'hello'|\n",
    "|**\\$**|Ends with|\"planet$\"|Check if the string ends with 'planet'|\n",
    "|**?**|Zero or one occurrences|\"he.?o\"|Search for a sequence that starts with \"he\", followed by 0 or 1  (any(.)) character, and an \"o\"|\n",
    "|**\\***|Zero or more occurrences|\"he.*o\"|Search for a sequence that starts with \"he\", followed by 0 or more  (any(.)) characters, and an \"o\"|\n",
    "|**+**|One or more occurrences|\"he.+o\"|Search for a sequence that starts with \"he\", followed by 1 or more  (any (.)) characters, and an \"o\"|\n",
    "|**{ }**|Exactly the specified number of occurrences<br>or range of number of occurences {min, max}|\"he.{2}o\"<br>\"he.{2,5}o\"|Search for a sequence that starts with \"he\", followed by exactly 2 (any) characters, and an \"o\"<br>\"he\" followed by between 2 and 5 (any (.)) characters, and an \"o\"|\n",
    "|**\\|**|Either or|\"falls\\|stays\"|Check if the string contains either \"falls\" or \"stays\"|\n",
    "|**( )**|Capture and group<br>A group of characters to match|\"(com\\|net\\|gov)\"|matches \"com\" OR \"net\" OR \"gov\"<br>**\\|** means OR|\n",
    "|**(?P\\<name\\>)**|Name a group which can then be accessed by name rather than index|\"(?P\\<first\\>\\w+) (?P\\<last\\>\\w+)\"|Matches words and groups them. Here called \"first\" and \"last\"|\n",
    "|**(?P=name)**|Used within a pattern to match against a named group|\"(?P\\<first\\>\\w+) (?P=first)\"|Matches a word which repeats|\n",
    "|**(?=...)**|Lookahead assertion<br>Matches if ... **does matches next**, but doesn’t consume any of the string|\"Isaac (?!Asimov)\"|matches \"Isaac \" only if it **is** followed by 'Asimov'|\n",
    "|**(?!...)**|Negative lookahead assertion<br>Matches if ... **doesn’t match next**|\"Isaac (?!Asimov)\"|Matches 'Isaac ' only if it’s **not** followed by 'Asimov'|\n",
    "|**(?<=...)**|Positive lookbehind assertion<br>Matches if current position in the string **is preceded** by a match for ... that ends at the current position|\"(?<=abc)def\"|Matches \"def\" in the string \"abcdef\"|\n",
    "|**(?<!...)**|Negative lookbehind assertion<br>Matches if current position in the string is **not preceded** by a match for ... that ends at the current position|\"(?<!abc)def\"|Will **not** find a match in the string \"abcdef\"|"
   ]
  },
  {
   "cell_type": "markdown",
   "metadata": {},
   "source": [
    "**Special Sequences**:  \n",
    "\n",
    "* A special sequence is a \\\\ followed by one of the characters in the list below, and has a special meaning    \n",
    "* Capitals negate the function of the lowercase special sequence  \n",
    "\n",
    "|**Character**|**Description**|**Example**|**Example meaning**|\n",
    "|:---|:---|:---|:---|\n",
    "|**\\A**|Returns a match if the specified characters are at the beginning of the string|\"\\AThe\"|Check if the string starts with \"The\"|\n",
    "|**\\b**|Returns a match where the specified characters are at the beginning or at the end of a word|r\"\\\\bain\"<br>r\"ain\\b\"|Check if \"ain\" is present at the beginning of a WORD<br>Check if \"ain\" is present at the end of a WORD<br>The \"r\" in the beginning is making sure that the string is being treated as a \"raw string\"|\n",
    "|**\\B**|Returns a match where the specified characters are present, but NOT at the beginning (or at the end) of a word|r\"\\Bain\"<br>r\"ain\\B\"|Check if \"ain\" is present, but NOT at the beginning of a word<br>Check if \"ain\" is present, but NOT at the end of a word<br>The \"r\" in the beginning is making sure that the string is being treated as a \"raw string\"|\n",
    "|**\\d**|Returns a match where the string contains digits (numbers from 0-9)|\"\\d\"|Check if the string contains any digits (numbers from 0-9)|\n",
    "|**\\D**|Returns a match where the string DOES NOT contain digits|\"\\D\"|Return a match at every non-digit character|\n",
    "|**\\s**|Returns a match where the string contains a white space character|\"\\s\"|Return a match at every white-space character (space, tab, newline)|\n",
    "|**\\S**|Returns a match where the string DOES NOT contain a white space character|\"\\S\"|Return a match at every NON white-space character (NOT spaces, tabs, newlines)|\n",
    "|**\\w**|Returns a match where the string contains any word characters (a-z, A-Z, 0-9, and underscore _ )|\"\\w\"|Return a match at every word character (a-z, A-Z, 0-9, and underscore _ )|\n",
    "|**\\W**|Returns a match where the string DOES NOT contain any word characters|\"\\W\"|Return a match at every NON word character (characters NOT between a and Z. Like \"!\", \"?\" white-space etc.)|\n",
    "|**\\Z**|Returns a match if the specified characters are at the end of the string|\"Spain\\Z\"|Check if the string ends with \"Spain\"|"
   ]
  },
  {
   "cell_type": "markdown",
   "metadata": {},
   "source": [
    "**Sets**:  \n",
    "\n",
    "* A set is a set of characters inside a pair of square brackets **`[]`** with a special meaning  \n",
    "* Each set represents 1 character position to search for, not multiple, i.e. [1-5][a-z] means search for the numbers 1-5 which are followed by a lowercase a-z e.g. 5b    \n",
    "* Note **`-`** if placed at the beginning or end of a set, then the literal **`-`** character will be searched for, however when placed between 2 characters it can denote a range e.g. **`1-9`**  \n",
    "\n",
    "|**Set**|**Description**|\n",
    "|:---|:---|\n",
    "|**[arn]**|Returns a match where one of the specified characters (a, r, or n) are present|\n",
    "|**[a-n]**|Returns a match for any lower case character, alphabetically between a and n|\n",
    "|**[^arn]**|Returns a match for any character **EXCEPT** a, r, and n|\n",
    "|**[0123]**|Returns a match where any of the specified digits (0, 1, 2, or 3) are present|\n",
    "|**[0-9]**|Returns a match for any digit between 0 and 9|\n",
    "|**[0-5][0-9]**|Returns a match for any two-digit numbers from 00 and 59|\n",
    "|**[a-zA-Z]**|Returns a match for any character alphabetically between a and z, lower case OR upper case|\n",
    "|**[+]**|In sets, **`+`** **`*`** **`.`** **`\\|`** **`( )`** **`$`** **`{ }`** have no special meaning, so [+] means: return a match for any + character in the string|"
   ]
  },
  {
   "cell_type": "markdown",
   "metadata": {
    "tags": []
   },
   "source": [
    "#### **RegEx functions**:  \n",
    "\n",
    "* The **`re`** module offers a set of functions that allows us to search a string for a match  "
   ]
  },
  {
   "cell_type": "markdown",
   "metadata": {},
   "source": [
    "**match** function:  \n",
    "\n",
    "**`re.match(searchFor, textToSearch)`**  \n",
    "**OR**  \n",
    "**`patternVar.match(textToSearch)`**  \n",
    "* Checks only at the start of a string, will **NOT** find anything matching from the middle or end of the string  \n",
    "* Returns a match object   \n",
    "* This is **NOT** an **iterable**  "
   ]
  },
  {
   "cell_type": "markdown",
   "metadata": {},
   "source": [
    "**findall** function:  \n",
    "\n",
    "**`re.findall(searchFor, textToSearch)`**  \n",
    "**OR**  \n",
    "**`patternVar.findall(textToSearch)`**  \n",
    "* Returns a **list of strings** containing all matches  \n",
    "* Returns an **empty list** if **no match**  \n",
    "* If matching groups, will only return the groups matched, not entire pattern  "
   ]
  },
  {
   "cell_type": "markdown",
   "metadata": {},
   "source": [
    "**finditer** function:  \n",
    "\n",
    "**`re.finditer(searchFor, textToSearch)`**  \n",
    "**OR**  \n",
    "**`patternVar.finditer(textToSearch)`**  \n",
    "* Returns match objects with more information and functionality than findall  "
   ]
  },
  {
   "cell_type": "markdown",
   "metadata": {},
   "source": [
    "**search** function:  \n",
    "\n",
    "**`re.search(searchFor, textToSearch)`**  \n",
    "**OR**  \n",
    "**`patterVar.search(textToSearch)`**  \n",
    "* Returns a **match object** if there is a match anywhere in the string  \n",
    "* Only returns the **first match**, is **NOT** an **iterable**  \n",
    "* If there is more than one match, only the first occurrence of the match will be returned  \n",
    "* If no match, **`None`** is returned  "
   ]
  },
  {
   "cell_type": "markdown",
   "metadata": {},
   "source": [
    "**split** function:  \n",
    "\n",
    "**`re.split(splitAt, textToSearch, maxSplit)`**  \n",
    "* Returns a **list** where the string has been split at each match  \n",
    "* **`maxSplit`** is optional and is the number of splits to stop at **(not the number of elements in list)**  \n",
    "* If no matches, returns the original string as a single element in a list  "
   ]
  },
  {
   "cell_type": "markdown",
   "metadata": {},
   "source": [
    "**sub** function:  \n",
    "\n",
    "**`re.sub(replaceThis, withThis, textToSearch, count)`**  \n",
    "* Replaces one or many matches with a string  \n",
    "* **`count`** is optional and is the number of replacements to stop at  \n",
    "* Returns a **string**  \n",
    "* If no matches, returns the original string  \n",
    "* when pattern matching using **groups**, the group numbers you wish to keep can be passed and this will replace the entire matched string with the found groups:  \n",
    "$\\;\\;\\;\\;$**`newStringVar = patternWithGroupsVar.sub(r'\\2\\3', originalStringVar)`** \n",
    "    * This example replaces the matched string with the found groups with index 2 and 3  \n",
    "    * If replacing with **named groups**, use **`\\g<name>`** instead of the index  "
   ]
  },
  {
   "cell_type": "markdown",
   "metadata": {},
   "source": [
    "#### **Match Objects**:  \n",
    "\n",
    "* A Match Object is an object containing information about the search and the result  \n",
    "* If there is **no match**, the value **None will be returned**, instead of the Match Object  "
   ]
  },
  {
   "cell_type": "markdown",
   "metadata": {},
   "source": [
    "**Match object** methods:  "
   ]
  },
  {
   "cell_type": "markdown",
   "metadata": {},
   "source": [
    "**span** method:  \n",
    "\n",
    "**`matchObj.span()`**  \n",
    "* Returns a tuple containing the start and end positions of the match  "
   ]
  },
  {
   "cell_type": "markdown",
   "metadata": {},
   "source": [
    "**string** function:  \n",
    "\n",
    "**`matchObj.string`**  \n",
    "* Returns the string passed into the function initially to search  "
   ]
  },
  {
   "cell_type": "markdown",
   "metadata": {},
   "source": [
    "**group** method:  \n",
    "\n",
    "**`matchObj.group()`**  \n",
    "* Returns the part of the string where there was a match  \n",
    "* If pattern has group matching **`( | )`** then these groups can be retrieved with **indexing** or by **name** (if named, see metacharacter table above), group(0) will return everything which was matched  \n",
    "* The dictionary the groups are contained in can be retrieved using **`matchObj.groupdict()`**  "
   ]
  },
  {
   "cell_type": "markdown",
   "metadata": {},
   "source": [
    "#### **Flags**  "
   ]
  },
  {
   "cell_type": "markdown",
   "metadata": {},
   "source": [
    "[RegEx flags link](https://www.pythontutorial.net/python-regex/python-regex-flags/)"
   ]
  },
  {
   "cell_type": "markdown",
   "metadata": {},
   "source": [
    "**ignorecase** flag:  \n",
    "\n",
    "**`re.compile(patternToMatch, re.IGNORECASE)`**  \n",
    "* Can be added in with the pattern to be matched  \n",
    "* Flag will match pattern regardless of upper or lower case characters  \n",
    "* Shorthand **`re.I`** can be used too  "
   ]
  },
  {
   "cell_type": "markdown",
   "metadata": {},
   "source": [
    "**dotall** flag:  \n",
    "\n",
    "**`re.compile(patternToMatch, re.DOTALL)`**  \n",
    "* By default **`.`** matches any characters except a newline. The re.DOTALL makes the **`.`** match all characters **including a newline**  \n",
    "* Shorthand **`re.S`** can be used too  "
   ]
  },
  {
   "cell_type": "markdown",
   "metadata": {},
   "source": [
    "**multiline** flag:  \n",
    "\n",
    "**`re.compile(patternToMatch, re.MULTILINE)`**  \n",
    "* The re.MULTILINE makes the **`^`** match at the beginning of a string and at the beginning of each line and $ matches at the end of a string and at the end of each line  \n",
    "* Shorthand **`re.M`** can be used too  "
   ]
  },
  {
   "cell_type": "code",
   "execution_count": 439,
   "metadata": {},
   "outputs": [
    {
     "name": "stdout",
     "output_type": "stream",
     "text": [
      "<re.Match object; span=(1, 24), match='CoreyMSchafer@gmail.com'>\n",
      "<re.Match object; span=(25, 53), match='corey.schafer@university.edu'>\n",
      "<re.Match object; span=(54, 83), match='corey-321-schafer@my-work.net'>\n"
     ]
    }
   ],
   "source": [
    "# Try to be as specific as possible when writting RegEx patterns to match\n",
    "# Start by writting to match your first case, \n",
    "# see what it doesn't match that you want it to, and modify to capture that too\n",
    "\n",
    "emails = '''\n",
    "CoreyMSchafer@gmail.com\n",
    "corey.schafer@university.edu\n",
    "corey-321-schafer@my-work.net\n",
    "'''\n",
    "\n",
    "\"\"\"\n",
    "written to match first email, (1-many lower and upper cases, followed by literal @ symbol, \n",
    "then 1-many lower and upper case letters, followed by literal . (escaped to avoid matching any character) then literal com\n",
    "\"\"\"\n",
    "pattern = re.compile(r'[a-zA-Z]+@[a-zA-Z]+\\.com') \n",
    "\n",
    "pattern2 = re.compile(r'[a-zA-Z.]+@[a-zA-Z]+\\.(com|edu)') # dot added to first set to match 2nd email, and edu added to group\n",
    "\n",
    "pattern3 = re.compile(r'[a-zA-Z0-9.-]+@[a-zA-Z-]+\\.(com|edu|net)') # 0-9 and - added to first set to match 3rd email, - added to domain set and net added to group\n",
    "\n",
    "patternDemo = re.compile(r'[a-zA-Z0-9_.+-]+@[a-zA-Z0-9-]+\\.[a-zA-Z0-9-.]+')  # Another example of a pattern which can match email addresses\n",
    "\n",
    "\n",
    "\n",
    "matches = pattern3.finditer(emails)\n",
    "\n",
    "for match in matches:\n",
    "    print(match)"
   ]
  },
  {
   "cell_type": "code",
   "execution_count": 440,
   "metadata": {},
   "outputs": [
    {
     "name": "stdout",
     "output_type": "stream",
     "text": [
      "finditer method:\n",
      "<re.Match object; span=(1, 23), match='https://www.google.com'>\n",
      "<re.Match object; span=(24, 42), match='http://coreyms.com'>\n",
      "<re.Match object; span=(43, 62), match='https://youtube.com'>\n",
      "<re.Match object; span=(63, 83), match='https://www.nasa.gov'>\n",
      "\n",
      "findall method:\n",
      "('www.', 'google', '.com')\n",
      "('', 'coreyms', '.com')\n",
      "('', 'youtube', '.com')\n",
      "('www.', 'nasa', '.gov')\n"
     ]
    }
   ],
   "source": [
    "# Showing the different returns for \"finditer\" and \"findall\" methods\n",
    "\n",
    "urls = '''\n",
    "https://www.google.com\n",
    "http://coreyms.com\n",
    "https://youtube.com\n",
    "https://www.nasa.gov\n",
    "'''\n",
    "\n",
    "pattern = re.compile(r'https?://(www.)?(\\w+)(.\\w+)')\n",
    "\n",
    "print(\"finditer method:\")\n",
    "matches = re.finditer(pattern, urls)\n",
    "\n",
    "for match in matches:\n",
    "    print(match)\n",
    "\n",
    "print(\"\\nfindall method:\")\n",
    "matches2 = re.findall(pattern, urls)\n",
    "\n",
    "for match in matches2:\n",
    "    print(match)"
   ]
  },
  {
   "cell_type": "code",
   "execution_count": 441,
   "metadata": {},
   "outputs": [
    {
     "name": "stdout",
     "output_type": "stream",
     "text": [
      "No grouping in pattern, returning group 0:\n",
      "https://www.google.com\n",
      "http://coreyms.com\n",
      "https://youtube.com\n",
      "https://www.nasa.gov\n",
      "\n",
      "From pattern with grouping;\n",
      "\n",
      "1st group, (optional www.):\n",
      "www.\n",
      "None\n",
      "None\n",
      "www.\n",
      "\n",
      "2nd group, (domain name):\n",
      "google\n",
      "coreyms\n",
      "youtube\n",
      "nasa\n",
      "\n",
      "Subbed string:\n",
      "google.com\n",
      "coreyms.com\n",
      "youtube.com\n",
      "nasa.gov\n",
      "\n"
     ]
    }
   ],
   "source": [
    "# Showing how groups can be useful and how to use RegEx to reformat a string....could easily be used to reformat a file too\n",
    "\n",
    "urls = '''\n",
    "https://www.google.com\n",
    "http://coreyms.com\n",
    "https://youtube.com\n",
    "https://www.nasa.gov\n",
    "'''\n",
    "\n",
    "patternNoGroups = re.compile(r'https?://w?w?w?.?\\w+.\\w+')\n",
    "patternWithGroups = re.compile(r'https?://(www\\.)?(\\w+)(\\.\\w+)')  # grouped into sub parts, (optional www.)(domain name)(top level domain)\n",
    "\n",
    "def printing(pattern, groupNo):\n",
    "    \n",
    "    matches = pattern.finditer(urls)\n",
    "\n",
    "    for match in matches:\n",
    "            print(match.group(groupNo))\n",
    "\n",
    "            \n",
    "print(\"No grouping in pattern, returning group 0:\")\n",
    "printing(patternNoGroups, 0)\n",
    "print(\"\\nFrom pattern with grouping;\")\n",
    "print(\"\\n1st group, (optional www.):\")\n",
    "printing(patternWithGroups, 1)\n",
    "print(\"\\n2nd group, (domain name):\")\n",
    "printing(patternWithGroups, 2)\n",
    "\n",
    "\n",
    "# Using sub method to reformat a string\n",
    "# sub method used to replace all the matched strings with the found groups 2 and group 3 (domain name and top level domain)\n",
    "subbed_urls = patternWithGroups.sub(r'\\2\\3', urls)\n",
    "\n",
    "print(\"\\nSubbed string:\" + subbed_urls)"
   ]
  },
  {
   "cell_type": "code",
   "execution_count": 442,
   "metadata": {},
   "outputs": [
    {
     "name": "stdout",
     "output_type": "stream",
     "text": [
      "Original string:\n",
      "https://www.google.com\n",
      "http://coreyms.com\n",
      "https://youtube.com\n",
      "https://www.nasa.gov\n",
      "\n",
      "\n",
      "Subbed string:\n",
      "google.com\n",
      "coreyms.com\n",
      "youtube.com\n",
      "nasa.gov\n",
      "\n"
     ]
    }
   ],
   "source": [
    "urls = '''\n",
    "https://www.google.com\n",
    "http://coreyms.com\n",
    "https://youtube.com\n",
    "https://www.nasa.gov\n",
    "'''\n",
    "\n",
    "patternWithGroups = re.compile(r'https?://(www\\.)?(\\w+)(\\.\\w+)')  # grouped into sub parts, (optional www.)(domain name)(top level domain)\n",
    "\n",
    "# Using sub method to reformat a string\n",
    "# sub method used to replace all the matched strings with the found groups 2 and group 3 (domain name and top level domain)\n",
    "subbed_urls = patternWithGroups.sub(r'\\2\\3', urls)\n",
    "\n",
    "\n",
    "print(\"Original string:\" + urls)\n",
    "print(\"\\nSubbed string:\" + subbed_urls)"
   ]
  },
  {
   "cell_type": "code",
   "execution_count": 443,
   "metadata": {},
   "outputs": [
    {
     "name": "stdout",
     "output_type": "stream",
     "text": [
      "First name: Joe\n",
      "Last name: Blogs\n",
      "Names swapped: Blogs Joe\n",
      "Group dictionary: {'first': 'Joe', 'last': 'Blogs'}\n"
     ]
    }
   ],
   "source": [
    "# naming groups and uses\n",
    "\n",
    "nameString = \"Joe Blogs\"\n",
    "\n",
    "pattern = re.compile(r\"(?P<first>\\w+) (?P<last>\\w+)\")\n",
    "\n",
    "match = pattern.match(nameString)\n",
    "\n",
    "print(\"First name: \" + match.group(\"first\"))\n",
    "print(\"Last name: \" + match.group(\"last\"))\n",
    "\n",
    "lastNameFirst = pattern.sub(r\"\\g<last> \\g<first>\", nameString)\n",
    "\n",
    "print(\"Names swapped: \" + lastNameFirst)\n",
    "\n",
    "print(\"Group dictionary:\", match.groupdict())"
   ]
  },
  {
   "cell_type": "code",
   "execution_count": 444,
   "metadata": {},
   "outputs": [
    {
     "name": "stdout",
     "output_type": "stream",
     "text": [
      "<re.Match object; span=(0, 9), match='here here'>\n",
      "<re.Match object; span=(11, 14), match='s s'>\n",
      "<re.Match object; span=(18, 31), match='random random'>\n"
     ]
    }
   ],
   "source": [
    "# Matching repeated patterns with named groups\n",
    "\n",
    "text = \"here here is some random random text\"\n",
    "\n",
    "pattern = re.compile(r\"(?P<word>\\w+) (?P=word)\")\n",
    "\n",
    "matches = pattern.finditer(text)\n",
    "\n",
    "for match in matches:\n",
    "    print(match)"
   ]
  },
  {
   "cell_type": "markdown",
   "metadata": {},
   "source": [
    "[<p style=\"text-align: right;\">**⬆ Table of Contents ⬆**</p>](#Python-Notes!)"
   ]
  },
  {
   "cell_type": "markdown",
   "metadata": {},
   "source": [
    "---"
   ]
  },
  {
   "cell_type": "markdown",
   "metadata": {
    "tags": []
   },
   "source": [
    "## <center>Tuples;</center>"
   ]
  },
  {
   "cell_type": "markdown",
   "metadata": {
    "tags": []
   },
   "source": [
    "#### **tuples** :   \n",
    "\n",
    "**`tupVar = (ele1, ele2, ele3)`**"
   ]
  },
  {
   "cell_type": "markdown",
   "metadata": {},
   "source": [
    "* Tuples are compound data types\n",
    "* They are an **ordered sequence**\n",
    "* Comma separated elements within parenthesis, can contain **`str`**, **`int`** and **`float`**\n",
    "* Have **round brackets**\n",
    "* Tuples are **immutable**, ie cant change them. As a result, if we want to manipulate a tuple, we must assign a variable or create a new tuple"
   ]
  },
  {
   "cell_type": "code",
   "execution_count": 445,
   "metadata": {},
   "outputs": [
    {
     "name": "stdout",
     "output_type": "stream",
     "text": [
      "(2, 'a thing', 9, 5)\n"
     ]
    }
   ],
   "source": [
    "# example of a tuple, note round brackets\n",
    "tuple_example=(2, \"a thing\", 9, 5)\n",
    "print(tuple_example)"
   ]
  },
  {
   "cell_type": "code",
   "execution_count": 446,
   "metadata": {
    "scrolled": true
   },
   "outputs": [
    {
     "data": {
      "text/plain": [
       "2"
      ]
     },
     "execution_count": 446,
     "metadata": {},
     "output_type": "execute_result"
    }
   ],
   "source": [
    "# can be indexed like strings\n",
    "tuple_example[0]"
   ]
  },
  {
   "cell_type": "markdown",
   "metadata": {},
   "source": [
    "**concatenate** tuples:  \n",
    "\n",
    "**`newTupVar = tup1Var + (newEle1, newEle2)`**"
   ]
  },
  {
   "cell_type": "code",
   "execution_count": 447,
   "metadata": {},
   "outputs": [
    {
     "name": "stdout",
     "output_type": "stream",
     "text": [
      "(2, 'a thing', 9, 5, 5.6, 'and this')\n"
     ]
    }
   ],
   "source": [
    "# can concatenate, but note a new variable HAS to be assigned\n",
    "tuple2 = tuple_example + (5.6, \"and this\")\n",
    "print(tuple2)"
   ]
  },
  {
   "cell_type": "code",
   "execution_count": 448,
   "metadata": {},
   "outputs": [
    {
     "data": {
      "text/plain": [
       "(9, 5)"
      ]
     },
     "execution_count": 448,
     "metadata": {},
     "output_type": "execute_result"
    }
   ],
   "source": [
    "# can slice like strings: \n",
    "tuple2[2:4]"
   ]
  },
  {
   "cell_type": "code",
   "execution_count": 449,
   "metadata": {},
   "outputs": [
    {
     "data": {
      "text/plain": [
       "6"
      ]
     },
     "execution_count": 449,
     "metadata": {},
     "output_type": "execute_result"
    }
   ],
   "source": [
    "# use len function to obtain number of elements\n",
    "len(tuple2)"
   ]
  },
  {
   "cell_type": "markdown",
   "metadata": {},
   "source": [
    "**sorted** function:  \n",
    "\n",
    "**`outListVar = sorted(tupVar, key=None, reverse=False)`**  \n",
    "* Use function to sort a tuple, list or set, but note it will **output as a list**  \n",
    "* **`reverse`** is **optional** and set to False if not supplied  \n",
    "* **`key`** is **optional** and is usually a function when passed, this will be used on each **value in the list** to determine the resulting order, Note this can be used to access values in a list of dictionaries for sorting    \n",
    "* **`key`** will be used to determine sort order, but **original values** will be **used in output**  \n",
    "* A new variable must be assigned to save change  \n",
    "* **`sorted`** function does not work on **`int`** and **`str`** at the same time  \n",
    "* **Beware** of typecasting a sorted list back to a set as a set by definition is **unordered**   "
   ]
  },
  {
   "cell_type": "code",
   "execution_count": 450,
   "metadata": {},
   "outputs": [
    {
     "name": "stdout",
     "output_type": "stream",
     "text": [
      "('A', 'Z', 'F', 'C')\n",
      "tupleA Type: <class 'tuple'>\n",
      "['A', 'C', 'F', 'Z']\n",
      "a_sorted Type: <class 'list'>\n"
     ]
    }
   ],
   "source": [
    "# example of `sorted` function\n",
    "# note this function outputs as a list\n",
    "\n",
    "tupleA = (\"A\", \"Z\", \"F\", \"C\")\n",
    "print(tupleA)\n",
    "print(\"tupleA Type:\", type(tupleA))\n",
    "\n",
    "a_sorted = sorted(tupleA)\n",
    "print(a_sorted)\n",
    "print(\"a_sorted Type:\", type(a_sorted))"
   ]
  },
  {
   "cell_type": "code",
   "execution_count": 451,
   "metadata": {},
   "outputs": [
    {
     "name": "stdout",
     "output_type": "stream",
     "text": [
      "(2, 'a thing', 9, 5, 5.6, 'and this')\n"
     ]
    },
    {
     "ename": "TypeError",
     "evalue": "'<' not supported between instances of 'str' and 'int'",
     "output_type": "error",
     "traceback": [
      "\u001b[1;31m---------------------------------------------------------------------------\u001b[0m",
      "\u001b[1;31mTypeError\u001b[0m                                 Traceback (most recent call last)",
      "\u001b[1;32m~\\AppData\\Local\\Temp/ipykernel_13840/2710235088.py\u001b[0m in \u001b[0;36m<module>\u001b[1;34m\u001b[0m\n\u001b[0;32m      1\u001b[0m \u001b[1;31m# example of using `sorted` function when both `int` and `str` are in a tuple\u001b[0m\u001b[1;33m\u001b[0m\u001b[1;33m\u001b[0m\u001b[0m\n\u001b[0;32m      2\u001b[0m \u001b[0mprint\u001b[0m\u001b[1;33m(\u001b[0m\u001b[0mtuple2\u001b[0m\u001b[1;33m)\u001b[0m\u001b[1;33m\u001b[0m\u001b[1;33m\u001b[0m\u001b[0m\n\u001b[1;32m----> 3\u001b[1;33m \u001b[0mtuple2_Sorted\u001b[0m \u001b[1;33m=\u001b[0m \u001b[0msorted\u001b[0m\u001b[1;33m(\u001b[0m\u001b[0mtuple2\u001b[0m\u001b[1;33m)\u001b[0m\u001b[1;33m\u001b[0m\u001b[1;33m\u001b[0m\u001b[0m\n\u001b[0m",
      "\u001b[1;31mTypeError\u001b[0m: '<' not supported between instances of 'str' and 'int'"
     ]
    }
   ],
   "source": [
    "# example of using `sorted` function when both `int` and `str` are in a tuple\n",
    "print(tuple2)\n",
    "tuple2_Sorted = sorted(tuple2)"
   ]
  },
  {
   "cell_type": "code",
   "execution_count": 452,
   "metadata": {},
   "outputs": [
    {
     "name": "stdout",
     "output_type": "stream",
     "text": [
      "[1, 5, 3, 2]\n"
     ]
    }
   ],
   "source": [
    "# sorted function\n",
    "\n",
    "list1 = [1,5,3,2]\n",
    "\n",
    "sorted(list1)\n",
    "print(list1)   # must assign variable to save change"
   ]
  },
  {
   "cell_type": "code",
   "execution_count": 453,
   "metadata": {},
   "outputs": [
    {
     "name": "stdout",
     "output_type": "stream",
     "text": [
      "[5, 3, 2, 1]\n"
     ]
    }
   ],
   "source": [
    "# sorted function being assigned to a new variable to save change and showing reverse parameter\n",
    "\n",
    "list1 = [1,5,3,2]\n",
    "\n",
    "a = sorted(list1,reverse=True)\n",
    "print(a)"
   ]
  },
  {
   "cell_type": "markdown",
   "metadata": {
    "tags": []
   },
   "source": [
    "**sort** method:  \n",
    "\n",
    "**`tupVar.sort(reverse=False)`**  \n",
    "* Similar to sorted function, however this **will affect original variable**\n",
    "* Use method to sort a tuple or list but note it will **output as a list**  \n",
    "* **\"reverse\"** is **optional** and set to False if not supplied  \n",
    "* **`sort`** method does not work on **`int`** and **`str`** at the same time  \n",
    "* **Beware** of typecasting a sorted list back to a set as a set by definition is **unordered**   "
   ]
  },
  {
   "cell_type": "code",
   "execution_count": 454,
   "metadata": {
    "tags": []
   },
   "outputs": [
    {
     "name": "stdout",
     "output_type": "stream",
     "text": [
      "[3, 5, 10, 13]\n"
     ]
    }
   ],
   "source": [
    "# sort method\n",
    "\n",
    "tup1 = [5,3,10,13]\n",
    "\n",
    "tup1.sort()\n",
    "print(tup1) # changes original variable, note its converted to a list"
   ]
  },
  {
   "cell_type": "markdown",
   "metadata": {},
   "source": [
    "**nest** tuples:  \n",
    "\n",
    "**`tupVar = (ele1, (nesTupVar), ele3)`**  \n",
    "* Other tuples can be **nested** in a tuple"
   ]
  },
  {
   "cell_type": "code",
   "execution_count": 455,
   "metadata": {},
   "outputs": [
    {
     "name": "stdout",
     "output_type": "stream",
     "text": [
      "(8, (3, 'Hello', 1), 4)\n"
     ]
    }
   ],
   "source": [
    "# showing nesting of a Tuple\n",
    "t1=(3,\"Hello\",1)\n",
    "t2=(8,(t1),4)\n",
    "print(t2)"
   ]
  },
  {
   "cell_type": "markdown",
   "metadata": {},
   "source": [
    "**indexing** nested tuples:  \n",
    "\n",
    "**`var[outIndex][nextLayerIndex][...][lastLayerIndex]`**"
   ]
  },
  {
   "cell_type": "code",
   "execution_count": 456,
   "metadata": {},
   "outputs": [
    {
     "name": "stdout",
     "output_type": "stream",
     "text": [
      "t1: (3, 'Hello', 1)\n",
      "t2: (8, (3, 'Hello', 1), 4)\n",
      "number of elements in t2: 3\n"
     ]
    },
    {
     "data": {
      "text/plain": [
       "'o'"
      ]
     },
     "execution_count": 456,
     "metadata": {},
     "output_type": "execute_result"
    }
   ],
   "source": [
    "# indexing of nested tuples\n",
    "print(\"t1:\",t1)\n",
    "print(\"t2:\",t2)\n",
    "print(\"number of elements in t2:\", len(t2))\n",
    "# t1 elements can be accessed as follows:\n",
    "t2[1][1][4]  # accessing 5th element of 2nd element of nested t1"
   ]
  },
  {
   "cell_type": "markdown",
   "metadata": {},
   "source": [
    "**unpacking** tuples:  \n",
    "\n",
    "**`var1, var2 = tupVar`**  \n",
    "* Allows elements of a tuple to be assigned to variables in one line of code  \n",
    "* Note there will need to be as many variables as elements or an error will occur  \n",
    "* See lists for unpacking more elements than variables  \n",
    "* Dictionary key-value pairs can be unpacked to tuples using the **`.items()`** method  "
   ]
  },
  {
   "cell_type": "code",
   "execution_count": 457,
   "metadata": {},
   "outputs": [
    {
     "name": "stdout",
     "output_type": "stream",
     "text": [
      "a 2\n"
     ]
    }
   ],
   "source": [
    "# Showing elements of a tuple being unpacked\n",
    "x, y = (\"a\", 2)\n",
    "\n",
    "print(x, y)"
   ]
  },
  {
   "cell_type": "code",
   "execution_count": 458,
   "metadata": {},
   "outputs": [
    {
     "name": "stdout",
     "output_type": "stream",
     "text": [
      "('one', 1) ('two', 2)\n"
     ]
    }
   ],
   "source": [
    "# Dictionary key-value pairs being unpacked as tuples\n",
    "my_dict = {'one': 1, 'two':2, 'three': 3}\n",
    "a, b, c = my_dict.items()  # Unpacking key-value pairs\n",
    "\n",
    "print(a, b)"
   ]
  },
  {
   "cell_type": "markdown",
   "metadata": {},
   "source": [
    "**packing** tuples:  \n",
    "\n",
    "**`tupVar = ele1, ele2......`**  \n",
    "* Packs elements into a tuple  \n",
    "* See lists for packing leading/trailing elements into a single list  "
   ]
  },
  {
   "cell_type": "code",
   "execution_count": 459,
   "metadata": {},
   "outputs": [
    {
     "name": "stdout",
     "output_type": "stream",
     "text": [
      "(1, 2, 3)\n"
     ]
    }
   ],
   "source": [
    "# Showing 3 elements being packed into a tuple\n",
    "a = 1,2,3\n",
    "\n",
    "print(a)"
   ]
  },
  {
   "cell_type": "markdown",
   "metadata": {},
   "source": [
    "[<p style=\"text-align: right;\">**⬆ Table of Contents ⬆**</p>](#Python-Notes!)"
   ]
  },
  {
   "cell_type": "markdown",
   "metadata": {},
   "source": [
    "---"
   ]
  },
  {
   "cell_type": "markdown",
   "metadata": {},
   "source": [
    "## <center>Lists;</center>"
   ]
  },
  {
   "cell_type": "markdown",
   "metadata": {},
   "source": [
    "#### **lists**:   \n",
    "\n",
    "**`listVar = [ele1, ele2, ele3]`**"
   ]
  },
  {
   "cell_type": "markdown",
   "metadata": {},
   "source": [
    "* Lists are also compound data types\n",
    "* Also an ordered sequence\n",
    "* Lists are represented with **square brackets**\n",
    "* Lists are **mutable**, meaning we can change them\n",
    "* They can contain **`str`**, **`float`**, **`int`**, can also **nest** other **lists**, **tuples** and **other data structures**"
   ]
  },
  {
   "cell_type": "markdown",
   "metadata": {},
   "source": [
    "**concatenate** lists:  \n",
    "\n",
    "**`newListVar = list1Var + [newEle1, newEle2]`**"
   ]
  },
  {
   "cell_type": "code",
   "execution_count": 460,
   "metadata": {},
   "outputs": [
    {
     "name": "stdout",
     "output_type": "stream",
     "text": [
      "l1: ['MJ', 10.1, 1982]\n",
      "l2: ['MJ', 10.1, 1982, 'pop', 10]\n"
     ]
    }
   ],
   "source": [
    "# example of concatinating a list by adding\n",
    "l1 = [\"MJ\", 10.1, 1982]\n",
    "print(\"l1:\", l1)\n",
    "l2 = l1 + [\"pop\", 10]\n",
    "print(\"l2:\", l2)"
   ]
  },
  {
   "cell_type": "markdown",
   "metadata": {},
   "source": [
    "**sorted** function:  \n",
    "\n",
    "**`outListVar = sorted(listVar,key=None, reverse=False)`**  \n",
    "* Use function to sort a tuple, list or set, but note it will **output as a list**  \n",
    "* **`reverse`** is **optional** and set to False if not supplied  \n",
    "* **`key`** is **optional** and is usually a function when passed, this will be used on each **value in the list** to determine the resulting order, Note this can be used to access values in a list of dictionaries for sorting    \n",
    "* **`key`** will be used to determine sort order, but **original values** will be **used in output**  \n",
    "* A new variable must be assigned to save change  \n",
    "* **`sorted`** function does not work on **`int`** and **`str`** at the same time  \n",
    "* **Beware** of typecasting a sorted list back to a set as a set by definition is **unordered**   "
   ]
  },
  {
   "cell_type": "code",
   "execution_count": 461,
   "metadata": {},
   "outputs": [
    {
     "name": "stdout",
     "output_type": "stream",
     "text": [
      "['A', 'Z', 'F', 'C']\n",
      "listA Type: <class 'list'>\n",
      "['A', 'C', 'F', 'Z']\n",
      "a_sorted Type: <class 'list'>\n"
     ]
    }
   ],
   "source": [
    "# example of `sorted` function\n",
    "# note this function outputs as a list even when used to sort a tuple or set\n",
    "\n",
    "listA = [\"A\", \"Z\", \"F\", \"C\"]\n",
    "print(listA)\n",
    "print(\"listA Type:\", type(listA))\n",
    "\n",
    "a_sorted = sorted(listA)\n",
    "print(a_sorted)\n",
    "print(\"a_sorted Type:\", type(a_sorted))"
   ]
  },
  {
   "cell_type": "code",
   "execution_count": 462,
   "metadata": {},
   "outputs": [
    {
     "name": "stdout",
     "output_type": "stream",
     "text": [
      "[1, 5, 3, 2]\n"
     ]
    }
   ],
   "source": [
    "# sorted function\n",
    "\n",
    "list1 = [1,5,3,2]\n",
    "\n",
    "sorted(list1)\n",
    "print(list1)   # must assign variable to save change"
   ]
  },
  {
   "cell_type": "code",
   "execution_count": 463,
   "metadata": {},
   "outputs": [
    {
     "name": "stdout",
     "output_type": "stream",
     "text": [
      "[5, 3, 2, 1]\n"
     ]
    }
   ],
   "source": [
    "# sorted function being assigned to a new variable to save change and showing reverse parameter\n",
    "\n",
    "list1 = [1,5,3,2]\n",
    "\n",
    "a = sorted(list1,reverse=True)\n",
    "print(a)"
   ]
  },
  {
   "cell_type": "code",
   "execution_count": 464,
   "metadata": {},
   "outputs": [
    {
     "data": {
      "text/plain": [
       "['pie', 'book', 'banana', 'Washington']"
      ]
     },
     "execution_count": 464,
     "metadata": {},
     "output_type": "execute_result"
    }
   ],
   "source": [
    "# Using len function as key to sort\n",
    "words = ['banana', 'pie', 'Washington', 'book']\n",
    "sorted(words, key=len)"
   ]
  },
  {
   "cell_type": "code",
   "execution_count": 465,
   "metadata": {},
   "outputs": [
    {
     "name": "stdout",
     "output_type": "stream",
     "text": [
      "['Mark', 'Suzy', 'al', 'harry']\n",
      "['al', 'harry', 'Mark', 'Suzy']\n"
     ]
    }
   ],
   "source": [
    "# Function passed to key will be used to determine sort order, but original values will be used in output\n",
    "names_with_case = ['harry', 'Suzy', 'al', 'Mark']\n",
    "\n",
    "print(sorted(names_with_case))\n",
    "print(sorted(names_with_case, key=str.lower))"
   ]
  },
  {
   "cell_type": "markdown",
   "metadata": {},
   "source": [
    "**sort** method:  \n",
    "\n",
    "**`listVar.sort(reverse=False)`**  \n",
    "* Similar to sorted function, however this **will affect original variable**\n",
    "* Use method to sort a tuple or list but note it will **output as a list**  \n",
    "* **\"reverse\"** is **optional** and set to False if not supplied  \n",
    "* **`sort`** method does not work on **`int`** and **`str`** at the same time  \n",
    "* **Beware** of typecasting a sorted list back to a set as a set by definition is **unordered**   "
   ]
  },
  {
   "cell_type": "code",
   "execution_count": 466,
   "metadata": {},
   "outputs": [
    {
     "name": "stdout",
     "output_type": "stream",
     "text": [
      "[3, 5, 10, 13]\n"
     ]
    }
   ],
   "source": [
    "# sort method\n",
    "\n",
    "list1 = [5,3,10,13]\n",
    "\n",
    "list1.sort()\n",
    "print(list1) # changes original variable"
   ]
  },
  {
   "cell_type": "markdown",
   "metadata": {},
   "source": [
    "**extend** method:  \n",
    "\n",
    "**`listVar.extend([newEle1, newEle2])`**  \n",
    "* This will add each element as individual elements"
   ]
  },
  {
   "cell_type": "code",
   "execution_count": 467,
   "metadata": {},
   "outputs": [
    {
     "name": "stdout",
     "output_type": "stream",
     "text": [
      "l1: ['MJ', 10.1, 1982, 'pop', 10]\n"
     ]
    }
   ],
   "source": [
    "# example of `extend` method\n",
    "l1.extend([\"pop\", 10,])\n",
    "print(\"l1:\", l1)"
   ]
  },
  {
   "cell_type": "markdown",
   "metadata": {},
   "source": [
    "**append** method:  \n",
    "\n",
    "**`listVar.append([newEle1, newEle2])`**  \n",
    "* This will add all the new elements as only one new element (nested list)"
   ]
  },
  {
   "cell_type": "code",
   "execution_count": 468,
   "metadata": {},
   "outputs": [
    {
     "name": "stdout",
     "output_type": "stream",
     "text": [
      "l1 before append: ['MJ', 10.1, 1982, 'pop', 10]\n",
      "l1 number of elements before append: 5\n",
      "l1 after append: ['MJ', 10.1, 1982, 'pop', 10, ['pop', 10]]\n",
      "l1 number of elements after append 6\n"
     ]
    }
   ],
   "source": [
    "# showing append method and comparing number of elements\n",
    "print(\"l1 before append:\", l1)\n",
    "print(\"l1 number of elements before append:\", len(l1))\n",
    "l1.append([\"pop\", 10])\n",
    "print(\"l1 after append:\", l1)\n",
    "print(\"l1 number of elements after append\", len(l1))"
   ]
  },
  {
   "cell_type": "markdown",
   "metadata": {},
   "source": [
    ">With lists, **every time a method is applied**, the list changes unless assigned to a new variable"
   ]
  },
  {
   "cell_type": "markdown",
   "metadata": {},
   "source": [
    "**insert** method:  \n",
    "\n",
    "**`listVar.insert(index, newEle)`**  \n",
    "* Inserts a element provided at index given  "
   ]
  },
  {
   "cell_type": "code",
   "execution_count": 469,
   "metadata": {},
   "outputs": [
    {
     "name": "stdout",
     "output_type": "stream",
     "text": [
      "before insert:  ['apple', 'orange', 'lemon']\n",
      "after insert:  ['apple', 'pear', 'orange', 'lemon']\n"
     ]
    }
   ],
   "source": [
    "# example of insert method \n",
    "\n",
    "list1 = [\"apple\", \"orange\", \"lemon\"]\n",
    "print(\"before insert: \", list1)\n",
    "\n",
    "list1.insert(1, \"pear\")\n",
    "print(\"after insert: \", list1)"
   ]
  },
  {
   "cell_type": "markdown",
   "metadata": {},
   "source": [
    "**change** a list element:  \n",
    "\n",
    "**`listVar[indexOrSlice] = newEle`**  \n",
    "* This will replace the indexed or sliced element with the new element"
   ]
  },
  {
   "cell_type": "code",
   "execution_count": 470,
   "metadata": {},
   "outputs": [
    {
     "name": "stdout",
     "output_type": "stream",
     "text": [
      "l1 before change: ['MJ', 10.1, 1982, 'pop', 10, ['pop', 10]]\n",
      "l1 after single element [0] change: ['New1', 10.1, 1982, 'pop', 10, ['pop', 10]]\n",
      "l1 after slicing [1:5] change, no brackets: ['New1', 'N', 'e', 'w', '2', ['pop', 10]]\n",
      "l1 after slicing [2:4] change, with brackets: ['New1', 'N', 'New3', '2', ['pop', 10]]\n"
     ]
    }
   ],
   "source": [
    "# example of changing an element in a list, note difference when slicing if not using brackets\n",
    "print(\"l1 before change:\", l1)\n",
    "l1[0] = \"New1\"\n",
    "print(\"l1 after single element [0] change:\", l1)\n",
    "l1[1:5] = \"New2\"\n",
    "print(\"l1 after slicing [1:5] change, no brackets:\", l1)\n",
    "l1[2:4] = [\"New3\"]\n",
    "print(\"l1 after slicing [2:4] change, with brackets:\", l1)"
   ]
  },
  {
   "cell_type": "markdown",
   "metadata": {},
   "source": [
    "**delete** a list element:  \n",
    "\n",
    "**`del(listVar[indexOrSlice])`**   \n",
    "      \n",
    "**delete** list:  \n",
    "\n",
    "**`del(listVar)`**"
   ]
  },
  {
   "cell_type": "code",
   "execution_count": 471,
   "metadata": {},
   "outputs": [
    {
     "name": "stdout",
     "output_type": "stream",
     "text": [
      "l1 before del: ['New1', 'N', 'New3', '2', ['pop', 10]]\n",
      "l1 after del: ['N', 'New3', '2', ['pop', 10]]\n",
      "After list has been deleted\n"
     ]
    },
    {
     "ename": "NameError",
     "evalue": "name 'l1' is not defined",
     "output_type": "error",
     "traceback": [
      "\u001b[1;31m---------------------------------------------------------------------------\u001b[0m",
      "\u001b[1;31mNameError\u001b[0m                                 Traceback (most recent call last)",
      "\u001b[1;32m~\\AppData\\Local\\Temp/ipykernel_13840/784032891.py\u001b[0m in \u001b[0;36m<module>\u001b[1;34m\u001b[0m\n\u001b[0;32m      7\u001b[0m \u001b[1;32mdel\u001b[0m\u001b[1;33m(\u001b[0m\u001b[0ml1\u001b[0m\u001b[1;33m)\u001b[0m\u001b[1;33m\u001b[0m\u001b[1;33m\u001b[0m\u001b[0m\n\u001b[0;32m      8\u001b[0m \u001b[0mprint\u001b[0m\u001b[1;33m(\u001b[0m\u001b[1;34m\"After list has been deleted\"\u001b[0m\u001b[1;33m)\u001b[0m\u001b[1;33m\u001b[0m\u001b[1;33m\u001b[0m\u001b[0m\n\u001b[1;32m----> 9\u001b[1;33m \u001b[0mprint\u001b[0m\u001b[1;33m(\u001b[0m\u001b[0ml1\u001b[0m\u001b[1;33m)\u001b[0m\u001b[1;33m\u001b[0m\u001b[1;33m\u001b[0m\u001b[0m\n\u001b[0m",
      "\u001b[1;31mNameError\u001b[0m: name 'l1' is not defined"
     ]
    }
   ],
   "source": [
    "# example of deleting an element with `del`\n",
    "print(\"l1 before del:\",l1)\n",
    "# deletes first element of list\n",
    "del(l1[0])\n",
    "print(\"l1 after del:\",l1)\n",
    "# can even delete variable completely...\n",
    "del(l1)\n",
    "print(\"After list has been deleted\")\n",
    "print(l1)"
   ]
  },
  {
   "cell_type": "markdown",
   "metadata": {},
   "source": [
    "**split** method:  \n",
    "\n",
    "**`listVar = strVar.split(sep=None, maxsplit=-1)`**  \n",
    "* Converts string to a list of words, standard delimiter is a **space**  \n",
    "* **`sep`** is the delimiter, None = **default whitespaces**  \n",
    "* **`maxsplit`** is the maximum number of splits to do, -1 = **default no limit**  "
   ]
  },
  {
   "cell_type": "code",
   "execution_count": 472,
   "metadata": {},
   "outputs": [
    {
     "name": "stdout",
     "output_type": "stream",
     "text": [
      "l: Hard rock\n",
      "l type: <class 'str'>\n",
      "l after split: ['Hard', 'rock']\n",
      "l type after split: <class 'list'>\n"
     ]
    }
   ],
   "source": [
    "# example of converting string to a list\n",
    "l = \"Hard rock\"\n",
    "print(\"l:\",l)\n",
    "print(\"l type:\",type(l))\n",
    "l = l.split()\n",
    "print(\"l after split:\",l)\n",
    "print(\"l type after split:\",type(l))"
   ]
  },
  {
   "cell_type": "markdown",
   "metadata": {},
   "source": [
    "Split on a specific **delimiter** by putting argument in the brackets:  \n",
    "\n",
    "**`listVar = strVar.split(\"delimiter\")`**"
   ]
  },
  {
   "cell_type": "code",
   "execution_count": 473,
   "metadata": {},
   "outputs": [
    {
     "name": "stdout",
     "output_type": "stream",
     "text": [
      "['A', ' B', ' C', ' D']\n",
      "<class 'list'>\n"
     ]
    }
   ],
   "source": [
    "# example of splitting on commas\n",
    "li = \"A, B, C, D\"\n",
    "li = li.split(\",\")\n",
    "print(li)\n",
    "print(type(li))"
   ]
  },
  {
   "cell_type": "markdown",
   "metadata": {},
   "source": [
    "**join** method:  \n",
    "\n",
    "**`string.join(iterable)`**  \n",
    "* Creates **strings** from iterable objects  \n",
    "* Joins each **element** of an iterable (such as lists, strings, tuples, dictionaries and sets) by a **string separator**  "
   ]
  },
  {
   "cell_type": "code",
   "execution_count": 474,
   "metadata": {},
   "outputs": [
    {
     "name": "stdout",
     "output_type": "stream",
     "text": [
      "A - B - C - D\n",
      "<class 'str'>\n"
     ]
    }
   ],
   "source": [
    "# example of join method\n",
    "seperator = \" -\"\n",
    "joint = seperator.join(li)\n",
    "print(joint)\n",
    "print(type(joint))"
   ]
  },
  {
   "cell_type": "markdown",
   "metadata": {},
   "source": [
    "**copy list**:  \n",
    "\n",
    "**`listVar1 = listVar2`**  \n",
    "* **Beware** copying by reference, when one variable is set to another changing one element in a list on one variable will affect the other"
   ]
  },
  {
   "cell_type": "code",
   "execution_count": 475,
   "metadata": {},
   "outputs": [
    {
     "name": "stdout",
     "output_type": "stream",
     "text": [
      "a before element changed: [1, 2]\n",
      "b before element changed: [1, 2]\n",
      "a after change: ['a', 2]\n",
      "b after change: ['a', 2]\n"
     ]
    }
   ],
   "source": [
    "# example of copying a list by reference and changing one element in a list which affects the other:\n",
    "a=[1,2]\n",
    "b=a\n",
    "print(\"a before element changed:\",a)\n",
    "print(\"b before element changed:\",b)\n",
    "a[0]=\"a\" # just 1st element in a is changed, but affects both \"a\", and \"b\"\n",
    "print(\"a after change:\",a)\n",
    "print(\"b after change:\",b)"
   ]
  },
  {
   "cell_type": "markdown",
   "metadata": {},
   "source": [
    "**cloning list**:  \n",
    "\n",
    "**`listVar1 = listVar2[:]`**  \n",
    "* This protects against changes in one list affecting the other"
   ]
  },
  {
   "cell_type": "code",
   "execution_count": 476,
   "metadata": {},
   "outputs": [
    {
     "name": "stdout",
     "output_type": "stream",
     "text": [
      "a before any change: [1, 2]\n",
      "b before any change: [1, 2]\n",
      "a after change: [[2, 2], 2]\n",
      "b after change: [1, 2]\n"
     ]
    }
   ],
   "source": [
    "# example of cloning\n",
    "a = [1, 2]\n",
    "b = a[:]\n",
    "print(\"a before any change:\", a)\n",
    "print(\"b before any change:\", b)\n",
    "a[-2] = [2, 2] # just a changed, also example of negative indexing\n",
    "print(\"a after change:\", a)\n",
    "print(\"b after change:\", b)"
   ]
  },
  {
   "cell_type": "markdown",
   "metadata": {},
   "source": [
    "**unpacking** lists:  \n",
    "\n",
    "**`var1, var2 = listVar`**  \n",
    "* Allows elements of a list to be assigned to variables in one line of code  \n",
    "* Note there will need to be as many variables as elements or an error will occur  \n",
    "* Variables proceeded with **`*`** will be an empty list unless there are remaining elements after the manditory variables (those without **`*`** ) in which case all remaining elements will be put in this list  "
   ]
  },
  {
   "cell_type": "code",
   "execution_count": 477,
   "metadata": {},
   "outputs": [
    {
     "name": "stdout",
     "output_type": "stream",
     "text": [
      "a 2\n"
     ]
    }
   ],
   "source": [
    "# Showing elements of a list being unpacked\n",
    "x, y = [\"a\", 2]\n",
    "\n",
    "print(x, y)"
   ]
  },
  {
   "cell_type": "code",
   "execution_count": 478,
   "metadata": {},
   "outputs": [
    {
     "name": "stdout",
     "output_type": "stream",
     "text": [
      "a:  [1, 2, 3, 4] \n",
      "b:  5\n"
     ]
    }
   ],
   "source": [
    "# Leading elements unpacked to a list\n",
    "*a,b = [1,2,3,4,5]\n",
    "\n",
    "print(\"a: \", a, \"\\n\" + \"b: \", b)"
   ]
  },
  {
   "cell_type": "code",
   "execution_count": 479,
   "metadata": {},
   "outputs": [
    {
     "name": "stdout",
     "output_type": "stream",
     "text": [
      "a:  1 \n",
      "b:  [2, 3, 4]\n"
     ]
    }
   ],
   "source": [
    "# Trailing elements unpacked to a list\n",
    "a, *b = [1,2,3,4]\n",
    "\n",
    "print(\"a: \", a, \"\\n\" + \"b: \", b)"
   ]
  },
  {
   "cell_type": "code",
   "execution_count": 480,
   "metadata": {},
   "outputs": [
    {
     "name": "stdout",
     "output_type": "stream",
     "text": [
      "1 2 [] 3 4\n"
     ]
    }
   ],
   "source": [
    "# Starred variables will be filled after manditory variables, if not enough, the starred variable will be an empty list\n",
    "a, b, *c, d, e = [1,2,3,4]\n",
    "\n",
    "print(a,b,c,d,e)"
   ]
  },
  {
   "cell_type": "markdown",
   "metadata": {},
   "source": [
    "**packing** lists:  \n",
    "\n",
    "**`*listVar, = ele1, ele2......`**  \n",
    "* With exactly the same number of variables as elements will produce a **tuple** not a list  \n",
    "* To pack elements into a list, proceed variable name with a **`*`** and follow it with **`,`**  \n",
    "* Other vaiables can be added to assign other elements to variables at the same time  "
   ]
  },
  {
   "cell_type": "code",
   "execution_count": 481,
   "metadata": {},
   "outputs": [
    {
     "name": "stdout",
     "output_type": "stream",
     "text": [
      "[1, 2, 3]\n"
     ]
    }
   ],
   "source": [
    "# Showing 3 elements being packed into a list\n",
    "*a, = 1,2,3\n",
    "\n",
    "print(a)"
   ]
  },
  {
   "cell_type": "code",
   "execution_count": 482,
   "metadata": {},
   "outputs": [
    {
     "name": "stdout",
     "output_type": "stream",
     "text": [
      "1 [2, 3, 4]\n"
     ]
    }
   ],
   "source": [
    "# Showing first element being assigned to a, and the rest being packed to a list\n",
    "a, *b, = 1,2,3,4\n",
    "\n",
    "print(a,b)"
   ]
  },
  {
   "cell_type": "markdown",
   "metadata": {},
   "source": [
    "[<p style=\"text-align: right;\">**⬆ Table of Contents ⬆**</p>](#Python-Notes!)"
   ]
  },
  {
   "cell_type": "markdown",
   "metadata": {},
   "source": [
    "---"
   ]
  },
  {
   "cell_type": "markdown",
   "metadata": {},
   "source": [
    "## <center>Dictionairies;</center>"
   ]
  },
  {
   "cell_type": "markdown",
   "metadata": {},
   "source": [
    "#### **dictionaries**:   \n",
    "\n",
    "**`dictVar = {\"key1\" : val1, \"key2\" : [listVal1, listVal2], \"key3\" : (tupVal1, tupVal2)}`**  "
   ]
  },
  {
   "cell_type": "markdown",
   "metadata": {},
   "source": [
    "* Dictionaries are a type of collection\n",
    "* Uses **curley brackets**\n",
    "* Dictionaries have keys and values as lists have indexes and elements, but the keys do not need to be integers, they are usually characters \n",
    "* **\"keys\"** must be **mutable and unique**\n",
    "* **\"keys\"** can **only** be **strings, numbers or tuples**\n",
    "* **\"values\"** can be **any data type**\n",
    "* **\"values\"** can be **immutable, mutable and duplicates** \n",
    "* **\"keys\"** and values separated with a **colon**\n",
    "* \"key\"/\"value\" pairs are separated with a comma"
   ]
  },
  {
   "cell_type": "markdown",
   "metadata": {},
   "source": [
    "**lookup dictionary value** using key:  \n",
    "\n",
    "**`dictVar[key]`**  \n",
    "* This is essentially the same as indexing\n",
    "* Note this **will raise an error** if key is not present"
   ]
  },
  {
   "cell_type": "code",
   "execution_count": 483,
   "metadata": {},
   "outputs": [
    {
     "data": {
      "text/plain": [
       "'1980'"
      ]
     },
     "execution_count": 483,
     "metadata": {},
     "output_type": "execute_result"
    }
   ],
   "source": [
    "# example showing looking up a value using the key \n",
    "dict = {\"Thriller\":\"1982\",\"Back in Black\":\"1980\",\"The Dark Side of the Moon\":\"1973\",\"The Bodyguard\":\"1992\",\"Bat Out of Hell\":\"1977\",\"Their Greatest...\":\"1976\",\"Saturday Night Fever\":\"1977\",\"Rumours\":\"1977\"}\n",
    "dict[\"Back in Black\"]"
   ]
  },
  {
   "cell_type": "code",
   "execution_count": 484,
   "metadata": {},
   "outputs": [
    {
     "ename": "KeyError",
     "evalue": "'a'",
     "output_type": "error",
     "traceback": [
      "\u001b[1;31m---------------------------------------------------------------------------\u001b[0m",
      "\u001b[1;31mKeyError\u001b[0m                                  Traceback (most recent call last)",
      "\u001b[1;32m~\\AppData\\Local\\Temp/ipykernel_13840/256721380.py\u001b[0m in \u001b[0;36m<module>\u001b[1;34m\u001b[0m\n\u001b[0;32m      1\u001b[0m \u001b[1;31m# showing dictionary lookup when key is not present\u001b[0m\u001b[1;33m\u001b[0m\u001b[1;33m\u001b[0m\u001b[0m\n\u001b[0;32m      2\u001b[0m \u001b[1;33m\u001b[0m\u001b[0m\n\u001b[1;32m----> 3\u001b[1;33m \u001b[0mdict\u001b[0m\u001b[1;33m[\u001b[0m\u001b[1;34m\"a\"\u001b[0m\u001b[1;33m]\u001b[0m\u001b[1;33m\u001b[0m\u001b[1;33m\u001b[0m\u001b[0m\n\u001b[0m",
      "\u001b[1;31mKeyError\u001b[0m: 'a'"
     ]
    }
   ],
   "source": [
    "# showing dictionary lookup when key is not present  \n",
    "\n",
    "dict[\"a\"]"
   ]
  },
  {
   "cell_type": "markdown",
   "metadata": {},
   "source": [
    "**get** method:  \n",
    "\n",
    "**`dictVar.get(key)`**  \n",
    "* This will return the value of the key given  \n",
    "* Note this will **not raise an error** if key is not present  "
   ]
  },
  {
   "cell_type": "code",
   "execution_count": 494,
   "metadata": {},
   "outputs": [
    {
     "data": {
      "text/plain": [
       "2"
      ]
     },
     "execution_count": 494,
     "metadata": {},
     "output_type": "execute_result"
    }
   ],
   "source": [
    "# example of get method\n",
    "\n",
    "myDict = {\"val1\":1, \"val2\":2}\n",
    "\n",
    "myDict.get(\"val2\")"
   ]
  },
  {
   "cell_type": "code",
   "execution_count": 495,
   "metadata": {},
   "outputs": [
    {
     "name": "stdout",
     "output_type": "stream",
     "text": [
      "Note no error when key not present with get method\n"
     ]
    }
   ],
   "source": [
    "# example showing no error generated if key not present with get method\n",
    "\n",
    "myDict = {\"val1\":\"a\", \"val2\":\"b\"}\n",
    "\n",
    "myDict.get(\"val3\")\n",
    "\n",
    "print(\"Note no error when key not present with get method\")"
   ]
  },
  {
   "cell_type": "markdown",
   "metadata": {},
   "source": [
    "**add dictionary value**:  \n",
    "\n",
    "**`dictVar[newKey] = \"newVal\"`**"
   ]
  },
  {
   "cell_type": "code",
   "execution_count": 496,
   "metadata": {},
   "outputs": [
    {
     "name": "stdout",
     "output_type": "stream",
     "text": [
      "{'Thriller': '1982', 'Back in Black': '1980', 'The Dark Side of the Moon': '1973', 'The Bodyguard': '1992', 'Bat Out of Hell': '1977', 'Their Greatest...': '1976', 'Saturday Night Fever': '1977', 'Rumours': '1977', 'Graduation': '2007'}\n"
     ]
    }
   ],
   "source": [
    "# example showing adding a value to a dictionary \n",
    "dict[\"Graduation\"] = \"2007\"\n",
    "print(dict)"
   ]
  },
  {
   "cell_type": "markdown",
   "metadata": {},
   "source": [
    "**delete dictionary entry**:  \n",
    "\n",
    "**`del(dictVar[key])`**  \n",
    "* This will delete the entered key and its associated values \n",
    "* Can also delete entire dictionary by just providing dictVar with no key  "
   ]
  },
  {
   "cell_type": "code",
   "execution_count": 497,
   "metadata": {},
   "outputs": [],
   "source": [
    "# example showing deleting a dictionary key and associated value \n",
    "\n",
    "dict = {1:\"a\", 2:\"b\", 3:\"c\"}\n",
    "\n",
    "del(dict[2])"
   ]
  },
  {
   "cell_type": "code",
   "execution_count": 498,
   "metadata": {},
   "outputs": [
    {
     "name": "stdout",
     "output_type": "stream",
     "text": [
      "{1: 'a', 3: 'c'}\n"
     ]
    }
   ],
   "source": [
    "print(dict)"
   ]
  },
  {
   "cell_type": "code",
   "execution_count": 499,
   "metadata": {},
   "outputs": [
    {
     "name": "stdout",
     "output_type": "stream",
     "text": [
      "<class 'type'>\n"
     ]
    }
   ],
   "source": [
    "# example showing del can delete entire dictionary\n",
    "\n",
    "del(dict)\n",
    "\n",
    "print(type(dict))"
   ]
  },
  {
   "cell_type": "markdown",
   "metadata": {},
   "source": [
    "**clear** method:  \n",
    "\n",
    "**`dictVar.clear()`**  \n",
    "* Removes all elements from a dictionary but **does not** delete dictionary itself  "
   ]
  },
  {
   "cell_type": "code",
   "execution_count": 500,
   "metadata": {},
   "outputs": [
    {
     "name": "stdout",
     "output_type": "stream",
     "text": [
      "{}\n"
     ]
    }
   ],
   "source": [
    "# clearing a dictionary \n",
    "\n",
    "dict = {1:\"a\", 2:\"b\", 3:\"c\"}\n",
    "\n",
    "dict.clear()\n",
    "print(dict)"
   ]
  },
  {
   "cell_type": "markdown",
   "metadata": {},
   "source": [
    "**pop** method:  \n",
    "\n",
    "**`dictVar.pop(keyOfValueToBeRemoved)`**  \n",
    "* Will remove key and value from dictionary  \n",
    "* At the same time, it will **\"pop\" and return** the **value**  "
   ]
  },
  {
   "cell_type": "code",
   "execution_count": 501,
   "metadata": {},
   "outputs": [
    {
     "data": {
      "text/plain": [
       "'b'"
      ]
     },
     "execution_count": 501,
     "metadata": {},
     "output_type": "execute_result"
    }
   ],
   "source": [
    "#showing a value being \"popped\" from a dictionary\n",
    "\n",
    "dict = {1:\"a\", 2:\"b\", 3:\"c\"}\n",
    "\n",
    "dict.pop(2)"
   ]
  },
  {
   "cell_type": "code",
   "execution_count": 502,
   "metadata": {},
   "outputs": [
    {
     "name": "stdout",
     "output_type": "stream",
     "text": [
      "{1: 'a', 3: 'c'}\n"
     ]
    }
   ],
   "source": [
    "print(dict)"
   ]
  },
  {
   "cell_type": "markdown",
   "metadata": {},
   "source": [
    "**popitem** method:  \n",
    "\n",
    "**`dictVar.popitem()`**  \n",
    "* Removes **last** key and value from dictionary  \n",
    "* **Pops and returns** the key-value **pair**  "
   ]
  },
  {
   "cell_type": "code",
   "execution_count": 503,
   "metadata": {},
   "outputs": [
    {
     "data": {
      "text/plain": [
       "(3, 'c')"
      ]
     },
     "execution_count": 503,
     "metadata": {},
     "output_type": "execute_result"
    }
   ],
   "source": [
    "dict = {1:\"a\", 2:\"b\", 3:\"c\"}\n",
    "\n",
    "dict.popitem()"
   ]
  },
  {
   "cell_type": "code",
   "execution_count": 504,
   "metadata": {},
   "outputs": [
    {
     "name": "stdout",
     "output_type": "stream",
     "text": [
      "{1: 'a', 2: 'b'}\n"
     ]
    }
   ],
   "source": [
    "print(dict)"
   ]
  },
  {
   "cell_type": "markdown",
   "metadata": {},
   "source": [
    "**change value**:  \n",
    "\n",
    "**`dictVar[keyOfValueToBeChanged] = newVal`**  \n",
    "* This will replace the old value with the new value  "
   ]
  },
  {
   "cell_type": "code",
   "execution_count": 505,
   "metadata": {},
   "outputs": [
    {
     "name": "stdout",
     "output_type": "stream",
     "text": [
      "Before change:  {1: 'a', 2: 'b', 3: 'c'}\n",
      "After change:  {1: 'a', 2: 'z', 3: 'c'}\n"
     ]
    }
   ],
   "source": [
    "# example changing a dictionary value\n",
    "\n",
    "dict = {1:\"a\", 2:\"b\", 3:\"c\"}\n",
    "\n",
    "print(\"Before change: \", dict)\n",
    "\n",
    "dict[2] = \"z\"\n",
    "print(\"After change: \", dict)"
   ]
  },
  {
   "cell_type": "markdown",
   "metadata": {},
   "source": [
    "**in** command:  \n",
    "\n",
    "**`keyToSearch in dictVar`**  \n",
    "* This can be used to search a dictionary if a **\"key\"** is present or not  \n",
    "* Note this is **case sensitive**   \n",
    "* If present, it'll return True, else it'll return False  \n",
    "* Can also be used on Sets to check if element is present"
   ]
  },
  {
   "cell_type": "code",
   "execution_count": 506,
   "metadata": {},
   "outputs": [
    {
     "data": {
      "text/plain": [
       "False"
      ]
     },
     "execution_count": 506,
     "metadata": {},
     "output_type": "execute_result"
    }
   ],
   "source": [
    "# example using the \"in\" command searching to see if \"The Bodyguard\" is present\n",
    "\"The Bodyguard\" in dict"
   ]
  },
  {
   "cell_type": "markdown",
   "metadata": {},
   "source": [
    "**view all keys** method:  \n",
    "\n",
    "**`dictVar.keys()`**  \n",
    "* This will return all \"keys\" in a dictionary as a list-like object (<class 'dict_keys'>)"
   ]
  },
  {
   "cell_type": "code",
   "execution_count": 507,
   "metadata": {},
   "outputs": [
    {
     "data": {
      "text/plain": [
       "dict_keys([1, 2, 3])"
      ]
     },
     "execution_count": 507,
     "metadata": {},
     "output_type": "execute_result"
    }
   ],
   "source": [
    "# example showing all keys in dictionary \n",
    "dict.keys()"
   ]
  },
  {
   "cell_type": "markdown",
   "metadata": {},
   "source": [
    "**view all values** method:  \n",
    "\n",
    "**`dictVar.values()`**  \n",
    "* This will return all \"values\" in a dictionary as a list-like object (<class 'dict_values'>)"
   ]
  },
  {
   "cell_type": "code",
   "execution_count": 508,
   "metadata": {},
   "outputs": [
    {
     "data": {
      "text/plain": [
       "dict_values(['a', 'z', 'c'])"
      ]
     },
     "execution_count": 508,
     "metadata": {},
     "output_type": "execute_result"
    }
   ],
   "source": [
    "# example showing values method to lookup all values in a dictionary\n",
    "dict.values()"
   ]
  },
  {
   "cell_type": "markdown",
   "metadata": {},
   "source": [
    "**items()** method:  \n",
    "\n",
    "**`dictVar.items()`**  \n",
    "* Returns a **view object** containing the **key-value pairs as tuples in a list**  \n",
    "* Note this **will change as the object it references does** even when saved to a variable previously  \n",
    "* Can be used in loops and dictionary comprehension  "
   ]
  },
  {
   "cell_type": "code",
   "execution_count": 509,
   "metadata": {},
   "outputs": [
    {
     "name": "stdout",
     "output_type": "stream",
     "text": [
      "dict_items([('brand', 'Ford'), ('model', 'Mustang'), ('year', 2018)])\n"
     ]
    }
   ],
   "source": [
    "# Demonstrating items() method and that it reflexs the object it references\n",
    "\n",
    "car = {\n",
    "  \"brand\": \"Ford\",\n",
    "  \"model\": \"Mustang\",\n",
    "  \"year\": 1964\n",
    "}\n",
    "\n",
    "x = car.items()\n",
    "\n",
    "car[\"year\"] = 2018\n",
    "\n",
    "print(x)"
   ]
  },
  {
   "cell_type": "code",
   "execution_count": 510,
   "metadata": {},
   "outputs": [
    {
     "name": "stdout",
     "output_type": "stream",
     "text": [
      "dict_items([('Jan', 31), ('Feb', 28), ('Mar', 31), ('Apr', 30), ('May', 31), ('Jun', 30), ('Jul', 31), ('Aug', 31), ('Sep', 30), ('Oct', 31), ('Nov', 30), ('Dec', 31)])\n",
      "\n",
      "Jan has 31 days\n",
      "Feb has 28 days\n",
      "Mar has 31 days\n",
      "Apr has 30 days\n",
      "May has 31 days\n",
      "Jun has 30 days\n",
      "Jul has 31 days\n",
      "Aug has 31 days\n",
      "Sep has 30 days\n",
      "Oct has 31 days\n",
      "Nov has 30 days\n",
      "Dec has 31 days\n"
     ]
    }
   ],
   "source": [
    "# Using items() method in a for loop\n",
    "\n",
    "month_days={\n",
    "    \"Jan\": 31,\n",
    "    \"Feb\": 28,\n",
    "    \"Mar\": 31,\n",
    "    \"Apr\": 30,\n",
    "    \"May\": 31,\n",
    "    \"Jun\": 30,\n",
    "    \"Jul\": 31,\n",
    "    \"Aug\": 31,\n",
    "    \"Sep\": 30,\n",
    "    \"Oct\": 31,\n",
    "    \"Nov\": 30,\n",
    "    \"Dec\": 31\n",
    "    \n",
    "}\n",
    "\n",
    "print(month_days.items())\n",
    "print()\n",
    "\n",
    "#items retuns a list of pairs (key/value), similar to enumerate\n",
    "for mth,days in month_days.items(): \n",
    "    print (mth,\"has\",days,\"days\")"
   ]
  },
  {
   "cell_type": "code",
   "execution_count": 511,
   "metadata": {},
   "outputs": [
    {
     "name": "stdout",
     "output_type": "stream",
     "text": [
      "{'JAN': 31, 'MAR': 31, 'MAY': 31, 'JUL': 31, 'AUG': 31, 'OCT': 31, 'DEC': 31}\n"
     ]
    }
   ],
   "source": [
    "# example using dictionary comprehension\n",
    "\n",
    "only_31_days = { key.upper():value for key,value in month_days.items() if value==31}\n",
    "\n",
    "print(only_31_days)"
   ]
  },
  {
   "cell_type": "markdown",
   "metadata": {},
   "source": [
    "**unpacking** dictionaries:  \n",
    "\n",
    "**`var1, var2 = dictVar`**  \n",
    "* Allows **keys** of a dictionary to be assigned to variables in one line of code  \n",
    "* To unpack **values** use **`dictVar.values()`**  \n",
    "* To unpack **key-value pairs as tuples** use **`dictVar.items()`**  \n",
    "* Note there will need to be as many variables as keys or an error will occur  \n",
    "* Variables proceeded with **`*`** will be an empty list unless there are remaining keys after the manditory variables (those without **`*`** ) in which case all remaining keys will be put in this list  "
   ]
  },
  {
   "cell_type": "code",
   "execution_count": 512,
   "metadata": {},
   "outputs": [
    {
     "name": "stdout",
     "output_type": "stream",
     "text": [
      "one two\n"
     ]
    }
   ],
   "source": [
    "# Showing keys of a dictionary being unpacked\n",
    "my_dict = {'one': 1, 'two':2, 'three': 3}\n",
    "a, b, c = my_dict  # Unpack keys\n",
    "\n",
    "print(a, b)"
   ]
  },
  {
   "cell_type": "code",
   "execution_count": 513,
   "metadata": {},
   "outputs": [
    {
     "name": "stdout",
     "output_type": "stream",
     "text": [
      "one ['two', 'three']\n"
     ]
    }
   ],
   "source": [
    "# Showing keys of a dictionary being unpacked with multiple keys added to a list variable\n",
    "my_dict = {'one': 1, 'two':2, 'three': 3}\n",
    "a, *b = my_dict  # Unpack keys\n",
    "\n",
    "print(a, b)"
   ]
  },
  {
   "cell_type": "code",
   "execution_count": 514,
   "metadata": {},
   "outputs": [
    {
     "name": "stdout",
     "output_type": "stream",
     "text": [
      "1 2\n"
     ]
    }
   ],
   "source": [
    "# Values of a dictionary being unpacked\n",
    "my_dict = {'one': 1, 'two':2, 'three': 3}\n",
    "a, b, c = my_dict.values()  # Unpack values\n",
    "\n",
    "print(a, b)"
   ]
  },
  {
   "cell_type": "code",
   "execution_count": 515,
   "metadata": {},
   "outputs": [
    {
     "name": "stdout",
     "output_type": "stream",
     "text": [
      "('one', 1) ('two', 2)\n"
     ]
    }
   ],
   "source": [
    "# Key-value pairs being unpacked as tuples\n",
    "my_dict = {'one': 1, 'two':2, 'three': 3}\n",
    "a, b, c = my_dict.items()  # Unpacking key-value pairs\n",
    "\n",
    "print(a, b)"
   ]
  },
  {
   "cell_type": "markdown",
   "metadata": {},
   "source": [
    "**sorting** dictionaries in a list:  \n",
    "\n",
    "**`outListVar = sorted(listOfDictVar, key=lambda itm: itm[\"dictKeyToSortBy\"])`**  \n",
    "* Usually used to sort a tuple, list or set, but note it will **output as a list**  \n",
    "* **`Reverse`** is **optional** and set to False if not supplied  \n",
    "* **`key`** is **optional** and is usually a function when passed, this will be used on each **value in the list** to determine the resulting order, Note this can be used to access values in a list of dictionaries for sorting    \n",
    "* **`key`** will be used to determine sort order, but **original values** will be **used in output**  \n",
    "* A new variable must be assigned to save change  \n",
    "* **`sorted`** function does not work on **`int`** and **`str`** at the same time  \n",
    "* **Beware** of typecasting a sorted list back to a set as a set by definition is **unordered**   "
   ]
  },
  {
   "cell_type": "code",
   "execution_count": 516,
   "metadata": {},
   "outputs": [
    {
     "data": {
      "text/plain": [
       "[{'num': 5, 'let': 'a'}, {'num': 3, 'let': 'd'}, {'num': 2, 'let': 'z'}]"
      ]
     },
     "execution_count": 516,
     "metadata": {},
     "output_type": "execute_result"
    }
   ],
   "source": [
    "# Sorting a list of dictionaries by value using sorted and a lambda function\n",
    "dictList = [{\"num\" : 3, \"let\" : \"d\"},\n",
    "            {\"num\" : 2, \"let\" : \"z\"},\n",
    "            {\"num\" : 5, \"let\" : \"a\"}]\n",
    "\n",
    "sortBy = \"let\"\n",
    "sorted(dictList, key=lambda itm: itm[sortBy])"
   ]
  },
  {
   "cell_type": "markdown",
   "metadata": {},
   "source": [
    "[<p style=\"text-align: right;\">**⬆ Table of Contents ⬆**</p>](#Python-Notes!)"
   ]
  },
  {
   "cell_type": "markdown",
   "metadata": {},
   "source": [
    "--- "
   ]
  },
  {
   "cell_type": "markdown",
   "metadata": {},
   "source": [
    "## <center>Sets;</center>"
   ]
  },
  {
   "cell_type": "markdown",
   "metadata": {},
   "source": [
    "**sets**:  \n",
    "\n",
    "**`setVar = {\"ele1\", \"ele2\", \"ele3\"}`**  "
   ]
  },
  {
   "cell_type": "markdown",
   "metadata": {},
   "source": [
    "* Type of collection  \n",
    "* Uses **curley brackets**  \n",
    "* Sets are **unordered** meaning element positions are not recorded   \n",
    "* Sets only have **unique elements**  \n",
    "* Duplicates can be present in the creation of a set, but there will only be one unique element once the set is created"
   ]
  },
  {
   "cell_type": "markdown",
   "metadata": {},
   "source": [
    "**set** function:  \n",
    "\n",
    "**`set(listVar)`**  \n",
    "* This will convert a list to a set (typecasting)"
   ]
  },
  {
   "cell_type": "code",
   "execution_count": 517,
   "metadata": {
    "scrolled": true
   },
   "outputs": [
    {
     "name": "stdout",
     "output_type": "stream",
     "text": [
      "album_list: ['Micheal Jackson', 'Thriller', 'Thriller', '1982']\n",
      "album_list type: <class 'list'>\n",
      "album_set: {'1982', 'Thriller', 'Micheal Jackson'}\n",
      "album_set type: <class 'set'>\n"
     ]
    }
   ],
   "source": [
    "# example showing a list being converted to a set \n",
    "album_list = [\"Micheal Jackson\", \"Thriller\", \"Thriller\", \"1982\"]\n",
    "print(\"album_list:\", album_list)\n",
    "print(\"album_list type:\", type(album_list))\n",
    "album_set = set(album_list)\n",
    "print(\"album_set:\", album_set) # notice no duplicate elements\n",
    "print(\"album_set type:\", type(album_set))"
   ]
  },
  {
   "cell_type": "markdown",
   "metadata": {},
   "source": [
    "**sorted** function:  \n",
    "\n",
    "**`outListVar = sorted(setVar, key=None, reverse=False)`**  \n",
    "* Use function to sort a tuple, list or set, but note it will **output as a list**  \n",
    "* **`reverse`** is **optional** and set to False if not supplied  \n",
    "* **`key`** is **optional** and is usually a function when passed, this will be used on each **value in the list** to determine the resulting order, Note this can be used to access values in a list of dictionaries for sorting    \n",
    "* **`key`** will be used to determine sort order, but **original values** will be **used in output**  \n",
    "* A new variable must be assigned to save change  \n",
    "* **`sorted`** function does not work on **`int`** and **`str`** at the same time  \n",
    "* **Beware** of typecasting a sorted list back to a set as a set by definition is **unordered**  \n"
   ]
  },
  {
   "cell_type": "code",
   "execution_count": 518,
   "metadata": {},
   "outputs": [
    {
     "name": "stdout",
     "output_type": "stream",
     "text": [
      "{0, 1, 10, 5}\n"
     ]
    }
   ],
   "source": [
    "# sorted function\n",
    "set1 = {5,5,10,1,0}\n",
    "\n",
    "sorted(set1)\n",
    "print(set1)   # must assign variable to save change"
   ]
  },
  {
   "cell_type": "code",
   "execution_count": 519,
   "metadata": {},
   "outputs": [
    {
     "name": "stdout",
     "output_type": "stream",
     "text": [
      "{'F', 'C', 'A', 'Z'}\n",
      "setA type: <class 'set'>\n",
      "['A', 'C', 'F', 'Z']\n",
      "a_sorted type: <class 'list'>\n"
     ]
    }
   ],
   "source": [
    "# example of `sorted` function\n",
    "# note this function outputs as a list\n",
    "\n",
    "setA = {\"A\", \"Z\", \"F\", \"C\"}\n",
    "print(setA)\n",
    "print(\"setA type:\", type(setA))\n",
    "\n",
    "a_sorted = sorted(setA)\n",
    "print(a_sorted)\n",
    "print(\"a_sorted type:\", type(a_sorted))"
   ]
  },
  {
   "cell_type": "code",
   "execution_count": 520,
   "metadata": {},
   "outputs": [
    {
     "name": "stdout",
     "output_type": "stream",
     "text": [
      "[10, 5, 1, 0]\n",
      "{0, 1, 10, 5}\n"
     ]
    }
   ],
   "source": [
    "# sorted function being assigned to a new variable to save change and showing reverse parameter\n",
    "set2 = {5,5,10,1,0}\n",
    "\n",
    "a = sorted(set2,reverse=True)\n",
    "print(a)         # note outputs as a list\n",
    "\n",
    "# beware of typecasting a sorted list back to a set as a set is unordered by definition \n",
    "print(set(a))"
   ]
  },
  {
   "cell_type": "markdown",
   "metadata": {},
   "source": [
    "**update** method:  \n",
    "\n",
    "**`setToBeUpdated.update(setToGetElementsFrom)`**  \n",
    "* Updates a set by **adding** items from another set  "
   ]
  },
  {
   "cell_type": "code",
   "execution_count": 521,
   "metadata": {},
   "outputs": [
    {
     "name": "stdout",
     "output_type": "stream",
     "text": [
      "before update -\n",
      "setForUpdate:  {9, 11, 15}\n",
      "setToAdd:  {1, 5, 6}\n",
      "after update -\n",
      "setForUpdate:  {1, 5, 6, 9, 11, 15}\n"
     ]
    }
   ],
   "source": [
    "setForUpdate = {9,9,11,15}\n",
    "setToAdd = {1,1,5,6}\n",
    "\n",
    "print(\"before update -\")\n",
    "print(\"setForUpdate: \", setForUpdate)\n",
    "print(\"setToAdd: \", setToAdd)\n",
    "\n",
    "setForUpdate.update(setToAdd)\n",
    "print(\"after update -\")\n",
    "print(\"setForUpdate: \", setForUpdate)"
   ]
  },
  {
   "cell_type": "markdown",
   "metadata": {},
   "source": [
    "**add** method:  \n",
    "\n",
    "**`setVar.add(newEle)`**  \n",
    "* This will add a new element to a set  \n",
    "* If same element is added twice, nothing will happen as cannont have duplicates"
   ]
  },
  {
   "cell_type": "code",
   "execution_count": 522,
   "metadata": {},
   "outputs": [
    {
     "name": "stdout",
     "output_type": "stream",
     "text": [
      "{'AC/DC', 'Thriller', 'Back in Black'}\n",
      "After adding element: {'NSYNC', 'AC/DC', 'Thriller', 'Back in Black'}\n",
      "After adding element again: {'NSYNC', 'AC/DC', 'Thriller', 'Back in Black'}\n"
     ]
    }
   ],
   "source": [
    "# example showing adding an element to a set\n",
    "a = {\"Thriller\", \"Back in Black\", \"AC/DC\"} # set creation\n",
    "print(a)\n",
    "a.add(\"NSYNC\") # adding element to set\n",
    "print(\"After adding element:\", a)\n",
    "a.add(\"NSYNC\") # showing adding a second time doesn't affect set\n",
    "print(\"After adding element again:\", a)"
   ]
  },
  {
   "cell_type": "markdown",
   "metadata": {},
   "source": [
    "**remove** method:  \n",
    "\n",
    "**`setVar.remove(ele)`**  \n",
    "* This will remove element from a set\n",
    "* Note this **will raise an error** if element to be removed is not present"
   ]
  },
  {
   "cell_type": "code",
   "execution_count": 523,
   "metadata": {},
   "outputs": [
    {
     "name": "stdout",
     "output_type": "stream",
     "text": [
      "Set before element removal {'NSYNC', 'AC/DC', 'Thriller', 'Back in Black'}\n",
      "Set after removal {'AC/DC', 'Thriller', 'Back in Black'}\n"
     ]
    }
   ],
   "source": [
    "# example showing removal of an element from a set\n",
    "print(\"Set before element removal\", a)\n",
    "a.remove(\"NSYNC\") # removing element from set\n",
    "print(\"Set after removal\", a)"
   ]
  },
  {
   "cell_type": "code",
   "execution_count": 524,
   "metadata": {},
   "outputs": [
    {
     "ename": "KeyError",
     "evalue": "5",
     "output_type": "error",
     "traceback": [
      "\u001b[1;31m---------------------------------------------------------------------------\u001b[0m",
      "\u001b[1;31mKeyError\u001b[0m                                  Traceback (most recent call last)",
      "\u001b[1;32m~\\AppData\\Local\\Temp/ipykernel_13840/4056804799.py\u001b[0m in \u001b[0;36m<module>\u001b[1;34m\u001b[0m\n\u001b[0;32m      3\u001b[0m \u001b[0merrorSet\u001b[0m \u001b[1;33m=\u001b[0m \u001b[1;33m{\u001b[0m\u001b[1;36m1\u001b[0m\u001b[1;33m,\u001b[0m\u001b[1;36m2\u001b[0m\u001b[1;33m,\u001b[0m\u001b[1;36m3\u001b[0m\u001b[1;33m}\u001b[0m\u001b[1;33m\u001b[0m\u001b[1;33m\u001b[0m\u001b[0m\n\u001b[0;32m      4\u001b[0m \u001b[1;33m\u001b[0m\u001b[0m\n\u001b[1;32m----> 5\u001b[1;33m \u001b[0merrorSet\u001b[0m\u001b[1;33m.\u001b[0m\u001b[0mremove\u001b[0m\u001b[1;33m(\u001b[0m\u001b[1;36m5\u001b[0m\u001b[1;33m)\u001b[0m\u001b[1;33m\u001b[0m\u001b[1;33m\u001b[0m\u001b[0m\n\u001b[0m",
      "\u001b[1;31mKeyError\u001b[0m: 5"
     ]
    }
   ],
   "source": [
    "# example showing error when trying to remove item that is not present in a set\n",
    "\n",
    "errorSet = {1,2,3}\n",
    "\n",
    "errorSet.remove(5)"
   ]
  },
  {
   "cell_type": "markdown",
   "metadata": {},
   "source": [
    "**discard** method:  \n",
    "\n",
    "**`setVar.discard(ele)`**  \n",
    "* This will remove element from a set  \n",
    "* Note this will **not raise an error** if element to be removed is not present  "
   ]
  },
  {
   "cell_type": "code",
   "execution_count": 525,
   "metadata": {},
   "outputs": [
    {
     "name": "stdout",
     "output_type": "stream",
     "text": [
      "Before discard:  {1, 2, 3, 4}\n",
      "After discard:  {1, 3, 4}\n"
     ]
    }
   ],
   "source": [
    "# demonstrating discard method\n",
    "\n",
    "discardSet = {1,2,3,4}\n",
    "print(\"Before discard: \", discardSet)\n",
    "\n",
    "discardSet.discard(2)\n",
    "print(\"After discard: \", discardSet)"
   ]
  },
  {
   "cell_type": "code",
   "execution_count": 526,
   "metadata": {},
   "outputs": [
    {
     "name": "stdout",
     "output_type": "stream",
     "text": [
      "Note no error when discarding an element not present in set\n"
     ]
    }
   ],
   "source": [
    "# showing discard method when element not present\n",
    "\n",
    "discardSet2 = {1,2,3,4}\n",
    "\n",
    "discardSet2.discard(5)\n",
    "\n",
    "print(\"Note no error when discarding an element not present in set\")"
   ]
  },
  {
   "cell_type": "markdown",
   "metadata": {},
   "source": [
    "**in** command:  \n",
    "\n",
    "**`eleToSearch in setVar`**  \n",
    "* This can be used to search a set if an **element** is present or not  \n",
    "* Note this is **case sensitive**   \n",
    "* If present, it'll return True, else it'll return False\n",
    "* Can also be used on Dictionaires to check if a key is present"
   ]
  },
  {
   "cell_type": "code",
   "execution_count": 527,
   "metadata": {},
   "outputs": [
    {
     "data": {
      "text/plain": [
       "True"
      ]
     },
     "execution_count": 527,
     "metadata": {},
     "output_type": "execute_result"
    }
   ],
   "source": [
    "# example using the \"in\" command searching to see if \"AC/DC\" is present\n",
    "\"AC/DC\" in a"
   ]
  },
  {
   "cell_type": "markdown",
   "metadata": {},
   "source": [
    "1. **Union:** $C=A\\cup B$. $C$ is the set obtained by merging $A$ and $B$: $a,b \\in C$\n",
    "1. **Intersection:** $D=A\\cap B$. $D$ is the set obtained by taking the common elements from A and B. This means that if $a\\in A, b\\in B$, then $a \\in D$ if and only if $a=b$\n",
    "\n",
    "<img src=\"https://upload.wikimedia.org/wikipedia/commons/thumb/8/86/A_union_B.svg/1280px-A_union_B.svg.png\" width=\"20%\" style=\"background-color:white\">\n",
    "\n",
    "If $A$ and $B$ do not have elements in common, then they are said _disjoint_: $A\\cap B = \\emptyset$, where $\\emptyset$ denotes the empty set (the set with no elements).\n",
    "\n",
    "If $A\\cap B = A$, this means that all the elements in $A$ are contained in $B$. Therefore, if $B$ contains $A$, then it is denoted as $A\\subset B$ (or $A\\subseteq B$ depending on the case).\n",
    "\n",
    "<img src=\"https://upload.wikimedia.org/wikipedia/commons/thumb/b/b0/Venn_A_subset_B.svg/1024px-Venn_A_subset_B.svg.png\" width=\"20%\" style=\"background-color:white\">"
   ]
  },
  {
   "cell_type": "markdown",
   "metadata": {},
   "source": [
    "**intersection** method:  \n",
    "\n",
    "**`intersection_SetVar = set1_Var & set2_Var`**  \n",
    "* Uses ampersand operator **`&`**  \n",
    "* This would compare set1 and set2 elements, returning the common elements in the new variable"
   ]
  },
  {
   "cell_type": "code",
   "execution_count": 528,
   "metadata": {},
   "outputs": [
    {
     "name": "stdout",
     "output_type": "stream",
     "text": [
      "set1: {'AC/DC', 'Thriller', 'Back in Black'}\n",
      "set2: {'Back in Black', 'AC/DC', 'The Dark Side of the Moon'}\n",
      "intersection set: {'AC/DC', 'Back in Black'}\n"
     ]
    }
   ],
   "source": [
    "# example using the intersection method (ampersand)\n",
    "set1 = {\"AC/DC\", \"Back in Black\", \"Thriller\"} # define set1\n",
    "set2 = {\"AC/DC\", \"Back in Black\", \"The Dark Side of the Moon\"} # define set2, note similar elements to set1\n",
    "print(\"set1:\", set1)\n",
    "print(\"set2:\", set2)\n",
    "intersection_Set = set1 & set2 # combining common elements from set1 and set2 into new set variable\n",
    "print(\"intersection set:\", intersection_Set)"
   ]
  },
  {
   "cell_type": "markdown",
   "metadata": {},
   "source": [
    "**union** method:  \n",
    "\n",
    "**`union_setVar = set1_Var.union(set2_Var)`**  \n",
    "* This combines all of set1 and all of set2 elements into a new set variable"
   ]
  },
  {
   "cell_type": "code",
   "execution_count": 529,
   "metadata": {
    "scrolled": true
   },
   "outputs": [
    {
     "name": "stdout",
     "output_type": "stream",
     "text": [
      "{'AC/DC', 'Thriller', 'Back in Black'}\n",
      "{'Back in Black', 'AC/DC', 'The Dark Side of the Moon'}\n",
      "{'Back in Black', 'AC/DC', 'Thriller', 'The Dark Side of the Moon'}\n"
     ]
    }
   ],
   "source": [
    "# example showing union of two sets\n",
    "set3 = set1.union(set2)\n",
    "print(set1)\n",
    "print(set2)\n",
    "print(set3)"
   ]
  },
  {
   "cell_type": "markdown",
   "metadata": {},
   "source": [
    "**difference** method:  \n",
    "\n",
    "**`difference_setVar = set1_Var.difference(set2_Var)`**  \n",
    "* Elements that are **only in set1** are returned in a new set variable"
   ]
  },
  {
   "cell_type": "code",
   "execution_count": 530,
   "metadata": {},
   "outputs": [
    {
     "name": "stdout",
     "output_type": "stream",
     "text": [
      "set1: {'AC/DC', 'Thriller', 'Back in Black'}\n",
      "set2: {'Back in Black', 'AC/DC', 'The Dark Side of the Moon'}\n",
      "difference_set: {'Thriller'}\n"
     ]
    }
   ],
   "source": [
    "# example showing difference of two sets\n",
    "difference_set = set1.difference(set2)\n",
    "print(\"set1:\", set1)\n",
    "print(\"set2:\", set2)\n",
    "print(\"difference_set:\", difference_set)"
   ]
  },
  {
   "cell_type": "markdown",
   "metadata": {},
   "source": [
    "**symmetric difference** method:  \n",
    "\n",
    "**`symmetric_differenceSetVar = set1.symmetric_difference(set2)`**  \n",
    "* Returns **all** elements that **only** appear in one or other of the sets"
   ]
  },
  {
   "cell_type": "code",
   "execution_count": 531,
   "metadata": {},
   "outputs": [
    {
     "name": "stdout",
     "output_type": "stream",
     "text": [
      "set a: {'c', 'd', 'b', 'a'}\n",
      "set b: {'c', 'd', 'e'}\n",
      "set c: {}\n",
      "\n",
      "sets a/b symmetric difference: {'a', 'b', 'e'}\n",
      "sets b/a symmetric difference: {'a', 'b', 'e'}\n",
      "sets a/c symmetric difference: {'c', 'd', 'b', 'a'}\n",
      "sets b/c symmetric difference: {'c', 'd', 'e'}\n"
     ]
    }
   ],
   "source": [
    "# example showing symmetric difference of two sets  \n",
    "a = {'a', 'b', 'c', 'd'} # generate set \"a\"\n",
    "b = {'c', 'd', 'e' } # generate set \"b\"\n",
    "c = {} # generate set \"c\"\n",
    "\n",
    "print(\"set a:\", a) # print sets to view\n",
    "print(\"set b:\", b)\n",
    "print(\"set c:\", c)\n",
    "print() # print blank line for ease of viewing\n",
    "print(\"sets a/b symmetric difference:\", a.symmetric_difference(b)) # print symmetric differences\n",
    "print(\"sets b/a symmetric difference:\", b.symmetric_difference(a))\n",
    "print(\"sets a/c symmetric difference:\", a.symmetric_difference(c))\n",
    "print(\"sets b/c symmetric difference:\", b.symmetric_difference(c))"
   ]
  },
  {
   "cell_type": "markdown",
   "metadata": {},
   "source": [
    "**issubset** method:  \n",
    "\n",
    "**`set_to_check.issubset(against_this_set)`**  \n",
    "* Checks if a set is a subset and all of its elements are contained in another set  \n",
    "* Returns True or False"
   ]
  },
  {
   "cell_type": "code",
   "execution_count": 532,
   "metadata": {},
   "outputs": [
    {
     "name": "stdout",
     "output_type": "stream",
     "text": [
      "set1: {'AC/DC', 'Thriller', 'Back in Black'}\n",
      "set3: {'Back in Black', 'AC/DC', 'Thriller', 'The Dark Side of the Moon'}\n",
      "issubset: True\n"
     ]
    }
   ],
   "source": [
    "# example checking if \"set1\" `issubset` of \"set3\"\n",
    "print(\"set1:\", set1)\n",
    "print(\"set3:\", set3)\n",
    "print(\"issubset:\", set1.issubset(set3))"
   ]
  },
  {
   "cell_type": "markdown",
   "metadata": {},
   "source": [
    "**issuperset** method:  \n",
    "\n",
    "**`set_to_check.issuperset(against_this_set)`**  \n",
    "* Checks if a set is a superset and contains a minimum of all elements of another set   \n",
    "* Returns True or False"
   ]
  },
  {
   "cell_type": "code",
   "execution_count": 533,
   "metadata": {},
   "outputs": [
    {
     "name": "stdout",
     "output_type": "stream",
     "text": [
      "set3: {'Back in Black', 'AC/DC', 'Thriller', 'The Dark Side of the Moon'}\n",
      "set1: {'AC/DC', 'Thriller', 'Back in Black'}\n",
      "issuperset: True\n"
     ]
    }
   ],
   "source": [
    "# example checking if \"set3\" `issuperset` of \"set1\"\n",
    "print(\"set3:\", set3)\n",
    "print(\"set1:\", set1)\n",
    "print(\"issuperset:\", set3.issuperset(set1))"
   ]
  },
  {
   "cell_type": "markdown",
   "metadata": {},
   "source": [
    "[<p style=\"text-align: right;\">**⬆ Table of Contents ⬆**</p>](#Python-Notes!)"
   ]
  },
  {
   "cell_type": "markdown",
   "metadata": {},
   "source": [
    "---"
   ]
  },
  {
   "cell_type": "markdown",
   "metadata": {},
   "source": [
    "## <center>Branching;</center>"
   ]
  },
  {
   "cell_type": "markdown",
   "metadata": {},
   "source": [
    "* Has <ins>**OPTIONAL**</ins> **round brackets** followed by <ins>**COMPULSARY**</ins> **colon**  \n",
    "* Must use comparison operator in test argument, **Not** just regular operator e.g., **`=`**  \n",
    "* Variable to be tested must be defined **prior** to \"if statement\"  "
   ]
  },
  {
   "cell_type": "markdown",
   "metadata": {},
   "source": [
    "**if** statement:  \n",
    "\n",
    "**`if(test_argument):`**  \n",
    "    **`    when_true_do_this_and_continue (note indent)`**  \n",
    "**`when_false_continue_from_here (note no indent)`**  \n",
    "* When \"True\", **both** true and false branches will be actioned  \n",
    "* When \"False\", **only false** branch will be actioned  \n",
    "* **Must Not** indent false branch or it will be deemed part of true branch\n"
   ]
  },
  {
   "cell_type": "code",
   "execution_count": 534,
   "metadata": {},
   "outputs": [
    {
     "name": "stdout",
     "output_type": "stream",
     "text": [
      "move on\n"
     ]
    }
   ],
   "source": [
    "# example of if statement when false\n",
    "age=18\n",
    "if(age>18):\n",
    "    print(\"you can enter\")    # argument false, so this line is skipped\n",
    "print(\"move on\")              # continues from here"
   ]
  },
  {
   "cell_type": "code",
   "execution_count": 535,
   "metadata": {},
   "outputs": [
    {
     "name": "stdout",
     "output_type": "stream",
     "text": [
      "you can enter\n",
      "move on\n"
     ]
    }
   ],
   "source": [
    "# example of if statement when true\n",
    "age=19\n",
    "if(age>18):\n",
    "    print(\"you can enter\")    # argument true, so continues from here\n",
    "print(\"move on\")"
   ]
  },
  {
   "cell_type": "code",
   "execution_count": 536,
   "metadata": {},
   "outputs": [],
   "source": [
    "# example showing that when \"False\" branch not indented, it is deemed part of \"True\" branch\n",
    "age=17\n",
    "if(age>18):\n",
    "    print(\"you can enter\")     # argument false, so this line is skipped\n",
    "    print(\"move on\")           # line indented, so this line is skipped also"
   ]
  },
  {
   "cell_type": "markdown",
   "metadata": {},
   "source": [
    "**else** statement:  \n",
    "\n",
    "**`if(test_argument):`**  \n",
    "    **`    when_true_do_this_and_continue (note indent)`**   \n",
    "**`else:`**  \n",
    "    **`    when_false_do_this_and_continue (note indent)`**  \n",
    "**`then_continue_from_here (note no indent)`**  \n",
    "* Similar to \"if statement\" with the addition of the \"else\" branch  \n",
    "* \"Else\" branch will **only** be done when \"if\" argument is \"False\"  \n",
    "* Program will continue from line after \"else\" branch that is **Not** indented after completing relevant branch"
   ]
  },
  {
   "cell_type": "code",
   "execution_count": 537,
   "metadata": {},
   "outputs": [
    {
     "name": "stdout",
     "output_type": "stream",
     "text": [
      "go see Meat Loaf\n",
      "move on\n"
     ]
    }
   ],
   "source": [
    "# example of else statement\n",
    "age=18\n",
    "if(age>18):\n",
    "    print(\"you can enter\")    # argument false, so this line is skipped\n",
    "else:\n",
    "    print(\"go see Meat Loaf\")  # argument false, so continues from here, this line would be skipped if true\n",
    "print(\"move on\")"
   ]
  },
  {
   "cell_type": "markdown",
   "metadata": {},
   "source": [
    "**elif** statement:  \n",
    "\n",
    "**`if(test_argument):`**  \n",
    "    **`    when_true_do_this_and_continue (note indent)`**  \n",
    "**`elif(test_argument_when_false):`**  \n",
    "    **`    when_true_for_second_argument_do_this_and_continue (note indent)`**  \n",
    "**`else:`**  \n",
    "    **`    when_false_do_this_and_continue (note indent)`**  \n",
    "* Similar to \"else statement\" with the addition of the \"elif\" branch  \n",
    "* Continues \"if\" statement without ending code block as would happen with a further \"if\" statement\n",
    "* \"Elif\" branch will **only** be done when previous \"if\" argument and previous \"elif\" arguments in block are \"false\"   \n",
    "* Program will continue from line after \"else\" branch that is **Not** indented after completing relevant branch"
   ]
  },
  {
   "cell_type": "code",
   "execution_count": 538,
   "metadata": {},
   "outputs": [
    {
     "name": "stdout",
     "output_type": "stream",
     "text": [
      "go see Pink Floyd\n",
      "move on\n"
     ]
    }
   ],
   "source": [
    "#  example of elif statement\n",
    "age=18\n",
    "if(age>18):\n",
    "    print(\"you can enter\")       # argument false, so this line is skipped\n",
    "elif(age==18):\n",
    "    print(\"go see Pink Floyd\")   # 2nd argument true, so continues from here\n",
    "else:\n",
    "    print(\"go see Meat Loaf\")    # 2nd argument true, so this line is skipped\n",
    "print(\"move on\")                 # continues from here"
   ]
  },
  {
   "cell_type": "markdown",
   "metadata": {},
   "source": [
    "[<p style=\"text-align: right;\">**⬆ Table of Contents ⬆**</p>](#Python-Notes!)"
   ]
  },
  {
   "cell_type": "markdown",
   "metadata": {},
   "source": [
    "---"
   ]
  },
  {
   "cell_type": "markdown",
   "metadata": {},
   "source": [
    "## <center>Logic Operators;</center>"
   ]
  },
  {
   "cell_type": "markdown",
   "metadata": {},
   "source": [
    "* Takes boolean values and produces different boolean values  \n",
    "* Can be combined with branching"
   ]
  },
  {
   "cell_type": "markdown",
   "metadata": {},
   "source": [
    "**not** operator:  \n",
    "\n",
    "**`not(test_argument)`**   \n",
    "* Returns opposite boolean value to test argument"
   ]
  },
  {
   "cell_type": "code",
   "execution_count": 539,
   "metadata": {},
   "outputs": [
    {
     "data": {
      "text/plain": [
       "False"
      ]
     },
     "execution_count": 539,
     "metadata": {},
     "output_type": "execute_result"
    }
   ],
   "source": [
    "# example of \"not\" operator\n",
    "x=1\n",
    "not(x==1)"
   ]
  },
  {
   "cell_type": "code",
   "execution_count": 540,
   "metadata": {},
   "outputs": [
    {
     "name": "stdout",
     "output_type": "stream",
     "text": [
      "Album year is not 1984\n"
     ]
    }
   ],
   "source": [
    "# example of not operator combined with \"if\" statement\n",
    "album_year = 1983 # define album year\n",
    "\n",
    "if not(album_year == 1984):\n",
    "    print (\"Album year is not 1984\")"
   ]
  },
  {
   "cell_type": "markdown",
   "metadata": {},
   "source": [
    "**or** operator:  \n",
    "\n",
    "**`(test_argument_1) or (test_argument_2)`**  \n",
    "* Returns \"True\" when **either or both** arguments are **\"True\"**  \n",
    "* **Inclusive** or  "
   ]
  },
  {
   "cell_type": "code",
   "execution_count": 541,
   "metadata": {},
   "outputs": [
    {
     "data": {
      "text/plain": [
       "True"
      ]
     },
     "execution_count": 541,
     "metadata": {},
     "output_type": "execute_result"
    }
   ],
   "source": [
    "# example of \"or\" operator  \n",
    "x=3\n",
    "(x<0)or(x>2)"
   ]
  },
  {
   "cell_type": "code",
   "execution_count": 542,
   "metadata": {},
   "outputs": [
    {
     "name": "stdout",
     "output_type": "stream",
     "text": [
      "The Album was made in the 1980's \n"
     ]
    }
   ],
   "source": [
    "# example of \"or\" operator combined with \"if\" statement\n",
    "album_year = 1980 # define album year\n",
    "\n",
    "if(album_year < 1980) or (album_year > 1989):\n",
    "    print (\"Album was not made in the 1980's\")\n",
    "else:\n",
    "    print(\"The Album was made in the 1980's \")"
   ]
  },
  {
   "cell_type": "markdown",
   "metadata": {},
   "source": [
    "**and** operator:  \n",
    "\n",
    "**`(test_argument_1) and (test_argument_2)`**  \n",
    "* Returns \"True\" when both arguments are \"True\"  "
   ]
  },
  {
   "cell_type": "code",
   "execution_count": 543,
   "metadata": {},
   "outputs": [
    {
     "data": {
      "text/plain": [
       "True"
      ]
     },
     "execution_count": 543,
     "metadata": {},
     "output_type": "execute_result"
    }
   ],
   "source": [
    "# example of \"and\" operator\n",
    "x=1\n",
    "(x>0)and(x<2)"
   ]
  },
  {
   "cell_type": "code",
   "execution_count": 544,
   "metadata": {},
   "outputs": [
    {
     "name": "stdout",
     "output_type": "stream",
     "text": [
      "This album was made in the 80's\n"
     ]
    }
   ],
   "source": [
    "# example of \"and\" operator combined with \"if\" statement\n",
    "album_year = 1983 # define album year\n",
    "\n",
    "if(album_year>1979)and(album_year<1990):\n",
    "    print(\"This album was made in the 80's\")"
   ]
  },
  {
   "cell_type": "markdown",
   "metadata": {},
   "source": [
    "[<p style=\"text-align: right;\">**⬆ Table of Contents ⬆**</p>](#Python-Notes!)"
   ]
  },
  {
   "cell_type": "markdown",
   "metadata": {},
   "source": [
    "---"
   ]
  },
  {
   "cell_type": "markdown",
   "metadata": {},
   "source": [
    "## <center>Loops;</center>"
   ]
  },
  {
   "cell_type": "markdown",
   "metadata": {},
   "source": [
    "* Must include **colon**  \n",
    "* Must **indent** loop \"block\" (\"do_this\") section "
   ]
  },
  {
   "cell_type": "markdown",
   "metadata": {},
   "source": [
    "**for** loop:  \n",
    "\n",
    "**`for var in sequence :`**  \n",
    "   **`    do_this_with_var`**  \n",
    "* Used when number of times loop is to be executed is **known** or **fixed** \n",
    "* \"Var\" is a variable that is used for iterating over a \"sequence\", on every iteration it takes the next value from \"sequence\"  until the end of \"sequence\" is reached  \n",
    "* \"Var\" is **not required** to be defined prior to loop as loop will automatically increase incrementally as per sequence given  "
   ]
  },
  {
   "cell_type": "code",
   "execution_count": 545,
   "metadata": {},
   "outputs": [
    {
     "name": "stdout",
     "output_type": "stream",
     "text": [
      "0\n",
      "1\n",
      "2\n",
      "3\n",
      "4\n",
      "5\n",
      "6\n",
      "7\n"
     ]
    }
   ],
   "source": [
    "# example of for loop used to print out a sequence of numbers from 0 to 7\n",
    "\n",
    "for i in range(0, 8):\n",
    "    print(i)"
   ]
  },
  {
   "cell_type": "code",
   "execution_count": 546,
   "metadata": {},
   "outputs": [
    {
     "name": "stdout",
     "output_type": "stream",
     "text": [
      "red\n",
      "yellow\n",
      "green\n",
      "purple\n",
      "blue\n"
     ]
    }
   ],
   "source": [
    "# write a \"for\" loop that prints out the elements from the following list: squares=['red', 'yellow', 'green', 'purple', 'blue']\n",
    "\n",
    "squares = [\"red\", \"yellow\", \"green\", \"purple\", \"blue\"]\n",
    "\n",
    "for colour in squares:\n",
    "    print(colour)"
   ]
  },
  {
   "cell_type": "code",
   "execution_count": 547,
   "metadata": {},
   "outputs": [
    {
     "name": "stdout",
     "output_type": "stream",
     "text": [
      "1\n",
      "4\n",
      "16\n",
      "36\n",
      "121\n",
      "400\n"
     ]
    }
   ],
   "source": [
    "# write a program to print squares of all numbers present in a list\n",
    "\n",
    "# list of integer numbers\n",
    "numbers = [1, 2, 4, 6, 11, 20]\n",
    "\n",
    "# variable to store the square of each num temporarily\n",
    "sq = 0\n",
    "\n",
    "# iterating over the given list\n",
    "for val in numbers:\n",
    "    # calculating square of each number\n",
    "    sq = val * val\n",
    "    # displaying the squares\n",
    "    print(sq)"
   ]
  },
  {
   "cell_type": "code",
   "execution_count": 548,
   "metadata": {},
   "outputs": [
    {
     "name": "stdout",
     "output_type": "stream",
     "text": [
      "0 red\n",
      "1 yellow\n",
      "2 green\n",
      "3 purple\n",
      "4 blue\n"
     ]
    }
   ],
   "source": [
    "# Loop through the list and iterate on both index and element value\n",
    "\n",
    "colours=['red', 'yellow', 'green', 'purple', 'blue']\n",
    "\n",
    "for i, colour in enumerate(colours):\n",
    "    print(i, colour)"
   ]
  },
  {
   "cell_type": "code",
   "execution_count": 549,
   "metadata": {},
   "outputs": [
    {
     "name": "stdout",
     "output_type": "stream",
     "text": [
      "even: (8, 10, 22)\n",
      "odd: (1, 3, 15, 109)\n",
      "<class 'tuple'>\n",
      "<class 'tuple'>\n"
     ]
    }
   ],
   "source": [
    "# from any given \"list\" of numbers, create a \"for\" loop to print 2 seperate tuples\n",
    "# one of all the odd numbers \n",
    "# and one of all the even numbers\n",
    "# do NOT print any repeats of any number\n",
    "# sort each tuple\n",
    "\n",
    "\n",
    "list1 = [3,8,15,22,15,1,10,109,3]\n",
    "\n",
    "even = []\n",
    "odd = []\n",
    "\n",
    "for i in range(0,len(list1)):\n",
    "    if list1[i] % 2 == 0:\n",
    "        even.append(list1[i])\n",
    "    else:\n",
    "        odd.append(list1[i])\n",
    "\n",
    "even = set(even)\n",
    "even = tuple(sorted(even))\n",
    "\n",
    "odd = set(odd)\n",
    "odd = tuple(sorted(odd))\n",
    "\n",
    "if even != ():\n",
    "    print(\"even:\", even)\n",
    "if odd != ():\n",
    "    print(\"odd:\", odd)\n",
    "    \n",
    "print(type(even))\n",
    "print(type(odd))"
   ]
  },
  {
   "cell_type": "code",
   "execution_count": 550,
   "metadata": {},
   "outputs": [
    {
     "name": "stdout",
     "output_type": "stream",
     "text": [
      "dict_items([('Jan', 31), ('Feb', 28), ('Mar', 31), ('Apr', 30), ('May', 31), ('Jun', 30), ('Jul', 31), ('Aug', 31), ('Sep', 30), ('Oct', 31), ('Nov', 30), ('Dec', 31)])\n",
      "\n",
      "Jan has 31 days\n",
      "Feb has 28 days\n",
      "Mar has 31 days\n",
      "Apr has 30 days\n",
      "May has 31 days\n",
      "Jun has 30 days\n",
      "Jul has 31 days\n",
      "Aug has 31 days\n",
      "Sep has 30 days\n",
      "Oct has 31 days\n",
      "Nov has 30 days\n",
      "Dec has 31 days\n"
     ]
    }
   ],
   "source": [
    "# For loops with dictionaries\n",
    "\n",
    "month_days={\n",
    "    \"Jan\": 31,\n",
    "    \"Feb\": 28,\n",
    "    \"Mar\": 31,\n",
    "    \"Apr\": 30,\n",
    "    \"May\": 31,\n",
    "    \"Jun\": 30,\n",
    "    \"Jul\": 31,\n",
    "    \"Aug\": 31,\n",
    "    \"Sep\": 30,\n",
    "    \"Oct\": 31,\n",
    "    \"Nov\": 30,\n",
    "    \"Dec\": 31\n",
    "    \n",
    "}\n",
    "\n",
    "print(month_days.items())\n",
    "print()\n",
    "\n",
    "#items retuns a list of pairs (key/value), similar to enumerate\n",
    "for mth,days in month_days.items(): \n",
    "    print (mth,\"has\",days,\"days\")"
   ]
  },
  {
   "cell_type": "markdown",
   "metadata": {},
   "source": [
    "**Parallel iteration**:  \n",
    "\n",
    "**`for a,b..... in zip(iterableA, iterableB.....):`**  \n",
    "    **`    do something with a, b etc.`**  \n",
    "* **zip** can be used to **iterate** over **multiple iterables in parallel** when used with **for loop**  "
   ]
  },
  {
   "cell_type": "code",
   "execution_count": 551,
   "metadata": {},
   "outputs": [
    {
     "name": "stdout",
     "output_type": "stream",
     "text": [
      "Letter: a\n",
      "Number: 0\n",
      "Letter: b\n",
      "Number: 1\n",
      "Letter: c\n",
      "Number: 2\n"
     ]
    }
   ],
   "source": [
    "# Using zip to iterate in parallel \n",
    "\n",
    "letters = ['a', 'b', 'c']\n",
    "numbers = [0, 1, 2]\n",
    "\n",
    "for l, n in zip(letters, numbers):\n",
    "    print(f'Letter: {l}')\n",
    "    print(f'Number: {n}')"
   ]
  },
  {
   "cell_type": "markdown",
   "metadata": {},
   "source": [
    "**List comprehension**:  \n",
    "\n",
    "**`[eleToReturn for var in sequence condition]`**  \n",
    "* Keywords **for** and **in** are compulsary  \n",
    "* List comprehensions are given in **square brackets**  \n",
    "* Must assign to a new variable to save changes  \n",
    "* `sequence` is the **sequence** to **extract each variable** from, can be a range or a list etc  \n",
    "* `var` is the **variable** to test against the condition given from the sequence\n",
    "* `eleToReturn` will usually be the same as `var`....this is what will be **entered in the return list if condition is met**  "
   ]
  },
  {
   "cell_type": "code",
   "execution_count": 552,
   "metadata": {},
   "outputs": [
    {
     "name": "stdout",
     "output_type": "stream",
     "text": [
      "['apple', 'orange', 'mango']\n",
      "[0, 1, 4]\n"
     ]
    }
   ],
   "source": [
    "# some examples demonstrating list comprehension\n",
    "\n",
    "fruits = [\"apple\", \"orange\", \"lemon\", \"cherry\", \"mango\"]\n",
    "\n",
    "fruitsWithA = [ele for ele in fruits if \"a\" in ele]\n",
    "fruitsIndexWithA = [ind for ind, ele in enumerate(fruits) if \"a\" in ele]\n",
    "\n",
    "print(fruitsWithA)\n",
    "print(fruitsIndexWithA)"
   ]
  },
  {
   "cell_type": "markdown",
   "metadata": {},
   "source": [
    "**Dictionary comprehension**:  \n",
    "\n",
    "**`{elementToReturn for key,value in dictVar.items() condition}`**  \n",
    "* Similar to list comprehension, but contained in **`{}`** brackets  \n",
    "* **elementToReturn** will usually be **key:value**, or maybe just **key**  \n",
    "* **.items()** method is used to **obtain key:value pair** to carry out condition check on  \n",
    "* **value** can be used in the **condition** statement  "
   ]
  },
  {
   "cell_type": "code",
   "execution_count": 553,
   "metadata": {},
   "outputs": [
    {
     "name": "stdout",
     "output_type": "stream",
     "text": [
      "{'JAN': 31, 'MAR': 31, 'MAY': 31, 'JUL': 31, 'AUG': 31, 'OCT': 31, 'DEC': 31}\n"
     ]
    }
   ],
   "source": [
    "month_days={\"Jan\": 31,\"Feb\": 28,\"Mar\": 31,\"Apr\": 30,\"May\": 31,\"Jun\": 30,\"Jul\": 31,\"Aug\": 31,\"Sep\": 30,\"Oct\": 31,\"Nov\": 30,\"Dec\": 31}\n",
    "\n",
    "only_31_days = { key.upper():value for key,value in month_days.items() if value==31}\n",
    "\n",
    "print(only_31_days)"
   ]
  },
  {
   "cell_type": "code",
   "execution_count": 554,
   "metadata": {},
   "outputs": [
    {
     "name": "stdout",
     "output_type": "stream",
     "text": [
      "{'Dec', 'May', 'Jul', 'Aug', 'Mar', 'Jan', 'Oct'}\n"
     ]
    }
   ],
   "source": [
    "only_31_days = { key for key,value in month_days.items() if value==31}\n",
    "\n",
    "print(only_31_days)"
   ]
  },
  {
   "cell_type": "markdown",
   "metadata": {},
   "source": [
    "**while** loop:  \n",
    "\n",
    "**`while condition_statement :`**  \n",
    "    **`    do_this`**  \n",
    "* Used when number of times loop will need to be executed is **unknown**  \n",
    "* \"While\" loop will continue whilst condition_statement remains \"True\"  \n",
    "* Ensure to **define** any variable used in \"condition_statement\" **prior** to loop to \"get into loop\"  \n",
    "* Ensure to **adjust the value** of any variable used in \"condition_statement\" **within** loop, otherwise may create an infinite loop  "
   ]
  },
  {
   "cell_type": "code",
   "execution_count": 555,
   "metadata": {},
   "outputs": [
    {
     "name": "stdout",
     "output_type": "stream",
     "text": [
      "1\n",
      "4\n",
      "7\n"
     ]
    }
   ],
   "source": [
    "# example of \"while\" loop  \n",
    "\n",
    "num = 1\n",
    "# loop will repeat itself as long as num < 10 remains true  \n",
    "\n",
    "while num < 10:  \n",
    "    print(num)  \n",
    "    \n",
    "    # incrementing the value of num  \n",
    "    num = num + 3  "
   ]
  },
  {
   "cell_type": "code",
   "execution_count": 556,
   "metadata": {},
   "outputs": [
    {
     "name": "stdout",
     "output_type": "stream",
     "text": [
      "new_squares =  ['orange', 'orange']\n"
     ]
    }
   ],
   "source": [
    "# Write a while loop to copy the strings 'orange' of the list \"squares\" to the list \"new_squares\"  \n",
    "# Stop and exit the loop if the value on the list is NOT 'orange'\n",
    "\n",
    "squares = ['orange', 'orange', 'purple', 'blue ', 'orange']\n",
    "\n",
    "new_squares = []\n",
    "i = 0\n",
    "colour = squares[i]\n",
    "\n",
    "while colour == \"orange\":\n",
    "    new_squares.append(colour)\n",
    "    i = i + 1\n",
    "    colour = squares[i]\n",
    "    \n",
    "    \n",
    "print(\"new_squares = \", new_squares)"
   ]
  },
  {
   "cell_type": "code",
   "execution_count": 557,
   "metadata": {},
   "outputs": [
    {
     "name": "stdout",
     "output_type": "stream",
     "text": [
      "0\n",
      "1\n",
      "2\n",
      "fizz\n",
      "4\n",
      "buzz\n",
      "fizz\n",
      "7\n",
      "8\n",
      "fizz\n",
      "buzz\n",
      "11\n",
      "fizz\n",
      "13\n",
      "14\n",
      "fizzbuzz\n",
      "16\n",
      "17\n",
      "fizz\n",
      "19\n",
      "buzz\n",
      "fizz\n",
      "22\n",
      "23\n",
      "fizz\n",
      "buzz\n",
      "26\n",
      "fizz\n",
      "28\n",
      "29\n",
      "fizzbuzz\n"
     ]
    }
   ],
   "source": [
    "# for any given number, create a \"while\" loop to print out every number from \"0\" upto and including the given number \n",
    "# where the number is divisible by \"3\", print \"fizz\"\n",
    "# where the number is divisible by \"5\", print \"buzz\"\n",
    "# where the number is divisible by both \"3\" AND \"5\", print \"fizzbuzz\"\n",
    "\n",
    "user = 30\n",
    "i = 0\n",
    "\n",
    "while i <= user:\n",
    "    result = \"\"\n",
    "    \n",
    "    if i % 3 == 0:\n",
    "        result = \"fizz\"\n",
    "    if i % 5 == 0:\n",
    "        result = (result + \"buzz\")\n",
    "    if i == 0:\n",
    "        print(i)\n",
    "    elif len(result) >1:\n",
    "        print(result)\n",
    "    else:\n",
    "        print(i)\n",
    "    i += 1"
   ]
  },
  {
   "cell_type": "code",
   "execution_count": 558,
   "metadata": {},
   "outputs": [
    {
     "name": "stdout",
     "output_type": "stream",
     "text": [
      "even: [10, 64, 88]\n",
      "odd: [1, 3, 5, 7, 9]\n",
      "<class 'tuple'>\n",
      "<class 'tuple'>\n"
     ]
    }
   ],
   "source": [
    "# from any given \"list\" of numbers, create a \"while\" loop to print 2 seperate tuples\n",
    "# one of all the odd numbers \n",
    "# and one of all the even numbers\n",
    "# do NOT print any repeats of any number\n",
    "# sort each tuple\n",
    "\n",
    "list1 = [1,3,5,7,9, 88, 64, 10, 10]\n",
    "i=0\n",
    "even = []\n",
    "odd = []\n",
    "\n",
    "while i < (len(list1)):\n",
    "    if list1[i] % 2 == 0:\n",
    "        even.append(list1[i])\n",
    "    else:\n",
    "        odd.append(list1[i])\n",
    "    i += 1\n",
    "    \n",
    "even = set(even)\n",
    "even = tuple(sorted(even))\n",
    "\n",
    "odd = set(odd)\n",
    "odd = tuple(sorted(odd))\n",
    "\n",
    "if even != ():\n",
    "    print(\"even:\", sorted(even))\n",
    "if odd != ():\n",
    "    print(\"odd:\", sorted(odd))\n",
    "    \n",
    "print(type(even))\n",
    "print(type(odd))"
   ]
  },
  {
   "cell_type": "markdown",
   "metadata": {},
   "source": [
    "**break** statement:\n",
    "\n",
    "**`for var in sequence:`**  \n",
    "    **`    if (test argument):`**  \n",
    "    **`        break  (exit loop when condition is True)`**  \n",
    "    **`    else:`**  \n",
    "    **`        do_this`**  \n",
    "* Break statement in Python is used to **bring the control out of the loop** when some external condition is triggered  \n",
    "* Statement is put inside the loop body (generally after if condition)"
   ]
  },
  {
   "cell_type": "code",
   "execution_count": 559,
   "metadata": {},
   "outputs": [
    {
     "name": "stdout",
     "output_type": "stream",
     "text": [
      "Number is 0\n",
      "Number is 1\n",
      "Number is 2\n",
      "Number is 3\n",
      "Number is 4\n",
      "Out of loop\n"
     ]
    }
   ],
   "source": [
    "# example of break statement where \"print\" line is after break\n",
    "\n",
    "number = 0\n",
    "\n",
    "for number in range(10):\n",
    "    if number == 5:\n",
    "        break    # breaks here before integer 5 is printed\n",
    "\n",
    "    print('Number is ' + str(number))\n",
    "\n",
    "print('Out of loop')"
   ]
  },
  {
   "cell_type": "code",
   "execution_count": 560,
   "metadata": {},
   "outputs": [
    {
     "name": "stdout",
     "output_type": "stream",
     "text": [
      "H\n",
      "e\n",
      "l\n",
      "l\n",
      "o\n",
      "Out of for loop\n",
      "\n"
     ]
    }
   ],
   "source": [
    "# example of break statement where \"print\" line is before break\n",
    "\n",
    "s = 'Hello World'\n",
    "\n",
    "for letter in s: \n",
    "  \n",
    "    print(letter) \n",
    "    \n",
    "    if letter == 'o' or letter == 'r': \n",
    "        break   # break the loop as soon it sees 'o' or 'r' but after it has printed that string\n",
    "  \n",
    "print(\"Out of for loop\") \n",
    "print() "
   ]
  },
  {
   "cell_type": "markdown",
   "metadata": {},
   "source": [
    "**continue** statement:  \n",
    "\n",
    "**`for var in sequence:`**  \n",
    "    **`    if (test argument):`**  \n",
    "    **`        continue (do next iteration when condition is True)`**  \n",
    "    **`    else:`**  \n",
    "    **`        do_this`**  \n",
    "* Continue statement is opposite to that of break statement, instead of terminating the loop, it forces the program to execute the next iteration of the loop  \n",
    "* Statement is put inside the loop body (generally after if condition)  "
   ]
  },
  {
   "cell_type": "code",
   "execution_count": 561,
   "metadata": {},
   "outputs": [
    {
     "name": "stdout",
     "output_type": "stream",
     "text": [
      "1 2 3 4 5 7 8 9 10 "
     ]
    }
   ],
   "source": [
    "# write a program which prints the numbers from 1 to 10, but not 6\n",
    "# do this using loop and only one loop is allowed to be used\n",
    "\n",
    "for i in range(1, 11): \n",
    "  # If i is equals to 6, continue to next iteration without printing  \n",
    "    \n",
    "    if i == 6: \n",
    "        continue\n",
    "    else: \n",
    "        # otherwise print the value of i \n",
    "        \n",
    "        print(i, end = \" \") "
   ]
  },
  {
   "cell_type": "markdown",
   "metadata": {},
   "source": [
    "**pass** statement:\n",
    "\n",
    "**`for var in sequence:`**  \n",
    "    **`    pass (do nothing and continue program)`**  \n",
    "* Generally used as a **placeholder for future code**  \n",
    "* When the pass statement is executed, nothing happens, but you avoid getting an error when empty code is not allowed  \n",
    "* Difference between pass and comment is that comment is ignored by the interpreter whereas pass is not ignored  \n",
    "* Empty code is not allowed in **loops, function definitions, class definitions, or in if statements**   "
   ]
  },
  {
   "cell_type": "code",
   "execution_count": 562,
   "metadata": {},
   "outputs": [],
   "source": [
    "# example where pass can be used as a placeholder and code can be added later\n",
    "\n",
    "n = 10\n",
    "for i in range(n): \n",
    "    \n",
    "    pass     # program sees pass statement and does nothing"
   ]
  },
  {
   "cell_type": "code",
   "execution_count": 563,
   "metadata": {},
   "outputs": [
    {
     "name": "stdout",
     "output_type": "stream",
     "text": [
      "b\n",
      "c\n",
      "d\n"
     ]
    }
   ],
   "source": [
    "# example where pass statement gets executed when the condition is true \n",
    "\n",
    "li =['a', 'b', 'c', 'd'] \n",
    "  \n",
    "for i in li: \n",
    "    if(i =='a'): \n",
    "        pass \n",
    "    else: \n",
    "        print(i)"
   ]
  },
  {
   "cell_type": "markdown",
   "metadata": {},
   "source": [
    "[<p style=\"text-align: right;\">**⬆ Table of Contents ⬆**</p>](#Python-Notes!)"
   ]
  },
  {
   "cell_type": "markdown",
   "metadata": {},
   "source": [
    "---"
   ]
  },
  {
   "cell_type": "markdown",
   "metadata": {},
   "source": [
    "## <center>Exception Handling;</center>"
   ]
  },
  {
   "cell_type": "markdown",
   "metadata": {},
   "source": [
    "**exceptions:**  \n",
    "* Exceptions are a Python object that represents an **error**  \n",
    "* When a Python script raises an exception, it must either **handle the exception immediately otherwise it terminates and quits**  "
   ]
  },
  {
   "cell_type": "code",
   "execution_count": 564,
   "metadata": {},
   "outputs": [
    {
     "ename": "ZeroDivisionError",
     "evalue": "division by zero",
     "output_type": "error",
     "traceback": [
      "\u001b[1;31m---------------------------------------------------------------------------\u001b[0m",
      "\u001b[1;31mZeroDivisionError\u001b[0m                         Traceback (most recent call last)",
      "\u001b[1;32m~\\AppData\\Local\\Temp/ipykernel_13840/3703746326.py\u001b[0m in \u001b[0;36m<module>\u001b[1;34m\u001b[0m\n\u001b[0;32m      1\u001b[0m \u001b[1;31m# example of a \"ZeroDivisionError\" exception\u001b[0m\u001b[1;33m\u001b[0m\u001b[1;33m\u001b[0m\u001b[0m\n\u001b[0;32m      2\u001b[0m \u001b[1;33m\u001b[0m\u001b[0m\n\u001b[1;32m----> 3\u001b[1;33m \u001b[1;36m1\u001b[0m\u001b[1;33m/\u001b[0m\u001b[1;36m0\u001b[0m\u001b[1;33m\u001b[0m\u001b[1;33m\u001b[0m\u001b[0m\n\u001b[0m",
      "\u001b[1;31mZeroDivisionError\u001b[0m: division by zero"
     ]
    }
   ],
   "source": [
    "# example of a \"ZeroDivisionError\" exception\n",
    "\n",
    "1/0"
   ]
  },
  {
   "cell_type": "code",
   "execution_count": null,
   "metadata": {},
   "outputs": [],
   "source": [
    "# example of a \"NameError\" exception\n",
    "\n",
    "y = a + 1"
   ]
  },
  {
   "cell_type": "markdown",
   "metadata": {},
   "source": [
    "[**List of Built-in Exceptions**](https://docs.python.org/3/library/exceptions)"
   ]
  },
  {
   "cell_type": "markdown",
   "metadata": {},
   "source": [
    "**try except (else finally)** statement:  \n",
    "\n",
    "**`# potential code before try catch`**\n",
    "\n",
    "**`try:`**  \n",
    "    **`    try_this`**  \n",
    "**`except exception_name:`**  \n",
    "    **`    run_this_if_named_exception_occurs`**  \n",
    "**`except (another_exception_name, a_further_exception_name):`**  \n",
    "    **`    run_this_if_any_named_exception_occurs`**  \n",
    "**`except:`**  \n",
    "    **`    run_this_if_any_other_exception_occurs`**  \n",
    "**`else:`**  \n",
    "    **`    run_this_if_no_exceptions`**  \n",
    "**`finally:`**  \n",
    "    **`    run_this_regardless_of_exceptions`**  \n",
    "* All **colons** are **manditory**  \n",
    "* Using **\"except\"** statement **without specifying exceptions** can be **bad practice** as will catch all error without notifying programmer of root cause of problems that may occur  \n",
    "* **Multiple exception names** can be entered into one except branch in **round brackets seperated by comma**\n",
    "* **Else** branch will run **if no errors** are encountered   \n",
    "* **Finally** branch will run **regardless of errors** encountered  \n",
    "* Can have 1 or many except branchs, if including except branch without specifying exceptions, this must be **last of the except branchs**  \n",
    "* **else** branch is **optional**  \n",
    "* **finally** branch is **optional**  \n",
    "* Can use further indented \"try\" branches instead of \"else\" branch, **however is not good practice**"
   ]
  },
  {
   "cell_type": "code",
   "execution_count": null,
   "metadata": {},
   "outputs": [],
   "source": [
    "# example of try except statement\n",
    "\n",
    "# using \"except\" without naming specific errors can be bad practice as will catch \n",
    "# all errors without notifying programmer of root cause of problems that may occur\n",
    "\n",
    "try:      # getting input from user\n",
    "    a=int(input(\"y = 5 / a\\nInput value for 'a'\\n\\nTry running using:\\n 1. A letter\\n 2. Zero\\n 3. Another number\\n\\n\"))\n",
    "    y = 5/a\n",
    "except ValueError:       # will run this block if anything except a number was input\n",
    "    print(\"A number was not entered\")\n",
    "except:                  # will run this block if an error occurs that is not a ValueError, can be bad practice!!\n",
    "    print(\"Cannot devide by zero\")\n",
    "else:                    # will run this block if no error was encountered\n",
    "    print(\"y =\",y)\n",
    "finally:                 # will run this block regardless of errors encountered\n",
    "    print(\"Program complete\")"
   ]
  },
  {
   "cell_type": "code",
   "execution_count": null,
   "metadata": {},
   "outputs": [],
   "source": [
    "# same example as above of try except statement\n",
    "# but now catching ONLY specified errors\n",
    "\n",
    "try:      # getting input from user\n",
    "    a=int(input(\"y = 5 / a\\nInput value for 'a'\\n\\nTry running using:\\n 1. A letter\\n 2. Zero\\n 3. Another number\\n\\n\"))\n",
    "    y = 5/a\n",
    "except (ValueError,ZeroDivisionError):       # will run this block if specified errors occur\n",
    "    print(\"A valid number was not entered\")\n",
    "else:                    # will run this block if no error was encountered\n",
    "    print(\"y =\",y)\n",
    "finally:                 # will run this block regardless of errors encountered\n",
    "    print(\"Program complete\")"
   ]
  },
  {
   "cell_type": "code",
   "execution_count": null,
   "metadata": {},
   "outputs": [],
   "source": [
    "# same example as above\n",
    "# but now with 2nd \"try\" branch instead of \"else\" branch\n",
    "# NOTE this is not best practice due to errors potentially not being caught in 2nd branch\n",
    "# or multiple finally branches\n",
    "\n",
    "try:      # getting input from user\n",
    "    a=int(input(\"y = 5 / a\\nInput value for 'a'\\n\\nTry running using:\\n 1. A letter\\n 2. Zero\\n 3. Another number\\n\\n\"))\n",
    "    y = 5/a\n",
    "    try:                    # will run this block if no error was encountered\n",
    "        print(\"y =\",y)\n",
    "    finally:                 # will run this block regardless of errors encountered in 2nd try branch\n",
    "        print(\"Program complete\")\n",
    "except (ValueError,ZeroDivisionError):       # will run this block if specified errors occur\n",
    "    print(\"A valid number was not entered\")\n",
    "finally:\n",
    "    print(\"This is to demonstrate multiple finally branches\")"
   ]
  },
  {
   "cell_type": "markdown",
   "metadata": {},
   "source": [
    "**raise** exception:  \n",
    "\n",
    "**`raise Exception_Name (\"info on why exception raised\")`**  \n",
    "* **Bad practice** to handle all Exceptions with a **single statement, better to be specific**  \n",
    "* Can manually raise or cause an exception to be thrown with keyword **\"raise\"**  \n",
    "* \"exception_name\" should be a built in exception  \n",
    "* **Optional** information can be provided in **round brackets** but ideally should provide more information on why exception was raised  \n",
    "* **Different errors** can be raised, note has **capital letter** at beginning. These include (but not limited to):  \n",
    "    * **ValueError** \n",
    "    * **TypeError**  \n",
    "    * **Exception**  "
   ]
  },
  {
   "cell_type": "code",
   "execution_count": null,
   "metadata": {},
   "outputs": [],
   "source": [
    "# example of raising an exception\n",
    "\n",
    "x = 9\n",
    "\n",
    "if x < 10:               # condition to raise exception\n",
    "    raise ValueError(\"X should not be less than 10\")         "
   ]
  },
  {
   "cell_type": "code",
   "execution_count": null,
   "metadata": {},
   "outputs": [],
   "source": [
    "raise TypeError(\"This is a type error\")"
   ]
  },
  {
   "cell_type": "code",
   "execution_count": null,
   "metadata": {},
   "outputs": [],
   "source": [
    "# should be used as the last case if not wanting any errors, but still bad practice to use\n",
    "# Catches all Exceptions\n",
    "\n",
    "raise Exception(\"This is an exception\")"
   ]
  },
  {
   "cell_type": "markdown",
   "metadata": {},
   "source": [
    "**Create custom exception**:  \n",
    "\n",
    "**`class ExceptionName(Exception):`**       # inherits from Exception  \n",
    "$\\;\\;\\;\\;$**`def __init__(self,*args,**kwargs):`**  \n",
    "$\\;\\;\\;\\;\\;\\;\\;\\;$**`super().__init__(*args,**kwargs)`**  \n",
    "* Creates custom Exception that can be raised the same as any other  \n",
    "* Only benefits of having your own exception is to make code more readable and to write for aimed error handling  "
   ]
  },
  {
   "cell_type": "code",
   "execution_count": null,
   "metadata": {},
   "outputs": [],
   "source": [
    "# Creating custom Exception\n",
    "\n",
    "import numpy as np\n",
    "\n",
    "class MyRandomException(Exception):\n",
    "    def __init__(self,*args,**kwargs):\n",
    "        super().__init__(*args,**kwargs)\n",
    "        \n",
    "while(True):\n",
    "    r = np.random.randint(0,10)\n",
    "    print(r)\n",
    "    if (r==5):\n",
    "        raise MyRandomException('A weird number has been generated randomly')"
   ]
  },
  {
   "cell_type": "markdown",
   "metadata": {},
   "source": [
    "**Traceback**:  \n",
    "\n",
    "A python module that provides a standard interface to extract, format and print stack traces of a python program  \n",
    "When it prints the stack trace it exactly mimics the behaviour of a python interpreter  \n",
    "Useful when you want to print the stack trace at any step, usually seen when an exception occurs  \n",
    "Since a traceback gives all the information regarding the exception it becomes easier to track one and fix it  \n",
    "\n",
    "**`import traceback`**  \n",
    "\n",
    "**`try:`**  \n",
    "$\\;\\;\\;\\;$**`some code`**  \n",
    "**`except:`**  \n",
    "$\\;\\;\\;\\;$**` traceback.print_exc()`**  "
   ]
  },
  {
   "cell_type": "code",
   "execution_count": null,
   "metadata": {},
   "outputs": [],
   "source": [
    "import traceback\n",
    "  \n",
    "# declaring array\n",
    "A = [1, 2, 3, 4]\n",
    "  \n",
    "try:\n",
    "    value = A[5]\n",
    "      \n",
    "except:\n",
    "    # printing stack trace\n",
    "    traceback.print_exc()"
   ]
  },
  {
   "cell_type": "code",
   "execution_count": null,
   "metadata": {},
   "outputs": [],
   "source": [
    "import traceback\n",
    "\n",
    "try:\n",
    "    while(True):\n",
    "        r = np.random.randint(0,10)\n",
    "        print(r)\n",
    "        if (r==5):\n",
    "            raise RandomException('A weird number has been generated randomly')\n",
    "except RandomException as e:\n",
    "    print(e)\n",
    "    print('The error was somewhere here:')\n",
    "    traceback.print_exc()"
   ]
  },
  {
   "cell_type": "markdown",
   "metadata": {},
   "source": [
    "**assert**:  \n",
    "\n",
    "**`try:`**  \n",
    "$\\;\\;\\;\\;$**`assert condition, errorMessage`**  \n",
    "**`except AssertionError as ae:`**  \n",
    "$\\;\\;\\;\\;$**`other code`**  \n",
    "$\\;\\;\\;\\;$**`raise ae`**  \n",
    "* **Keyword** **`assert`** lets you test if a condition in your code returns True, if not, the program will raise an AssertionError  \n",
    "* assert **does nothing when** condition returns **True**  \n",
    "* assert can be done outside of a try, except, but shown here to show calling AssertionError created  "
   ]
  },
  {
   "cell_type": "code",
   "execution_count": null,
   "metadata": {},
   "outputs": [],
   "source": [
    "try:\n",
    "    assert False, \"my error message\"\n",
    "except AssertionError as ae:\n",
    "    print(\"some other code\")\n",
    "    raise ae"
   ]
  },
  {
   "cell_type": "markdown",
   "metadata": {},
   "source": [
    "[<p style=\"text-align: right;\">**⬆ Table of Contents ⬆**</p>](#Python-Notes!)"
   ]
  },
  {
   "cell_type": "markdown",
   "metadata": {},
   "source": [
    "---"
   ]
  },
  {
   "cell_type": "markdown",
   "metadata": {},
   "source": [
    "## <center> Useful Built-in Functions;</center>"
   ]
  },
  {
   "cell_type": "markdown",
   "metadata": {},
   "source": [
    "**range** function:  \n",
    "\n",
    "**`range(start,stop,step)`**  \n",
    "* Represents a range of immutable sequence of numbers  \n",
    "* \"stop\" is **required**, will stop at and **NOT** include that value   \n",
    "* \"start\" is **NOT required**, set to \"0\" if not given  \n",
    "* \"step\" is **NOT required**, set to \"1\" if not given  \n",
    "* Will print as a **\"range\"** unless typecasted  "
   ]
  },
  {
   "cell_type": "code",
   "execution_count": 565,
   "metadata": {},
   "outputs": [
    {
     "data": {
      "text/plain": [
       "range(0, 6)"
      ]
     },
     "execution_count": 565,
     "metadata": {},
     "output_type": "execute_result"
    }
   ],
   "source": [
    "# example showning how a range prints a range unless typecasted\n",
    "\n",
    "range(6)"
   ]
  },
  {
   "cell_type": "code",
   "execution_count": 566,
   "metadata": {},
   "outputs": [
    {
     "data": {
      "text/plain": [
       "[0, 1, 2, 3, 4, 5]"
      ]
     },
     "execution_count": 566,
     "metadata": {},
     "output_type": "execute_result"
    }
   ],
   "source": [
    "# example showing how a range does not include the \"stop\" value\n",
    "list(range(0,6))"
   ]
  },
  {
   "cell_type": "code",
   "execution_count": 567,
   "metadata": {},
   "outputs": [
    {
     "name": "stdout",
     "output_type": "stream",
     "text": [
      "[10, 12, 14, 16, 18]\n"
     ]
    }
   ],
   "source": [
    "# example showing start and step values\n",
    "print(list(range(10,20,2)))"
   ]
  },
  {
   "cell_type": "code",
   "execution_count": 568,
   "metadata": {},
   "outputs": [
    {
     "name": "stdout",
     "output_type": "stream",
     "text": [
      "[-20, -22, -24, -26, -28]\n"
     ]
    }
   ],
   "source": [
    "# another example showing start and step values with negative numbers\n",
    "print(list(range(-20,-30,-2)))"
   ]
  },
  {
   "cell_type": "markdown",
   "metadata": {},
   "source": [
    "**enumerate** function: \n",
    "\n",
    "**`enumerate(iterable, start=0)`**  \n",
    "* Outputs **(index value + start value)** with each element stored as a tuple, whilst the entire object is stored as an **enumerate** list  \n",
    "* \"iterable\" can be any object that supports iteration  \n",
    "* \"start\" is **NOT** required, it is the value from which the counter is to be started, by default it is \"0\"   "
   ]
  },
  {
   "cell_type": "code",
   "execution_count": 569,
   "metadata": {},
   "outputs": [
    {
     "name": "stdout",
     "output_type": "stream",
     "text": [
      "Return type: <class 'enumerate'>\n",
      "[(0, 'eat'), (1, 'sleep'), (2, 'repeat')]\n",
      "[(2, 'g'), (3, 'e'), (4, 'e'), (5, 'k')]\n"
     ]
    }
   ],
   "source": [
    "list1 = [\"eat\",\"sleep\",\"repeat\"] \n",
    "string1 = \"geek\"\n",
    "\n",
    "# creating enumerate objects \n",
    "obj1 = enumerate(list1) \n",
    "obj2 = enumerate(string1) \n",
    "\n",
    "print(\"Return type:\",type(obj1)) \n",
    "print(list(enumerate(list1)))\n",
    "  \n",
    "# changing start index to 2 from 0 \n",
    "print(list(enumerate(string1,2)))"
   ]
  },
  {
   "cell_type": "code",
   "execution_count": 570,
   "metadata": {},
   "outputs": [
    {
     "name": "stdout",
     "output_type": "stream",
     "text": [
      "list1 type: <class 'list'>\n",
      "\n",
      "(0, 'eat')\n",
      "enumerate ele type: <class 'tuple'>\n",
      "(1, 'sleep')\n",
      "enumerate ele type: <class 'tuple'>\n",
      "(2, 'repeat')\n",
      "enumerate ele type: <class 'tuple'>\n",
      "\n",
      "100 eat\n",
      "count type: <class 'int'>\n",
      "ele type: <class 'str'>\n",
      "101 sleep\n",
      "count type: <class 'int'>\n",
      "ele type: <class 'str'>\n",
      "102 repeat\n",
      "count type: <class 'int'>\n",
      "ele type: <class 'str'>\n"
     ]
    }
   ],
   "source": [
    "# Python program to illustrate \n",
    "# enumerate function in loops \n",
    "list1 = [\"eat\",\"sleep\",\"repeat\"] \n",
    "print(\"list1 type:\", type(list1)) \n",
    "\n",
    "print(\"\")\n",
    "\n",
    "# printing the tuples in object directly \n",
    "for ele in enumerate(list1): \n",
    "    print(ele)\n",
    "    print(\"enumerate ele type:\", type(ele))\n",
    "\n",
    "print(\"\")\n",
    "    \n",
    "# changing index and printing separately \n",
    "for count,ele in enumerate(list1,100): \n",
    "    print(count,ele)\n",
    "    print(\"count type:\", type(count))\n",
    "    print(\"ele type:\", type(ele))"
   ]
  },
  {
   "cell_type": "markdown",
   "metadata": {},
   "source": [
    "**count** method:  \n",
    "\n",
    "**`var.count(object)`**  \n",
    "* Counts number of times \"object\" occurs in \"var\"  "
   ]
  },
  {
   "cell_type": "code",
   "execution_count": 571,
   "metadata": {},
   "outputs": [
    {
     "name": "stdout",
     "output_type": "stream",
     "text": [
      "3\n"
     ]
    }
   ],
   "source": [
    "# count number of times \"1\" occurs in tuple\n",
    "\n",
    "tup1=(1,2,1,4,6,1)\n",
    "\n",
    "print(tup1.count(1))"
   ]
  },
  {
   "cell_type": "markdown",
   "metadata": {},
   "source": [
    "**sum** function:  \n",
    "\n",
    "**`sum(iterable, start=0)`**  \n",
    "* Sum of elements in \"iterable\"  \n",
    "* Starts at **value** given for start, if no value given, defaults to \"0\"  "
   ]
  },
  {
   "cell_type": "code",
   "execution_count": 572,
   "metadata": {},
   "outputs": [
    {
     "name": "stdout",
     "output_type": "stream",
     "text": [
      "sum(list1): 15\n",
      "sum(list1[1:3]): 5\n",
      "sum(list1,2): 17\n",
      "sum(list1,list1[3]): 19\n"
     ]
    }
   ],
   "source": [
    "list1 = [1,2,3,4,5]\n",
    "\n",
    "print(\"sum(list1):\", sum(list1)) # sum of list1\n",
    "print(\"sum(list1[1:3]):\", sum(list1[1:3])) # sum of list1 elements 1:3\n",
    "print(\"sum(list1,2):\", sum(list1,2)) # sum of list1, starting at value 2\n",
    "print(\"sum(list1,list1[3]):\", sum(list1,list1[3])) # sum of list1, starting at value of element index 3 (4)"
   ]
  },
  {
   "cell_type": "markdown",
   "metadata": {},
   "source": [
    "**isnumeric( )** function:  \n",
    "\n",
    "**`var.isnumeric()`**  \n",
    "* Checks variable to see if it is a number and returns a boolean  \n",
    "* Useful for checking input before converting to an int  "
   ]
  },
  {
   "cell_type": "code",
   "execution_count": 573,
   "metadata": {},
   "outputs": [
    {
     "data": {
      "text/plain": [
       "True"
      ]
     },
     "execution_count": 573,
     "metadata": {},
     "output_type": "execute_result"
    }
   ],
   "source": [
    "# example of isnumeric() function\n",
    "\n",
    "\"6\".isnumeric()"
   ]
  },
  {
   "cell_type": "code",
   "execution_count": 574,
   "metadata": {},
   "outputs": [
    {
     "data": {
      "text/plain": [
       "False"
      ]
     },
     "execution_count": 574,
     "metadata": {},
     "output_type": "execute_result"
    }
   ],
   "source": [
    "# isnumeric() function on a variable\n",
    "\n",
    "var = \"hello\"\n",
    "\n",
    "var.isnumeric()"
   ]
  },
  {
   "cell_type": "markdown",
   "metadata": {},
   "source": [
    "**isinstance( )** function:  \n",
    "\n",
    "**`isinstance(var, typeToCheckFor)`**  \n",
    "* Checks given variable if it is of type given, returns **boolean**  \n",
    "* Considers **subclasses** too unlike type(x) == .....  "
   ]
  },
  {
   "cell_type": "code",
   "execution_count": 575,
   "metadata": {},
   "outputs": [
    {
     "data": {
      "text/plain": [
       "True"
      ]
     },
     "execution_count": 575,
     "metadata": {},
     "output_type": "execute_result"
    }
   ],
   "source": [
    "isinstance(54, int)"
   ]
  },
  {
   "cell_type": "code",
   "execution_count": 576,
   "metadata": {},
   "outputs": [
    {
     "data": {
      "text/plain": [
       "False"
      ]
     },
     "execution_count": 576,
     "metadata": {},
     "output_type": "execute_result"
    }
   ],
   "source": [
    "isinstance(\"hello!\", bool)"
   ]
  },
  {
   "cell_type": "markdown",
   "metadata": {},
   "source": [
    "**zip** function:  \n",
    "\n",
    "**`zip(iterable1, iterable2)`**  \n",
    "* **Combines** items one at a time taking **first from iterable1, then from iterable2**  \n",
    "* **Iterable with** the **least** items **defines** the **length of output** zip object  \n",
    "* If iterables are **tuples** and **one** has **exactly 1 object** whilst the other has multiple, it will be **elements** from that object which will be used  \n",
    "* **NOTE** zip objects can **ONLY** be **iterated** over **ONCE before it is exhaused** and the zipped object will be **empty**   \n",
    "* Can **avoid exhausting** the zipped object by **typecasting** to a list for example **when assigning to a variable** rather than when using the zipped object.  "
   ]
  },
  {
   "cell_type": "markdown",
   "metadata": {},
   "source": [
    "**Create tuples from zip object**:  \n",
    "\n",
    "**`tupVar1, tupVar2, tupVar3... = zip(*zippedObject)`**  \n",
    "* The **`*`** defines splitting function  \n",
    "* As long as the zippedObject has not been iterated over already, this will **split each zipped elements into defined tuples**  \n",
    "* Must define same number of **tuples as components in each zippedObject elements**  "
   ]
  },
  {
   "cell_type": "code",
   "execution_count": 577,
   "metadata": {},
   "outputs": [
    {
     "name": "stdout",
     "output_type": "stream",
     "text": [
      "first print of zipped:  [(1, 'a', 'aa'), (2, 'b', 'bb'), (3, 'c', 'cc')]\n",
      "second print of zipped:  []\n"
     ]
    }
   ],
   "source": [
    "# zip example, shows they can only be iterated ONCE before being exhausted\n",
    "\n",
    "numbers = [1, 2, 3, 4, 5]\n",
    "letters = ['a', 'b', 'c', 'd', 'e']\n",
    "otherLet = [\"aa\",\"bb\",\"cc\"]                  # note shortest iterable defines length of zipped object\n",
    "zipped = zip(numbers, letters, otherLet)\n",
    "\n",
    "print(\"first print of zipped: \", list(zipped))\n",
    "print(\"second print of zipped: \", list(zipped))"
   ]
  },
  {
   "cell_type": "code",
   "execution_count": 578,
   "metadata": {},
   "outputs": [
    {
     "name": "stdout",
     "output_type": "stream",
     "text": [
      "This is the same example as above, with the exception of being typecasted when assigning to a variable\n",
      "first print of zipped:  [(1, 'a', 'aa'), (2, 'b', 'bb'), (3, 'c', 'cc')]\n",
      "second print of zipped:  [(1, 'a', 'aa'), (2, 'b', 'bb'), (3, 'c', 'cc')]\n"
     ]
    }
   ],
   "source": [
    "# zip example, avoiding exhausting the zipped object by typcasting when assigning to a variable\n",
    "\n",
    "numbers = [1, 2, 3, 4, 5]\n",
    "letters = ['a', 'b', 'c', 'd', 'e']\n",
    "otherLet = [\"aa\",\"bb\",\"cc\"]                  # note shortest iterable defines length of zipped object\n",
    "zipped = list(zip(numbers, letters, otherLet))\n",
    "\n",
    "print(\"This is the same example as above, with the exception of being typecasted when assigning to a variable\")\n",
    "print(\"first print of zipped: \", zipped)\n",
    "print(\"second print of zipped: \", zipped)"
   ]
  },
  {
   "cell_type": "code",
   "execution_count": 579,
   "metadata": {
    "tags": []
   },
   "outputs": [
    {
     "name": "stdout",
     "output_type": "stream",
     "text": [
      "('a', 'b', 'c')\n"
     ]
    }
   ],
   "source": [
    "# Taking a zipped object and putting elements into new tuples\n",
    "\n",
    "numbers = [1, 2, 3]\n",
    "letters = ['a', 'b', 'c']\n",
    "zipped = zip(numbers, letters)\n",
    "\n",
    "newLetters, newNumbers = zip(*zipped)\n",
    "print(newNumbers)"
   ]
  },
  {
   "cell_type": "code",
   "execution_count": 580,
   "metadata": {},
   "outputs": [
    {
     "name": "stdout",
     "output_type": "stream",
     "text": [
      "Zipped lists:  [('1234', 'Andy')]\n",
      "Zipped tuples:  [('1', 'Andy'), ('2', 'Bill')]\n"
     ]
    }
   ],
   "source": [
    "# example showing zipping lists and tuples can be very different\n",
    "\n",
    "numbersList = [\"1234\"]\n",
    "nameList = [\"Andy\", \"Bill\"]\n",
    "print(\"Zipped lists: \", list(zip(numbersList,nameList)))\n",
    "\n",
    "numbersTup = (\"1234\")\n",
    "nameTup = (\"Andy\", \"Bill\")\n",
    "print(\"Zipped tuples: \", list(zip(numbersTup,nameTup)))"
   ]
  },
  {
   "cell_type": "markdown",
   "metadata": {},
   "source": [
    "**map** function:  \n",
    "\n",
    "**`map(function, iterables)`**  \n",
    "* Executes a specified function for each item in an iterable  \n",
    "* **`iterables`** are a sequence, collection or an iterator object  \n",
    "* Can send as many iterables as you like, just make sure the function has one parameter for each iterable  \n",
    "* Outputs as a **map object**  "
   ]
  },
  {
   "cell_type": "code",
   "execution_count": 581,
   "metadata": {},
   "outputs": [
    {
     "data": {
      "text/plain": [
       "['Hello', 'Goodbye', 'Words']"
      ]
     },
     "execution_count": 581,
     "metadata": {},
     "output_type": "execute_result"
    }
   ],
   "source": [
    "# Using map with a lambda function on a list\n",
    "listOfWords = [\"hello\", \"goodbye\", \"words\"]\n",
    "list(map(lambda w:w[0].upper()+w[1:],listOfWords))"
   ]
  },
  {
   "cell_type": "code",
   "execution_count": 582,
   "metadata": {},
   "outputs": [
    {
     "name": "stdout",
     "output_type": "stream",
     "text": [
      "<map object at 0x000001E92A45E940>\n",
      "['apple orange', 'banana lemon', 'cherry pineapple']\n"
     ]
    }
   ],
   "source": [
    "# Using map function with a custom function which takes 2 parameters on 2 tuples\n",
    "def myfunc(a, b):\n",
    "  return a + \" \" + b\n",
    "\n",
    "x = map(myfunc, ('apple', 'banana', 'cherry'), ('orange', 'lemon', 'pineapple'))\n",
    "\n",
    "print(x)\n",
    "\n",
    "#convert the map into a list, for readability:\n",
    "print(list(x))"
   ]
  },
  {
   "cell_type": "markdown",
   "metadata": {},
   "source": [
    "[<p style=\"text-align: right;\">**⬆ Table of Contents ⬆**</p>](#Python-Notes!)"
   ]
  },
  {
   "cell_type": "markdown",
   "metadata": {},
   "source": [
    "---"
   ]
  },
  {
   "cell_type": "markdown",
   "metadata": {},
   "source": [
    "## <center> Building Functions;</center>"
   ]
  },
  {
   "cell_type": "markdown",
   "metadata": {},
   "source": [
    "Build functions to replace **repeating lines of code**  "
   ]
  },
  {
   "cell_type": "markdown",
   "metadata": {},
   "source": [
    "**functions**:  \n",
    "\n",
    "* Functions are a block of code that is also called by its name (**independent**)\n",
    "* The function can have different parameters or may not have any at all. If any data is passed, they are **passed explicitly**  \n",
    "* It **may or may not** return any data  \n",
    "* Function does not deal with class and its instance concept  "
   ]
  },
  {
   "cell_type": "markdown",
   "metadata": {},
   "source": [
    "**difference between methods and functions**:  \n",
    "\n",
    "* Functions and Methods both look similar as they perform in almost similar ways, but the key difference is the concept of ‘Class and its Object‘  \n",
    "* Functions can be called only by its name, as it is defined independently  \n",
    "* Methods can’t be called by its name only, we need to invoke the class by a reference of that class in which it is defined, i.e., method is defined within a class and hence they are dependent on that class and so methods need to be called on an object    \n",
    "* A method may alter an object’s state, but Python function usually only operates on it, and then prints something or returns a value  \n",
    "\n",
    "**typical function**:  \n",
    "**`func_name(arguments)`**  \n",
    "  \n",
    "**typical method**:  \n",
    "**`obj.meth_name(arguments)`**  "
   ]
  },
  {
   "cell_type": "markdown",
   "metadata": {},
   "source": [
    "**define** a function:  \n",
    "\n",
    "**`def funcName(para1, para2, *args, keywordArg=value, **kwargs):`**  \n",
    "$\\;\\;\\;\\;$**`\"\"\"description of func for help()\"\"\"`**  \n",
    "$\\;\\;\\;\\;$**`code block`**  \n",
    "$\\;\\;\\;\\;$**`return \"this\"`**  \n",
    "* Function name should be descriptive  \n",
    "* Parameters (\"para\") is what will be taken from program and applied in code block, these are **optional**   \n",
    "* Must include **colon**  \n",
    "* **Optional** help description is in **triple quotes**  \n",
    "* Code block is **indented**  \n",
    "* Can have **single or multiple \"positional\" parameters** seperated with a **comma**  \n",
    "* Positional arguments are defined by **name only**  \n",
    "* **Positional** arguments can be passed in a **different order** by **assigning to parameter name when calling function**  \n",
    "* **Positional arguments** can have **multiple argument entries** when parameter is preceded with a **`*`** allowing unlimited number of arguments, this is defined in description as **`*args`**  \n",
    "* **Positional arguments** are implemented as a **tuple**  \n",
    "* Keyword arguments are defined by **name and default value** (after the assignment operator). These must be **after** any **positional arguments**  \n",
    "* **Keyword arguments** can take **unlimited keyword arguments** when parameter is preceded with **`**`**. These must be **after** any **positional arguments**. This is defined in description as **`**kwargs`**\n",
    "* **Keyword arguments** are implemented as **dictionaries**  \n",
    "* **Beware** of functions where code contains **multiplication** **`*`**, if a string is passed to function, could cause unexpected errors  \n",
    "* **Return** statement exits a function, optionally passing back a value. It is not required in some circumstances, however without it can cause errors in passing data back to the main program  \n",
    "* Functions that perform no task will return \"none\"  "
   ]
  },
  {
   "cell_type": "code",
   "execution_count": 583,
   "metadata": {},
   "outputs": [],
   "source": [
    "# example defineing a function\n",
    "\n",
    "# must include \"def\" to define the function, name should be descriptive of what it does\n",
    "# colon is required\n",
    "\n",
    "def add1(a):         # name of function here is \"add1\", the function formal parameters \"a\" in parentheses\n",
    "    \"\"\"adds 1 to a\"\"\" # documentaion string, contained in triple quotes to describe function, displays in \"help()\"\n",
    "    b = a + 1        # function code block, indented\n",
    "    return b\n",
    "\n",
    "    "
   ]
  },
  {
   "cell_type": "code",
   "execution_count": 584,
   "metadata": {},
   "outputs": [
    {
     "name": "stdout",
     "output_type": "stream",
     "text": [
      "abc\n",
      "bac\n"
     ]
    }
   ],
   "source": [
    "# example showing positional arguments can be passed in a different order by assigning to parameter name when calling function\n",
    "\n",
    "# NOTE - even when you do this, if you do not assign by keyword, any remaining positional parameters MUST be in front\n",
    "\n",
    "def con(a,b, c=5):\n",
    "    return a + b + c\n",
    "\n",
    "print(con(\"a\",\"b\",c=\"c\"))\n",
    "print(con(b=\"a\",a=\"b\", c= \"c\"))"
   ]
  },
  {
   "cell_type": "code",
   "execution_count": 585,
   "metadata": {},
   "outputs": [
    {
     "ename": "SyntaxError",
     "evalue": "positional argument follows keyword argument (Temp/ipykernel_13840/196375150.py, line 4)",
     "output_type": "error",
     "traceback": [
      "\u001b[1;36m  File \u001b[1;32m\"C:\\Users\\ajdpi\\AppData\\Local\\Temp/ipykernel_13840/196375150.py\"\u001b[1;36m, line \u001b[1;32m4\u001b[0m\n\u001b[1;33m    print(con(a=\"a\",\"b\",c=\"c\"))\u001b[0m\n\u001b[1;37m                             ^\u001b[0m\n\u001b[1;31mSyntaxError\u001b[0m\u001b[1;31m:\u001b[0m positional argument follows keyword argument\n"
     ]
    }
   ],
   "source": [
    "# Position of \"b\" is still correct, but a has been assigned to keyword which changes it from positional to keyword. \n",
    "# Because of this, \"b\" should now be defined first\n",
    "\n",
    "print(con(a=\"a\",\"b\",c=\"c\"))"
   ]
  },
  {
   "cell_type": "markdown",
   "metadata": {},
   "source": [
    "**calling** a function:    \n",
    "\n",
    "**`funcName(argument)`**  \n",
    "* Argument value is sent to function parameter  \n",
    "* Function result can be assigned to a variable or printed in usual way  \n",
    "* **Without parentheses** will return function **parameter format**  "
   ]
  },
  {
   "cell_type": "code",
   "execution_count": 586,
   "metadata": {},
   "outputs": [
    {
     "name": "stdout",
     "output_type": "stream",
     "text": [
      "8\n"
     ]
    }
   ],
   "source": [
    "# after function has been defined, we can call it\n",
    "\n",
    "c=add1(7)\n",
    "print(c)"
   ]
  },
  {
   "cell_type": "code",
   "execution_count": 587,
   "metadata": {},
   "outputs": [
    {
     "data": {
      "text/plain": [
       "<function len(obj, /)>"
      ]
     },
     "execution_count": 587,
     "metadata": {},
     "output_type": "execute_result"
    }
   ],
   "source": [
    "# Without parentheses will return function parameter format \n",
    "# example using \"len\" function without parentheses\n",
    "\n",
    "len"
   ]
  },
  {
   "cell_type": "code",
   "execution_count": 588,
   "metadata": {},
   "outputs": [
    {
     "data": {
      "text/plain": [
       "<function __main__.add1(a)>"
      ]
     },
     "execution_count": 588,
     "metadata": {},
     "output_type": "execute_result"
    }
   ],
   "source": [
    "# example without parentheses on \"add1\" function\n",
    "\n",
    "add1"
   ]
  },
  {
   "cell_type": "markdown",
   "metadata": {},
   "source": [
    "**help** on a function:   \n",
    "\n",
    "**`help(funcName)`**  \n",
    "* Will return \"help description\" part of function and module function is in  "
   ]
  },
  {
   "cell_type": "code",
   "execution_count": 589,
   "metadata": {},
   "outputs": [
    {
     "name": "stdout",
     "output_type": "stream",
     "text": [
      "Help on function add1 in module __main__:\n",
      "\n",
      "add1(a)\n",
      "    adds 1 to a\n",
      "\n"
     ]
    }
   ],
   "source": [
    "# calling the documentation string using help()\n",
    "\n",
    "help(add1)"
   ]
  },
  {
   "cell_type": "code",
   "execution_count": 590,
   "metadata": {},
   "outputs": [],
   "source": [
    "# a function can have multiple defined parameters\n",
    "\n",
    "def mult(a,b):    # function defined with 2 positional arguments\n",
    "    c = a * b\n",
    "    return c"
   ]
  },
  {
   "cell_type": "code",
   "execution_count": 591,
   "metadata": {},
   "outputs": [
    {
     "data": {
      "text/plain": [
       "6"
      ]
     },
     "execution_count": 591,
     "metadata": {},
     "output_type": "execute_result"
    }
   ],
   "source": [
    "# calling function with multiple parameters with integers \n",
    "\n",
    "mult(2,3)"
   ]
  },
  {
   "cell_type": "markdown",
   "metadata": {},
   "source": [
    "**global and local scope** variables:  \n",
    "\n",
    "* Variables can be **local** to the function, requires no defining as such, these will **not have name conflicts** with variables already defined in main program, they will be seperate allowing them to have same variable names with different stored values which are deleted after function is executed  \n",
    "* Variables can be **global**, define variable name preceded by **\"global\"** in the function, in this case they will not be deleted after function is executed, **alternatively** do not define variable inside function requiring it to be defined prior to function being run in the main program  "
   ]
  },
  {
   "cell_type": "code",
   "execution_count": 592,
   "metadata": {},
   "outputs": [
    {
     "name": "stdout",
     "output_type": "stream",
     "text": [
      "8\n"
     ]
    }
   ],
   "source": [
    "# Scope of program is part of program where that variable is accessable\n",
    "# A variable accessible anywhere in program is called a global variable\n",
    "\n",
    "# Variable \"c\" is a local variable only accessible within the function\n",
    "# This is the \"scope of the function\"\n",
    "# After the function has returned the variable, the scope of the function is deleted\n",
    "\n",
    "# This means that variables within the local scope can have the same name as variables in the global scope\n",
    "# without conflict\n",
    "\n",
    "# If a variable is not defined within a function, it will check the global scope\n",
    "\n",
    "print(c)          # global scope of \"c\" has already been defined above (\"calling a function\") with the value of 8\n",
    "                  # local scope of \"c\" defined in the \"mult\" function above had a value of 6"
   ]
  },
  {
   "cell_type": "code",
   "execution_count": 593,
   "metadata": {},
   "outputs": [
    {
     "data": {
      "text/plain": [
       "'Micheal Jackson Micheal Jackson '"
      ]
     },
     "execution_count": 593,
     "metadata": {},
     "output_type": "execute_result"
    }
   ],
   "source": [
    "# calling function with an integer and a string\n",
    "# beware of * being able to be used with both integers and strings, \n",
    "# could cause an error further down program where expecting an integer\n",
    "\n",
    "mult(2, \"Micheal Jackson \")"
   ]
  },
  {
   "cell_type": "code",
   "execution_count": 594,
   "metadata": {},
   "outputs": [],
   "source": [
    "# function showing variable \"rating\" is local and unaffected by global variable\n",
    "\n",
    "def ACDC(y):\n",
    "    rating = 1         # local scope \"rating\" set to 1\n",
    "    y = 2\n",
    "    return(rating+y)"
   ]
  },
  {
   "cell_type": "code",
   "execution_count": 595,
   "metadata": {},
   "outputs": [
    {
     "name": "stdout",
     "output_type": "stream",
     "text": [
      "z = 3\n",
      "9\n"
     ]
    }
   ],
   "source": [
    "rating=9           # global scope \"rating\" set to 9\n",
    "\n",
    "z=ACDC(1)          # calling function with local scope \"rating\" set to 1\n",
    "\n",
    "print(\"z =\", z)     # printing local scope (1) + y(2) = 3\n",
    "print(rating)       # global scope printed showing different value"
   ]
  },
  {
   "cell_type": "code",
   "execution_count": 596,
   "metadata": {},
   "outputs": [],
   "source": [
    "# global scope example\n",
    "\n",
    "def pinkFloyd():\n",
    "    \n",
    "    # variable \"claimedSales\" is defined as being part of the global scope,\n",
    "    # i.e., the variable as definded in the function is set to the same for the rest of the program outside \n",
    "    # of the function\n",
    "    \n",
    "    global claimedSales \n",
    "    claimedSales = \"45 million\"\n",
    "    return claimedSales"
   ]
  },
  {
   "cell_type": "code",
   "execution_count": 597,
   "metadata": {},
   "outputs": [
    {
     "name": "stdout",
     "output_type": "stream",
     "text": [
      "45 million\n"
     ]
    }
   ],
   "source": [
    "pinkFloyd()\n",
    "print(claimedSales)"
   ]
  },
  {
   "cell_type": "code",
   "execution_count": 598,
   "metadata": {},
   "outputs": [],
   "source": [
    "# defining function which performs no task\n",
    "\n",
    "def noWork():\n",
    "    pass      # Python does not allow function to contain no body,\n",
    "              # hense \"pass\" allows function to progress but does nothing"
   ]
  },
  {
   "cell_type": "code",
   "execution_count": 599,
   "metadata": {},
   "outputs": [
    {
     "name": "stdout",
     "output_type": "stream",
     "text": [
      "None\n"
     ]
    }
   ],
   "source": [
    "# calling function with no return statement produces a \"None\"\n",
    "\n",
    "print(noWork())"
   ]
  },
  {
   "cell_type": "code",
   "execution_count": 600,
   "metadata": {},
   "outputs": [],
   "source": [
    "# Variadic parameters allows an argument to contain multiple entries, defined with an asterisk\n",
    "\n",
    "def artistNames(a,b,*names):\n",
    "    for name in names:\n",
    "        print(a,b,name)"
   ]
  },
  {
   "cell_type": "code",
   "execution_count": 601,
   "metadata": {},
   "outputs": [
    {
     "name": "stdout",
     "output_type": "stream",
     "text": [
      "Micheal Jackson AC/DC something\n",
      "Micheal Jackson AC/DC something else\n",
      "Micheal Jackson AC/DC another\n"
     ]
    }
   ],
   "source": [
    "artistNames(\"Micheal Jackson\", \"AC/DC\", \"something\", \"something else\", \"another\")"
   ]
  },
  {
   "cell_type": "code",
   "execution_count": 602,
   "metadata": {},
   "outputs": [
    {
     "name": "stdout",
     "output_type": "stream",
     "text": [
      "Help on function artistNames in module __main__:\n",
      "\n",
      "artistNames(a, b, *names)\n",
      "\n"
     ]
    }
   ],
   "source": [
    "help(artistNames)"
   ]
  },
  {
   "cell_type": "code",
   "execution_count": 603,
   "metadata": {},
   "outputs": [],
   "source": [
    "# return statement exits a function, optionally passing back a value. In some circumstances it isnt always required \n",
    "# in this example the return statement is missing and the function doesn't know whether to return the \n",
    "# \"squared\" variable or the \"complication\" variable, hense this returns \"none\"\n",
    "\n",
    "def more_complicated(n):\n",
    "  \"\"\"Returns the square of a number and adds 2 to that number.\"\"\"\n",
    "  squared = n ** 2\n",
    "  complication = squared + 2"
   ]
  },
  {
   "cell_type": "code",
   "execution_count": 604,
   "metadata": {},
   "outputs": [
    {
     "name": "stdout",
     "output_type": "stream",
     "text": [
      "None\n"
     ]
    }
   ],
   "source": [
    "print(more_complicated(10))"
   ]
  },
  {
   "cell_type": "markdown",
   "metadata": {},
   "source": [
    "**lambda functions**:  \n",
    "\n",
    "**`functionName = lambda arguments : expression`**  \n",
    "* Lambda functions are small anonymous functions.  \n",
    "* Can take **any** number of **arguments**  \n",
    "* Can **only** have **one expression**  \n",
    "* Can be used inside another function  \n",
    "* If, else in expression **does not** contain colon **`:`**  "
   ]
  },
  {
   "cell_type": "code",
   "execution_count": 605,
   "metadata": {},
   "outputs": [
    {
     "name": "stdout",
     "output_type": "stream",
     "text": [
      "15\n"
     ]
    }
   ],
   "source": [
    "# example of a lambda function\n",
    "\n",
    "x = lambda a,b : a * b\n",
    "\n",
    "print(x(3,5))"
   ]
  },
  {
   "cell_type": "code",
   "execution_count": 606,
   "metadata": {},
   "outputs": [
    {
     "name": "stdout",
     "output_type": "stream",
     "text": [
      "22\n",
      "33\n"
     ]
    }
   ],
   "source": [
    "# example of a lambda function being used within another function\n",
    "\n",
    "def myfunc(n):\n",
    "  return lambda a : a * n\n",
    "\n",
    "mydoubler = myfunc(2)\n",
    "mytripler = myfunc(3)\n",
    "\n",
    "print(mydoubler(11))\n",
    "print(mytripler(11))"
   ]
  },
  {
   "cell_type": "code",
   "execution_count": 607,
   "metadata": {},
   "outputs": [
    {
     "data": {
      "text/plain": [
       "5.0"
      ]
     },
     "execution_count": 607,
     "metadata": {},
     "output_type": "execute_result"
    }
   ],
   "source": [
    "# Lambda function with if, else\n",
    "div = lambda a,b : a/b if b!=0 else None\n",
    "\n",
    "div(10,2)"
   ]
  },
  {
   "cell_type": "markdown",
   "metadata": {},
   "source": [
    "[<p style=\"text-align: right;\">**⬆ Table of Contents ⬆**</p>](#Python-Notes!)"
   ]
  },
  {
   "cell_type": "markdown",
   "metadata": {},
   "source": [
    "---"
   ]
  },
  {
   "cell_type": "markdown",
   "metadata": {},
   "source": [
    "## <center>Classes, Objects and Methods;</center>"
   ]
  },
  {
   "cell_type": "markdown",
   "metadata": {},
   "source": [
    "**classes**:  \n",
    "\n",
    "* Classes are **user-defined types** or blueprint from which objects are created  \n",
    "* They provide a means of bundling data and functionality together  \n",
    "* Creating a new class creates a **new type of object**, allowing new instances (objects) of that type to be made  \n",
    "* Each class instance can have **attributes** attached to it for **maintaining its state**  \n",
    "* Class instances can also have **methods (defined by its class) for modifying its state**"
   ]
  },
  {
   "cell_type": "markdown",
   "metadata": {},
   "source": [
    "**define class**:  \n",
    "\n",
    "**`class ClassName(object):`**  \n",
    "$\\;\\;\\;\\;$**`\"\"\"help() description in triple quotes\"\"\"`**  \n",
    "\n",
    "$\\;\\;\\;\\;$**`attribbute1 = None`**  ---- Good practice to add attributes at top and assign them None for better readability   \n",
    "$\\;\\;\\;\\;$**`attribute2 = None`**  \n",
    "\n",
    "$\\;\\;\\;\\;$**`# constructor to initialize the object`**  \n",
    "$\\;\\;\\;\\;$**`def __init__(self,attribute1,attribute2 = optionalDefautValue):`**  \n",
    "$\\;\\;\\;\\;\\;\\;\\;\\;$**`self.attribute1 = attribute1`**  \n",
    "$\\;\\;\\;\\;\\;\\;\\;\\;$**`self.attribute2 = attribute2`**  \n",
    "        \n",
    "$\\;\\;\\;\\;$**`# method(s) to access and modify the objects argument state values`**  \n",
    "$\\;\\;\\;\\;$**`def meth_Name(self, parameter):`**  \n",
    "$\\;\\;\\;\\;\\;\\;\\;\\;$**`self.attribute1 = code_to_modify_attribute1 (e.g.; self.attribute1 = self.attribute1 + parameter)`**  \n",
    "$\\;\\;\\;\\;\\;\\;\\;\\;$**`return(self.attribute1)`**   \n",
    "* Created by keyword **class**  \n",
    "* Class names should be **Capitalised**  \n",
    "* Must include **colon**  \n",
    "* Must include the term **object**  \n",
    "* **`__init__`** is a special method which is called as a constructor when an object is created from a class and it allows the class to **initialize the attributes** of the class, has **double underscores** either side  \n",
    "* **`self`** is a parameter in function and the user can use another parameter name in place of it, however it is advisable to use self because it increases the readability of code  \n",
    "* **`self`** represents the instance of the class. By using the **`self`** keyword we can access the attributes and methods of the class in Python. It binds the attributes with the given arguments  \n",
    "* Can include **default values** for attributes by setting them with **`=`** in the constructor  \n",
    "* **Attribute** = variable of any type that belongs to or is declared directly in a class  \n",
    "* Attributes are always public and accessed by using dot (.) operator e.g.; className.attribute1  \n",
    "* **Parameter** = temporary variable names within functions, placeholders for the argument it is passed  \n",
    "* **Argument** = value that is assigned to that temporary variable"
   ]
  },
  {
   "cell_type": "code",
   "execution_count": 608,
   "metadata": {},
   "outputs": [],
   "source": [
    "# example instantiating a class \n",
    "# note American spelling of colour / color is so the drawCircle method works with imported library (see below)\n",
    "  \n",
    "class Circle(object):           # defining a class using keyword \"class\" followed by name (in this case \"circle\")\n",
    "                                # class name should be Captalised  \n",
    "                                # must include colon\n",
    "                                # \"object\" is the class parent\n",
    "        \n",
    "    # help() description is enclosed in triple quotes    \n",
    "    \"\"\"Creates a circle object with parameters 'radius', and 'color'\n",
    "    default values are radius = 3, and color = 'blue'\"\"\"\n",
    "        \n",
    "    # special method __init__ is a constructor which allows the class to initialize the \n",
    "    # attributes of the class when an object is created\n",
    "    def __init__(self, radius=3, color=\"blue\"):        # __init__ must have double underscores either side\n",
    "        self.radius = radius                            # attributes here are \"radius\", and \"color\"\n",
    "        self.color = color                            # optional defaults set with \"=\"\n",
    "                                                # the keyword \"self\" binds the attributes with the given argument\n",
    "            \n",
    "    \n",
    "    # define a method within the class\n",
    "    def add_radius(self, r):            # name of the method \"add_radius\", along with self, and any parameters\n",
    "        self.radius = self.radius + r   # defining what is to be done when the method is called\n",
    "        return(self.radius)             # defining what is to be returned after method is called\n",
    "        \n",
    "        \n",
    "    # method for displaying the created circle objects \n",
    "    def drawCircle(self):\n",
    "        plt.gca().add_patch(plt.Circle((0, 0), radius=self.radius, fc=self.color))\n",
    "        plt.axis('scaled')\n",
    "        plt.show() "
   ]
  },
  {
   "cell_type": "code",
   "execution_count": 609,
   "metadata": {},
   "outputs": [
    {
     "name": "stdout",
     "output_type": "stream",
     "text": [
      "Help on class Circle in module __main__:\n",
      "\n",
      "class Circle(builtins.object)\n",
      " |  Circle(radius=3, color='blue')\n",
      " |  \n",
      " |  Creates a circle object with parameters 'radius', and 'color'\n",
      " |  default values are radius = 3, and color = 'blue'\n",
      " |  \n",
      " |  Methods defined here:\n",
      " |  \n",
      " |  __init__(self, radius=3, color='blue')\n",
      " |      Initialize self.  See help(type(self)) for accurate signature.\n",
      " |  \n",
      " |  add_radius(self, r)\n",
      " |      # define a method within the class\n",
      " |  \n",
      " |  drawCircle(self)\n",
      " |      # method for displaying the created circle objects\n",
      " |  \n",
      " |  ----------------------------------------------------------------------\n",
      " |  Data descriptors defined here:\n",
      " |  \n",
      " |  __dict__\n",
      " |      dictionary for instance variables (if defined)\n",
      " |  \n",
      " |  __weakref__\n",
      " |      list of weak references to the object (if defined)\n",
      "\n"
     ]
    }
   ],
   "source": [
    "help(Circle)"
   ]
  },
  {
   "cell_type": "code",
   "execution_count": 610,
   "metadata": {},
   "outputs": [],
   "source": [
    "# importing the library to be able to draw the objects\n",
    "# only works when attribute colour / color is defined using American spelling \"color\"\n",
    "\n",
    "import matplotlib.pyplot as plt\n",
    "%matplotlib inline  "
   ]
  },
  {
   "cell_type": "markdown",
   "metadata": {},
   "source": [
    "**objects**:  \n",
    "\n",
    "* An object is an instance of a class. A class is like a blueprint while an instance is a copy of the class with actual values. It’s not an idea anymore  \n",
    "* An object consists of :  \n",
    "    **Identity** : It gives a **unique name** to an object and enables one object to interact with other objects  \n",
    "    **State** : It is represented by **attributes** of an object. It also reflects the properties of an object  \n",
    "    **Behavior** : It is represented by **methods** of an object. It also reflects the response of an object with other objects  "
   ]
  },
  {
   "cell_type": "markdown",
   "metadata": {},
   "source": [
    "**creating** an object:  \n",
    "\n",
    "**`objVar_Name = ClassName(attribute1_value, attribute2_value)`**  \n",
    "* Object constructor consists of the name of the class as well as the parameters to be passed  "
   ]
  },
  {
   "cell_type": "code",
   "execution_count": 611,
   "metadata": {},
   "outputs": [],
   "source": [
    "#example of creating an object redCircle\n",
    "\n",
    "redCircle = Circle(10, \"red\")"
   ]
  },
  {
   "cell_type": "markdown",
   "metadata": {},
   "source": [
    "**Inheritance**:  \n",
    "\n",
    "* Unlike other languages, Python can inherit from **multiple classes**  \n",
    "* Python **does not** have **method overloading** (several methods with same name but different signature)  "
   ]
  },
  {
   "cell_type": "markdown",
   "metadata": {},
   "source": [
    "**`class ChildClassName(ParentClassName1, ParentClassName2):`**  \n",
    "$\\;\\;\\;\\;$**`pass`**  \n",
    "* Inheriting from multiple classes is defined after class name in parentheses  \n",
    "* Keyword pass will allow child class to inherit all parent classes properties and methods when you do not want to add any new ones  "
   ]
  },
  {
   "cell_type": "code",
   "execution_count": 612,
   "metadata": {},
   "outputs": [
    {
     "name": "stdout",
     "output_type": "stream",
     "text": [
      "John Doe\n"
     ]
    }
   ],
   "source": [
    "# creating a class \"Person\" for examples\n",
    "\n",
    "class Person:\n",
    "    def __init__(self, fname, lname):\n",
    "        self.firstname = fname\n",
    "        self.lastname = lname\n",
    "    def printname(self):\n",
    "        print(self.firstname, self.lastname)\n",
    "\n",
    "#Use the Person class to create an object, and then execute the printname method:\n",
    "\n",
    "x = Person(\"John\", \"Doe\")\n",
    "x.printname()"
   ]
  },
  {
   "cell_type": "code",
   "execution_count": 613,
   "metadata": {},
   "outputs": [
    {
     "name": "stdout",
     "output_type": "stream",
     "text": [
      "Mike Olsen\n"
     ]
    }
   ],
   "source": [
    "# creating a child class\n",
    "\n",
    "class Student(Person):\n",
    "    pass\n",
    "\n",
    "# creating an object of class Student and calling printname() method from parent class\n",
    "\n",
    "x = Student(\"Mike\", \"Olsen\")\n",
    "x.printname()"
   ]
  },
  {
   "cell_type": "markdown",
   "metadata": {},
   "source": [
    "**`class ChildClassName(ParentClassName):`**  \n",
    "$\\;\\;\\;\\;$**`def __init__(self, attribute1, attribute2):`**  \n",
    "$\\;\\;\\;\\;\\;\\;\\;\\;$**`# add properties etc.`**  \n",
    "* When the \\_\\_init\\_\\_ function is used, it will automatically **override the parents \\_\\_init\\_\\_ function**  "
   ]
  },
  {
   "cell_type": "markdown",
   "metadata": {},
   "source": [
    "**`class ChildClassName(ParentClassName):`**  \n",
    "$\\;\\;\\;\\;$**`def __init__(self, attribute1, attribute2):`**  \n",
    "$\\;\\;\\;\\;\\;\\;\\;\\;$**`ParentClassName.__init__(self, attribute1, attribute2)`** \n",
    "* A call to the parents \\_\\_init\\_\\_ function will allow the child class to **inherit the \\_\\_init\\_\\_ function**  \n",
    "* Note the **.** before the \\_\\_init\\_\\_ call  \n",
    "* Note **no parentheses** after ParentClassName  "
   ]
  },
  {
   "cell_type": "markdown",
   "metadata": {},
   "source": [
    "**`class ChildClassName(ParentClassName):`**  \n",
    "\n",
    "$\\;\\;\\;\\;$**`def __init__(self, attribute1, attribute2):`**  \n",
    "$\\;\\;\\;\\;\\;\\;\\;\\;$**`super().__init__(attribute1, attribute2)`**  \n",
    "* The super() function will allow the child class to **inherit all the properties and methods** of the parent class  \n",
    "* When wanting to **modify the output** of a parent method when **overriding a method**, use super() call in the method  \n",
    "* Further attributes for the child class can be passed in its own \\_\\_init\\_\\_ and set in the normal way (along with further methods) after and below the super call  \n",
    "* Note Python 2.x and earlier requires calls to the super class be defined as  \n",
    "    **`super(Derived_Class_Name, self).__init__(Parameters_of_Super_Class_Constructor)`**  "
   ]
  },
  {
   "cell_type": "code",
   "execution_count": 614,
   "metadata": {},
   "outputs": [
    {
     "name": "stdout",
     "output_type": "stream",
     "text": [
      "Hello World\n",
      "Hello --THIS IS B-- World World\n"
     ]
    }
   ],
   "source": [
    "# Class B inherits from class A\n",
    "class A:\n",
    "    def __init__(self):\n",
    "        self.property_a = 'Hello'\n",
    "    \n",
    "    def do_something(self,smth):\n",
    "        return self.property_a+str(smth)\n",
    "\n",
    "    \n",
    "class B(A):\n",
    "    def __init__(self):\n",
    "        super().__init__()      # Inherits methods and properties of class A\n",
    "    \n",
    "    #overridden method!!!\n",
    "    def do_something(self,smth):\n",
    "        return super().do_something(' --THIS IS B--') + (str(smth)*2)      # Uses output of parent method when overriding\n",
    "    \n",
    "    \n",
    "    \n",
    "objA = A()\n",
    "objB = B()\n",
    "\n",
    "print (objA.do_something(' World'))\n",
    "print (objB.do_something(' World'))"
   ]
  },
  {
   "cell_type": "markdown",
   "metadata": {},
   "source": [
    "**Method Resolution Order (MRO)**:  \n",
    "\n",
    "**`ClassName.mro()`**  \n",
    "**OR**  \n",
    "**`ClassName.__mro__`**  \n",
    "* Defines the order in which the base classes are searched when executing a method  \n",
    "* Old style (Python 2.x and older) classes use DLR or depth-first left to right algorithm (depth first, then left to right) whereas new style classes use Linearization. Child classes are preceeded before their parents, and left to right is searched for each depth level before proceeding to the next parent  \n",
    "\n",
    "A  &emsp;&emsp;&emsp;&emsp;&ensp;&nbsp;&nbsp; **5th:** Base class is searched last  \n",
    "|&ensp;\\  \n",
    "|&emsp;B  &emsp;&emsp;&emsp;&emsp; **4th:** Next level up parent is searched (again left to right if more than one)  \n",
    "|&emsp;&ensp;&nbsp;\\  \n",
    "C&emsp;&emsp;D  &emsp;&emsp;&ensp; **2nd & 3rd:** Immediate parent classes are searched left to right after child class    \n",
    "|&emsp;&ensp;&nbsp;/  \n",
    "|&emsp;/  \n",
    "&nbsp;E  &emsp;&emsp;&emsp;&emsp;&emsp; **1st:** Child class is searched first  "
   ]
  },
  {
   "cell_type": "code",
   "execution_count": 615,
   "metadata": {},
   "outputs": [
    {
     "name": "stdout",
     "output_type": "stream",
     "text": [
      "In class B\n",
      "[<class '__main__.E'>, <class '__main__.C'>, <class '__main__.D'>, <class '__main__.B'>, <class '__main__.A'>, <class 'object'>]\n",
      "(<class '__main__.E'>, <class '__main__.C'>, <class '__main__.D'>, <class '__main__.B'>, <class '__main__.A'>, <class 'object'>)\n"
     ]
    }
   ],
   "source": [
    "# Showing MRO with multiple class inheritance \n",
    "class A:\n",
    "    def myMethod(self):\n",
    "        print(\"In class A\")\n",
    "\n",
    "class B(A):\n",
    "    def myMethod(self):\n",
    "        print(\"In class B\")\n",
    "\n",
    "class C(A):\n",
    "    pass\n",
    "\n",
    "class D(B):\n",
    "    pass\n",
    "\n",
    "class E(C, D):      # C is prioritised for searching over D\n",
    "    pass\n",
    "\n",
    "myObj = E()\n",
    "myObj.myMethod()\n",
    "\n",
    "print(E.mro())\n",
    "print(E.__mro__)"
   ]
  },
  {
   "cell_type": "markdown",
   "metadata": {},
   "source": [
    "**accessing attribute** values:  \n",
    "\n",
    "**`objVar_Name.attributeName`**  \n",
    "* This will display the current value of the attribute stored for the object  "
   ]
  },
  {
   "cell_type": "code",
   "execution_count": 616,
   "metadata": {},
   "outputs": [
    {
     "data": {
      "text/plain": [
       "10"
      ]
     },
     "execution_count": 616,
     "metadata": {},
     "output_type": "execute_result"
    }
   ],
   "source": [
    "# example obtaining the object attribute radius\n",
    "\n",
    "redCircle.radius"
   ]
  },
  {
   "cell_type": "markdown",
   "metadata": {},
   "source": [
    "**changing data attributes** directly:  \n",
    "\n",
    "**`objVar_Name.attributeName = new_AttributeValue`**  \n",
    "* This will set a new value of the attribute for the object  "
   ]
  },
  {
   "cell_type": "code",
   "execution_count": 617,
   "metadata": {},
   "outputs": [
    {
     "data": {
      "text/plain": [
       "1"
      ]
     },
     "execution_count": 617,
     "metadata": {},
     "output_type": "execute_result"
    }
   ],
   "source": [
    "# Set the object attribute radius\n",
    "\n",
    "redCircle.radius = 1\n",
    "redCircle.radius"
   ]
  },
  {
   "cell_type": "markdown",
   "metadata": {},
   "source": [
    "**methods**:  \n",
    "\n",
    "* Methods are called by its name, but it's associated to an object (**dependent**)  \n",
    "* A method is **implicitly passed to the object** on which it is invoked  \n",
    "* It **may or may not** return any data  \n",
    "* Methods can operate on the data (instance variables) that is contained by the corresponding class"
   ]
  },
  {
   "cell_type": "markdown",
   "metadata": {},
   "source": [
    "**difference between methods and functions**:  \n",
    "\n",
    "* Functions and Methods both look similar as they perform in almost similar ways, but the key difference is the concept of ‘Class and its Object‘  \n",
    "* Functions can be called only by its name, as it is defined independently  \n",
    "* Methods can’t be called by its name only, we need to invoke the class by a reference of that class in which it is defined, i.e., method is defined within a class and hence they are dependent on that class and so methods need to be called on an object    \n",
    "* A method may alter an object’s state, but Python function usually only operates on it, and then prints something or returns a value  \n",
    "\n",
    "**typical function**:  \n",
    "**`func_name(arguments)`**  \n",
    "  \n",
    "**typical method**:  \n",
    "**`obj.meth_name(arguments)`**  "
   ]
  },
  {
   "cell_type": "markdown",
   "metadata": {},
   "source": [
    "**calling** a method:  \n",
    "\n",
    "**`objVar_Name.meth_Name(argument)`**  \n",
    "* This will call the method named and change or interact with the data attributes stored for the object as denoted by the method code block  \n",
    "* **Without parentheses** will return method **parameter format**  "
   ]
  },
  {
   "cell_type": "code",
   "execution_count": 618,
   "metadata": {},
   "outputs": [
    {
     "name": "stdout",
     "output_type": "stream",
     "text": [
      "Radius of object: 1\n",
      "Radius of object of after applying the method add_radius(2): 3\n",
      "Radius of object of after applying the method add_radius(5): 8\n"
     ]
    }
   ],
   "source": [
    "# example using a method to change the object attributes\n",
    "\n",
    "# print original attribute \"radius\" value\n",
    "print(\"Radius of object:\", redCircle.radius)\n",
    "\n",
    "# use method to add 2 to value\n",
    "redCircle.add_radius(2)\n",
    "\n",
    "# print new attribute value\n",
    "print(\"Radius of object of after applying the method add_radius(2):\", redCircle.radius)\n",
    "\n",
    "# use method to add 5 to value\n",
    "redCircle.add_radius(5)\n",
    "\n",
    "# print new attribute value\n",
    "print(\"Radius of object of after applying the method add_radius(5):\", redCircle.radius)"
   ]
  },
  {
   "cell_type": "code",
   "execution_count": 619,
   "metadata": {},
   "outputs": [
    {
     "data": {
      "image/png": "[encoded data removed]",
      "text/plain": [
       "<Figure size 432x288 with 1 Axes>"
      ]
     },
     "metadata": {
      "needs_background": "light"
     },
     "output_type": "display_data"
    }
   ],
   "source": [
    "# call method drawCircle to display object\n",
    "\n",
    "redCircle.drawCircle()"
   ]
  },
  {
   "cell_type": "markdown",
   "metadata": {},
   "source": [
    "**Method and attribute types (access modifiers)**:  \n",
    "\n",
    "* Python **does not** implement access modifiers as such, **everything is visible to everyone always**  \n",
    "* Access to variables or functions can be limited in python, but note **above**  \n",
    "\n",
    "**Public**:  \n",
    "Attribues and methods defined without any underscores, these are accessible from outside the Class through an object of the class.  \n",
    "\n",
    "**Protected**:  \n",
    "Attributes and methods defined with **1 leading underscore**  \n",
    "The members declared as Protected are accessible from outside the class but only in a class derived from it that is in the child or subclass.  \n",
    "\n",
    "**Private**:  \n",
    "Attributes and methods defined with **2 leading underscores**  \n",
    "These members are only accessible from within the class. No outside Access is allowed.  \n",
    "\n",
    "\n",
    "Though note **Python internally renames** the property's and method's names starting with **`__`** with   \n",
    "**`_CLASSNAME__PROPERTYNAME/METHODNAME`**  \n",
    "This means they **can actually be accessed** (see above)  \n",
    "\n",
    "**Special Methods aka Dunder Methods**:  \n",
    "Methods defined with **2 leading AND 2 trailing underscores**  \n",
    "These are typically reserved for Python built in and predefined methods and it is **discouraged to create your own** to avoid clashes  "
   ]
  },
  {
   "cell_type": "markdown",
   "metadata": {},
   "source": [
    "**Special methods**:  \n",
    "\n",
    "**<center>Arithmetic:<center>**  \n",
    "\n",
    "|**Operator**|**Description**|**Special Method**|\n",
    "|:---:|:---|:---|\n",
    "|+|Addition|\\_ \\_add_ _(self,other)|\n",
    "|-|Subtraction|\\_ \\_sub_ _(self,other)|\n",
    "|\\*|Multiplication|\\_ \\_mul_ _(self,other)|\n",
    "|/|Division|\\_ \\_div_ _(self,other)|\n",
    "|%|Modulus|\\_ \\_mod_ _(self,other)|\n",
    "|\\*\\*|Exponentiation|\\_ \\_pow_ _(self,other)|\n",
    "|+=|In-place addition|\\_ \\_iadd_ _(self,other)|\n",
    "|-=|In-place subtraction|\\_ \\_isub_ _(self,other)|\n",
    "|\\*=|In-place multiplication|\\_ \\_imul_ _(self,other)|\n",
    "|/=|In-place division|\\_ \\_idiv_ _(self,other)|\n",
    "|%=|In-place modulus|\\_ \\_imod_ _(self,other)|\n",
    "|\\*\\*=|In-place exponentiation|\\_ \\_ipow_ _(self,other)|  "
   ]
  },
  {
   "cell_type": "markdown",
   "metadata": {},
   "source": [
    "**<center>Comparison Operators:<center>**  \n",
    "\n",
    "|**Operator**|**Description**|**Special Method**|\n",
    "|:---:|:---|:---|\n",
    "|==|Equal|\\_ \\_eq_ _(self,other)|\n",
    "|!=|Not Equal|\\_ \\_ne_ _(self,other)|\n",
    "|>|Greater than|\\_ \\_gt_ _(self,other)|\n",
    "|>=|Greater or equal than|\\_ \\_ge_ _(self,other)|\n",
    "|<|Less than|\\_ \\_lt_ _(self,other)|\n",
    "|<=|Less or equal than|\\_ \\_le_ _(self,other)|"
   ]
  },
  {
   "cell_type": "markdown",
   "metadata": {},
   "source": [
    "**<center>Type Conversion Operators:<center>**  \n",
    "\n",
    "|**Operator**|**Description**|**Special Method**|\n",
    "|:---:|:---|:---|\n",
    "|str( )|String representation|\\_ \\_str_ _(self)|\n",
    "|repr( )|Printable representation (very similar to str())|\\_ \\_repr_ _(self)|\n",
    "|int( )|Integer representation|\\_ \\_int_ _(self)|\n",
    "|float( )|Float representation|\\_ \\_float_ _(self)|"
   ]
  },
  {
   "cell_type": "markdown",
   "metadata": {},
   "source": [
    "**<center>Sequence Operators<center>**  \n",
    "    \n",
    "|**Operator**|**Usage**|**Description**|**Special Method**|\n",
    "|:---:|:---|:---|:---|\n",
    "|[ ]|myObj [ key ]|Get an item from myObj|\\_ \\_getitem_ _(self, key)|\n",
    "|[ ]=|[ key ] = value|Set an item in myObj|\\_ \\_setitem_ _(self, key, value)|\n",
    "|del|del myObj[ key ]|Deletes an item in myObj|\\_ \\_delitem_ _(self, key)|\n",
    "|[ : ]|myObj[ i : j ]|Get a slice from myObj|\\_ \\_getslice_ _(self, i, j)|\n",
    "|[ : ]=|myObj[ i : j ]=values|Set a slice in myObj|\\_ \\_setslice_ _(self, i, j, values)|\n",
    "|in|value in myObj|Returns True if value is in myObj|\\_ \\_contains_ _(self, value)|\n",
    "|len|len(myObj)|Returns the length of myObj|\\_ \\_len_ _(self)|"
   ]
  },
  {
   "cell_type": "markdown",
   "metadata": {},
   "source": [
    "**Getters and Setters**:  \n",
    "\n",
    "**Getter:**  \n",
    "**`@property`**  \n",
    "**`def attributeName(self):`**  \n",
    "$\\;\\;\\;\\;$**`return self.__privateAttribute`**  \n",
    "\n",
    "**Call with:**  \n",
    "**`obj.attributeName`**  \n",
    "\n",
    "**Setter:**  \n",
    "**`@attributeName.setter`**  \n",
    "**`def attributeName(self, newVal):`**  \n",
    "$\\;\\;\\;\\;$**`validataion checks prior to setting...`**  \n",
    "$\\;\\;\\;\\;$**`self.__privateAttribute = newVal`**  \n",
    "\n",
    "**Set with:**  \n",
    "**`obj.attributeName = newVal`**  \n",
    "\n",
    "* **`attributeName`** is the name of the method or attribute to set using the decorator and should not be private here, however ensure to call the private attribute and set accordingly within the method  \n",
    "* Can be done in a similar way to Java with seperate methods for getting and setting attributes, however this means methods will need to be explicitly called otherwise relevant validation checks will not be carried out, or even the wrong attribute may be changed  \n",
    "* In Python, we can use the **@property** decorator as the getter, and **@attributeName.setter**  "
   ]
  },
  {
   "cell_type": "code",
   "execution_count": 620,
   "metadata": {},
   "outputs": [],
   "source": [
    "# Java style getters and setters\n",
    "class Exam:\n",
    "    def __init__(self, name):\n",
    "        self.name = name\n",
    "        self.__mark = None\n",
    "        \n",
    "    def set_mark(self, mark):\n",
    "        if ((mark is None) or (0<=mark<=100)):\n",
    "            self.__mark = mark\n",
    "        else:\n",
    "            raise Exception(\"Invalid mark.\")\n",
    "    \n",
    "    def get_mark(self):\n",
    "        return self.__mark"
   ]
  },
  {
   "cell_type": "code",
   "execution_count": 621,
   "metadata": {},
   "outputs": [
    {
     "name": "stdout",
     "output_type": "stream",
     "text": [
      "90\n"
     ]
    }
   ],
   "source": [
    "# need to explicitly call the corresponding method, because we cannot change the value of the property (its private)\n",
    "myExam = Exam(\"Scripting_for_Data_Science\")\n",
    "myExam.set_mark(90)\n",
    "print(myExam.get_mark())"
   ]
  },
  {
   "cell_type": "code",
   "execution_count": 622,
   "metadata": {},
   "outputs": [
    {
     "name": "stdout",
     "output_type": "stream",
     "text": [
      "Private attribute set explicitly;\n",
      "Private attribute retrieved explicitly:  120\n",
      "Private attribute retrieved with getter method:  120\n"
     ]
    }
   ],
   "source": [
    "# Showing private attributes can still be set and retrieved without use of the methods, and hence the validation checks are not carried out\n",
    "# Note this can also be done when using the @property decorator\n",
    "myExam._Exam__mark = 120\n",
    "print(\"Private attribute set explicitly;\")\n",
    "print(\"Private attribute retrieved explicitly: \", myExam._Exam__mark)\n",
    "print(\"Private attribute retrieved with getter method: \", myExam.get_mark())"
   ]
  },
  {
   "cell_type": "code",
   "execution_count": 623,
   "metadata": {},
   "outputs": [
    {
     "name": "stdout",
     "output_type": "stream",
     "text": [
      "Attribute set with non-private attribute name;\n",
      "Different non-private attribute has been set:  150\n",
      "Private attribute retrieved with getter method:  120\n"
     ]
    }
   ],
   "source": [
    "# If attribute is set (without using the private underscores) with Java style getters and setters, \n",
    "# a new attribute will be created and no validation checks done\n",
    "myExam.mark = 150\n",
    "print(\"Attribute set with non-private attribute name;\")\n",
    "print(\"Different non-private attribute has been set: \", myExam.mark)\n",
    "print(\"Private attribute retrieved with getter method: \", myExam.get_mark())"
   ]
  },
  {
   "cell_type": "code",
   "execution_count": 624,
   "metadata": {},
   "outputs": [],
   "source": [
    "# Using @property decorator to get and set private attribute\n",
    "class Exam:\n",
    "    def __init__(self, name):\n",
    "        self.name = name\n",
    "        self.__mark = None\n",
    "    \n",
    "    # getter for property (attribute) \"mark\" (\"__mark\")\n",
    "    @property\n",
    "    def mark(self):\n",
    "        return self.__mark\n",
    "    \n",
    "    # setter for property (attribute) \"mark\" (\"__mark\")\n",
    "    @mark.setter\n",
    "    def mark(self, mark):\n",
    "        if ((mark is None) or (0<=mark<=100)):\n",
    "            self.__mark = mark\n",
    "        else:\n",
    "            raise Exception(\"Invalid mark.\") "
   ]
  },
  {
   "cell_type": "code",
   "execution_count": 625,
   "metadata": {},
   "outputs": [
    {
     "name": "stdout",
     "output_type": "stream",
     "text": [
      "Attribute set with non-private attribute name;\n",
      "Mark retrieved using @property decorator:  90\n",
      "Private mark retrieved explicitly:  90\n"
     ]
    }
   ],
   "source": [
    "# Setting private attribute without having to call methods explicitly\n",
    "# Note validation checks are still carried out and it is in fact the private attribute which is set\n",
    "myExam = Exam(\"Scripting_for_Data_Science\")\n",
    "myExam.mark = 90\n",
    "print(\"Attribute set with non-private attribute name;\")\n",
    "print(\"Mark retrieved using @property decorator: \", myExam.mark)\n",
    "print(\"Private mark retrieved explicitly: \", myExam._Exam__mark)"
   ]
  },
  {
   "cell_type": "markdown",
   "metadata": {},
   "source": [
    "**dir** function:  \n",
    "\n",
    "**`dir(objVar_Name)`**  \n",
    "* This returns a list of the attributes and methods of the named object  "
   ]
  },
  {
   "cell_type": "code",
   "execution_count": 626,
   "metadata": {},
   "outputs": [
    {
     "data": {
      "text/plain": [
       "['__class__',\n",
       " '__delattr__',\n",
       " '__dict__',\n",
       " '__dir__',\n",
       " '__doc__',\n",
       " '__eq__',\n",
       " '__format__',\n",
       " '__ge__',\n",
       " '__getattribute__',\n",
       " '__gt__',\n",
       " '__hash__',\n",
       " '__init__',\n",
       " '__init_subclass__',\n",
       " '__le__',\n",
       " '__lt__',\n",
       " '__module__',\n",
       " '__ne__',\n",
       " '__new__',\n",
       " '__reduce__',\n",
       " '__reduce_ex__',\n",
       " '__repr__',\n",
       " '__setattr__',\n",
       " '__sizeof__',\n",
       " '__str__',\n",
       " '__subclasshook__',\n",
       " '__weakref__',\n",
       " 'add_radius',\n",
       " 'color',\n",
       " 'drawCircle',\n",
       " 'radius']"
      ]
     },
     "execution_count": 626,
     "metadata": {},
     "output_type": "execute_result"
    }
   ],
   "source": [
    "# example of finding which methods can be used on the object redCircle\n",
    "\n",
    "dir(redCircle)"
   ]
  },
  {
   "cell_type": "markdown",
   "metadata": {},
   "source": [
    "**Duck typing**:  \n",
    "\n",
    "* In Python, an object or classes type is of lesser importance than the methods or attributes it defines  \n",
    "* If two or more classes contains a certain attribute or method, they can all be passed to the same function which makes use of that attribute or method without issue  "
   ]
  },
  {
   "cell_type": "code",
   "execution_count": 627,
   "metadata": {},
   "outputs": [
    {
     "name": "stdout",
     "output_type": "stream",
     "text": [
      "fly with wings\n",
      "fly with fuel\n"
     ]
    },
    {
     "ename": "AttributeError",
     "evalue": "'Fish' object has no attribute 'fly'",
     "output_type": "error",
     "traceback": [
      "\u001b[1;31m---------------------------------------------------------------------------\u001b[0m",
      "\u001b[1;31mAttributeError\u001b[0m                            Traceback (most recent call last)",
      "\u001b[1;32m~\\AppData\\Local\\Temp/ipykernel_13840/32223823.py\u001b[0m in \u001b[0;36m<module>\u001b[1;34m\u001b[0m\n\u001b[0;32m     17\u001b[0m \u001b[1;31m# considered as duck typing\u001b[0m\u001b[1;33m\u001b[0m\u001b[1;33m\u001b[0m\u001b[0m\n\u001b[0;32m     18\u001b[0m \u001b[1;32mfor\u001b[0m \u001b[0mobj\u001b[0m \u001b[1;32min\u001b[0m \u001b[0mBird\u001b[0m\u001b[1;33m(\u001b[0m\u001b[1;33m)\u001b[0m\u001b[1;33m,\u001b[0m \u001b[0mAirplane\u001b[0m\u001b[1;33m(\u001b[0m\u001b[1;33m)\u001b[0m\u001b[1;33m,\u001b[0m \u001b[0mFish\u001b[0m\u001b[1;33m(\u001b[0m\u001b[1;33m)\u001b[0m\u001b[1;33m:\u001b[0m\u001b[1;33m\u001b[0m\u001b[1;33m\u001b[0m\u001b[0m\n\u001b[1;32m---> 19\u001b[1;33m     \u001b[0mobj\u001b[0m\u001b[1;33m.\u001b[0m\u001b[0mfly\u001b[0m\u001b[1;33m(\u001b[0m\u001b[1;33m)\u001b[0m\u001b[1;33m\u001b[0m\u001b[1;33m\u001b[0m\u001b[0m\n\u001b[0m",
      "\u001b[1;31mAttributeError\u001b[0m: 'Fish' object has no attribute 'fly'"
     ]
    }
   ],
   "source": [
    "# Python program to demonstrate\n",
    "# duck typing\n",
    "  \n",
    "class Bird:\n",
    "    def fly(self):\n",
    "        print(\"fly with wings\")\n",
    "        \n",
    "class Airplane:\n",
    "    def fly(self):\n",
    "        print(\"fly with fuel\")\n",
    "        \n",
    "class Fish:\n",
    "    def swim(self):\n",
    "        print(\"fish swim in sea\")\n",
    "        \n",
    "# Attributes having same name are\n",
    "# considered as duck typing\n",
    "for obj in Bird(), Airplane(), Fish():\n",
    "    obj.fly()"
   ]
  },
  {
   "cell_type": "markdown",
   "metadata": {},
   "source": [
    "[<p style=\"text-align: right;\">**⬆ Table of Contents ⬆**</p>](#Python-Notes!)"
   ]
  },
  {
   "cell_type": "markdown",
   "metadata": {},
   "source": [
    "---"
   ]
  },
  {
   "cell_type": "markdown",
   "metadata": {},
   "source": [
    "## <center>Command line arguments;</center>"
   ]
  },
  {
   "cell_type": "markdown",
   "metadata": {},
   "source": [
    "**Using sys**:  \n",
    "\n",
    "**`import sys`**  \n",
    "**`for i,v in enumerate(sys.argv):`**  \n",
    "$\\;\\;\\;\\;$**`print(\"Parameter #{}: {}\".format(i,v))`**  \n",
    "* Iterates over command line parameters  \n",
    "* **`argv[0]`** is the **script name** (it is operating system dependent whether this is a full pathname or not)  "
   ]
  },
  {
   "cell_type": "code",
   "execution_count": 628,
   "metadata": {},
   "outputs": [
    {
     "name": "stdout",
     "output_type": "stream",
     "text": [
      "Parameter #0: C:\\Users\\ajdpi\\anaconda3\\lib\\site-packages\\ipykernel_launcher.py\n",
      "Parameter #1: -f\n",
      "Parameter #2: C:\\Users\\ajdpi\\AppData\\Roaming\\jupyter\\runtime\\kernel-b33675ef-2b16-4f60-b96f-2d9b5d0fef19.json\n"
     ]
    }
   ],
   "source": [
    "import sys\n",
    "\n",
    "for i,v in enumerate(sys.argv):\n",
    "    print(\"Parameter #{}: {}\".format(i,v))"
   ]
  },
  {
   "cell_type": "markdown",
   "metadata": {},
   "source": [
    "**argparse**:  \n",
    "\n",
    "**`import argparse`**  \n",
    "\n",
    "\n",
    "**`parser = argparse.ArgumentParser(prog=None, description=None)`**  \n",
    "* **`prog`** = name of program (default: sys.argv[0])  \n",
    "* **`description`** = Description of what the program does  \n",
    "\n",
    "\n",
    "**`parser.add_argument('--parameterFullName', '-p', dest='var', type=str, help='Some help info', required=False, default='defaultValue', choices\n",
    "=['ele1','ele2'], nargs=intNumberOfArgs, metavar='nameOfExpectedValue', action='append')`**  \n",
    "* **`-p`** is an abreviation (leading with a single **`-`** ) of **`parametersFullName`** ( leading with double **`--`** ) and either can be used to provide the input  \n",
    "* **`dest`** is the variable name you want to save the parameter to (accessed: args.var), if none given, name is inferred from the option  \n",
    "* **`choices`** option limits arguments to the given list  \n",
    "* **`nargs`** specifies the exact number of command-line arguments that should be provided, **`'*'`** specifies variable  \n",
    "* **`metavar`** option gives a name to the expected value in error and help outputs  \n",
    "* **`action`** allows grouping of repeating inputs  \n",
    "\n",
    "\n",
    "\n",
    "**`args = parser.parse_args()`**  \n",
    "* Adds arguments to a variable  \n",
    "\n",
    "**`argVar = args.dest`**  \n",
    "* Access variable 'dest' and saves to variable, other parameters can be accessed in a similar way  "
   ]
  },
  {
   "cell_type": "code",
   "execution_count": 629,
   "metadata": {},
   "outputs": [
    {
     "name": "stdout",
     "output_type": "stream",
     "text": [
      "Help on function add_argument in module argparse:\n",
      "\n",
      "add_argument(self, *args, **kwargs)\n",
      "    add_argument(dest, ..., name=value, ...)\n",
      "    add_argument(option_string, option_string, ..., name=value, ...)\n",
      "\n"
     ]
    }
   ],
   "source": [
    "import argparse\n",
    "\n",
    "help(argparse.ArgumentParser.add_argument)"
   ]
  },
  {
   "cell_type": "markdown",
   "metadata": {},
   "source": [
    "**exit codes**:  \n",
    "\n",
    "**`import sys`**  \n",
    "\n",
    "**`{code}`**  \n",
    "\n",
    "**`sys.exit(intExitCode)`**  \n",
    "* Usually used after an if statement  \n",
    "* If no exit code provided, then system exit code **`0`** is used which is considered **successful termination**  \n",
    "* A string can also be passed as an exit code message, and will have the exit code **`1`**  \n",
    "* In Windows, the exit code from the last program run can be obtained in PowerShell using command **`echo $lastexitcode`**  "
   ]
  },
  {
   "cell_type": "markdown",
   "metadata": {},
   "source": [
    "[<p style=\"text-align: right;\">**⬆ Table of Contents ⬆**</p>](#Python-Notes!)"
   ]
  },
  {
   "cell_type": "markdown",
   "metadata": {},
   "source": [
    "---"
   ]
  },
  {
   "cell_type": "markdown",
   "metadata": {},
   "source": [
    "## <center>PIP;</center>"
   ]
  },
  {
   "cell_type": "markdown",
   "metadata": {},
   "source": [
    "* PIP is a package manager for Python that allows you to install and manage additional libraries and dependencies that are not distributed as part of the standard library  \n",
    "* A package is a unit of distribution that can contain a library or an executable or both  \n",
    "* a library is a set of modules which makes sense to be together and that can be used in a program or another library  "
   ]
  },
  {
   "cell_type": "code",
   "execution_count": 630,
   "metadata": {},
   "outputs": [
    {
     "name": "stdout",
     "output_type": "stream",
     "text": [
      "pip 21.2.4 from C:\\Users\\ajdpi\\anaconda3\\lib\\site-packages\\pip (python 3.9)\n",
      "\n"
     ]
    }
   ],
   "source": [
    "# get pip version\n",
    "\n",
    "!pip --version"
   ]
  },
  {
   "cell_type": "code",
   "execution_count": 631,
   "metadata": {},
   "outputs": [
    {
     "name": "stdout",
     "output_type": "stream",
     "text": [
      "Package                            Version\n",
      "---------------------------------- --------------------\n",
      "alabaster                          0.7.12\n",
      "anaconda-client                    1.9.0\n",
      "anaconda-navigator                 2.1.4\n",
      "anaconda-project                   0.10.1\n",
      "anyio                              2.2.0\n",
      "appdirs                            1.4.4\n",
      "argh                               0.26.2\n",
      "argon2-cffi                        20.1.0\n",
      "arrow                              0.13.1\n",
      "asn1crypto                         1.4.0\n",
      "astroid                            2.6.6\n",
      "astropy                            4.3.1\n",
      "async-generator                    1.10\n",
      "atomicwrites                       1.4.0\n",
      "attrs                              21.2.0\n",
      "autopep8                           1.5.7\n",
      "Babel                              2.9.1\n",
      "backcall                           0.2.0\n",
      "backports.functools-lru-cache      1.6.4\n",
      "backports.shutil-get-terminal-size 1.0.0\n",
      "backports.tempfile                 1.0\n",
      "backports.weakref                  1.0.post1\n",
      "bcrypt                             3.2.0\n",
      "beautifulsoup4                     4.10.0\n",
      "binaryornot                        0.4.4\n",
      "bitarray                           2.3.0\n",
      "bkcharts                           0.2\n",
      "black                              19.10b0\n",
      "bleach                             4.0.0\n",
      "bokeh                              2.4.1\n",
      "boto                               2.49.0\n",
      "Bottleneck                         1.3.2\n",
      "brotlipy                           0.7.0\n",
      "cached-property                    1.5.2\n",
      "certifi                            2021.10.8\n",
      "cffi                               1.14.6\n",
      "chardet                            4.0.0\n",
      "charset-normalizer                 2.0.4\n",
      "click                              8.0.3\n",
      "cloudpickle                        2.0.0\n",
      "clyent                             1.2.2\n",
      "colorama                           0.4.4\n",
      "comtypes                           1.1.10\n",
      "conda                              22.9.0\n",
      "conda-build                        3.21.6\n",
      "conda-content-trust                0+unknown\n",
      "conda-pack                         0.6.0\n",
      "conda-package-handling             1.7.3\n",
      "conda-repo-cli                     1.0.4\n",
      "conda-token                        0.3.0\n",
      "conda-verify                       3.4.2\n",
      "contextlib2                        0.6.0.post1\n",
      "cookiecutter                       1.7.2\n",
      "cryptography                       3.4.8\n",
      "cycler                             0.10.0\n",
      "Cython                             0.29.24\n",
      "cytoolz                            0.11.0\n",
      "daal4py                            2021.3.0\n",
      "dask                               2021.10.0\n",
      "debugpy                            1.4.1\n",
      "decorator                          5.1.0\n",
      "defusedxml                         0.7.1\n",
      "diff-match-patch                   20200713\n",
      "distributed                        2021.10.0\n",
      "docutils                           0.17.1\n",
      "entrypoints                        0.3\n",
      "et-xmlfile                         1.1.0\n",
      "fastcache                          1.1.0\n",
      "filelock                           3.3.1\n",
      "flake8                             3.9.2\n",
      "Flask                              1.1.2\n",
      "fonttools                          4.25.0\n",
      "fsspec                             2021.10.1\n",
      "future                             0.18.2\n",
      "gevent                             21.8.0\n",
      "glob2                              0.7\n",
      "greenlet                           1.1.1\n",
      "h5py                               3.2.1\n",
      "HeapDict                           1.0.1\n",
      "html5lib                           1.1\n",
      "ibm-cloud-sdk-core                 1.7.3\n",
      "ibm-watson                         5.0.2\n",
      "idna                               3.2\n",
      "imagecodecs                        2021.8.26\n",
      "imageio                            2.9.0\n",
      "imagesize                          1.2.0\n",
      "importlib-metadata                 4.8.1\n",
      "inflection                         0.5.1\n",
      "iniconfig                          1.1.1\n",
      "intervaltree                       3.1.0\n",
      "ipykernel                          6.4.1\n",
      "ipython                            7.29.0\n",
      "ipython-genutils                   0.2.0\n",
      "ipywidgets                         7.6.5\n",
      "isort                              5.9.3\n",
      "itsdangerous                       2.0.1\n",
      "jdcal                              1.4.1\n",
      "jedi                               0.18.0\n",
      "Jinja2                             2.11.3\n",
      "jinja2-time                        0.2.0\n",
      "joblib                             1.1.0\n",
      "json5                              0.9.6\n",
      "jsonschema                         3.2.0\n",
      "jupyter                            1.0.0\n",
      "jupyter-client                     6.1.12\n",
      "jupyter-console                    6.4.0\n",
      "jupyter-core                       4.8.1\n",
      "jupyter-server                     1.4.1\n",
      "jupyterlab                         3.2.1\n",
      "jupyterlab-pygments                0.1.2\n",
      "jupyterlab-server                  2.8.2\n",
      "jupyterlab-widgets                 1.0.0\n",
      "keyring                            23.1.0\n",
      "kiwisolver                         1.3.1\n",
      "lazy-object-proxy                  1.6.0\n",
      "libarchive-c                       2.9\n",
      "llvmlite                           0.37.0\n",
      "locket                             0.2.1\n",
      "lxml                               4.6.3\n",
      "MarkupSafe                         1.1.1\n",
      "matplotlib                         3.4.3\n",
      "matplotlib-inline                  0.1.2\n",
      "mccabe                             0.6.1\n",
      "menuinst                           1.4.18\n",
      "mistune                            0.8.4\n",
      "mkl-fft                            1.3.1\n",
      "mkl-random                         1.2.2\n",
      "mkl-service                        2.4.0\n",
      "mlxtend                            0.21.0\n",
      "mock                               4.0.3\n",
      "more-itertools                     8.10.0\n",
      "mpmath                             1.2.1\n",
      "msgpack                            1.0.2\n",
      "multipledispatch                   0.6.0\n",
      "munkres                            1.1.4\n",
      "mypy                               0.942\n",
      "mypy-extensions                    0.4.3\n",
      "navigator-updater                  0.2.1\n",
      "nbclassic                          0.2.6\n",
      "nbclient                           0.5.3\n",
      "nbconvert                          6.1.0\n",
      "nbformat                           5.1.3\n",
      "nest-asyncio                       1.5.1\n",
      "networkx                           2.6.3\n",
      "nltk                               3.6.5\n",
      "nose                               1.3.7\n",
      "notebook                           6.4.5\n",
      "numba                              0.54.1\n",
      "numexpr                            2.7.3\n",
      "numpy                              1.20.3\n",
      "numpydoc                           1.1.0\n",
      "olefile                            0.46\n",
      "opencv-python                      4.5.5.62\n",
      "openpyxl                           3.0.9\n",
      "packaging                          21.0\n",
      "pandas                             1.3.4\n",
      "pandocfilters                      1.4.3\n",
      "paramiko                           2.7.2\n",
      "parso                              0.8.2\n",
      "partd                              1.2.0\n",
      "path                               16.0.0\n",
      "pathlib2                           2.3.6\n",
      "pathspec                           0.7.0\n",
      "patsy                              0.5.2\n",
      "pep8                               1.7.1\n",
      "pexpect                            4.8.0\n",
      "pickleshare                        0.7.5\n",
      "Pillow                             8.4.0\n",
      "pip                                21.2.4\n",
      "pkginfo                            1.7.1\n",
      "plotly                             4.14.3\n",
      "pluggy                             0.13.1\n",
      "ply                                3.11\n",
      "poyo                               0.5.0\n",
      "prometheus-client                  0.11.0\n",
      "prompt-toolkit                     3.0.20\n",
      "psutil                             5.8.0\n",
      "ptyprocess                         0.7.0\n",
      "py                                 1.10.0\n",
      "pycodestyle                        2.7.0\n",
      "pycoingecko                        2.2.0\n",
      "pycosat                            0.6.3\n",
      "pycparser                          2.20\n",
      "pycurl                             7.44.1\n",
      "pydocstyle                         6.1.1\n",
      "pyerfa                             2.0.0\n",
      "pyflakes                           2.3.1\n",
      "Pygments                           2.10.0\n",
      "PyJWT                              2.1.0\n",
      "pylint                             2.9.6\n",
      "pyls-spyder                        0.4.0\n",
      "PyNaCl                             1.4.0\n",
      "pyodbc                             4.0.0-unsupported\n",
      "pyOpenSSL                          21.0.0\n",
      "pyparsing                          3.0.4\n",
      "pyreadline                         2.1\n",
      "pyrsistent                         0.18.0\n",
      "PySocks                            1.7.1\n",
      "pytest                             6.2.4\n",
      "python-dateutil                    2.8.2\n",
      "python-lsp-black                   1.0.0\n",
      "python-lsp-jsonrpc                 1.0.0\n",
      "python-lsp-server                  1.2.4\n",
      "python-slugify                     5.0.2\n",
      "pytz                               2021.3\n",
      "PyWavelets                         1.1.1\n",
      "pywin32                            228\n",
      "pywin32-ctypes                     0.2.0\n",
      "pywinpty                           0.5.7\n",
      "PyYAML                             6.0\n",
      "pyzmq                              22.2.1\n",
      "QDarkStyle                         3.0.2\n",
      "qstylizer                          0.1.10\n",
      "QtAwesome                          1.0.2\n",
      "qtconsole                          5.1.1\n",
      "QtPy                               1.10.0\n",
      "regex                              2021.8.3\n",
      "requests                           2.26.0\n",
      "retrying                           1.3.3\n",
      "rope                               0.19.0\n",
      "Rtree                              0.9.7\n",
      "ruamel-yaml-conda                  0.15.100\n",
      "scikit-image                       0.18.3\n",
      "scikit-learn                       1.1.3\n",
      "scikit-learn-intelex               2021.20210714.120553\n",
      "scipy                              1.7.1\n",
      "seaborn                            0.11.2\n",
      "Send2Trash                         1.8.0\n",
      "setuptools                         58.0.4\n",
      "simplegeneric                      0.8.1\n",
      "singledispatch                     3.7.0\n",
      "sip                                4.19.13\n",
      "six                                1.16.0\n",
      "sniffio                            1.2.0\n",
      "snowballstemmer                    2.1.0\n",
      "sortedcollections                  2.1.0\n",
      "sortedcontainers                   2.4.0\n",
      "soupsieve                          2.2.1\n",
      "Sphinx                             4.2.0\n",
      "sphinxcontrib-applehelp            1.0.2\n",
      "sphinxcontrib-devhelp              1.0.2\n",
      "sphinxcontrib-htmlhelp             2.0.0\n",
      "sphinxcontrib-jsmath               1.0.1\n",
      "sphinxcontrib-qthelp               1.0.3\n",
      "sphinxcontrib-serializinghtml      1.1.5\n",
      "sphinxcontrib-websupport           1.2.4\n",
      "spyder                             5.1.5\n",
      "spyder-kernels                     2.1.3\n",
      "SQLAlchemy                         1.4.22\n",
      "statsmodels                        0.12.2\n",
      "sympy                              1.9\n",
      "tables                             3.6.1\n",
      "TBB                                0.2\n",
      "tblib                              1.7.0\n",
      "terminado                          0.9.4\n",
      "testpath                           0.5.0\n",
      "text-unidecode                     1.3\n",
      "textblob                           0.17.1\n",
      "textdistance                       4.2.1\n",
      "threadpoolctl                      2.2.0\n",
      "three-merge                        0.1.1\n",
      "tifffile                           2021.7.2\n",
      "tinycss                            0.4\n",
      "toml                               0.10.2\n",
      "tomli                              2.0.1\n",
      "toolz                              0.11.1\n",
      "tornado                            6.1\n",
      "tqdm                               4.62.3\n",
      "traitlets                          5.1.0\n",
      "typed-ast                          1.4.3\n",
      "typing-extensions                  3.10.0.2\n",
      "ujson                              4.0.2\n",
      "unicodecsv                         0.14.1\n",
      "Unidecode                          1.2.0\n",
      "urllib3                            1.26.7\n",
      "watchdog                           2.1.3\n",
      "wcwidth                            0.2.5\n",
      "webencodings                       0.5.1\n",
      "websocket-client                   0.48.0\n",
      "Werkzeug                           2.0.2\n",
      "wget                               3.2\n",
      "wheel                              0.37.0\n",
      "whichcraft                         0.6.1\n",
      "widgetsnbextension                 3.5.1\n",
      "win-inet-pton                      1.1.0\n",
      "win-unicode-console                0.5\n",
      "wincertstore                       0.2\n",
      "wrapt                              1.12.1\n",
      "xlrd                               2.0.1\n",
      "XlsxWriter                         3.0.1\n",
      "xlwings                            0.24.9\n",
      "xlwt                               1.3.0\n",
      "xmltodict                          0.12.0\n",
      "yapf                               0.31.0\n",
      "zict                               2.0.0\n",
      "zipp                               3.6.0\n",
      "zope.event                         4.5.0\n",
      "zope.interface                     5.4.0\n"
     ]
    }
   ],
   "source": [
    "# get list of installed packages\n",
    "\n",
    "!pip list"
   ]
  },
  {
   "cell_type": "markdown",
   "metadata": {},
   "source": [
    "**install PIP package**:  \n",
    "\n",
    "**`!pip install package_name`**  \n",
    "* Will install package named  \n",
    "* Once installed, packages / modules can be imported  "
   ]
  },
  {
   "cell_type": "markdown",
   "metadata": {},
   "source": [
    "**uninstall PIP packages**:  \n",
    "\n",
    "**`!pip uninstall package_name`**  \n",
    "* Will uninstall package named  "
   ]
  },
  {
   "cell_type": "markdown",
   "metadata": {},
   "source": [
    "[<p style=\"text-align: right;\">**⬆ Table of Contents ⬆**</p>](#Python-Notes!)"
   ]
  },
  {
   "cell_type": "markdown",
   "metadata": {},
   "source": [
    "---"
   ]
  },
  {
   "cell_type": "markdown",
   "metadata": {
    "tags": []
   },
   "source": [
    "## <center>Working with Files"
   ]
  },
  {
   "cell_type": "markdown",
   "metadata": {
    "tags": []
   },
   "source": [
    "### <center>Opening and Reading Files;</center>"
   ]
  },
  {
   "cell_type": "markdown",
   "metadata": {},
   "source": [
    "**open** function:  \n",
    "\n",
    "**`open(\"file\", \"mode\")`**  \n",
    "* Built in function  \n",
    "* Opens a file and returns a corresponding file object  \n",
    "* Both **\"file\" and \"mode\"** must be entered as a **string within parentheses**  \n",
    "* \"file\" is a path-like object made up of **file name and directory**  \n",
    "* \"mode\" is an **optional** string which specifies which mode file is to be opened in, common modes include:<br>\n",
    "**'r'** = **reading (default mode)**, will **fail** if file does **not exist**<br>\n",
    "**'a'** = **appending**, stream is positioned at **end of file**, **creates new file** if file does **not exist**<br>\n",
    "**'w'** = **writing**, will **truncate file first** (empty contents), or **create new file** if file does **not exist**  \n",
    "**'+'** = **updating**, add **'+'** after any usual mode e.g. 'w+' to allow **reading and writing**, note 'w+' mode will still truncate file first, 'r+' will overwrite what is in streams way  "
   ]
  },
  {
   "cell_type": "markdown",
   "metadata": {},
   "source": [
    "**file object**\n",
    "\n",
    "**`varFile_Obj = open(file, mode)`**  \n",
    "* **Information** about the file can be obtained by setting the open function to a **file object variable**  \n",
    "* \"mode\" is again **optional**  \n",
    "* Once a file is opened and data saved as a file object, then the following methods can be used on it  \n",
    "* **MUST close** file object once finished using file unless using with statement (see below)"
   ]
  },
  {
   "cell_type": "code",
   "execution_count": 632,
   "metadata": {},
   "outputs": [],
   "source": [
    "# setting file name to save retyping each time\n",
    "\n",
    "file_name = \"reading files test.txt\""
   ]
  },
  {
   "cell_type": "code",
   "execution_count": 633,
   "metadata": {},
   "outputs": [],
   "source": [
    "# example opening a .txt file and assigning the data to a file object variable\n",
    "\n",
    "file_obj = open(file_name, \"w\")"
   ]
  },
  {
   "cell_type": "code",
   "execution_count": 634,
   "metadata": {},
   "outputs": [
    {
     "name": "stdout",
     "output_type": "stream",
     "text": [
      "<_io.TextIOWrapper name='reading files test.txt' mode='w' encoding='cp1252'>\n"
     ]
    }
   ],
   "source": [
    "# the file object just stores the access data for the file, this is what NEEDS closing when finished\n",
    "\n",
    "print(file_obj)"
   ]
  },
  {
   "cell_type": "markdown",
   "metadata": {},
   "source": [
    "**name** method:\n",
    "\n",
    "**`varFile_Obj.name`**\n",
    "* Returns **name** of the file "
   ]
  },
  {
   "cell_type": "code",
   "execution_count": 635,
   "metadata": {},
   "outputs": [
    {
     "data": {
      "text/plain": [
       "'reading files test.txt'"
      ]
     },
     "execution_count": 635,
     "metadata": {},
     "output_type": "execute_result"
    }
   ],
   "source": [
    "# method used to obtain name of file\n",
    "\n",
    "file_obj.name"
   ]
  },
  {
   "cell_type": "markdown",
   "metadata": {},
   "source": [
    "**mode** method:  \n",
    "\n",
    "**`varFile_Obj.mode`**  \n",
    "* Returns **mode** of file object  "
   ]
  },
  {
   "cell_type": "code",
   "execution_count": 636,
   "metadata": {},
   "outputs": [
    {
     "data": {
      "text/plain": [
       "'w'"
      ]
     },
     "execution_count": 636,
     "metadata": {},
     "output_type": "execute_result"
    }
   ],
   "source": [
    "# method used to see what mode file is opened in\n",
    "\n",
    "file_obj.mode      # 'r' is for reading"
   ]
  },
  {
   "cell_type": "markdown",
   "metadata": {},
   "source": [
    "**closed** method:  \n",
    "\n",
    "**`varFile_Obj.closed`**  \n",
    "* Checks if a file is **closed** and returns **True** if is"
   ]
  },
  {
   "cell_type": "code",
   "execution_count": 637,
   "metadata": {},
   "outputs": [
    {
     "data": {
      "text/plain": [
       "False"
      ]
     },
     "execution_count": 637,
     "metadata": {},
     "output_type": "execute_result"
    }
   ],
   "source": [
    "# note file is still open after executing the open function as above\n",
    "\n",
    "file_obj.closed"
   ]
  },
  {
   "cell_type": "markdown",
   "metadata": {},
   "source": [
    "**close** method:  \n",
    "\n",
    "**`varFile_Obj.close()`**  \n",
    "* **Closes** a file  \n",
    "* **ALWAYS** close a file after opening with the above function \n",
    "* Note it is the **\"file object variable\"** that gets **closed**\n",
    "* Must include **parenthesis**  "
   ]
  },
  {
   "cell_type": "code",
   "execution_count": 638,
   "metadata": {},
   "outputs": [],
   "source": [
    "# always close file (file object variable) after opening as above with following method\n",
    "\n",
    "file_obj.close()"
   ]
  },
  {
   "cell_type": "code",
   "execution_count": 639,
   "metadata": {},
   "outputs": [
    {
     "data": {
      "text/plain": [
       "True"
      ]
     },
     "execution_count": 639,
     "metadata": {},
     "output_type": "execute_result"
    }
   ],
   "source": [
    "# checking file is closed\n",
    "\n",
    "file_obj.closed"
   ]
  },
  {
   "cell_type": "markdown",
   "metadata": {},
   "source": [
    "**with** statment:  \n",
    "\n",
    "**`with open(file, mode) as varFile_Obj:`**  \n",
    "    **`    var = varFile_Obj.read()`**  \n",
    "* **Better practice** to use **\"with\" statment** to open files as it **automatically closes** them \n",
    "* Code will **run everything indented, then close file**  \n",
    "* Can check file is closed as well as print file content, but **cannot read from file** outside of code block  \n",
    "* Must include **colon**"
   ]
  },
  {
   "cell_type": "markdown",
   "metadata": {},
   "source": [
    "**read** method:  \n",
    "\n",
    "**`.read()`**  \n",
    "* File read as a **whole** and stores values in the variable \"var\" as a **string**  \n",
    "* Stream positioned at the end of the file after running   \n",
    "* **Optional argument** determines **number of characters read** each time method is run moving stream position accordingly, note new line characters \"\\n\" count as a single character  \n",
    "* Stream position reset if the file is reopened "
   ]
  },
  {
   "cell_type": "code",
   "execution_count": 640,
   "metadata": {},
   "outputs": [
    {
     "data": {
      "text/plain": [
       "''"
      ]
     },
     "execution_count": 640,
     "metadata": {},
     "output_type": "execute_result"
    }
   ],
   "source": [
    "# example using read method to save data from a file\n",
    "\n",
    "file_obj = open(file_name)       # openeing file and storing access data as a file object\n",
    "\n",
    "file_data = file_obj.read()      # reading data from file and saving to a variable\n",
    "file_data                        # examining the raw data, we can see that \"\\n\" is \n",
    "                                 # included which signals Python to start a new line"
   ]
  },
  {
   "cell_type": "code",
   "execution_count": 641,
   "metadata": {
    "scrolled": true
   },
   "outputs": [
    {
     "name": "stdout",
     "output_type": "stream",
     "text": [
      "\n"
     ]
    }
   ],
   "source": [
    "# if we print the data, the \"\\n\" is not visable as the new line operation has been executed\n",
    "\n",
    "print(file_data)\n",
    "\n",
    "file_obj.close()      # closing file"
   ]
  },
  {
   "cell_type": "code",
   "execution_count": 642,
   "metadata": {},
   "outputs": [
    {
     "data": {
      "text/plain": [
       "True"
      ]
     },
     "execution_count": 642,
     "metadata": {},
     "output_type": "execute_result"
    }
   ],
   "source": [
    "file_obj.closed"
   ]
  },
  {
   "cell_type": "code",
   "execution_count": 643,
   "metadata": {},
   "outputs": [
    {
     "name": "stdout",
     "output_type": "stream",
     "text": [
      "False\n"
     ]
    }
   ],
   "source": [
    "# opening file using \"with\" statement\n",
    "# better practice as it automatically closes file after runing indented block\n",
    "\n",
    "# \"read\" method saves the values of the file to the variable \"file_data\" as a string\n",
    "\n",
    "with open(file_name, \"r\") as file_obj2:\n",
    "    file_data = file_obj2.read()\n",
    "    file_data\n",
    "    print(file_obj2.closed)    # shows file is still open during running of indented block"
   ]
  },
  {
   "cell_type": "code",
   "execution_count": 644,
   "metadata": {},
   "outputs": [
    {
     "data": {
      "text/plain": [
       "True"
      ]
     },
     "execution_count": 644,
     "metadata": {},
     "output_type": "execute_result"
    }
   ],
   "source": [
    "# file is now closed after \"with\" statement has been completed\n",
    "\n",
    "file_obj2.closed"
   ]
  },
  {
   "cell_type": "code",
   "execution_count": 645,
   "metadata": {},
   "outputs": [
    {
     "name": "stdout",
     "output_type": "stream",
     "text": [
      "\n"
     ]
    }
   ],
   "source": [
    "# can print the values of the file that are stored in the \"file_data\" variable\n",
    "\n",
    "print(file_data)"
   ]
  },
  {
   "cell_type": "code",
   "execution_count": 646,
   "metadata": {},
   "outputs": [
    {
     "name": "stdout",
     "output_type": "stream",
     "text": [
      "first running of code: \n",
      "\n",
      "second running of code: \n"
     ]
    }
   ],
   "source": [
    "# stream moves position each time the code is run until  \n",
    "# file is closed and reopened which will reset its position\n",
    "\n",
    "# note with \"read\" method, file is read as a whole, so stream is  \n",
    "# positioned at end of file after initial running\n",
    "# data is stored as a string  \n",
    "# subsiquent runs of the code without reopening file will return \n",
    "# blank due to stream being at end of file\n",
    "\n",
    "with open(file_name, \"r\") as file_obj3:\n",
    "    file_data2 = file_obj3.read()                  # 1st pass of code\n",
    "    print(\"first running of code:\", file_data2)\n",
    "    print(\"\")\n",
    "    file_data2 = file_obj3.read()                  # 2nd pass of code\n",
    "    print(\"second running of code:\", file_data2)"
   ]
  },
  {
   "cell_type": "code",
   "execution_count": 647,
   "metadata": {},
   "outputs": [
    {
     "data": {
      "text/plain": [
       "True"
      ]
     },
     "execution_count": 647,
     "metadata": {},
     "output_type": "execute_result"
    }
   ],
   "source": [
    "file_obj3.closed"
   ]
  },
  {
   "cell_type": "markdown",
   "metadata": {},
   "source": [
    "**readline** method:  \n",
    "\n",
    "**`.readline()`**  \n",
    "* Reads **each line** of file each time code is run and stream is updated accordingly  \n",
    "* Stores values as a **string**  \n",
    "* **Optional argument** determines **number of characters read** each time method is run up to **max end of line**  \n",
    "* If line has **NOT** been completely read, stream will **stay in position** and continue from there next time code is run  \n",
    "* Stream position reset if the file is reopened  \n",
    "* Must include **colon**"
   ]
  },
  {
   "cell_type": "code",
   "execution_count": 648,
   "metadata": {},
   "outputs": [
    {
     "name": "stdout",
     "output_type": "stream",
     "text": [
      "first running of code: \n",
      "second running of code: \n"
     ]
    }
   ],
   "source": [
    "# method \"readline\" reads each line of the file, data is also stored as a string\n",
    "# each subsiquent pass reads the next line and updates the streams position accordingly\n",
    "# if file is closed and reopened, the stream will reset to the beginning of the file\n",
    "\n",
    "with open(file_name, \"r\") as file_obj4:\n",
    "    file_data3 = file_obj4.readline()               # 1st pass of code\n",
    "    print(\"first running of code:\", file_data3)\n",
    "    file_data3 = file_obj4.readline()               # 2ns pass of code\n",
    "    print(\"second running of code:\", file_data3)"
   ]
  },
  {
   "cell_type": "code",
   "execution_count": 649,
   "metadata": {},
   "outputs": [
    {
     "data": {
      "text/plain": [
       "True"
      ]
     },
     "execution_count": 649,
     "metadata": {},
     "output_type": "execute_result"
    }
   ],
   "source": [
    "file_obj4.closed"
   ]
  },
  {
   "cell_type": "markdown",
   "metadata": {},
   "source": [
    "**readlines** method:  \n",
    "\n",
    "**`.readlines()`**  \n",
    "* Outputs **each line** as an **element** in a **list**  \n",
    "* **Optional argument** will read **complete lines up to the end of the line** which equals the number of Characters entered, note new line characters **\"\\n\" count as the beginning of a line**  \n",
    "* Must include **colon**"
   ]
  },
  {
   "cell_type": "code",
   "execution_count": 650,
   "metadata": {},
   "outputs": [
    {
     "name": "stdout",
     "output_type": "stream",
     "text": [
      "[]\n"
     ]
    }
   ],
   "source": [
    "# method \"readlines\" outputs each line of the file as an element in a list\n",
    "# note \"new line\" escape character is also stored in the list\n",
    "\n",
    "with open(file_name, \"r\") as file_obj5:\n",
    "    file_data4 = file_obj5.readlines()\n",
    "    \n",
    "    print(file_data4)"
   ]
  },
  {
   "cell_type": "markdown",
   "metadata": {},
   "source": [
    "using a **loop** to print **each line** individually  \n",
    "\n",
    "**`with open(file_name, \"r\") as file_obj5:`**  \n",
    "$\\;\\;\\;\\;$**`i = 1      # Used as an iterator`**  \n",
    "$\\;\\;\\;\\;$**`for line in file_obj5:`**  \n",
    "$\\;\\;\\;\\;\\;\\;\\;\\;$**`print(\"Line \", i, \": \", line)`**  \n",
    "$\\;\\;\\;\\;\\;\\;\\;\\;$**`i+=1`**  \n",
    "* Two methods to read file line by line:  \n",
    "    * Either read the file as before and break the rows manually, this can be troublesome as different systems use differnt **end-of-line** characters \n",
    "    * Or read them line by line as shown here delegating this task to the underlying library allowing code to be **cross-platform**  "
   ]
  },
  {
   "cell_type": "code",
   "execution_count": 651,
   "metadata": {},
   "outputs": [],
   "source": [
    "# a loop can be used to print out each line individually as a string\n",
    "\n",
    "with open(file_name, \"r\") as file_obj5:\n",
    "    i = 1      # Used as an iterator \n",
    "    for line in file_obj5:\n",
    "        print(\"Line \", i, \": \", line)\n",
    "        i+=1"
   ]
  },
  {
   "cell_type": "code",
   "execution_count": 652,
   "metadata": {},
   "outputs": [
    {
     "data": {
      "text/plain": [
       "True"
      ]
     },
     "execution_count": 652,
     "metadata": {},
     "output_type": "execute_result"
    }
   ],
   "source": [
    "file_obj5.closed"
   ]
  },
  {
   "cell_type": "code",
   "execution_count": 653,
   "metadata": {},
   "outputs": [
    {
     "name": "stdout",
     "output_type": "stream",
     "text": [
      "1st pass of read method, 16 characters: \n",
      "2nd pass of read method, 16 characters: \n"
     ]
    }
   ],
   "source": [
    "# argument in \"read\" method determines how many characters are read each time code is run, \n",
    "# the stream is updated at each pass continuing on the next and resetting when file is reopened\n",
    "\n",
    "# note the \\n for new line is read as a single character\n",
    "# each line is 14 characters long NOT including escape characters for new line\n",
    "\n",
    "with open (file_name, \"r\") as file_obj6:\n",
    "    \n",
    "    file_data5 = file_obj6.read(16)\n",
    "    print(\"1st pass of read method, 16 characters:\", file_data5)\n",
    "    \n",
    "    file_data5 = file_obj6.read(16)\n",
    "    print(\"2nd pass of read method, 16 characters:\", file_data5)"
   ]
  },
  {
   "cell_type": "code",
   "execution_count": 654,
   "metadata": {},
   "outputs": [
    {
     "name": "stdout",
     "output_type": "stream",
     "text": [
      "1st pass of readline method, 8 characters: \n",
      "2nd pass of readline method, 12 characters: \n",
      "2nd pass of readline method, 16 characters: \n"
     ]
    }
   ],
   "source": [
    "# using readline method the argument determines how many characters are read up to MAX end of line\n",
    "# if line has NOT been completely read, stream will NOT go to end of line but stay in position\n",
    "# continuing on next pass\n",
    "\n",
    "# each line is 14 characters long NOT including escape characters for new line\n",
    "\n",
    "with open (file_name, \"r\") as file_obj6:\n",
    "    \n",
    "    file_data6 = file_obj6.readline(8)\n",
    "    print(\"1st pass of readline method, 8 characters:\", file_data6)\n",
    "    \n",
    "    file_data6 = file_obj6.readline(12)\n",
    "    print(\"2nd pass of readline method, 12 characters:\", file_data6)\n",
    "    \n",
    "    file_data6 = file_obj6.readline(16)\n",
    "    print(\"2nd pass of readline method, 16 characters:\", file_data6)"
   ]
  },
  {
   "cell_type": "code",
   "execution_count": 655,
   "metadata": {},
   "outputs": [
    {
     "name": "stdout",
     "output_type": "stream",
     "text": [
      "1st pass of readlines method, 15 characters: []\n",
      "2nd pass of readlines method, 5 characters: []\n",
      "2nd pass of readlines method, 5 characters: []\n"
     ]
    }
   ],
   "source": [
    "# method readlines argument will read the entire line regardless of characters entered \n",
    "# and forward the stream position, if enough characters are passed to the argument, it \n",
    "# will read the next line entirely too\n",
    "# note that the new line character counts towards the next line\n",
    "\n",
    "# each line is 14 characters long NOT including escape characters for new line\n",
    "\n",
    "with open (file_name, \"r\") as file_obj6:\n",
    "        \n",
    "    file_data7 = file_obj6.readlines(15)\n",
    "    print(\"1st pass of readlines method, 15 characters:\", file_data7)\n",
    "            \n",
    "    file_data7 = file_obj6.readlines(5)\n",
    "    print(\"2nd pass of readlines method, 5 characters:\", file_data7)\n",
    "              \n",
    "    file_data7 = file_obj6.readlines(5)\n",
    "    print(\"2nd pass of readlines method, 5 characters:\", file_data7)"
   ]
  },
  {
   "cell_type": "markdown",
   "metadata": {},
   "source": [
    "[<p style=\"text-align: right;\">**⬆ Table of Contents ⬆**</p>](#Python-Notes!)"
   ]
  },
  {
   "cell_type": "markdown",
   "metadata": {},
   "source": [
    "---"
   ]
  },
  {
   "cell_type": "markdown",
   "metadata": {
    "tags": []
   },
   "source": [
    "## <Center>Working with Files"
   ]
  },
  {
   "cell_type": "markdown",
   "metadata": {},
   "source": [
    "### <center>Writing to Files;</center>"
   ]
  },
  {
   "cell_type": "markdown",
   "metadata": {},
   "source": [
    "**write** method:  \n",
    "\n",
    "**`file_obj.write(\"text_to_be_written_to_file\")`**  \n",
    "* This will write string in argument as text in file  \n",
    "* If wanting to start a new line, **add \"\\n\"** escape character to **end of string**  "
   ]
  },
  {
   "cell_type": "code",
   "execution_count": 656,
   "metadata": {},
   "outputs": [],
   "source": [
    "# setting file name to save retyping for each example \n",
    "\n",
    "file_name = \"writing to files test.txt\""
   ]
  },
  {
   "cell_type": "code",
   "execution_count": 657,
   "metadata": {},
   "outputs": [],
   "source": [
    "# see \"open function\" above for more info on opening files\n",
    "\n",
    "# opening in write mode will overwrite file if it exists, or creates a new file\n",
    "\n",
    "file_object = open(file_name, \"w\")"
   ]
  },
  {
   "cell_type": "code",
   "execution_count": 658,
   "metadata": {},
   "outputs": [
    {
     "data": {
      "text/plain": [
       "15"
      ]
     },
     "execution_count": 658,
     "metadata": {},
     "output_type": "execute_result"
    }
   ],
   "source": [
    "# example using write method to write to file\n",
    "# this will not write \"\\n\" in the file, but start a new line\n",
    "# note number of characters added to file are printed\n",
    "\n",
    "file_object.write(\"This is line 1\\n\")    # 14 characters plus \"\\n\", seen as 15 characters"
   ]
  },
  {
   "cell_type": "code",
   "execution_count": 659,
   "metadata": {},
   "outputs": [],
   "source": [
    "# as before, if opening a file this way, ALWAYS close it when finished\n",
    "\n",
    "file_object.close()"
   ]
  },
  {
   "cell_type": "code",
   "execution_count": 660,
   "metadata": {},
   "outputs": [
    {
     "data": {
      "text/plain": [
       "True"
      ]
     },
     "execution_count": 660,
     "metadata": {},
     "output_type": "execute_result"
    }
   ],
   "source": [
    "# checking to see if file is closed\n",
    "\n",
    "file_object.closed"
   ]
  },
  {
   "cell_type": "code",
   "execution_count": 661,
   "metadata": {},
   "outputs": [
    {
     "name": "stdout",
     "output_type": "stream",
     "text": [
      "This is line 1\n",
      "\n"
     ]
    }
   ],
   "source": [
    "# reading and printing contents of file\n",
    "\n",
    "with open(file_name, \"r\") as file_object:\n",
    "    file_data = file_object.read()\n",
    "    \n",
    "    print(file_data)"
   ]
  },
  {
   "cell_type": "code",
   "execution_count": 662,
   "metadata": {},
   "outputs": [],
   "source": [
    "# using \"with\" statement is better practice as it closes file automatically after running indented block\n",
    "\n",
    "# example using with statement to write 2 separate lines to file before closing it\n",
    "\n",
    "with open(file_name, \"w\") as file_object:\n",
    "    file_object.write(\"This is now line 1\\n\")\n",
    "    file_object.write(\"This is line 2\\n\")"
   ]
  },
  {
   "cell_type": "code",
   "execution_count": 663,
   "metadata": {},
   "outputs": [
    {
     "name": "stdout",
     "output_type": "stream",
     "text": [
      "This is now line 1\n",
      "This is line 2\n",
      "\n"
     ]
    }
   ],
   "source": [
    "# reading and printing contents of file\n",
    "\n",
    "with open(file_name, \"r\") as file_object:\n",
    "    file_data = file_object.read()\n",
    "    \n",
    "    print(file_data)"
   ]
  },
  {
   "cell_type": "markdown",
   "metadata": {},
   "source": [
    "**seek** method:  \n",
    "\n",
    "**`file_obj.seek(offset, whence=0)`**  \n",
    "* Used to **set** the **streams position** within a file \n",
    "* **\"offset\"** is **required**, determines number of characters to skip over  \n",
    "* **\"whence\"** is **optional** and **defaults to 0**  \n",
    "* whence can be set to 0 = absolute file positioning (from beginning), 1 = seek relative to current position, 2 = set stream at end of file...in Python 3 CANNOT seek backwards  \n",
    "* Theres **no return value**  "
   ]
  },
  {
   "cell_type": "code",
   "execution_count": 664,
   "metadata": {},
   "outputs": [],
   "source": [
    "# setting file name to save retyping for each example \n",
    "\n",
    "test_file_name = \"stream test.txt\""
   ]
  },
  {
   "cell_type": "code",
   "execution_count": 665,
   "metadata": {},
   "outputs": [
    {
     "name": "stdout",
     "output_type": "stream",
     "text": [
      "\n"
     ]
    }
   ],
   "source": [
    "# without resetting stream position, stream will be at end of file after writing to it \n",
    "# and would need to be closed and reopened to read the contents\n",
    "\n",
    "with open(test_file_name, \"w+\") as file_object:        # open file\n",
    "    file_object.write(\"This is now line 1\\n\")          # write text to file\n",
    "    file_object.write(\"This is now line 2\\n\")\n",
    "    \n",
    "    file_data = file_object.read()                     # read file and assign to variable\n",
    "    \n",
    "    print(file_data)                                   # Will print nothing as stream was at end of file when read"
   ]
  },
  {
   "cell_type": "code",
   "execution_count": 666,
   "metadata": {},
   "outputs": [
    {
     "name": "stdout",
     "output_type": "stream",
     "text": [
      "This is now line 3\n",
      "This is now line 4\n",
      "\n"
     ]
    }
   ],
   "source": [
    "# combining write and read in the same \"with\" statement\n",
    "# using \"seek\" method to reset stream position to be able to read and print contents\n",
    "# this works in both \"r+\" and \"w+\" modes (\"+\" mode = for updating)\n",
    "\n",
    "with open(test_file_name, \"w+\") as file_object:        # open file\n",
    "    file_object.write(\"This is now line 3\\n\")          # write text to file\n",
    "    file_object.write(\"This is now line 4\\n\")\n",
    "    \n",
    "    file_object.seek(0)                                # reset stream position\n",
    "    \n",
    "    file_data = file_object.read()                     # read file and assign to variable\n",
    "    \n",
    "    print(file_data)  "
   ]
  },
  {
   "cell_type": "code",
   "execution_count": 667,
   "metadata": {},
   "outputs": [
    {
     "name": "stdout",
     "output_type": "stream",
     "text": [
      "This is now line 3\n",
      "This is now line 4This is now line 5\n",
      "This is now line 6\n",
      "\n"
     ]
    }
   ],
   "source": [
    "# using seek method to position stream to write to file using absolute positioning\n",
    "\n",
    "with open(test_file_name, \"r+\") as file_object:        # open file\n",
    "    file_object.seek(38)                               # setting stream to end of file using absolute positioning\n",
    "    file_object.write(\"This is now line 5\\n\")          # write text to file\n",
    "    file_object.write(\"This is now line 6\\n\")\n",
    "    \n",
    "    file_object.seek(0)                                # reset stream position to beginning of file\n",
    "    \n",
    "    file_data = file_object.read()                     # read file and assign to variable\n",
    "    \n",
    "    print(file_data)  "
   ]
  },
  {
   "cell_type": "code",
   "execution_count": 668,
   "metadata": {
    "scrolled": true
   },
   "outputs": [
    {
     "name": "stdout",
     "output_type": "stream",
     "text": [
      "This is now line 3\n",
      "This is now line 4This is now line 5\n",
      "This is now line 6\n",
      "This is now line 7\n",
      "This is now line 8\n",
      "\n"
     ]
    }
   ],
   "source": [
    "# using seek method to position stream to write to file using end of file seek positioning\n",
    "\n",
    "with open(test_file_name, \"r+\") as file_object:     # open file\n",
    "    file_object.seek(0,2)                           # setting stream to end of file using end of file positioning\n",
    "    file_object.write(\"This is now line 7\\n\")       # write text to file\n",
    "    file_object.write(\"This is now line 8\\n\")\n",
    "    \n",
    "    file_object.seek(0)                             # reset stream position to beginning of file\n",
    "    \n",
    "    file_data = file_object.read()                  # read file and assign to variable\n",
    "    \n",
    "    print(file_data)  "
   ]
  },
  {
   "cell_type": "markdown",
   "metadata": {},
   "source": [
    "**tell** method:  \n",
    "\n",
    "**`file_obj.tell()`**  \n",
    "* Will return **current stream position**, when file is opened stream will be at 0 (beginning of file) unless opened in append mode  "
   ]
  },
  {
   "cell_type": "code",
   "execution_count": 669,
   "metadata": {},
   "outputs": [
    {
     "name": "stdout",
     "output_type": "stream",
     "text": [
      "Stream position:  0\n",
      "This \n",
      "Updated stream position:  5\n"
     ]
    }
   ],
   "source": [
    "# example using .tell() method to return stream position\n",
    "\n",
    "with open(test_file_name, \"w+\") as file_object:        # open file\n",
    "    file_object.write(\"This is now line 9\\n\")          # write text to file\n",
    "    file_object.write(\"This is now line 10\\n\")\n",
    "    \n",
    "    file_object.seek(0)                                # reset stream position to beginning of file\n",
    "    \n",
    "    print(\"Stream position: \", file_object.tell())     # print stream position using .tell() method\n",
    "    \n",
    "    file_data = file_object.read(5)                    # read first 5 characters of file and assign to variable\n",
    "    \n",
    "    print(file_data)                                   # print read characters\n",
    "    print(\"Updated stream position: \", file_object.tell())   # print updated stream position"
   ]
  },
  {
   "cell_type": "code",
   "execution_count": 670,
   "metadata": {},
   "outputs": [
    {
     "data": {
      "text/plain": [
       "True"
      ]
     },
     "execution_count": 670,
     "metadata": {},
     "output_type": "execute_result"
    }
   ],
   "source": [
    "# checking file is closed\n",
    "\n",
    "file_object.closed"
   ]
  },
  {
   "cell_type": "markdown",
   "metadata": {},
   "source": [
    "**writing from a list**:  \n",
    "\n",
    "**`list_var = [\"line1\", \"line2\",....]`**  \n",
    "\n",
    "**`with open(\"file\", \"mode\") as file_obj:`**  \n",
    "**`      for each_line in list_var:`**  \n",
    "**`           file_obj.write(each_line)`**  \n",
    "* **Must** use **loop** to iterate over each element to write, **cannot write list direct** to file (writing to file needs to be a string)  \n"
   ]
  },
  {
   "cell_type": "code",
   "execution_count": 671,
   "metadata": {},
   "outputs": [
    {
     "name": "stdout",
     "output_type": "stream",
     "text": [
      "Line A\n",
      "Line B\n",
      "Line C\n",
      "\n"
     ]
    }
   ],
   "source": [
    "# can write to a file from a list using a for loop\n",
    "\n",
    "list1 = [\"Line A\\n\", \"Line B\\n\", \"Line C\\n\"]      # populating list\n",
    "\n",
    "with open(file_name, \"w+\") as file_object:  # opening file\n",
    "                                            # if we tried to write to file here, would cause error \n",
    "                                            # as cannot write direct from a list, only a string\n",
    "    \n",
    "    for each_line in list1:                 # using for loop to write each element of list to file\n",
    "        file_object.write(each_line)  \n",
    "    \n",
    "    file_object.seek(0)                     # reset stream position\n",
    "    \n",
    "    file_data = file_object.read()          # read file contents\n",
    "    print(file_data)                        # print file contents"
   ]
  },
  {
   "cell_type": "markdown",
   "metadata": {},
   "source": [
    "**copying files**:  \n",
    "  \n",
    "**`with open(\"file\", \"readable_mode\") as readfile_obj:`**  \n",
    "    **`    with open(\"file2\", \"writable_mode\") as writefile_obj:`**  \n",
    "    **`        for each_line in readfile_obj:`**  \n",
    "    **`            writefile_obj.write(each_line)`**  \n",
    "* **Must** open file to be copied in a **readable mode** e.g. \"r\" or \"r+\"  \n",
    "* **Must** open file to be written to in a **writable / appendable mode** e.g. \"w\" or \"a\"  \n",
    "* Use **loop** to iterate over each line from file to be copied  "
   ]
  },
  {
   "cell_type": "code",
   "execution_count": 672,
   "metadata": {},
   "outputs": [
    {
     "name": "stdout",
     "output_type": "stream",
     "text": [
      "readfile:\n",
      " Line A\n",
      "Line B\n",
      "Line C\n",
      "\n",
      "copied file:\n",
      " Line A\n",
      "Line B\n",
      "Line C\n",
      "\n"
     ]
    }
   ],
   "source": [
    "# a file can be copied as follows\n",
    "\n",
    "with open(file_name, \"r\") as readfile_obj:                      # open file to be copied in readable mode\n",
    "    \n",
    "    with open(file_name + \" copy\", \"w+\") as writefile_obj:      # open/create file to copy to in writable mode\n",
    "        \n",
    "        for each_line in readfile_obj:                  # for loop to iterate over each line in file to be copied\n",
    "            \n",
    "            writefile_obj.write(each_line)              # write each line to new file\n",
    "            \n",
    "        readfile_obj.seek(0)                            # reset stream position on read file\n",
    "        writefile_obj.seek(0)                           # reset stream position on write file\n",
    "\n",
    "        readfile_data = readfile_obj.read()             # read file content and save to variable\n",
    "        writefile_data = writefile_obj.read()           \n",
    "        \n",
    "print(\"readfile:\\n\", readfile_data)                       # print file content\n",
    "print(\"copied file:\\n\", writefile_data)"
   ]
  },
  {
   "cell_type": "markdown",
   "metadata": {},
   "source": [
    "[<p style=\"text-align: right;\">**⬆ Table of Contents ⬆**</p>](#Python-Notes!)"
   ]
  },
  {
   "cell_type": "markdown",
   "metadata": {},
   "source": [
    "---"
   ]
  },
  {
   "cell_type": "markdown",
   "metadata": {},
   "source": [
    "## <center>CSV Files;</center>"
   ]
  },
  {
   "cell_type": "markdown",
   "metadata": {},
   "source": [
    "**CSV files**:  \n",
    "\n",
    "* csv files are \"comma-separated values\" and is a structured text file  \n",
    "* Each line contains an entry in the dataset  \n",
    "* Each attribute is separated by a **delimiter** (typically a comma or semi-colon)  \n",
    "* **Usually** the first line is the **column headers**  \n",
    "* CSV files are normally created by programs that handle large amounts of data. They are a convenient way to export data from spreadsheets and databases as well as import or use it in other programs  \n",
    "* Can **read** and **write** to **csv files** with **pandas**, see pandas section for more info  "
   ]
  },
  {
   "cell_type": "markdown",
   "metadata": {},
   "source": [
    "**Reading csv files**  \n",
    "\n",
    "csv files can be opened in the normal way (though better to use **csv** or **pandas** libraries:  \n",
    "**`with open(filePath,mode) as file_objVar:`**  \n",
    "$\\;\\;\\;\\;$**`text = file_objVar.read()`**  \n",
    "$\\;\\;\\;\\;$**`print(text)`**  \n",
    "* Note **end of line characters** are still **present**  "
   ]
  },
  {
   "cell_type": "code",
   "execution_count": 673,
   "metadata": {},
   "outputs": [
    {
     "name": "stdout",
     "output_type": "stream",
     "text": [
      "1st line is a header (though not always present):\n",
      "\n",
      "sepal_length,sepal_width,petal_length,petal_width,species\n",
      "5.1,3.5,1.4,0.2,setosa\n",
      "4.9,3,1.4,0.2,setosa\n"
     ]
    }
   ],
   "source": [
    "# example reading in a csv file without use of a library\n",
    "\n",
    "print(\"1st line is a header (though not always present):\\n\")\n",
    "\n",
    "with open('iris.csv','r') as fs:\n",
    "    text = fs.read()\n",
    "    print(text[:101])    # Only printing first 3 lines for clarity"
   ]
  },
  {
   "cell_type": "markdown",
   "metadata": {},
   "source": [
    "**Reading csv to a dataset list**  \n",
    "\n",
    "csv files can also be read in splitting each line element by its delimiter and adding each line as an entry to a list  \n",
    "This is **easier** to do **using the csv library** (see below)  \n",
    "**`datasetVar = [ ]`**  \n",
    "**`with open(filePath) as file_objVar:`**  \n",
    "$\\;\\;\\;\\;$**`headerVar = file_objVar.readline()`**  \n",
    "$\\;\\;\\;\\;$**`for line in file_objVar:`**  \n",
    "$\\;\\;\\;\\;\\;\\;\\;\\;$**`datasetVar.append( line.split(delimeter))`**  \n",
    "* **Header** can be read off as the first line outside of the for loop to its own variable  \n",
    "* Each line is read one at a time before spliting each element by the given delimeter and appending the entry as an element in the dataset  \n",
    "* Note **end of line characters** are still **present**  "
   ]
  },
  {
   "cell_type": "code",
   "execution_count": 674,
   "metadata": {},
   "outputs": [
    {
     "name": "stdout",
     "output_type": "stream",
     "text": [
      "sepal_length,sepal_width,petal_length,petal_width,species\n",
      "\n",
      "[['5.1', '3.5', '1.4', '0.2', 'setosa\\n'], ['4.9', '3', '1.4', '0.2', 'setosa\\n']]\n"
     ]
    }
   ],
   "source": [
    "# example of manually reading a csv file to a dataset\n",
    "\n",
    "dataset = []\n",
    "\n",
    "with open('iris.csv') as fs:\n",
    "    header = fs.readline()\n",
    "    print (header)\n",
    "    for line in fs:\n",
    "        dataset.append( line.split(',') )\n",
    "        \n",
    "print(dataset[:2])"
   ]
  },
  {
   "cell_type": "markdown",
   "metadata": {},
   "source": [
    "**Using csv library**:  \n",
    "\n",
    "**`import csv`**  \n",
    "\n",
    "**`datasetVar = [ ]`**  \n",
    "**`with open(filePath) as file_objVar:`**  \n",
    "$\\;\\;\\;\\;$**`csvReaderObj = csv.reader(file_objVar, delimiter= delimeter)`**  \n",
    "$\\;\\;\\;\\;$**`for listEntryRead/rowVar in csvReaderObj:`**  \n",
    "$\\;\\;\\;\\;\\;\\;\\;\\;$**`datasetVar.append(listEntryRead/rowVar)`**  \n",
    "* **`delimiter`** defaults to **`\",\"`**  \n",
    "* This method will read in the **header row** as the first element in the dataset (**index [0]**)  \n",
    "* Library will **remove end of line characters**  \n",
    "* **Faster than Pandas** for **small datasets (<1k rows)**  \n",
    "* Though **Pandas** is **faster** for **large datasets**  "
   ]
  },
  {
   "cell_type": "code",
   "execution_count": 675,
   "metadata": {},
   "outputs": [
    {
     "name": "stdout",
     "output_type": "stream",
     "text": [
      "[['sepal_length', 'sepal_width', 'petal_length', 'petal_width', 'species'], ['5.1', '3.5', '1.4', '0.2', 'setosa'], ['4.9', '3', '1.4', '0.2', 'setosa']]\n"
     ]
    }
   ],
   "source": [
    "# Using csv library to read csv file to a dataset\n",
    "\n",
    "import csv\n",
    "\n",
    "dataset =[]\n",
    "\n",
    "with open('iris.csv') as fs:\n",
    "    csv_reader = csv.reader(fs,delimiter=',') #if it is a comma, it can be omitted\n",
    "    for row in csv_reader:\n",
    "        dataset.append(row)\n",
    "        \n",
    "print(dataset[:3])"
   ]
  },
  {
   "cell_type": "markdown",
   "metadata": {},
   "source": [
    "**Using pandas to read csv to dataframe:**  \n",
    "\n",
    "**`import pandas as pd`**  \n",
    "\n",
    "**`df = pd.read_csv('filePath',header=None)`**  \n",
    "* Reads csv file to dataframe  \n",
    "* **`header`** is optional, defaults to using column names, set to none (as above) if none present in file  "
   ]
  },
  {
   "cell_type": "code",
   "execution_count": 676,
   "metadata": {},
   "outputs": [
    {
     "data": {
      "text/html": [
       "<div>\n",
       "<style scoped>\n",
       "    .dataframe tbody tr th:only-of-type {\n",
       "        vertical-align: middle;\n",
       "    }\n",
       "\n",
       "    .dataframe tbody tr th {\n",
       "        vertical-align: top;\n",
       "    }\n",
       "\n",
       "    .dataframe thead th {\n",
       "        text-align: right;\n",
       "    }\n",
       "</style>\n",
       "<table border=\"1\" class=\"dataframe\">\n",
       "  <thead>\n",
       "    <tr style=\"text-align: right;\">\n",
       "      <th></th>\n",
       "      <th>sepal_length</th>\n",
       "      <th>sepal_width</th>\n",
       "      <th>petal_length</th>\n",
       "      <th>petal_width</th>\n",
       "      <th>species</th>\n",
       "    </tr>\n",
       "  </thead>\n",
       "  <tbody>\n",
       "    <tr>\n",
       "      <th>0</th>\n",
       "      <td>5.1</td>\n",
       "      <td>3.5</td>\n",
       "      <td>1.4</td>\n",
       "      <td>0.2</td>\n",
       "      <td>setosa</td>\n",
       "    </tr>\n",
       "    <tr>\n",
       "      <th>1</th>\n",
       "      <td>4.9</td>\n",
       "      <td>3.0</td>\n",
       "      <td>1.4</td>\n",
       "      <td>0.2</td>\n",
       "      <td>setosa</td>\n",
       "    </tr>\n",
       "    <tr>\n",
       "      <th>2</th>\n",
       "      <td>4.7</td>\n",
       "      <td>3.2</td>\n",
       "      <td>1.3</td>\n",
       "      <td>0.2</td>\n",
       "      <td>setosa</td>\n",
       "    </tr>\n",
       "    <tr>\n",
       "      <th>3</th>\n",
       "      <td>4.6</td>\n",
       "      <td>3.1</td>\n",
       "      <td>1.5</td>\n",
       "      <td>0.2</td>\n",
       "      <td>setosa</td>\n",
       "    </tr>\n",
       "    <tr>\n",
       "      <th>4</th>\n",
       "      <td>5.0</td>\n",
       "      <td>3.6</td>\n",
       "      <td>1.4</td>\n",
       "      <td>0.2</td>\n",
       "      <td>setosa</td>\n",
       "    </tr>\n",
       "    <tr>\n",
       "      <th>...</th>\n",
       "      <td>...</td>\n",
       "      <td>...</td>\n",
       "      <td>...</td>\n",
       "      <td>...</td>\n",
       "      <td>...</td>\n",
       "    </tr>\n",
       "    <tr>\n",
       "      <th>145</th>\n",
       "      <td>6.7</td>\n",
       "      <td>3.0</td>\n",
       "      <td>5.2</td>\n",
       "      <td>2.3</td>\n",
       "      <td>virginica</td>\n",
       "    </tr>\n",
       "    <tr>\n",
       "      <th>146</th>\n",
       "      <td>6.3</td>\n",
       "      <td>2.5</td>\n",
       "      <td>5.0</td>\n",
       "      <td>1.9</td>\n",
       "      <td>virginica</td>\n",
       "    </tr>\n",
       "    <tr>\n",
       "      <th>147</th>\n",
       "      <td>6.5</td>\n",
       "      <td>3.0</td>\n",
       "      <td>5.2</td>\n",
       "      <td>2.0</td>\n",
       "      <td>virginica</td>\n",
       "    </tr>\n",
       "    <tr>\n",
       "      <th>148</th>\n",
       "      <td>6.2</td>\n",
       "      <td>3.4</td>\n",
       "      <td>5.4</td>\n",
       "      <td>2.3</td>\n",
       "      <td>virginica</td>\n",
       "    </tr>\n",
       "    <tr>\n",
       "      <th>149</th>\n",
       "      <td>5.9</td>\n",
       "      <td>3.0</td>\n",
       "      <td>5.1</td>\n",
       "      <td>1.8</td>\n",
       "      <td>virginica</td>\n",
       "    </tr>\n",
       "  </tbody>\n",
       "</table>\n",
       "<p>150 rows × 5 columns</p>\n",
       "</div>"
      ],
      "text/plain": [
       "     sepal_length  sepal_width  petal_length  petal_width    species\n",
       "0             5.1          3.5           1.4          0.2     setosa\n",
       "1             4.9          3.0           1.4          0.2     setosa\n",
       "2             4.7          3.2           1.3          0.2     setosa\n",
       "3             4.6          3.1           1.5          0.2     setosa\n",
       "4             5.0          3.6           1.4          0.2     setosa\n",
       "..            ...          ...           ...          ...        ...\n",
       "145           6.7          3.0           5.2          2.3  virginica\n",
       "146           6.3          2.5           5.0          1.9  virginica\n",
       "147           6.5          3.0           5.2          2.0  virginica\n",
       "148           6.2          3.4           5.4          2.3  virginica\n",
       "149           5.9          3.0           5.1          1.8  virginica\n",
       "\n",
       "[150 rows x 5 columns]"
      ]
     },
     "execution_count": 676,
     "metadata": {},
     "output_type": "execute_result"
    }
   ],
   "source": [
    "import pandas as pd\n",
    "\n",
    "df = pd.read_csv('iris.csv')\n",
    "df"
   ]
  },
  {
   "cell_type": "markdown",
   "metadata": {},
   "source": [
    "**Writing to csv file**:  \n",
    "\n",
    "**Better to use csv library** (see below)  \n",
    "**`populatedDataset = [[entry1_ele1, entry1_ele2],[entry2_ele1, entry2_ele2]...]`**  \n",
    "**`with open(filePath, 'w') as file_objVar:`**  \n",
    "$\\;\\;\\;\\;$**`for line in populatedDataset:`**  \n",
    "$\\;\\;\\;\\;\\;\\;\\;\\;$**`file_objVar.write(delimeterToUse.join(line)+\"\\n\")`**  \n",
    "* Writes to a csv file from a dataset (list of lists)  \n",
    "* **join** method used to set delimeter between each element of an entry  \n",
    "* **`\\n`** used to start a new line after each entry added to file  "
   ]
  },
  {
   "cell_type": "code",
   "execution_count": 677,
   "metadata": {},
   "outputs": [],
   "source": [
    "# example of manually writting to a csv file from a dataset\n",
    "\n",
    "with open('my_iris.csv','w') as fs:\n",
    "    for line in dataset:\n",
    "        fs.write(\",\".join(line)+\"\\n\")"
   ]
  },
  {
   "cell_type": "markdown",
   "metadata": {},
   "source": [
    "**Using csv library**:  \n",
    "\n",
    "**`populatedDataset = [[entry1_ele1, entry1_ele2],[entry2_ele1, entry2_ele2]...]`**  \n",
    "**`with open(filePath, 'w') as file_objVar:`**  \n",
    "$\\;\\;\\;\\;$**`csv_writerObj = csv.writer(file_objVar, delimiter= delimiter)`**  \n",
    "$\\;\\;\\;\\;$**`for line in populatedDataset:`**  \n",
    "$\\;\\;\\;\\;\\;\\;\\;\\;$**`csv_writerObj.writerow(line)`**  \n",
    "* Writes to a csv file from a dataset (list of lists)  \n",
    "* **`delimeter`** is defaulted to **`\",\"`**   "
   ]
  },
  {
   "cell_type": "code",
   "execution_count": 678,
   "metadata": {},
   "outputs": [],
   "source": [
    "# example writting to a csv file using csv library and setting ; as the delimiter\n",
    "\n",
    "with open('my_iris2.csv','w') as fs:\n",
    "    csv_writer = csv.writer(fs, delimiter=\";\")\n",
    "    for line in dataset:\n",
    "        csv_writer.writerow(line)"
   ]
  },
  {
   "cell_type": "markdown",
   "metadata": {},
   "source": [
    "[<p style=\"text-align: right;\">**⬆ Table of Contents ⬆**</p>](#Python-Notes!)"
   ]
  },
  {
   "cell_type": "markdown",
   "metadata": {},
   "source": [
    "---"
   ]
  },
  {
   "cell_type": "markdown",
   "metadata": {},
   "source": [
    "## <center>Excel Files;<center>"
   ]
  },
  {
   "cell_type": "markdown",
   "metadata": {},
   "source": [
    "[How to Work with Excel files in Pandas (see if getting errors)](https://towardsdatascience.com/how-to-work-with-excel-files-in-pandas-c584abb67bfb)"
   ]
  },
  {
   "cell_type": "markdown",
   "metadata": {},
   "source": [
    "**Read Excel files**:  \n",
    "\n",
    "**`import pandas as pd`**  \n",
    "* Must first **import pandas**  "
   ]
  },
  {
   "cell_type": "code",
   "execution_count": 679,
   "metadata": {},
   "outputs": [],
   "source": [
    "import pandas as pd"
   ]
  },
  {
   "cell_type": "markdown",
   "metadata": {},
   "source": [
    "**`dataframe_varObj = pd.read_excel(path_var_and_extension, sheet_name=’…’, header=0, skipfooter=0)`**  \n",
    "* Function will read excel file to a **dataframe**  \n",
    "* **Not the best way** to read excel files as excel files can be messy containing comments/explanations in the first and/or last couple of rows, better to use **ExcelFile** (see below)    \n",
    "* For **`sheet_name`**:  \n",
    "    * **not** provided, then the **first sheet** will be read in **as pandas dataframe** \n",
    "    * If **Sheet name** is provided, that **specific sheet** will be read in **as pandas dataframe**  \n",
    "    * **None** specified, then **all sheets** will be read in **as dictionary of dataframes** where the **keys** will be **sheet names**  \n",
    "    * Read in **Multiple specific sheets** by providing names of sheets wanted as a **list**  \n",
    "* **`header`** defaults to 0, and is the index of the row to start reading, the **first row** is used for the **names** of the **dataframe columns**  \n",
    "* **`skipfooter`** defaults to 0 and specifies the **number of rows** at the **bottom of** the **file** to **NOT read**  "
   ]
  },
  {
   "cell_type": "code",
   "execution_count": 680,
   "metadata": {},
   "outputs": [
    {
     "data": {
      "text/html": [
       "<div>\n",
       "<style scoped>\n",
       "    .dataframe tbody tr th:only-of-type {\n",
       "        vertical-align: middle;\n",
       "    }\n",
       "\n",
       "    .dataframe tbody tr th {\n",
       "        vertical-align: top;\n",
       "    }\n",
       "\n",
       "    .dataframe thead th {\n",
       "        text-align: right;\n",
       "    }\n",
       "</style>\n",
       "<table border=\"1\" class=\"dataframe\">\n",
       "  <thead>\n",
       "    <tr style=\"text-align: right;\">\n",
       "      <th></th>\n",
       "      <th>4.9</th>\n",
       "      <th>3</th>\n",
       "      <th>1.4</th>\n",
       "      <th>0.2</th>\n",
       "      <th>setosa</th>\n",
       "    </tr>\n",
       "  </thead>\n",
       "  <tbody>\n",
       "    <tr>\n",
       "      <th>0</th>\n",
       "      <td>4.7</td>\n",
       "      <td>3.2</td>\n",
       "      <td>1.3</td>\n",
       "      <td>0.2</td>\n",
       "      <td>setosa</td>\n",
       "    </tr>\n",
       "    <tr>\n",
       "      <th>1</th>\n",
       "      <td>4.6</td>\n",
       "      <td>3.1</td>\n",
       "      <td>1.5</td>\n",
       "      <td>0.2</td>\n",
       "      <td>setosa</td>\n",
       "    </tr>\n",
       "    <tr>\n",
       "      <th>2</th>\n",
       "      <td>5.0</td>\n",
       "      <td>3.6</td>\n",
       "      <td>1.4</td>\n",
       "      <td>0.2</td>\n",
       "      <td>setosa</td>\n",
       "    </tr>\n",
       "    <tr>\n",
       "      <th>3</th>\n",
       "      <td>5.4</td>\n",
       "      <td>3.9</td>\n",
       "      <td>1.7</td>\n",
       "      <td>0.4</td>\n",
       "      <td>setosa</td>\n",
       "    </tr>\n",
       "    <tr>\n",
       "      <th>4</th>\n",
       "      <td>4.6</td>\n",
       "      <td>3.4</td>\n",
       "      <td>1.4</td>\n",
       "      <td>0.3</td>\n",
       "      <td>setosa</td>\n",
       "    </tr>\n",
       "    <tr>\n",
       "      <th>...</th>\n",
       "      <td>...</td>\n",
       "      <td>...</td>\n",
       "      <td>...</td>\n",
       "      <td>...</td>\n",
       "      <td>...</td>\n",
       "    </tr>\n",
       "    <tr>\n",
       "      <th>143</th>\n",
       "      <td>6.7</td>\n",
       "      <td>3.0</td>\n",
       "      <td>5.2</td>\n",
       "      <td>2.3</td>\n",
       "      <td>virginica</td>\n",
       "    </tr>\n",
       "    <tr>\n",
       "      <th>144</th>\n",
       "      <td>6.3</td>\n",
       "      <td>2.5</td>\n",
       "      <td>5.0</td>\n",
       "      <td>1.9</td>\n",
       "      <td>virginica</td>\n",
       "    </tr>\n",
       "    <tr>\n",
       "      <th>145</th>\n",
       "      <td>6.5</td>\n",
       "      <td>3.0</td>\n",
       "      <td>5.2</td>\n",
       "      <td>2.0</td>\n",
       "      <td>virginica</td>\n",
       "    </tr>\n",
       "    <tr>\n",
       "      <th>146</th>\n",
       "      <td>6.2</td>\n",
       "      <td>3.4</td>\n",
       "      <td>5.4</td>\n",
       "      <td>2.3</td>\n",
       "      <td>virginica</td>\n",
       "    </tr>\n",
       "    <tr>\n",
       "      <th>147</th>\n",
       "      <td>5.9</td>\n",
       "      <td>3.0</td>\n",
       "      <td>5.1</td>\n",
       "      <td>1.8</td>\n",
       "      <td>virginica</td>\n",
       "    </tr>\n",
       "  </tbody>\n",
       "</table>\n",
       "<p>148 rows × 5 columns</p>\n",
       "</div>"
      ],
      "text/plain": [
       "     4.9    3  1.4  0.2     setosa\n",
       "0    4.7  3.2  1.3  0.2     setosa\n",
       "1    4.6  3.1  1.5  0.2     setosa\n",
       "2    5.0  3.6  1.4  0.2     setosa\n",
       "3    5.4  3.9  1.7  0.4     setosa\n",
       "4    4.6  3.4  1.4  0.3     setosa\n",
       "..   ...  ...  ...  ...        ...\n",
       "143  6.7  3.0  5.2  2.3  virginica\n",
       "144  6.3  2.5  5.0  1.9  virginica\n",
       "145  6.5  3.0  5.2  2.0  virginica\n",
       "146  6.2  3.4  5.4  2.3  virginica\n",
       "147  5.9  3.0  5.1  1.8  virginica\n",
       "\n",
       "[148 rows x 5 columns]"
      ]
     },
     "execution_count": 680,
     "metadata": {},
     "output_type": "execute_result"
    }
   ],
   "source": [
    "# Reading the 1st sheet in the excel file setting the reading to start from the 3rd row and using that as the names of the columns\n",
    "df1 = pd.read_excel(\"iris.xlsx\", header=2)\n",
    "df1"
   ]
  },
  {
   "cell_type": "code",
   "execution_count": 681,
   "metadata": {},
   "outputs": [
    {
     "data": {
      "text/html": [
       "<div>\n",
       "<style scoped>\n",
       "    .dataframe tbody tr th:only-of-type {\n",
       "        vertical-align: middle;\n",
       "    }\n",
       "\n",
       "    .dataframe tbody tr th {\n",
       "        vertical-align: top;\n",
       "    }\n",
       "\n",
       "    .dataframe thead th {\n",
       "        text-align: right;\n",
       "    }\n",
       "</style>\n",
       "<table border=\"1\" class=\"dataframe\">\n",
       "  <thead>\n",
       "    <tr style=\"text-align: right;\">\n",
       "      <th></th>\n",
       "      <th>sepal_length</th>\n",
       "      <th>sepal_width</th>\n",
       "      <th>petal_length</th>\n",
       "      <th>petal_width</th>\n",
       "      <th>species</th>\n",
       "    </tr>\n",
       "  </thead>\n",
       "  <tbody>\n",
       "    <tr>\n",
       "      <th>0</th>\n",
       "      <td>5.006</td>\n",
       "      <td>3.418</td>\n",
       "      <td>1.464</td>\n",
       "      <td>0.244</td>\n",
       "      <td>setosa</td>\n",
       "    </tr>\n",
       "    <tr>\n",
       "      <th>1</th>\n",
       "      <td>5.936</td>\n",
       "      <td>2.770</td>\n",
       "      <td>4.260</td>\n",
       "      <td>1.326</td>\n",
       "      <td>versicolor</td>\n",
       "    </tr>\n",
       "    <tr>\n",
       "      <th>2</th>\n",
       "      <td>6.588</td>\n",
       "      <td>2.974</td>\n",
       "      <td>5.552</td>\n",
       "      <td>2.026</td>\n",
       "      <td>virginica</td>\n",
       "    </tr>\n",
       "  </tbody>\n",
       "</table>\n",
       "</div>"
      ],
      "text/plain": [
       "   sepal_length  sepal_width  petal_length  petal_width     species\n",
       "0         5.006        3.418         1.464        0.244      setosa\n",
       "1         5.936        2.770         4.260        1.326  versicolor\n",
       "2         6.588        2.974         5.552        2.026   virginica"
      ]
     },
     "execution_count": 681,
     "metadata": {},
     "output_type": "execute_result"
    }
   ],
   "source": [
    "# Reading the 2nd sheet in the excel file named \"stats\"\n",
    "df2 = pd.read_excel(\"iris.xlsx\", sheet_name=\"stats\")\n",
    "df2"
   ]
  },
  {
   "cell_type": "code",
   "execution_count": 682,
   "metadata": {},
   "outputs": [
    {
     "data": {
      "text/plain": [
       "{'iris':      sepal_length  sepal_width  petal_length  petal_width    species\n",
       " 0             5.1          3.5           1.4          0.2     setosa\n",
       " 1             4.9          3.0           1.4          0.2     setosa\n",
       " 2             4.7          3.2           1.3          0.2     setosa\n",
       " 3             4.6          3.1           1.5          0.2     setosa\n",
       " 4             5.0          3.6           1.4          0.2     setosa\n",
       " ..            ...          ...           ...          ...        ...\n",
       " 145           6.7          3.0           5.2          2.3  virginica\n",
       " 146           6.3          2.5           5.0          1.9  virginica\n",
       " 147           6.5          3.0           5.2          2.0  virginica\n",
       " 148           6.2          3.4           5.4          2.3  virginica\n",
       " 149           5.9          3.0           5.1          1.8  virginica\n",
       " \n",
       " [150 rows x 5 columns],\n",
       " 'stats':    sepal_length  sepal_width  petal_length  petal_width     species\n",
       " 0         5.006        3.418         1.464        0.244      setosa\n",
       " 1         5.936        2.770         4.260        1.326  versicolor\n",
       " 2         6.588        2.974         5.552        2.026   virginica}"
      ]
     },
     "execution_count": 682,
     "metadata": {},
     "output_type": "execute_result"
    }
   ],
   "source": [
    "# Reading all sheets in to a dictionary\n",
    "\n",
    "df3 = pd.read_excel(\"iris.xlsx\", sheet_name=None)\n",
    "df3"
   ]
  },
  {
   "cell_type": "code",
   "execution_count": 683,
   "metadata": {},
   "outputs": [
    {
     "data": {
      "text/html": [
       "<div>\n",
       "<style scoped>\n",
       "    .dataframe tbody tr th:only-of-type {\n",
       "        vertical-align: middle;\n",
       "    }\n",
       "\n",
       "    .dataframe tbody tr th {\n",
       "        vertical-align: top;\n",
       "    }\n",
       "\n",
       "    .dataframe thead th {\n",
       "        text-align: right;\n",
       "    }\n",
       "</style>\n",
       "<table border=\"1\" class=\"dataframe\">\n",
       "  <thead>\n",
       "    <tr style=\"text-align: right;\">\n",
       "      <th></th>\n",
       "      <th>sepal_length</th>\n",
       "      <th>sepal_width</th>\n",
       "      <th>petal_length</th>\n",
       "      <th>petal_width</th>\n",
       "      <th>species</th>\n",
       "    </tr>\n",
       "  </thead>\n",
       "  <tbody>\n",
       "    <tr>\n",
       "      <th>0</th>\n",
       "      <td>5.006</td>\n",
       "      <td>3.418</td>\n",
       "      <td>1.464</td>\n",
       "      <td>0.244</td>\n",
       "      <td>setosa</td>\n",
       "    </tr>\n",
       "    <tr>\n",
       "      <th>1</th>\n",
       "      <td>5.936</td>\n",
       "      <td>2.770</td>\n",
       "      <td>4.260</td>\n",
       "      <td>1.326</td>\n",
       "      <td>versicolor</td>\n",
       "    </tr>\n",
       "    <tr>\n",
       "      <th>2</th>\n",
       "      <td>6.588</td>\n",
       "      <td>2.974</td>\n",
       "      <td>5.552</td>\n",
       "      <td>2.026</td>\n",
       "      <td>virginica</td>\n",
       "    </tr>\n",
       "  </tbody>\n",
       "</table>\n",
       "</div>"
      ],
      "text/plain": [
       "   sepal_length  sepal_width  petal_length  petal_width     species\n",
       "0         5.006        3.418         1.464        0.244      setosa\n",
       "1         5.936        2.770         4.260        1.326  versicolor\n",
       "2         6.588        2.974         5.552        2.026   virginica"
      ]
     },
     "execution_count": 683,
     "metadata": {},
     "output_type": "execute_result"
    }
   ],
   "source": [
    "# Reading in specific sheets to a dictionary, and accessing specific sheet\n",
    "\n",
    "iris_dataframes = pd.read_excel('iris.xlsx',sheet_name=['iris','stats'])\n",
    "iris_dataframes['stats']"
   ]
  },
  {
   "cell_type": "markdown",
   "metadata": {},
   "source": [
    "**ExcelFile**:  \n",
    "\n",
    "**`pdExcelFileObj = pd.ExcelFile(filePathAndExtension)`**  \n",
    "* Reads an excel file into a **pandas ExcelFile object**  \n",
    "* Has **built-in methods** to make it easy to retrieve and manipulate data  "
   ]
  },
  {
   "cell_type": "code",
   "execution_count": 684,
   "metadata": {},
   "outputs": [],
   "source": [
    "# Reading iris excel file to a pandas ExcelFile object\n",
    "\n",
    "xlsx = pd.ExcelFile(\"iris.xlsx\")"
   ]
  },
  {
   "cell_type": "markdown",
   "metadata": {},
   "source": [
    "**sheets** method:  \n",
    "\n",
    "**`xlsxFIleObj.sheet_names`**  \n",
    "* Returns a list of all the **sheet names** in the file  "
   ]
  },
  {
   "cell_type": "code",
   "execution_count": 685,
   "metadata": {},
   "outputs": [
    {
     "data": {
      "text/plain": [
       "['iris', 'stats']"
      ]
     },
     "execution_count": 685,
     "metadata": {},
     "output_type": "execute_result"
    }
   ],
   "source": [
    "xlsx.sheet_names"
   ]
  },
  {
   "cell_type": "markdown",
   "metadata": {},
   "source": [
    "**parse** method:  \n",
    "\n",
    "**`xlsxFileObj.parse(self, sheet_name=0, header=0, skipfooter=0)`**  \n",
    "* If no arguments passed, the **first excel sheet** will be returned as a **pandas dataframe**  \n",
    "* **Each sheet** can be accessed by passing the **index OR sheet name as a string**  \n",
    "* The other arguments are similar to **`pd.read_excel()`** method above  "
   ]
  },
  {
   "cell_type": "code",
   "execution_count": 686,
   "metadata": {},
   "outputs": [
    {
     "data": {
      "text/html": [
       "<div>\n",
       "<style scoped>\n",
       "    .dataframe tbody tr th:only-of-type {\n",
       "        vertical-align: middle;\n",
       "    }\n",
       "\n",
       "    .dataframe tbody tr th {\n",
       "        vertical-align: top;\n",
       "    }\n",
       "\n",
       "    .dataframe thead th {\n",
       "        text-align: right;\n",
       "    }\n",
       "</style>\n",
       "<table border=\"1\" class=\"dataframe\">\n",
       "  <thead>\n",
       "    <tr style=\"text-align: right;\">\n",
       "      <th></th>\n",
       "      <th>sepal_length</th>\n",
       "      <th>sepal_width</th>\n",
       "      <th>petal_length</th>\n",
       "      <th>petal_width</th>\n",
       "      <th>species</th>\n",
       "    </tr>\n",
       "  </thead>\n",
       "  <tbody>\n",
       "    <tr>\n",
       "      <th>0</th>\n",
       "      <td>5.006</td>\n",
       "      <td>3.418</td>\n",
       "      <td>1.464</td>\n",
       "      <td>0.244</td>\n",
       "      <td>setosa</td>\n",
       "    </tr>\n",
       "    <tr>\n",
       "      <th>1</th>\n",
       "      <td>5.936</td>\n",
       "      <td>2.770</td>\n",
       "      <td>4.260</td>\n",
       "      <td>1.326</td>\n",
       "      <td>versicolor</td>\n",
       "    </tr>\n",
       "    <tr>\n",
       "      <th>2</th>\n",
       "      <td>6.588</td>\n",
       "      <td>2.974</td>\n",
       "      <td>5.552</td>\n",
       "      <td>2.026</td>\n",
       "      <td>virginica</td>\n",
       "    </tr>\n",
       "  </tbody>\n",
       "</table>\n",
       "</div>"
      ],
      "text/plain": [
       "   sepal_length  sepal_width  petal_length  petal_width     species\n",
       "0         5.006        3.418         1.464        0.244      setosa\n",
       "1         5.936        2.770         4.260        1.326  versicolor\n",
       "2         6.588        2.974         5.552        2.026   virginica"
      ]
     },
     "execution_count": 686,
     "metadata": {},
     "output_type": "execute_result"
    }
   ],
   "source": [
    "# Returning the 2nd sheet (index 1) as a dataframe\n",
    "\n",
    "xlsx.parse(1)"
   ]
  },
  {
   "cell_type": "code",
   "execution_count": 687,
   "metadata": {},
   "outputs": [
    {
     "data": {
      "text/html": [
       "<div>\n",
       "<style scoped>\n",
       "    .dataframe tbody tr th:only-of-type {\n",
       "        vertical-align: middle;\n",
       "    }\n",
       "\n",
       "    .dataframe tbody tr th {\n",
       "        vertical-align: top;\n",
       "    }\n",
       "\n",
       "    .dataframe thead th {\n",
       "        text-align: right;\n",
       "    }\n",
       "</style>\n",
       "<table border=\"1\" class=\"dataframe\">\n",
       "  <thead>\n",
       "    <tr style=\"text-align: right;\">\n",
       "      <th></th>\n",
       "      <th>sepal_length</th>\n",
       "      <th>sepal_width</th>\n",
       "      <th>petal_length</th>\n",
       "      <th>petal_width</th>\n",
       "      <th>species</th>\n",
       "    </tr>\n",
       "  </thead>\n",
       "  <tbody>\n",
       "    <tr>\n",
       "      <th>0</th>\n",
       "      <td>5.1</td>\n",
       "      <td>3.5</td>\n",
       "      <td>1.4</td>\n",
       "      <td>0.2</td>\n",
       "      <td>setosa</td>\n",
       "    </tr>\n",
       "    <tr>\n",
       "      <th>1</th>\n",
       "      <td>4.9</td>\n",
       "      <td>3.0</td>\n",
       "      <td>1.4</td>\n",
       "      <td>0.2</td>\n",
       "      <td>setosa</td>\n",
       "    </tr>\n",
       "    <tr>\n",
       "      <th>2</th>\n",
       "      <td>4.7</td>\n",
       "      <td>3.2</td>\n",
       "      <td>1.3</td>\n",
       "      <td>0.2</td>\n",
       "      <td>setosa</td>\n",
       "    </tr>\n",
       "    <tr>\n",
       "      <th>3</th>\n",
       "      <td>4.6</td>\n",
       "      <td>3.1</td>\n",
       "      <td>1.5</td>\n",
       "      <td>0.2</td>\n",
       "      <td>setosa</td>\n",
       "    </tr>\n",
       "    <tr>\n",
       "      <th>4</th>\n",
       "      <td>5.0</td>\n",
       "      <td>3.6</td>\n",
       "      <td>1.4</td>\n",
       "      <td>0.2</td>\n",
       "      <td>setosa</td>\n",
       "    </tr>\n",
       "    <tr>\n",
       "      <th>...</th>\n",
       "      <td>...</td>\n",
       "      <td>...</td>\n",
       "      <td>...</td>\n",
       "      <td>...</td>\n",
       "      <td>...</td>\n",
       "    </tr>\n",
       "    <tr>\n",
       "      <th>145</th>\n",
       "      <td>6.7</td>\n",
       "      <td>3.0</td>\n",
       "      <td>5.2</td>\n",
       "      <td>2.3</td>\n",
       "      <td>virginica</td>\n",
       "    </tr>\n",
       "    <tr>\n",
       "      <th>146</th>\n",
       "      <td>6.3</td>\n",
       "      <td>2.5</td>\n",
       "      <td>5.0</td>\n",
       "      <td>1.9</td>\n",
       "      <td>virginica</td>\n",
       "    </tr>\n",
       "    <tr>\n",
       "      <th>147</th>\n",
       "      <td>6.5</td>\n",
       "      <td>3.0</td>\n",
       "      <td>5.2</td>\n",
       "      <td>2.0</td>\n",
       "      <td>virginica</td>\n",
       "    </tr>\n",
       "    <tr>\n",
       "      <th>148</th>\n",
       "      <td>6.2</td>\n",
       "      <td>3.4</td>\n",
       "      <td>5.4</td>\n",
       "      <td>2.3</td>\n",
       "      <td>virginica</td>\n",
       "    </tr>\n",
       "    <tr>\n",
       "      <th>149</th>\n",
       "      <td>5.9</td>\n",
       "      <td>3.0</td>\n",
       "      <td>5.1</td>\n",
       "      <td>1.8</td>\n",
       "      <td>virginica</td>\n",
       "    </tr>\n",
       "  </tbody>\n",
       "</table>\n",
       "<p>150 rows × 5 columns</p>\n",
       "</div>"
      ],
      "text/plain": [
       "     sepal_length  sepal_width  petal_length  petal_width    species\n",
       "0             5.1          3.5           1.4          0.2     setosa\n",
       "1             4.9          3.0           1.4          0.2     setosa\n",
       "2             4.7          3.2           1.3          0.2     setosa\n",
       "3             4.6          3.1           1.5          0.2     setosa\n",
       "4             5.0          3.6           1.4          0.2     setosa\n",
       "..            ...          ...           ...          ...        ...\n",
       "145           6.7          3.0           5.2          2.3  virginica\n",
       "146           6.3          2.5           5.0          1.9  virginica\n",
       "147           6.5          3.0           5.2          2.0  virginica\n",
       "148           6.2          3.4           5.4          2.3  virginica\n",
       "149           5.9          3.0           5.1          1.8  virginica\n",
       "\n",
       "[150 rows x 5 columns]"
      ]
     },
     "execution_count": 687,
     "metadata": {},
     "output_type": "execute_result"
    }
   ],
   "source": [
    "# Returning sheet as a dataframe by sheet name\n",
    "# Note this particular sheet could have been accessed without passing any arguments as it is the first sheet\n",
    "\n",
    "xlsx.parse(\"iris\")"
   ]
  },
  {
   "cell_type": "code",
   "execution_count": 688,
   "metadata": {},
   "outputs": [
    {
     "data": {
      "text/html": [
       "<div>\n",
       "<style scoped>\n",
       "    .dataframe tbody tr th:only-of-type {\n",
       "        vertical-align: middle;\n",
       "    }\n",
       "\n",
       "    .dataframe tbody tr th {\n",
       "        vertical-align: top;\n",
       "    }\n",
       "\n",
       "    .dataframe thead th {\n",
       "        text-align: right;\n",
       "    }\n",
       "</style>\n",
       "<table border=\"1\" class=\"dataframe\">\n",
       "  <thead>\n",
       "    <tr style=\"text-align: right;\">\n",
       "      <th></th>\n",
       "      <th>A</th>\n",
       "      <th>B</th>\n",
       "      <th>C</th>\n",
       "      <th>D</th>\n",
       "    </tr>\n",
       "  </thead>\n",
       "  <tbody>\n",
       "    <tr>\n",
       "      <th>0</th>\n",
       "      <td>1</td>\n",
       "      <td>2</td>\n",
       "      <td>3</td>\n",
       "      <td>4</td>\n",
       "    </tr>\n",
       "    <tr>\n",
       "      <th>1</th>\n",
       "      <td>5</td>\n",
       "      <td>6</td>\n",
       "      <td>7</td>\n",
       "      <td>8</td>\n",
       "    </tr>\n",
       "    <tr>\n",
       "      <th>2</th>\n",
       "      <td>9</td>\n",
       "      <td>10</td>\n",
       "      <td>11</td>\n",
       "      <td>12</td>\n",
       "    </tr>\n",
       "  </tbody>\n",
       "</table>\n",
       "</div>"
      ],
      "text/plain": [
       "   A   B   C   D\n",
       "0  1   2   3   4\n",
       "1  5   6   7   8\n",
       "2  9  10  11  12"
      ]
     },
     "execution_count": 688,
     "metadata": {},
     "output_type": "execute_result"
    }
   ],
   "source": [
    "# Creating a dataframe to write to excel file\n",
    "\n",
    "data_to_write = [\n",
    "    [1,2,3,4],\n",
    "    [5,6,7,8],\n",
    "    [9,10,11,12]\n",
    "]\n",
    "df = pd.DataFrame(data_to_write, columns=['A','B','C','D'])\n",
    "df"
   ]
  },
  {
   "cell_type": "markdown",
   "metadata": {},
   "source": [
    "**Writing to excel**:  \n",
    "\n",
    "**`dataFrameObj.to_excel(filePathWithExtension, sheet_name='Sheet1', index=True)`**  \n",
    "* **`sheet_name`** is **optional, defaulting to `Sheet1`** or equivalent number  \n",
    "* By default **`index=` True**, this will **write** the **index column to the excel file**, set to **False** to **turn off**  \n",
    "* Note if trying to write a different sheet to the same file, it will **overwrite** the previous with just 1 sheet  \n",
    "* To write **multiple sheets to file** use **`ExcelWriter`** method (see below)  "
   ]
  },
  {
   "cell_type": "code",
   "execution_count": 689,
   "metadata": {},
   "outputs": [],
   "source": [
    "# Writes dataframe to excel sheet with the sheet name \"Number Matrix\"\n",
    "\n",
    "df.to_excel(\"writing to excel.xlsx\", sheet_name=\"Number Matrix\")"
   ]
  },
  {
   "cell_type": "code",
   "execution_count": 690,
   "metadata": {},
   "outputs": [],
   "source": [
    "# Check the excel file before and after running this line (and after running above)\n",
    "# The previous sheet will have been overwritten\n",
    "# This line also turns off the index parameter\n",
    "\n",
    "df.to_excel(\"writing to excel.xlsx\", sheet_name=\"New Number Matrix\", index=False)"
   ]
  },
  {
   "cell_type": "markdown",
   "metadata": {},
   "source": [
    "**ExcelWriter** method:  \n",
    "\n",
    "**`with pd.ExcelWriter(filePathWithExtension, mode='w') as writerObj:`**  \n",
    "$\\;\\;\\;\\;$**`dataFrameObj.to_excel(writerObj, sheet_name='Sheet1', index=True)`**  \n",
    "$\\;\\;\\;\\;$**`dataFrameObj.to_excel(writerObj, sheet_name='Sheet1', index=True)`**  \n",
    "* This will add multiple sheets to an excel file  \n",
    "* If no **`sheet_name`** provided to **any**, **only 1 sheet** will get **written**, providing the **1st but not the 2nd**, and the **2nd sheet** will default to **`Sheet1`**  \n",
    "* If wanting to **add sheets** to an **existing excel file**, set **`mode`** to **`'a'` (append)**  "
   ]
  },
  {
   "cell_type": "code",
   "execution_count": 691,
   "metadata": {},
   "outputs": [],
   "source": [
    "# Writing multiple sheets to an Excel file\n",
    "\n",
    "with pd.ExcelWriter(\"writing to excel.xlsx\") as writer:\n",
    "    df.to_excel(writer, sheet_name=\"Numbers\", index=False)\n",
    "    df.to_excel(writer)    # This sheet will be named \"Sheet1\""
   ]
  },
  {
   "cell_type": "markdown",
   "metadata": {},
   "source": [
    "**Writing formula to an Excel file**:  \n",
    "\n",
    "* Formula can be written directly into the dataset as a string, this will then be interpreted by Excel as formulas  "
   ]
  },
  {
   "cell_type": "code",
   "execution_count": 692,
   "metadata": {},
   "outputs": [
    {
     "data": {
      "text/html": [
       "<div>\n",
       "<style scoped>\n",
       "    .dataframe tbody tr th:only-of-type {\n",
       "        vertical-align: middle;\n",
       "    }\n",
       "\n",
       "    .dataframe tbody tr th {\n",
       "        vertical-align: top;\n",
       "    }\n",
       "\n",
       "    .dataframe thead th {\n",
       "        text-align: right;\n",
       "    }\n",
       "</style>\n",
       "<table border=\"1\" class=\"dataframe\">\n",
       "  <thead>\n",
       "    <tr style=\"text-align: right;\">\n",
       "      <th></th>\n",
       "      <th>A</th>\n",
       "      <th>B</th>\n",
       "      <th>SUM</th>\n",
       "    </tr>\n",
       "  </thead>\n",
       "  <tbody>\n",
       "    <tr>\n",
       "      <th>0</th>\n",
       "      <td>1</td>\n",
       "      <td>2</td>\n",
       "      <td>=SUM(A2:B2)</td>\n",
       "    </tr>\n",
       "    <tr>\n",
       "      <th>1</th>\n",
       "      <td>3</td>\n",
       "      <td>4</td>\n",
       "      <td>=SUM(A3:B3)</td>\n",
       "    </tr>\n",
       "    <tr>\n",
       "      <th>2</th>\n",
       "      <td>5</td>\n",
       "      <td>6</td>\n",
       "      <td>=SUM(A4:B4)</td>\n",
       "    </tr>\n",
       "  </tbody>\n",
       "</table>\n",
       "</div>"
      ],
      "text/plain": [
       "   A  B          SUM\n",
       "0  1  2  =SUM(A2:B2)\n",
       "1  3  4  =SUM(A3:B3)\n",
       "2  5  6  =SUM(A4:B4)"
      ]
     },
     "execution_count": 692,
     "metadata": {},
     "output_type": "execute_result"
    }
   ],
   "source": [
    "# Creating a dataframe containing string formulas\n",
    "\n",
    "df = pd.DataFrame(data=[[1, 2, '=SUM(A2:B2)'], [3,4, '=SUM(A3:B3)'], [5,6, '=SUM(A4:B4)']], columns=['A','B','SUM'])\n",
    "df"
   ]
  },
  {
   "cell_type": "code",
   "execution_count": 693,
   "metadata": {},
   "outputs": [],
   "source": [
    "# Writing dataframe with formulas to excel file\n",
    "\n",
    "df.to_excel(\"formula writing.xlsx\", sheet_name=\"formula\", index=False)"
   ]
  },
  {
   "cell_type": "markdown",
   "metadata": {},
   "source": [
    "[<p style=\"text-align: right;\">**⬆ Table of Contents ⬆**</p>](#Python-Notes!)"
   ]
  },
  {
   "cell_type": "markdown",
   "metadata": {},
   "source": [
    "---"
   ]
  },
  {
   "cell_type": "markdown",
   "metadata": {},
   "source": [
    "## <center>Simple APIs;</center>"
   ]
  },
  {
   "cell_type": "markdown",
   "metadata": {},
   "source": [
    "**API's - Application Program Interface**:\n",
    "\n",
    "* Allows two programs to talk to each other via inputs and outputs  \n",
    "* An API is a simple interface that defines the types of requests (demands/questions, etc.) that can be made, how they are made, and how they are processed  \n",
    "* Pandas is a type of API  \n",
    "* Any time the API is called on some data, you are creating an **instance**"
   ]
  },
  {
   "cell_type": "markdown",
   "metadata": {},
   "source": [
    "**rest API's**:  \n",
    "\n",
    "* A popular type of API which allows you to communicate through the internet to take advantage of resources like storage, access more data, AI algorithms, and much more  \n",
    "* **REST** stands for **RE**presentational **S**tate **T**ransfer  \n",
    "* Your program is called the **Client** which the API communicates with to a **Web Server** referred to as a **Resource** which you call through the internet  \n",
    "* **Client** finds service via an **endpoint**  \n",
    "* HTTP methods are a way of transmitting data over the internet  \n",
    "* **Requests** are sent from the **client** to the **resource** usually communicated via a **HTTP message usually containing a JSON file** containing instructions on what operation we would like the service to perform. Service performs the operation and the **Response** is sent from the **resource** to the **client** usually via a **JSON file**  \n",
    "* Set of rules regarding:  \n",
    "  1. Communication  \n",
    "  2. Input or Request  \n",
    "  3. Output or Response  \n"
   ]
  },
  {
   "cell_type": "markdown",
   "metadata": {},
   "source": [
    "![](https://res.cloudinary.com/practicaldev/image/fetch/s--YTDTEgpk--/c_limit%2Cf_auto%2Cfl_progressive%2Cq_auto%2Cw_880/https://dev-to-uploads.s3.amazonaws.com/i/ekawmj3rafdtn06hzj79.png \"REST API process\")"
   ]
  },
  {
   "cell_type": "markdown",
   "metadata": {},
   "source": [
    "**wrappers**:  \n",
    "\n",
    "*  An API wrapper is a language-specific package or kit that encapsulates multiple API calls to make complicated functions easy to use  \n",
    "* They help developers call various APIs without the need for their real-time interaction. As such, wrappers can be used to automate API-reliant processes  \n",
    "* Wrappers are used to add functions that the API might not have itself  "
   ]
  },
  {
   "cell_type": "markdown",
   "metadata": {},
   "source": [
    "**example of using API to get live Bitcoin data and plot to a candlestick diagram**:"
   ]
  },
  {
   "cell_type": "code",
   "execution_count": null,
   "metadata": {},
   "outputs": [],
   "source": [
    "# install pycoingecko wrapper for CoinGeckoAPI using pip\n",
    "# and import CoinGeckoAPI\n",
    "# pycoingecko will deal with endpoint targeting\n",
    "\n",
    "!pip install pycoingecko\n",
    "\n",
    "from pycoingecko import CoinGeckoAPI"
   ]
  },
  {
   "cell_type": "code",
   "execution_count": null,
   "metadata": {},
   "outputs": [],
   "source": [
    "# abbreviate CoinGeckoAPI() to \"cg\" for ease\n",
    "# use help function to see functions of API\n",
    "\n",
    "cg = CoinGeckoAPI()\n",
    "help(cg)"
   ]
  },
  {
   "cell_type": "code",
   "execution_count": null,
   "metadata": {},
   "outputs": [],
   "source": [
    "# getting list of all supported coins id's, name's and symbol's from CoinGeckoAPI\n",
    "\n",
    "cg.get_coins_list()"
   ]
  },
  {
   "cell_type": "code",
   "execution_count": null,
   "metadata": {},
   "outputs": [],
   "source": [
    "# getting coin market chart for 'bitcoin' and assigning to variable which \n",
    "# is returned (API response) as a JSON file expressed as as a dictionary\n",
    "\n",
    "bitcoin_data = cg.get_coin_market_chart_by_id(id='bitcoin', vs_currency='usd', days=30)\n",
    "bitcoin_data"
   ]
  },
  {
   "cell_type": "code",
   "execution_count": null,
   "metadata": {},
   "outputs": [],
   "source": [
    "# getting all keys from dictionary\n",
    "\n",
    "bitcoin_data.keys()"
   ]
  },
  {
   "cell_type": "code",
   "execution_count": null,
   "metadata": {},
   "outputs": [],
   "source": [
    "# creating dataframe from 'prices' values\n",
    "\n",
    "data = pd.DataFrame(bitcoin_data['prices'], columns=['Timestamp', 'Price'])\n",
    "data"
   ]
  },
  {
   "cell_type": "code",
   "execution_count": null,
   "metadata": {},
   "outputs": [],
   "source": [
    "# info on pandas 'to_datetime' function\n",
    "\n",
    "help(pd.to_datetime)"
   ]
  },
  {
   "cell_type": "code",
   "execution_count": null,
   "metadata": {},
   "outputs": [],
   "source": [
    "# using pandas 'to_datetime' function to convert timestamp \n",
    "# column to a readable date time format and append the new column\n",
    "\n",
    "data['Date'] = pd.to_datetime(data['Timestamp'], unit='ms')\n",
    "data"
   ]
  },
  {
   "cell_type": "code",
   "execution_count": null,
   "metadata": {},
   "outputs": [],
   "source": [
    "# getting candlestick data and assigning to variable\n",
    "# grouping by date we are obtaining min, max, first and last values of each day\n",
    "\n",
    "candlestick_data = data.groupby(data.Date.dt.date).agg({'Price': ['min', 'max', 'first', 'last']})\n",
    "candlestick_data"
   ]
  },
  {
   "cell_type": "code",
   "execution_count": null,
   "metadata": {},
   "outputs": [],
   "source": [
    "# using pip to install plotly library which will draw the candlestick diagram\n",
    "# importing graph_objects module and assinging to standard abbreviation 'go'\n",
    "\n",
    "!pip install plotly==4.14.3\n",
    "\n",
    "import plotly.graph_objects as go"
   ]
  },
  {
   "cell_type": "code",
   "execution_count": null,
   "metadata": {},
   "outputs": [],
   "source": [
    "# using plotly to plot and draw candlestick diagram\n",
    "\n",
    "fig = go.Figure(data=[go.Candlestick(x= candlestick_data.index, \n",
    "                open=candlestick_data['Price']['first'], \n",
    "                high=candlestick_data['Price']['max'], \n",
    "                low=candlestick_data['Price']['min'], \n",
    "                close=candlestick_data['Price']['last'])\n",
    "                ])\n",
    "\n",
    "fig.update_layout(xaxis_rangeslider_visible=False, xaxis_title='Date', \n",
    "yaxis_title='Price (USD $)', title='Bitcoin Candlestick Chart Over Past 30 Days')\n",
    "\n",
    "fig.show()"
   ]
  },
  {
   "cell_type": "markdown",
   "metadata": {},
   "source": [
    "**Watson Speech to Text API**  \n",
    "(Note this may fail if API has been deleted from IBM Cloud accoint)  "
   ]
  },
  {
   "cell_type": "code",
   "execution_count": null,
   "metadata": {},
   "outputs": [],
   "source": [
    "#install require library \n",
    "\n",
    "!pip install PyJWT==1.7.1 ibm_watson wget"
   ]
  },
  {
   "cell_type": "code",
   "execution_count": null,
   "metadata": {},
   "outputs": [],
   "source": [
    "# import SpeechToTextV1 from ibm_watson\n",
    "\n",
    "from ibm_watson import SpeechToTextV1 \n",
    "import json\n",
    "from ibm_cloud_sdk_core.authenticators import IAMAuthenticator"
   ]
  },
  {
   "cell_type": "code",
   "execution_count": null,
   "metadata": {},
   "outputs": [],
   "source": [
    "# The service endpoint is based on the location of the service \n",
    "# instance, we store the information in the variable URL\n",
    "# URL is obtained from IBM cloud services Speech to Text\n",
    "\n",
    "url_s2t = \"https://api.eu-gb.speech-to-text.watson.cloud.ibm.com/instances/da244606-73f7-4718-8c1c-2c5466754e50\""
   ]
  },
  {
   "cell_type": "code",
   "execution_count": null,
   "metadata": {},
   "outputs": [],
   "source": [
    "# a key is required for the service, this is essentially a password for the API service\n",
    "\n",
    "iam_apikey_s2t = \"p9l8ngfN9jLWN3F_j7yayZroRXEN-d0QMLIhbVKKTpGC\""
   ]
  },
  {
   "cell_type": "code",
   "execution_count": null,
   "metadata": {},
   "outputs": [],
   "source": [
    "# create a Speech to Text Adapter object\n",
    "\n",
    "authenticator = IAMAuthenticator(iam_apikey_s2t)\n",
    "s2t = SpeechToTextV1(authenticator=authenticator)\n",
    "s2t.set_service_url(url_s2t)\n",
    "s2t"
   ]
  },
  {
   "cell_type": "code",
   "execution_count": null,
   "metadata": {
    "scrolled": true
   },
   "outputs": [],
   "source": [
    "# install package to be able to use wget when running jupyter through anaconda\n",
    "\n",
    "conda install -c anaconda wget"
   ]
  },
  {
   "cell_type": "code",
   "execution_count": null,
   "metadata": {},
   "outputs": [],
   "source": [
    "# download audio file to use to convert to text\n",
    "\n",
    "# -O outputs to specified document and will overwrite \n",
    "# exsiting if run multipul times\n",
    "\n",
    "!wget -O PolynomialRegressionandPipelines.mp3 https://cf-courses-data.s3.us.cloud-object-storage.appdomain.cloud/IBMDeveloperSkillsNetwork-PY0101EN-SkillsNetwork/labs/Module%205/data/PolynomialRegressionandPipelines.mp3"
   ]
  },
  {
   "cell_type": "code",
   "execution_count": null,
   "metadata": {},
   "outputs": [],
   "source": [
    "# assign path of file we want to convert to text to variable\n",
    "\n",
    "filename='PolynomialRegressionandPipelines.mp3'"
   ]
  },
  {
   "cell_type": "code",
   "execution_count": null,
   "metadata": {},
   "outputs": [],
   "source": [
    "# create file object 'wav' and open in binary mode\n",
    "# use method 'recognize' to return recognized text\n",
    "# parameter 'audio' is the file object\n",
    "# parameter ' content_type' is format of file\n",
    "\n",
    "with open(filename, mode=\"rb\")  as wav:\n",
    "    response = s2t.recognize(audio=wav, content_type='audio/mp3')"
   ]
  },
  {
   "cell_type": "code",
   "execution_count": null,
   "metadata": {},
   "outputs": [],
   "source": [
    "# attribute 'result' contains a dictionary with the recognized text\n",
    "\n",
    "response.result"
   ]
  },
  {
   "cell_type": "code",
   "execution_count": null,
   "metadata": {},
   "outputs": [],
   "source": [
    "# normalize semi-structured JSON data into a flat table\n",
    "\n",
    "pd.json_normalize(response.result['results'],\"alternatives\")"
   ]
  },
  {
   "cell_type": "code",
   "execution_count": null,
   "metadata": {},
   "outputs": [],
   "source": [
    "# obtain recognized text and assign to variable\n",
    "\n",
    "recognized_text=response.result['results'][0][\"alternatives\"][0][\"transcript\"]\n",
    "type(recognized_text)"
   ]
  },
  {
   "cell_type": "code",
   "execution_count": null,
   "metadata": {},
   "outputs": [],
   "source": [
    "recognized_text"
   ]
  },
  {
   "cell_type": "markdown",
   "metadata": {},
   "source": [
    "**Watson Language Translator**\n",
    "(Note this may fail if API has been deleted from IBM Cloud accoint)"
   ]
  },
  {
   "cell_type": "code",
   "execution_count": null,
   "metadata": {},
   "outputs": [],
   "source": [
    "# import 'LanguageTranslatorV3' from ibm_watson library\n",
    "\n",
    "from ibm_watson import LanguageTranslatorV3"
   ]
  },
  {
   "cell_type": "code",
   "execution_count": null,
   "metadata": {},
   "outputs": [],
   "source": [
    "# The service endpoint is based on the location of the service \n",
    "# instance, we store the information in the variable URL\n",
    "\n",
    "url_lt='https://api.eu-gb.language-translator.watson.cloud.ibm.com/instances/81c2ebf3-d09f-41f5-85fa-68260a27bac0'"
   ]
  },
  {
   "cell_type": "code",
   "execution_count": null,
   "metadata": {},
   "outputs": [],
   "source": [
    "# a key is required for the service, this is essentially a password for the API service\n",
    "\n",
    "apikey_lt='D1479Mx2sctIc6L_8EAO7jCBUe2tzRSzNtnqqeaHwq4q'"
   ]
  },
  {
   "cell_type": "code",
   "execution_count": null,
   "metadata": {},
   "outputs": [],
   "source": [
    "# API requests require a version parameter that takes a date in the format version=YYYY-MM-DD\n",
    "\n",
    "version_lt='2018-05-01'"
   ]
  },
  {
   "cell_type": "code",
   "execution_count": null,
   "metadata": {},
   "outputs": [],
   "source": [
    "# create a Language Translator object 'language_translator'\n",
    "\n",
    "authenticator = IAMAuthenticator(apikey_lt)\n",
    "language_translator = LanguageTranslatorV3(version=version_lt,authenticator=authenticator)\n",
    "language_translator.set_service_url(url_lt)\n",
    "language_translator"
   ]
  },
  {
   "cell_type": "code",
   "execution_count": null,
   "metadata": {},
   "outputs": [],
   "source": [
    "# get a Lists the languages that the service can identify. The method Returns the language codes\n",
    "\n",
    "pd.json_normalize(language_translator.list_identifiable_languages().get_result(), \"languages\")"
   ]
  },
  {
   "cell_type": "code",
   "execution_count": null,
   "metadata": {},
   "outputs": [],
   "source": [
    "# method translate this will translate the text\n",
    "\n",
    "# parameter text is the text, model_id is the type of model we \n",
    "# would like to use, here set to 'en-es' or English to Spanish\n",
    "\n",
    "# we get a detailed response object 'translation_response'\n",
    "\n",
    "translation_response = language_translator.translate(text=recognized_text, model_id='en-es')\n",
    "translation_response"
   ]
  },
  {
   "cell_type": "code",
   "execution_count": null,
   "metadata": {},
   "outputs": [],
   "source": [
    "# The 'result' is a dictionary\n",
    "\n",
    "translation = translation_response.get_result()\n",
    "translation"
   ]
  },
  {
   "cell_type": "code",
   "execution_count": null,
   "metadata": {},
   "outputs": [],
   "source": [
    "# can obtain the actual translation as a string\n",
    "\n",
    "spanish_translation =translation['translations'][0]['translation']\n",
    "spanish_translation "
   ]
  },
  {
   "cell_type": "code",
   "execution_count": null,
   "metadata": {},
   "outputs": [],
   "source": [
    "# can translate back to English\n",
    "\n",
    "translation_new = language_translator.translate(text=spanish_translation ,model_id='es-en').get_result()"
   ]
  },
  {
   "cell_type": "code",
   "execution_count": null,
   "metadata": {},
   "outputs": [],
   "source": [
    "# obtain string from dictionary\n",
    "\n",
    "translation_eng=translation_new['translations'][0]['translation']\n",
    "translation_eng"
   ]
  },
  {
   "cell_type": "markdown",
   "metadata": {},
   "source": [
    "[<p style=\"text-align: right;\">**⬆ Table of Contents ⬆**</p>](#Python-Notes!)"
   ]
  },
  {
   "cell_type": "markdown",
   "metadata": {},
   "source": [
    "---"
   ]
  },
  {
   "cell_type": "markdown",
   "metadata": {},
   "source": [
    "**HTTP protocol**:\n",
    "* General protocal for transferring information through the web  \n",
    "* Rest APIs communicate via HTTP messages which usually contain a JSON file  \n",
    "* When a client uses a webpage, browser sends a HTTP request to server and the server will try to find the desired resource, by default this will be index.html. If request is successful, the server will send the object to the client in a HTTP response. This will include type of resource, length of resource and other info  \n",
    "* URL **Uniform Resource Locator** is one of the most popular ways to find resources on the web. This can be broken into 3 parts:\n",
    "    1.  **Scheme** - This is the protocol, e.g. **`http://`**  \n",
    "    2.  **Internet address or Base URL** - Used to find the location of web server, e.g. **`www.webaddress.com`**  \n",
    "    3.  **Route** - Location on the web server, e.g. **`/images/IDSNlogo.png`**  "
   ]
  },
  {
   "cell_type": "markdown",
   "metadata": {},
   "source": [
    "---"
   ]
  },
  {
   "cell_type": "markdown",
   "metadata": {},
   "source": [
    "## <center>Notes;</center>"
   ]
  },
  {
   "cell_type": "code",
   "execution_count": null,
   "metadata": {},
   "outputs": [],
   "source": []
  },
  {
   "cell_type": "code",
   "execution_count": null,
   "metadata": {},
   "outputs": [],
   "source": []
  },
  {
   "cell_type": "code",
   "execution_count": null,
   "metadata": {},
   "outputs": [],
   "source": []
  },
  {
   "cell_type": "code",
   "execution_count": null,
   "metadata": {},
   "outputs": [],
   "source": []
  },
  {
   "cell_type": "code",
   "execution_count": null,
   "metadata": {},
   "outputs": [],
   "source": []
  },
  {
   "cell_type": "markdown",
   "metadata": {},
   "source": [
    "[<p style=\"text-align: right;\">**⬆ Table of Contents ⬆**</p>](#Python-Notes!)"
   ]
  }
 ],
 "metadata": {
  "kernelspec": {
   "display_name": "Python 3 (ipykernel)",
   "language": "python",
   "name": "python3"
  },
  "language_info": {
   "codemirror_mode": {
    "name": "ipython",
    "version": 3
   },
   "file_extension": ".py",
   "mimetype": "text/x-python",
   "name": "python",
   "nbconvert_exporter": "python",
   "pygments_lexer": "ipython3",
   "version": "3.9.7"
  }
 },
 "nbformat": 4,
 "nbformat_minor": 4
}
