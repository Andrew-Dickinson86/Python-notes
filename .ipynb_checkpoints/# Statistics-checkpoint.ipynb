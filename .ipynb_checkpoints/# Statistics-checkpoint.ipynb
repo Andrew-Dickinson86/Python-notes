{
 "cells": [
  {
   "cell_type": "markdown",
   "id": "0a117f99-4386-460e-9139-246938537eed",
   "metadata": {},
   "source": [
    "## <center>Basic Statistics<center>"
   ]
  },
  {
   "cell_type": "markdown",
   "id": "2fe48d8b-26cd-48fd-b46a-fcef5a674edb",
   "metadata": {
    "tags": []
   },
   "source": [
    "### Useful Links"
   ]
  },
  {
   "cell_type": "markdown",
   "id": "8837b012-0adf-492f-8aab-01c872e06b79",
   "metadata": {},
   "source": [
    "[Python Quick Reference](https://www.python.org/ftp/python/doc/1.1/quick-ref.1.1.html)"
   ]
  },
  {
   "cell_type": "markdown",
   "id": "be8f89f4-149d-4ad4-8c2f-8f300b60b936",
   "metadata": {},
   "source": [
    "[Python3 cheat sheet](https://perso.limsi.fr/pointal/_media/python:cours:mementopython3-english.pdf)"
   ]
  },
  {
   "cell_type": "markdown",
   "id": "b0281a6c-a79f-423c-a489-1ae2a3170a2e",
   "metadata": {},
   "source": [
    "[Python.org](https://www.python.org/)"
   ]
  },
  {
   "cell_type": "markdown",
   "id": "afe303e3-07ae-40a2-8c7d-f9bfbeada088",
   "metadata": {},
   "source": [
    "[Python Standard Library](https://docs.python.org/3/library/index.html)"
   ]
  },
  {
   "cell_type": "markdown",
   "id": "5bbaa89f-5acc-425f-9707-5acd77748eb4",
   "metadata": {},
   "source": [
    "[Python Functions](https://docs.python.org/3/library/functions)"
   ]
  },
  {
   "cell_type": "markdown",
   "id": "284b0406-eb1b-4cbe-b293-4e3b3217c045",
   "metadata": {},
   "source": [
    "---"
   ]
  },
  {
   "cell_type": "markdown",
   "id": "dfc6c0bd-12e0-488b-ae9a-d567e967d7d3",
   "metadata": {},
   "source": [
    "|<td colspan=3> <center><bold><h3>**Table of contents**<center>|||\n",
    "|---|:---|:---:|\n",
    "|**01.**|[**Basic Statistics**](#Basic-Statistics;)|statistical types of data<br>types of probability distribution<br>expected value<br>mode, variance, median<br>pearson correlation coefficient (PCC)|"
   ]
  },
  {
   "cell_type": "markdown",
   "id": "6bdf2f0d-66de-48d2-8a7f-965e4fe613f4",
   "metadata": {},
   "source": [
    "**Statistical types of data**:  \n",
    "\n",
    "Three main types:\n",
    "- $x$ is an **ordinal** variable if $x\\in\\mathbb{N}$ (**Natural numbers** - whole, positive, **typically does not include 0**);  \n",
    "$\\;\\;\\;\\;$e.g:  \n",
    "    * Our age  \n",
    "    * Amazon star reviews  \n",
    "    * Likert scale (strongly agree [5], agree [4], neutral [3], disgree [2], strongly disagree [1])  \n",
    "- $x$ is a **numerical** variable if $x\\in\\mathbb{R}$ (**Real numbers** - all rational and irrational numbers;  \n",
    "- $x$ is an **categorical (or nominal)** variable if $x\\in C$, where $C$ is a **finite set** of element (and typically there's **no order between the elements** of $C$)  \n",
    "$\\;\\;\\;\\;$e.g:  \n",
    "    * Yes/No,  \n",
    "    * The categories of films/books  "
   ]
  },
  {
   "cell_type": "markdown",
   "id": "cbeb1a26-2550-40fd-a253-009109f55ae4",
   "metadata": {},
   "source": [
    "**Types of probability distribution**:  \n",
    "\n",
    "There are **two main types**:  \n",
    "* **Discrete**; good for **categorical / ordinal** data  \n",
    "* **Continuous**; good for **numerical** data  "
   ]
  },
  {
   "cell_type": "markdown",
   "id": "03ecdeb3-136f-4321-8e9a-89e54c16654c",
   "metadata": {},
   "source": [
    "**Discrete probability distributions** include:  \n",
    "\n",
    "* Bernoulli Distribution  \n",
    "* Uniform Distribution  \n",
    "* Poisson Distribution  "
   ]
  },
  {
   "cell_type": "markdown",
   "id": "63df7813-204d-4824-9b3a-000938c8564d",
   "metadata": {},
   "source": [
    "**Continuous probability distributions** include:  \n",
    "\n",
    "* Continuous Uniform Distribution  \n",
    "* Gaussian Distribution  "
   ]
  },
  {
   "cell_type": "markdown",
   "id": "aee44327-c4c4-4313-b3fd-92c254d39e34",
   "metadata": {},
   "source": [
    "**Bernoulli Distribution**:  \n",
    "\n",
    "See NumPy section for creating random distributions in Python  \n",
    "\n",
    "Any kind of events with **two possible outcomes (binary events**), e.g. flipping a fair coin  \n",
    "The **probability mass function (PMF) `f`** over possible outcomes **k** is:  \n",
    "![](https://wikimedia.org/api/rest_v1/media/math/render/svg/614e0c64d59f0ff2e926deafcb2de6e502394fac)  \n",
    "**k** = success - outcome you want to keep track of (1 = success)  \n",
    "**p** = probability of success (probability of failiure is 1-p)  \n",
    "Every Bernoulli trial must be an **independant event**  \n",
    "\n",
    "\n",
    "<img src=\"img/bernoulli_distribution.png\" alt=\"Bernoulli Distribution\" width=\"75%\" height=\"auto\" class=\"blog-image\">"
   ]
  },
  {
   "cell_type": "markdown",
   "id": "b5f6d345-ff23-4d1c-8709-41bfa60b37d0",
   "metadata": {},
   "source": [
    "**Uniform Distribution**:  \n",
    "\n",
    "See NumPy section for creating random distributions in Python  \n",
    "\n",
    "Good to formalise **events with equal probability**  \n",
    "e.g. drawing a heart, diamond, club, or spade from a deck of cards,  \n",
    "$\\;\\;\\;\\;$ or rolling a number on a dice  \n",
    "Has **one parameter n (the number of events)** where each event has the **same probability**  \n",
    "from the set of realisation {a-b}, (otherwise probability is zero)  \n",
    "**probability mass function (PMF) `f`**:  \n",
    "![](https://www.math.net/mj/Zih4KSA9IFxmcmFjMW4gXCAsIFwgXHRleHR7eCA9IDEsIDIsIDMsIC4uLiwgbn0=_100.svg)  \n",
    "**n** = number of events  \n",
    "\n",
    "![](https://upload.wikimedia.org/wikipedia/commons/thumb/1/1f/Uniform_discrete_pmf_svg.svg/488px-Uniform_discrete_pmf_svg.svg.png)"
   ]
  },
  {
   "cell_type": "markdown",
   "id": "a947c3ea-f379-4f74-9cd9-8235c15eed63",
   "metadata": {},
   "source": [
    "**Poisson Distribution**:  \n",
    "\n",
    "See NumPy section for creating random distributions in Python  \n",
    "\n",
    "Good to formalise **events occurring in a fixed interval of time (or space), or other specified interval types such as distance, area or volume**  \n",
    "e.g. Number of patients visiting the GP between 10-11am  \n",
    "$\\;\\;\\;\\;$or Number of rainy days in Edinburgh in a year  \n",
    "**probability mass function (PMF) `f`**:  \n",
    "\n",
    "![](https://wikimedia.org/api/rest_v1/media/math/render/svg/6c429d187b5d4ef8ddea32a2d224f423cf9fe5b0)  \n",
    "Valid **only for values on the x-axis** \n",
    "\n",
    "e is Euler's number (e = 2.71828...)  \n",
    "k is the number of occurrences  \n",
    "k! is the factorial of x  \n",
    "λ (sometimes written μ) is a potitive number equal to the expected value (EV) of X when that is also equal to its variance   \n",
    "![](https://wikimedia.org/api/rest_v1/media/math/render/svg/2debd3f9adf97c8af4919aa69ed4a7121b47a737)\n",
    "\n",
    "![](https://wsproject.org/images/poisson3.gif)"
   ]
  },
  {
   "cell_type": "markdown",
   "id": "be785197-f582-4ad0-9c3f-7998674dc84c",
   "metadata": {},
   "source": [
    "**Continuous probability distributions** include:  \n",
    "\n",
    "* Continuous Uniform Distribution  \n",
    "* Gaussian Distribution  "
   ]
  },
  {
   "cell_type": "markdown",
   "id": "4e4634e8-3a07-4af5-9404-e76f8ace0e89",
   "metadata": {},
   "source": [
    "**Continuous Uniform Distribution**:  \n",
    "\n",
    "The distribution describes an experiment where there is an **arbitrary outcome that lies between certain bounds**  \n",
    "The **bounds are** defined by the parameters, **a and b**, which are the **minimum and maximum values**  \n",
    "**probability density function (PDF) `f`**:  \n",
    "\n",
    "![](https://wikimedia.org/api/rest_v1/media/math/render/svg/b701524dbfea89ed90316dbc48c5b62954d7411c)  \n",
    "\n",
    "![](https://upload.wikimedia.org/wikipedia/commons/thumb/9/96/Uniform_Distribution_PDF_SVG.svg/375px-Uniform_Distribution_PDF_SVG.svg.png)  "
   ]
  },
  {
   "cell_type": "markdown",
   "id": "c8539ce4-8eb1-4183-88f7-1d4da7f44e50",
   "metadata": {},
   "source": [
    "**Gaussian Distribution**:  \n",
    "\n",
    "See NumPy section for creating random distributions in Python  \n",
    "\n",
    "For a **real-valued** (Rational and irrational numbers) random variable \n",
    "Informally called a bell curve, but there are other types of bell shaped distributions  \n",
    "**probability density function (PDF) `f`**:  \n",
    "\n",
    "![](https://wikimedia.org/api/rest_v1/media/math/render/svg/00cb9b2c9b866378626bcfa45c86a6de2f2b2e40)  \n",
    "\n",
    "**μ** (Mu) is the **mean** or expectation of the distribution (and also its median and mode)  \n",
    "**σ** (Sigma) is the **standard deviation**  \n",
    "\n",
    "When **μ=0 and σ=1**, this is called **Normal Distribution (Z)**  \n",
    "\n",
    "![](https://upload.wikimedia.org/wikipedia/commons/thumb/7/74/Normal_Distribution_PDF.svg/330px-Normal_Distribution_PDF.svg.png)  \n",
    "Red curve is the **Standard normal distribution**  \n",
    "\n",
    "**Normal distribution:**  \n",
    "![](https://i.insider.com/546e68776bb3f74f68b7d0ba?width=769&format=jpeg)  "
   ]
  },
  {
   "cell_type": "markdown",
   "id": "8b21b0e3-db40-4fb2-b81c-1024210d2a70",
   "metadata": {},
   "source": [
    "**Expected value**:  \n",
    "\n",
    "The return you can expect for some kind of action  \n",
    "Generalised as the weighted average  \n",
    "The **basic expected value** formula:  \n",
    "The probability of an event multiplied by the amount of times the event happens  \n",
    "$ E(X) = P(x) * n $  \n",
    "\n",
    "The formula changes slightly according to what kinds of events are happening.\n",
    "For **discrete binomial events** (2 outcomes):  \n",
    "$ E(X) = P(x) * X $   \n",
    "\n",
    "For **discrete multiple events** (multiple probabilities):  \n",
    "$ E(X) = \\sum X * P(X) $  \n",
    "\n",
    "**P(x)** = probability of success  \n",
    "**X** = number of trials  \n",
    "\n",
    "For a **continuous random variable**:  \n",
    "![](https://study.com/cimages/multimages/16/visual4-1.png)  \n",
    "\n",
    "The curve is esscentially broken up into smaller and smaller intervals and the weighted average is calculated similar to discrete distribution  4"
   ]
  },
  {
   "cell_type": "markdown",
   "id": "bd9eae6d-616f-4eb3-8a10-a9610da6b871",
   "metadata": {},
   "source": [
    "**Mode**:  \n",
    "\n",
    "Mode is the value with the highest probability (this will be in the center of a symetric distribution)  \n",
    "\n",
    "Single mode = **Unimodel**  \n",
    "Two or more modes = **Multimodel**  "
   ]
  },
  {
   "cell_type": "markdown",
   "id": "0eeaaaa8-1cd1-47dd-909c-9a30b18100ab",
   "metadata": {},
   "source": [
    "**Variance**:  \n",
    "\n",
    "Quantifies the spread around the mean  \n",
    "Defined as the mean of the squared difference between the mean and the data  \n",
    "For **Discrete** random variable:  \n",
    "![](https://wikimedia.org/api/rest_v1/media/math/render/svg/2577f2b00102ca127d8867a756b85e17d97eab5f)  \n",
    "**μ** = expected value  \n",
    "\n",
    "For **Continuous** random variable:  \n",
    "![](https://wikimedia.org/api/rest_v1/media/math/render/svg/15af4223be86b41d179dfd36b2ecbc27fd2d467a)  \n",
    "**f(x)** = PDF  "
   ]
  },
  {
   "cell_type": "markdown",
   "id": "023b84e9-e8ae-4b96-9e13-ef91b1077d78",
   "metadata": {},
   "source": [
    "**Medium**:  \n",
    "\n",
    "The **middle value** in a sorted, ascending or descending, list of values  \n",
    "![](https://upload.wikimedia.org/wikipedia/commons/thumb/c/cf/Finding_the_median.png/330px-Finding_the_median.png)  \n",
    "\n",
    "![](https://ubalt.pressbooks.pub/app/uploads/sites/11/2020/12/ch29a-redone.png)  "
   ]
  },
  {
   "cell_type": "markdown",
   "id": "c4b197ae-858e-49e4-a89f-69985f6cecd0",
   "metadata": {},
   "source": [
    "**Pearson correlation coefficient (PCC)**:  \n",
    "\n",
    "A measure of **linear correlation** between two sets of data  \n",
    "It is the ratio between the covariance of two variables and the product of their standard deviations; thus it is essentially a normalized measurement of the covariance, such that the result always has a value between −1 and 1  \n",
    "\n",
    "![](https://wikimedia.org/api/rest_v1/media/math/render/svg/2b9c2079a3ffc1aacd36201ea0a3fb2460dc226f)  \n",
    "Where:\n",
    "**n** = sample size  \n",
    "**x<sub>i</sub>, y<sub>i</sub>** = individual sample points indexed with *i*  \n",
    "![](https://wikimedia.org/api/rest_v1/media/math/render/svg/5792e9289b8786ab64a5ef4e0cd083f9c151062e) = (the sample mean); and analogously for ȳ  \n",
    "\n",
    "Does not exactly mean that one event causes the other (but we can have an idea)  \n",
    "Values closer to $\\pm$1 = high correlation  \n",
    "Values closer to 0 = low correlation  \n",
    "\n",
    "![](https://upload.wikimedia.org/wikipedia/commons/thumb/3/34/Correlation_coefficient.png/600px-Correlation_coefficient.png)"
   ]
  },
  {
   "cell_type": "markdown",
   "id": "f5b355ed-2992-4b25-a733-0084938f0288",
   "metadata": {},
   "source": [
    "[<p style=\"text-align: right;\">**⬆ Top of Page ⬆**</p>](#Basic-Statistics)"
   ]
  },
  {
   "cell_type": "markdown",
   "id": "1e44fb00-3219-4809-b925-10d8e4684e3c",
   "metadata": {},
   "source": [
    "---"
   ]
  }
 ],
 "metadata": {
  "kernelspec": {
   "display_name": "Python 3 (ipykernel)",
   "language": "python",
   "name": "python3"
  },
  "language_info": {
   "codemirror_mode": {
    "name": "ipython",
    "version": 3
   },
   "file_extension": ".py",
   "mimetype": "text/x-python",
   "name": "python",
   "nbconvert_exporter": "python",
   "pygments_lexer": "ipython3",
   "version": "3.9.7"
  }
 },
 "nbformat": 4,
 "nbformat_minor": 5
}
