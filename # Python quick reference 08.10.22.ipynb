{
 "cells": [
  {
   "cell_type": "markdown",
   "metadata": {},
   "source": [
    "# <center><ins>Python Quick Reference"
   ]
  },
  {
   "cell_type": "markdown",
   "metadata": {},
   "source": [
    "<div class=\"alert alert-success alertsuccess\" style=\"margin-top: 20px\">\n",
    "    <font size=\"5\">Authors Note</font><br><br>This notebook is an <strong>ongoing project</strong>, and as such, while every effort has been made to ensure the accuracy and completeness of the information, no guarantee is given nor responsibility taken for errors or omissions.<br><br>The notebook is designed for <strong>rapidly finding information regarding correct syntax and structure.</strong><br>No examples are included in this notebook for cleaner and easier reading. Please see my other notebook (Python notes and reference) which contains examples.<br><br>I hope this comes in useful to whoever finds it.<br>Andy Taison 28/04/2022\n",
    "</div>"
   ]
  },
  {
   "cell_type": "markdown",
   "metadata": {},
   "source": [
    "[Python3 cheat sheet](https://perso.limsi.fr/pointal/_media/python:cours:mementopython3-english.pdf)"
   ]
  },
  {
   "cell_type": "markdown",
   "metadata": {
    "jp-MarkdownHeadingCollapsed": true,
    "tags": []
   },
   "source": [
    "|<td colspan=3> <center><bold><h3>**Table of contents**<center>|||\n",
    "|---|:---|:---:|\n",
    "|**1.**|[**Useful information**](#Useful-information:)||\n",
    "|**2.**|[**Operator precedence rule in Python**](#Operator-precedence-rule-in-Python:)||\n",
    "|**3.**|[**Mutable or Immutable**](#Mutable-or-Immutable:)||\n",
    "|**4.**|[**Strings/Variables, Operators and Basics**](#Strings/Variables-and-Basics:)|types, operators, comparisons,<br>escape sequences, basic methods,<br>user input,<br>formatting strings, f-strings, formatting types,<br>zfill( )|\n",
    "|**5.**|[**Regular Expressions (Regex)**](#Regular-Expressions-(Regex):)|Metacharacters<br>Special Sequences, sets<br>RegEx functions<br>Match objects, flags|\n",
    "|**6.**|[**Tuples**](#Tuples:)|( )<br>immutable, ordered|\n",
    "|**7.**|[**Lists**](#Lists:)|[ ]<br>mutable, ordered|\n",
    "|**8.**|[**Dictionaries**](#Dictionaries:)|{ : , }<br>keys are mutable and unique|\n",
    "|**9.**|[**Sets**](#Sets:)|{ }<br>unordered and unique elements,<br>mutable|\n",
    "|**10.**|[**Branching**](#Branching:)|if( ): else( ): elif( ):|\n",
    "|**11.**|[**Logic Operators**](#Logic-Operators:)|not or and|\n",
    "|**12.**|[**Loops**](#Loops:)|for :<br>parallel iteration<br>[ list comprehension ], { dictionary comprehension }<br>while :<br>break, continue, pass|\n",
    "|**13.**|[**Exception Handling**](#Exception-Handling:)|built-in exceptions,<br>try except statement,<br>raise exception<br>custom exception<br>traceback<br>assert|\n",
    "|**14.**|[**Useful Built-in Functions**](#-Useful-Built-in-Functions:)|range( ), enumerate( ),<br> .count( ), sum( ),<br>isnumeric( ), isinstance( ),<br>zip( ),<br>map( )|\n",
    "|**15.**|[**Building Functions**](#-Building-Functions:)|define, call and help on functions,<br>global / local scopes,<br>lambda functions|\n",
    "|**16.**|[**Classes, Objects and Methods**](#Classes,-Objects-and-Methods:)|define class, create objects,<br>inheritance,<br>access / change attributes,<br>create / call methods,<br>special methods,<br>get/set with @property decorator<br>dir command,<br>duck typing|\n",
    "|**17.**|[**Command line arguments**](#Command-line-arguments:)|using sys<br>argparse|\n",
    "|**18.**|[**PIP**](#PIP:)|list installed packages,<br>install / uninstall packages|\n",
    "|**19a.**|[**Working with Files<br>Opening and Reading Files**](#Opening-and-Reading-Files:)|open function,<br> .name, .mode, .closed, .close( ) methods,<br> with statement,<br> .read( ), .readline( ), .readlines( ) methods|\n",
    "|**19b.**|[**Working with Files<br>Writing to Files**](#Writing-to-Files:)|.write( ) method,<br>with statement,<br> .seek( ), .tell( ) methods,<br>writting from a list, copying files|\n",
    "|**20.**|[**CSV Library**](#CSV-Library:)|reading csv files<br>reading to a dataset<br>using csv library<br>writting to csv files|\n",
    "|**21.**|[**Excel files**](#Excel-Files:)|read Excel files to dataframe<br>ExcelFile<br>sheet_names, parse( )<br>writting to Excel from dataframe<br>ExcelWriter<br>writting formula to Excel|\n",
    "|**22.**|[**Pandas**](#Pandas:)|import library,<br>create df from file / dictionary / columns,<br>saving df,<br>head / tail / columns / index / shape / loc / iloc / unique methods,<br>selecting data,<br>rename / reorder columns, set index / index name<br>drop function<br>groupby( ) method|\n",
    "|**23.**|[**NumPy**](#NumPy:)|import library,<br>cast list to numpy,<br>numpy matrix objects,<br>largest element in array or matrix,<br>zeros( ), ones( ), eye( ), empty( ) functions<br>cast dataset to ndarray<br>index / slice arrays,<br>dtype / size / ndim / shape / unique methods,<br>array addition / subtraction / multiplication,<br>add axis to array<br>hadamard / dot product,<br>matrix multiplication,<br>norm of a matrix or vector,<br>transpose a matrix,<br>trace of a matrix,<br>determinant of a matrix,<br>inverse of a matrix,<br>Moore-Penrose pseudoinverse,<br>eig function (eigenvalues/vectors),<br>min, max, square root, mean, variance, standard deviation, pi,<br>random numbers with Numpy, int / float / seed<br>random binomial / uniform / poisson / normal / gassian distributions<br>linspace,<br>matplotlib| \n",
    "|**24.**|[**Working with Images**](#Working-with-Images:)|RGB colour space<br>set array for image channel<br>Pillow, Image modules<br>open( ), show( ), imshow( ) functions<br> size, format, mode attributes<br> resize an image<br>save image<br>create ndarray from image<br>clipping images<br>broadcasting to an image|\n",
    "|**25.**|[**Basic Statistics**](#Basic-Statistics:)|statistical types of data<br>types of probability distribution<br>expected value<br>mode, variance, median<br>pearson correlation coefficient (PCC)|\n",
    "|**26.**|[**Data Processing**](#Data-Preprocessing:)|data scaling<br>data normalisation<br>ordinal encoding<br>one-hot encoding<br>concatenate arrays|\n",
    "|**27.**|[**Simple APIs**](#Simple-APIs:)||  \n",
    "|**End**|[**End of Notebook / Notes**](#Notes:)||"
   ]
  },
  {
   "cell_type": "markdown",
   "metadata": {},
   "source": [
    "## <center>Useful information:</center>"
   ]
  },
  {
   "cell_type": "code",
   "execution_count": null,
   "metadata": {},
   "outputs": [],
   "source": [
    "# Check the Python Version\n",
    "\n",
    "import sys\n",
    "print(sys.version)"
   ]
  },
  {
   "cell_type": "markdown",
   "metadata": {},
   "source": [
    ">Python is an interpreted, object-orientated, high-level programming language with dynamic semantics. It interprets script line by line as it executes and will stop the entire program when it encounters an error unless error was expected and handled by the programmer.  \n",
    "Python is coded in C/C++ meaning C/C++ code can be created and used within Python.   "
   ]
  },
  {
   "cell_type": "markdown",
   "metadata": {},
   "source": [
    "<div class=\"alert alert-success alertsuccess\" style=\"margin-top: 20px\">\n",
    "    [Tip:] When learning a <code>new library</code>, always start by checking out the developers website and begin with the quick start.\n",
    "</div>"
   ]
  },
  {
   "cell_type": "markdown",
   "metadata": {},
   "source": [
    "---"
   ]
  },
  {
   "cell_type": "markdown",
   "metadata": {},
   "source": [
    "**Help** on operations, types, methods and functions\n",
    "\n",
    "**`help(A)`**\n",
    "* Would give help on a list and variable `A`"
   ]
  },
  {
   "cell_type": "markdown",
   "metadata": {},
   "source": [
    "---"
   ]
  },
  {
   "cell_type": "markdown",
   "metadata": {},
   "source": [
    "**print all variables and function names of a module**  \n",
    "\n",
    "**`print(dir(moduleName))`**  \n",
    "* This will print all the variables and function names from the module given  "
   ]
  },
  {
   "cell_type": "markdown",
   "metadata": {},
   "source": [
    "---"
   ]
  },
  {
   "cell_type": "markdown",
   "metadata": {},
   "source": [
    "**Get Unicode code**  \n",
    "\n",
    "**`ord(character)`**  \n",
    "* Returns the unicode of given character  "
   ]
  },
  {
   "cell_type": "markdown",
   "metadata": {},
   "source": [
    "---"
   ]
  },
  {
   "cell_type": "markdown",
   "metadata": {},
   "source": [
    "**tab prompt**  \n",
    "\n",
    "* Use tab to autocomplete when typing variable names and functions  \n",
    "* Can also be used after **\".\"** to get a prompt list of availiable functions and methods  "
   ]
  },
  {
   "cell_type": "markdown",
   "metadata": {},
   "source": [
    "[<p style=\"text-align: right;\">**⬆ Table of Contents ⬆**</p>](#Python-Quick-Reference)"
   ]
  },
  {
   "cell_type": "markdown",
   "metadata": {},
   "source": [
    "---"
   ]
  },
  {
   "cell_type": "markdown",
   "metadata": {},
   "source": [
    "## <center>Operator precedence rule in Python:</center>"
   ]
  },
  {
   "cell_type": "markdown",
   "metadata": {},
   "source": [
    "|||\n",
    "|---|---|\n",
    "|()| Parentheses|\n",
    "|**| Exponent|\n",
    "|+x, -x, ~x| Unary plus, Unary minus, Bitwise NOT|\n",
    "|*, /, //, % |Multiplication, Division, Floor Division, Modulus|\n",
    "|+, - |Addition, Subtraction|\n",
    "|<<, >> |Bitwise shift operators|\n",
    "|& |Bitwise AND|\n",
    "|^ |Bitwise XOR|\n",
    "|\\|| Bitwise OR|\n",
    "|==, !=, >, >=, <, <=, is, is not, in, not in       |Comparisions, Identity, Membership operators|\n",
    "|not |Logical NOT|\n",
    "|and |Logical AND|\n",
    "|or |Logical OR|"
   ]
  },
  {
   "cell_type": "markdown",
   "metadata": {},
   "source": [
    "[<p style=\"text-align: right;\">**⬆ Table of Contents ⬆**</p>](#Python-Quick-Reference)"
   ]
  },
  {
   "cell_type": "markdown",
   "metadata": {},
   "source": [
    "---"
   ]
  },
  {
   "cell_type": "markdown",
   "metadata": {},
   "source": [
    "## <center>Mutable or Immutable:</center>"
   ]
  },
  {
   "cell_type": "markdown",
   "metadata": {},
   "source": [
    "|**Mutable:**|**Immutable:**|\n",
    "|:---|:---|\n",
    "|List|Int|\n",
    "|Dictionary|Float|\n",
    "|Set|Long|\n",
    "|User-Defined Classes<br>(depending on the defined attributes by the user)|Complex|\n",
    "|Byte Array|Boolean|\n",
    "||String|\n",
    "||Tuple|\n",
    "||Frozenset|\n",
    "||Unicode|"
   ]
  },
  {
   "cell_type": "markdown",
   "metadata": {},
   "source": [
    "**Python** is Pass by **object reference**  \n",
    "\n",
    "Pass by **reference** = The variable is passed directly (by reference) to a function. Any operation performed by the function on the variable will change the original object as it is the same object.  \n",
    "\n",
    "Pass by **value** = A copy of the object is passed to the function. Any operation performed by the function will not affect the original object.  \n",
    "\n",
    "Pass by **object reference** = A reference to the original object is passed, however the function will create a new variable. In essence, the object is the same, but now has two names in which to reference the object. If contents of the object is changed by the function (modified in place and can only be done with mutable objects), the contents of the original are updated too (similar to pass by reference). However if the reference/variable name is changed in the function, then the original object will not be affected (similar to pass by value).  "
   ]
  },
  {
   "cell_type": "markdown",
   "metadata": {},
   "source": [
    "[<p style=\"text-align: right;\">**⬆ Table of Contents ⬆**</p>](#Python-Quick-Reference)"
   ]
  },
  {
   "cell_type": "markdown",
   "metadata": {},
   "source": [
    "---"
   ]
  },
  {
   "cell_type": "markdown",
   "metadata": {},
   "source": [
    "## <center>Strings/Variables and Basics:</center>"
   ]
  },
  {
   "cell_type": "markdown",
   "metadata": {},
   "source": [
    "**Types and Typecasting**  \n",
    "\n",
    "**`print(type(var))` or `type(var)`**  \n",
    "* Type function used to view or print the type of a variable or data type  \n",
    "\n",
    "**`None`**  - absence of data  \n",
    "\n",
    "**`dataType_toConvertTo(var)`**  \n",
    "* Converts a datatype or variable into another  \n",
    "* Convert to the following:\n",
    "  * **`float(var)`** - converts to float\n",
    "  * **`int(var)`**   - converts to integer (if converting a boolean to int, true will give \"1\", false will give \"0\")\n",
    "  * **`complex(var)`** - converts to complex number\n",
    "  * **`str(var)`**   - converts to string\n",
    "  * **`bool(var)`**  - converts to boolean (\"1\" will give true, \"0\" will give false)\n",
    "  * **`tuple(var)`** - converts to tuple\n",
    "  * **`list(var)`**  - converts to a list\n",
    "  * **`set(var)`**   - converts to a set\n",
    "  * **Note all of the above must be assigned a variable to save change**"
   ]
  },
  {
   "cell_type": "markdown",
   "metadata": {},
   "source": [
    "**Type hinting**:  \n",
    "\n",
    "**`variable/parameter: type`**  \n",
    "**`-> output type`**  \n",
    "* Used to **hint** at what types are expected  \n",
    "* Note this is **not enforced**  "
   ]
  },
  {
   "cell_type": "markdown",
   "metadata": {},
   "source": [
    "---"
   ]
  },
  {
   "cell_type": "markdown",
   "metadata": {},
   "source": [
    "**Operators**"
   ]
  },
  {
   "cell_type": "markdown",
   "metadata": {},
   "source": [
    "**`/`** **divide** gives result as **float** even when both inputs and output are whole numbers   \n",
    "**`//`** **floor division** gives result as **int**  \n",
    "**`*`** **multiply**  \n",
    "**`**`** **Exponentiation** will give the **power of**  \n",
    "**`%`** **modulus** will give **remainder of a division**  "
   ]
  },
  {
   "cell_type": "markdown",
   "metadata": {},
   "source": [
    "**`+=`** **increment assignment** adds a value and a variable and assigns it to the variable  \n",
    "**`-=`** **decrement assignment** subtracts a value from a variable and assigns it to the variable  \n",
    "**`/=`** **division assignment** divides the variable by a value and assigns it to that variable  \n",
    "**`*=`** **multiplication assignment** multiplies the variable by a value and assigns it to that variable  \n",
    "**`%=`** **modulus assignment** computes the modulus of the variable and a value and assigns result to that variable  \n",
    "**`//=`** **floor division assignment** floor divides the variable by a value and assigns result to that variable  \n",
    "**`**=`** **power assignment** raises the variable to a specified power and assigns result to the variable  \n",
    "  "
   ]
  },
  {
   "cell_type": "markdown",
   "metadata": {},
   "source": [
    "---"
   ]
  },
  {
   "cell_type": "markdown",
   "metadata": {},
   "source": [
    "**Comparison Operators**  \n",
    "* Compares some values, operands or variables including strings"
   ]
  },
  {
   "cell_type": "markdown",
   "metadata": {},
   "source": [
    "**`==`** **Equality operator** Gives result \"True\" when both sides are equal  \n",
    "**`!=`** **Inequality operator** Gives result \"True\" when both sides are **Not** equal  \n",
    "**`<`** **Less than operator** Gives result \"True\" when operand on left side is less than operand on right side  \n",
    "**`>`** **Greater than operator** Gives result \"True\" when operand on left side is greater than operand on right side  \n",
    "**`<=`** **Less than or equal to operator** Gives result \"True\" when operand on left side is less than or equal to the right side  \n",
    "**`>=`** **Greater than or equal to operator** Gives result \"True\" when operand on left side is greater than or equal to the right side  "
   ]
  },
  {
   "cell_type": "markdown",
   "metadata": {},
   "source": [
    "---"
   ]
  },
  {
   "cell_type": "markdown",
   "metadata": {},
   "source": [
    "**Escape sequences**\n",
    "\n",
    "**`\\`** proceeds the escape sequence - This will allow you to spread lines of code over multipul lines  \n",
    "\n",
    "**`\\n`** for new line  \n",
    "**`\\t`** for tab  \n",
    "**`\\r`** for return  \n",
    "**`\\\\`** to insert a single **`\\`** in string    \n",
    "**`r`** to display as raw string (placed before the quotation mark)  \n",
    "\n",
    "**`pass`** can be used as a placeholder for future code. When the pass statement is executed, nothing happens, but you avoid getting an error when empty code is not allowed. Empty code is not allowed in loops, function definitions, class definitions, or in if statements  "
   ]
  },
  {
   "cell_type": "markdown",
   "metadata": {},
   "source": [
    "**Line continuation in code**  \n",
    "\n",
    "**`( )`**  parentheses is the prefered method  \n",
    "**`\\`**  backslash can sometimes look better, and with some lines of code is the only way for it to work  \n",
    "* **ENSURE** to indent continuing line of code  "
   ]
  },
  {
   "cell_type": "markdown",
   "metadata": {},
   "source": [
    "---"
   ]
  },
  {
   "cell_type": "markdown",
   "metadata": {},
   "source": [
    "**Strings**  \n",
    "\n",
    "* Strings are immutable \n",
    "* Contained within two quotes, either single 'a' or double \"b\" but not a mixture  \n",
    "* **Multi line / long strings** are with **3 double or single quotes `\"\"\"`** before and after the string  \n",
    "* Can contain characters, digits, spaces or special characters  \n",
    "* Strings can be added when digits or characters, **beware** this will be done as text not numbers e.g., =\"1\" + \"4\" : \"14\"  \n",
    "* Each element of a string can be accessed with an index represented by array of numbers, first character will be 0 and counting up to the right.\n",
    "  Or from the end starting at -1 and counting down to the left "
   ]
  },
  {
   "cell_type": "markdown",
   "metadata": {},
   "source": [
    "---"
   ]
  },
  {
   "cell_type": "markdown",
   "metadata": {},
   "source": [
    "**Indexing**\n",
    "\n",
    "**`var[index]`**\n",
    "\n",
    "* Accesses element of string/variable\n",
    "* First character will be 0 and counting up to the right\n",
    "* OR starting at the end, -1 and counting down to the left\n",
    "* **Square brackets**"
   ]
  },
  {
   "cell_type": "markdown",
   "metadata": {},
   "source": [
    "---"
   ]
  },
  {
   "cell_type": "markdown",
   "metadata": {},
   "source": [
    "**Slice**  \n",
    "\n",
    "\n",
    "**`var[start point : end point]`** \n",
    "* Will take section of variable from/to\n",
    "* Think of points between the characters "
   ]
  },
  {
   "cell_type": "markdown",
   "metadata": {},
   "source": [
    "---"
   ]
  },
  {
   "cell_type": "markdown",
   "metadata": {},
   "source": [
    "**Stride**  \n",
    "\n",
    "**`var[start : end : places to jump]`**\n",
    "* Will take elements of variable jumping given places\n",
    "* If no start/end entered, will start from beginning"
   ]
  },
  {
   "cell_type": "markdown",
   "metadata": {},
   "source": [
    "---"
   ]
  },
  {
   "cell_type": "markdown",
   "metadata": {},
   "source": [
    "**Length** function  \n",
    "\n",
    "**`len(var)`**\n",
    "* Returns length of string  \n",
    "* Starts at 1, **number of elements** NOT index numbers"
   ]
  },
  {
   "cell_type": "markdown",
   "metadata": {},
   "source": [
    "---"
   ]
  },
  {
   "cell_type": "markdown",
   "metadata": {},
   "source": [
    "**Concatenate** and combine strings\n",
    "\n",
    "**`new_var = var1 + var2`**"
   ]
  },
  {
   "cell_type": "markdown",
   "metadata": {},
   "source": [
    "---"
   ]
  },
  {
   "cell_type": "markdown",
   "metadata": {},
   "source": [
    "**Replicate** strings\n",
    "\n",
    "**`#timesToRep* var`**"
   ]
  },
  {
   "cell_type": "markdown",
   "metadata": {},
   "source": [
    "---"
   ]
  },
  {
   "cell_type": "markdown",
   "metadata": {},
   "source": [
    "**Upper**\n",
    "\n",
    "**`var.upper()`**\n",
    "* Makes everything upper case\n",
    "* Must assign a variable to keep the change"
   ]
  },
  {
   "cell_type": "markdown",
   "metadata": {},
   "source": [
    "---"
   ]
  },
  {
   "cell_type": "markdown",
   "metadata": {},
   "source": [
    "**Replace**\n",
    "\n",
    "**`var.replace(\"what\", \"with\")`**\n",
    "* Replaces elements of variable\n",
    "* Assign new variable to save change \n",
    "* **Case sensitive**"
   ]
  },
  {
   "cell_type": "markdown",
   "metadata": {},
   "source": [
    "---"
   ]
  },
  {
   "cell_type": "markdown",
   "metadata": {},
   "source": [
    "**Find**\n",
    "\n",
    "**`var.find(\"what\")`**\n",
    "* Outputs **first index** of sequence\n",
    "* Returns **`-1`** if not found"
   ]
  },
  {
   "cell_type": "markdown",
   "metadata": {},
   "source": [
    "---"
   ]
  },
  {
   "cell_type": "markdown",
   "metadata": {},
   "source": [
    "**Strip** method  \n",
    "\n",
    "**`var.strip()`**  \n",
    "* **Removes white spaces** and **escape characters** at the **beginning** and **end** of a string  \n",
    "* Ensure to save to a new variable to save the changes  "
   ]
  },
  {
   "cell_type": "markdown",
   "metadata": {},
   "source": [
    "---"
   ]
  },
  {
   "cell_type": "markdown",
   "metadata": {},
   "source": [
    "**split** method  \n",
    "\n",
    "**`listVar = strVar.split(sep=None, maxsplit=-1)`**  \n",
    "* Converts string to a list of words, standard delimiter is a **space**  \n",
    "* **`sep`** is the delimiter, None = **default whitespaces**  \n",
    "* **`maxsplit`** is the maximum number of splits to do, -1 = **default no limit**  "
   ]
  },
  {
   "cell_type": "markdown",
   "metadata": {},
   "source": [
    "---"
   ]
  },
  {
   "cell_type": "markdown",
   "metadata": {},
   "source": [
    "**join** method  \n",
    "\n",
    "**`string.join(iterable)`**  \n",
    "* Creates **strings** from iterable objects  \n",
    "* Joins each **element** of an iterable (such as lists, strings, tuples, dictionaries and sets) by a **string separator**  "
   ]
  },
  {
   "cell_type": "markdown",
   "metadata": {},
   "source": [
    "---"
   ]
  },
  {
   "cell_type": "markdown",
   "metadata": {},
   "source": [
    "**User input**  \n",
    "\n",
    "**`var = type(input(\"message to user\"))`**  \n",
    "* Keyword **\"input\"** used to provide input box to user  \n",
    "* **Optional message**, however better practice to provide information on what to input  \n",
    "* Defining **\"type\"** is **optional**, however note user inputs **default to strings**  "
   ]
  },
  {
   "cell_type": "markdown",
   "metadata": {},
   "source": [
    "---"
   ]
  },
  {
   "cell_type": "markdown",
   "metadata": {},
   "source": [
    "####  **Formatting Strings**  \n",
    "\n",
    "**Place holders**  \n",
    "\n",
    "**`placeHolderVar = \"some string with placeholder a {}, and place holder b {}\"`**  \n",
    "**`placeHolderVar.format(a,b)`**\n",
    "\n",
    "\n",
    "* **`{}`** can be used as place holders to insert variables later  \n",
    "* Call the variable with the placeholders followed by **`.format`** to insert variables  \n",
    "* Placeholders can be **positional**, or identified by a **given name**, or by **index numbers**, note this will be index **of the variables provided** and not of the placeholder position index numbers  \n",
    "* Can also format using the **keys from a dictionary** and reference dictionary in format with double star **\\*\\*dictVar**  \n",
    "* **Class members** can be used in place holders such as **{a.attribute}** and the class referenced in the formatting **.format(a=Class())**  \n",
    "* Must save to a new variable to save  "
   ]
  },
  {
   "cell_type": "markdown",
   "metadata": {},
   "source": [
    "**F-Strings**  \n",
    "\n",
    "**`placeHolderVar = f\"some string with placeholder a {var_a}, and placeholder b {var_b}\"`**  \n",
    "\n",
    "* Good for when you have a calculation to put inside the placeholder  \n",
    "* F-strings do not require the use of \"format\"  \n",
    "* Requires **f before string**, this can be **upper or lower** case  "
   ]
  },
  {
   "cell_type": "markdown",
   "metadata": {},
   "source": [
    "**Formatting types**  \n",
    "\n",
    "* Formatting types can be put in placeholders after the optional index/reference  \n",
    "\n",
    "**`:<`**  Left aligns the result (within the available space)  \n",
    "**`:>`**  Right aligns the result (within the available space)  \n",
    "**`:^`**  Center aligns the result (within the available space)  \n",
    "**`:=`**  Places the sign to the left most position  \n",
    "**`:+`**  Use a plus sign to indicate if the result is positive or negative  \n",
    "**`:-`**  Use a minus sign to show negative numbers minus sign  \n",
    "**`: `**  Use a space to insert an extra space before positive numbers (and a minus sign before negative numbers)  \n",
    "**`:,`**  Use a comma as a thousand separator  \n",
    "**`:_`**  Use a underscore as a thousand separator  \n",
    "**`:b`**  Binary format  \n",
    "**`:c`**  Converts the value into the corresponding unicode character  \n",
    "**`:d`**  Decimal format  \n",
    "**`:e`**  Scientific format, with a lower case e  \n",
    "**`:E`**  Scientific format, with an upper case E  \n",
    "**`:f`**  Fix point number format  \n",
    "**`:F`**  Fix point number format, in uppercase format (show inf and nan as INF and NAN)  \n",
    "**`:g`**  General format  \n",
    "**`:G`**  General format (using a upper case E for scientific notations)  \n",
    "**`:o`**  Octal format  \n",
    "**`:x`**  Hex format, lower case  \n",
    "**`:X`**  Hex format, upper case  \n",
    "**`:n`**  Number format  \n",
    "**`:%`**  Percentage format  "
   ]
  },
  {
   "cell_type": "markdown",
   "metadata": {},
   "source": [
    "**Decimal places, padding and truncating strings**  \n",
    "\n",
    "**`f\"{*index/ref : *padding(number of spaces in front).*decimal places to display or max chars from string}\"`**  \n",
    "* Note the **`.`** between the padding and decimal places/chars to display  \n",
    "* When specifying **decimals**, must follow with **`f`** to denote number format  \n",
    "* To add padding with **strings**, must specify **allignment** **OR** number of **TOTAL** characters to be displayed  \n",
    "    * e.g. **`f\"{*index/ref : totalNumberCharacters . decimalPlacesToDisplay f}\"`**  \n",
    "* Can add a **character before padding** and this will be used **instead of the default space**, when doing this, the padding number will represent the max **WIDTH including the passed variable length**    "
   ]
  },
  {
   "cell_type": "markdown",
   "metadata": {},
   "source": [
    "---"
   ]
  },
  {
   "cell_type": "markdown",
   "metadata": {},
   "source": [
    "**zfill** method  \n",
    "\n",
    "**`strVar.zfill(len)`**  \n",
    "* Adds zeros (0) at the beginning of the string, until it reaches the specified length  \n",
    "* If the value of the len parameter is less than the length of the string, no filling is done  "
   ]
  },
  {
   "cell_type": "markdown",
   "metadata": {},
   "source": [
    "[<p style=\"text-align: right;\">**⬆ Table of Contents ⬆**</p>](#Python-Quick-Reference)"
   ]
  },
  {
   "cell_type": "markdown",
   "metadata": {},
   "source": [
    "---"
   ]
  },
  {
   "cell_type": "markdown",
   "metadata": {},
   "source": [
    "## <center>Regular Expressions (Regex):</center>"
   ]
  },
  {
   "cell_type": "markdown",
   "metadata": {},
   "source": [
    "**`import re`**  \n",
    "\n",
    "**`text_to_search = \"some string\"`**  \n",
    "**`patternVar = re.compile(r\"patternToMatch\")`**  \n",
    "**`matchesVar = patternVar.RegExFunction(text_to_searchVar)`**  \n",
    "\n",
    "**`for match in matchesVar:`**  \n",
    "$\\;\\;\\;\\;$**`print(match)`**  \n",
    "\n",
    "* Allow us to search for and match specific patterns of text  \n",
    "* To use, we need to first import the **`re`** module  \n",
    "* Compile method allows us to seperate out our patterns into a variable and easier to reuse that variable to perform multiple searches\n",
    "* Use **`r`** before pattern to ensure string is treated as raw string  \n",
    "* Try to make pattern to match as specific as possible, modify it as required to match further items  "
   ]
  },
  {
   "cell_type": "markdown",
   "metadata": {},
   "source": [
    "**Metacharacters**  \n",
    "\n",
    "* Characters with a special meaning  \n",
    "* If searching for a **literal metacharacter** it **MUST** be **escaped**  \n",
    "\n",
    "|**Character**|**Description**|**Example**|**Example meaning**|\n",
    "|:---|:---|:---|:---|\n",
    "|**[ ]**|Defines a set of characters|\"[a-m]\"|Find all lower case characters alphabetically between \"a\" and \"m\"|\n",
    "|<b>\\\\<b>|Signals a special sequence (can also be used to escape special characters)|\"\\d\"|Find all digit characters|\n",
    "|**.**|Matches any character (**except** newline character)|\"he..o\"|Search for a sequence that starts with \"he\", followed by two (any(.)) characters, and an \"o\"|\n",
    "|**^**|Starts with|\"^hello\"|Check if the string starts with 'hello'|\n",
    "|**\\$**|Ends with|\"planet$\"|Check if the string ends with 'planet'|\n",
    "|**?**|Zero or one occurrences|\"he.?o\"|Search for a sequence that starts with \"he\", followed by 0 or 1  (any(.)) character, and an \"o\"|\n",
    "|**\\***|Zero or more occurrences|\"he.*o\"|Search for a sequence that starts with \"he\", followed by 0 or more  (any(.)) characters, and an \"o\"|\n",
    "|**+**|One or more occurrences|\"he.+o\"|Search for a sequence that starts with \"he\", followed by 1 or more  (any (.)) characters, and an \"o\"|\n",
    "|**{ }**|Exactly the specified number of occurrences<br>or range of number of occurences {min, max}|\"he.{2}o\"<br>\"he.{2,5}o\"|Search for a sequence that starts with \"he\", followed by exactly 2 (any) characters, and an \"o\"<br>\"he\" followed by between 2 and 5 (any (.)) characters, and an \"o\"|\n",
    "|**\\|**|Either or|\"falls\\|stays\"|Check if the string contains either \"falls\" or \"stays\"|\n",
    "|**( )**|Capture and group<br>A group of characters to match|\"(com\\|net\\|gov)\"|matches \"com\" OR \"net\" OR \"gov\"<br>**\\|** means OR|\n",
    "|**(?P\\<name\\>)**|Name a group which can then be accessed by name rather than index|\"(?P\\<first\\>\\w+) (?P\\<last\\>\\w+)\"|Matches words and groups them. Here called \"first\" and \"last\"|\n",
    "|**(?P=name)**|Used within a pattern to match against a named group|\"(?P\\<first\\>\\w+) (?P=first)\"|Matches a word which repeats|\n",
    "|**(?=...)**|Lookahead assertion<br>Matches if ... **does matches next**, but doesn’t consume any of the string|\"Isaac (?!Asimov)\"|matches \"Isaac \" only if it **is** followed by 'Asimov'|\n",
    "|**(?!...)**|Negative lookahead assertion<br>Matches if ... **doesn’t match next**|\"Isaac (?!Asimov)\"|Matches 'Isaac ' only if it’s **not** followed by 'Asimov'|\n",
    "|**(?<=...)**|Positive lookbehind assertion<br>Matches if current position in the string **is preceded** by a match for ... that ends at the current position|\"(?<=abc)def\"|Matches \"def\" in the string \"abcdef\"|\n",
    "|**(?<!...)**|Negative lookbehind assertion<br>Matches if current position in the string is **not preceded** by a match for ... that ends at the current position|\"(?<!abc)def\"|Will **not** find a match in the string \"abcdef\"|"
   ]
  },
  {
   "cell_type": "markdown",
   "metadata": {},
   "source": [
    "**Special Sequences**  \n",
    "\n",
    "* A special sequence is a \\\\ followed by one of the characters in the list below, and has a special meaning    \n",
    "* Capitals negate the function of the lowercase special sequence  \n",
    "\n",
    "|**Character**|**Description**|**Example**|**Example meaning**|\n",
    "|:---|:---|:---|:---|\n",
    "|**\\A**|Returns a match if the specified characters are at the beginning of the string|\"\\AThe\"|Check if the string starts with \"The\"|\n",
    "|**\\b**|Returns a match where the specified characters are at the beginning or at the end of a word|r\"\\\\bain\"<br>r\"ain\\b\"|Check if \"ain\" is present at the beginning of a WORD<br>Check if \"ain\" is present at the end of a WORD<br>The \"r\" in the beginning is making sure that the string is being treated as a \"raw string\"|\n",
    "|**\\B**|Returns a match where the specified characters are present, but NOT at the beginning (or at the end) of a word|r\"\\Bain\"<br>r\"ain\\B\"|Check if \"ain\" is present, but NOT at the beginning of a word<br>Check if \"ain\" is present, but NOT at the end of a word<br>The \"r\" in the beginning is making sure that the string is being treated as a \"raw string\"|\n",
    "|**\\d**|Returns a match where the string contains digits (numbers from 0-9)|\"\\d\"|Check if the string contains any digits (numbers from 0-9)|\n",
    "|**\\D**|Returns a match where the string DOES NOT contain digits|\"\\D\"|Return a match at every non-digit character|\n",
    "|**\\s**|Returns a match where the string contains a white space character|\"\\s\"|Return a match at every white-space character (space, tab, newline)|\n",
    "|**\\S**|Returns a match where the string DOES NOT contain a white space character|\"\\S\"|Return a match at every NON white-space character (NOT spaces, tabs, newlines)|\n",
    "|**\\w**|Returns a match where the string contains any word characters (a-z, A-Z, 0-9, and underscore _ )|\"\\w\"|Return a match at every word character (a-z, A-Z, 0-9, and underscore _ )|\n",
    "|**\\W**|Returns a match where the string DOES NOT contain any word characters|\"\\W\"|Return a match at every NON word character (characters NOT between a and Z. Like \"!\", \"?\" white-space etc.)|\n",
    "|**\\Z**|Returns a match if the specified characters are at the end of the string|\"Spain\\Z\"|Check if the string ends with \"Spain\"|"
   ]
  },
  {
   "cell_type": "markdown",
   "metadata": {},
   "source": [
    "**Sets**  \n",
    "\n",
    "* A set is a set of characters inside a pair of square brackets **`[]`** with a special meaning  \n",
    "* Each set represents 1 character position to search for, not multiple, i.e. [1-5][a-z] means search for the numbers 1-5 which are followed by a lowercase a-z e.g. 5b    \n",
    "* Note **`-`** if placed at the beginning or end of a set, then the literal **`-`** character will be searched for, however when placed between 2 characters it can denote a range e.g. **`1-9`**  \n",
    "\n",
    "|**Set**|**Description**|\n",
    "|:---|:---|\n",
    "|**[arn]**|Returns a match where one of the specified characters (a, r, or n) are present|\n",
    "|**[a-n]**|Returns a match for any lower case character, alphabetically between a and n|\n",
    "|**[^arn]**|Returns a match for any character **EXCEPT** a, r, and n|\n",
    "|**[0123]**|Returns a match where any of the specified digits (0, 1, 2, or 3) are present|\n",
    "|**[0-9]**|Returns a match for any digit between 0 and 9|\n",
    "|**[0-5][0-9]**|Returns a match for any two-digit numbers from 00 and 59|\n",
    "|**[a-zA-Z]**|Returns a match for any character alphabetically between a and z, lower case OR upper case|\n",
    "|**[+]**|In sets, **`+`** **`*`** **`.`** **`\\|`** **`( )`** **`$`** **`{ }`** have no special meaning, so [+] means: return a match for any + character in the string|"
   ]
  },
  {
   "cell_type": "markdown",
   "metadata": {},
   "source": [
    "#### **RegEx functions**  \n",
    "\n",
    "* The **`re`** module offers a set of functions that allows us to search a string for a match  "
   ]
  },
  {
   "cell_type": "markdown",
   "metadata": {},
   "source": [
    "**match** function  \n",
    "\n",
    "**`re.match(searchFor, textToSearch)`**  \n",
    "**OR**  \n",
    "**`patternVar.match(textToSearch)`**  \n",
    "* Checks only at the start of a string, will **NOT** find anything matching from the middle or end of the string  \n",
    "* Returns a match object   \n",
    "* This is **NOT** an **iterable**  "
   ]
  },
  {
   "cell_type": "markdown",
   "metadata": {},
   "source": [
    "**findall** function  \n",
    "\n",
    "**`re.findall(searchFor, textToSearch)`**  \n",
    "**OR**  \n",
    "**`patternVar.findall(textToSearch)`**  \n",
    "* Returns a **list of strings** containing all matches  \n",
    "* Returns an **empty list** if **no match**  \n",
    "* If matching groups, will only return the groups matched, not entire pattern  "
   ]
  },
  {
   "cell_type": "markdown",
   "metadata": {},
   "source": [
    "**finditer** function  \n",
    "\n",
    "**`re.finditer(searchFor, textToSearch)`**  \n",
    "**OR**  \n",
    "**`patternVar.finditer(textToSearch)`**  \n",
    "* Returns match objects with more information and functionality than findall  "
   ]
  },
  {
   "cell_type": "markdown",
   "metadata": {},
   "source": [
    "**search** function  \n",
    "\n",
    "**`re.search(searchFor, textToSearch)`**  \n",
    "**OR**  \n",
    "**`patterVar.search(textToSearch)`**  \n",
    "* Returns a **match object** if there is a match anywhere in the string  \n",
    "* Only returns the **first match**, is **NOT** an **iterable**  \n",
    "* If there is more than one match, only the first occurrence of the match will be returned  \n",
    "* If no match, **`None`** is returned  "
   ]
  },
  {
   "cell_type": "markdown",
   "metadata": {},
   "source": [
    "**split** function  \n",
    "\n",
    "**`re.split(splitAt, textToSearch, maxSplit)`**  \n",
    "* Returns a **list** where the string has been split at each match  \n",
    "* **`maxSplit`** is optional and is the number of splits to stop at **(not the number of elements in list)**  \n",
    "* If no matches, returns the original string as a single element in a list  "
   ]
  },
  {
   "cell_type": "markdown",
   "metadata": {},
   "source": [
    "**sub** function  \n",
    "\n",
    "**`re.sub(replaceThis, withThis, textToSearch, count)`**  \n",
    "* Replaces one or many matches with a string  \n",
    "* **`count`** is optional and is the number of replacements to stop at  \n",
    "* Returns a **string**  \n",
    "* If no matches, returns the original string  \n",
    "* when pattern matching using **groups**, the group numbers you wish to keep can be passed and this will replace the entire matched string with the found groups:  \n",
    "$\\;\\;\\;\\;$**`newStringVar = patternWithGroupsVar.sub(r'\\2\\3', originalStringVar)`** \n",
    "    * This example replaces the matched string with the found groups with index 2 and 3  \n",
    "    * If replacing with **named groups**, use **`\\g<name>`** instead of the index  "
   ]
  },
  {
   "cell_type": "markdown",
   "metadata": {},
   "source": [
    "#### **Match Objects**  \n",
    "\n",
    "* A Match Object is an object containing information about the search and the result  \n",
    "* If there is **no match**, the value **None will be returned**, instead of the Match Object  "
   ]
  },
  {
   "cell_type": "markdown",
   "metadata": {},
   "source": [
    "**Match object** methods  "
   ]
  },
  {
   "cell_type": "markdown",
   "metadata": {},
   "source": [
    "**span** method  \n",
    "\n",
    "**`matchObj.span()`**  \n",
    "* Returns a tuple containing the start and end positions of the match  "
   ]
  },
  {
   "cell_type": "markdown",
   "metadata": {},
   "source": [
    "**string** function  \n",
    "\n",
    "**`matchObj.string`**  \n",
    "* Returns the string passed into the function initially to search  "
   ]
  },
  {
   "cell_type": "markdown",
   "metadata": {},
   "source": [
    "**group** method  \n",
    "\n",
    "**`matchObj.group()`**  \n",
    "* Returns the part of the string where there was a match  \n",
    "* If pattern has group matching **`( | )`** then these groups can be retrieved with **indexing** or by **name** (if named, see metacharacter table above), group(0) will return everything which was matched  \n",
    "* The dictionary the groups are contained in can be retrieved using **`matchObj.groupdict()`**  "
   ]
  },
  {
   "cell_type": "markdown",
   "metadata": {},
   "source": [
    "#### **Flags**  "
   ]
  },
  {
   "cell_type": "markdown",
   "metadata": {},
   "source": [
    "[RegEx flags link](https://www.pythontutorial.net/python-regex/python-regex-flags/)"
   ]
  },
  {
   "cell_type": "markdown",
   "metadata": {},
   "source": [
    "**ignorecase** flag  \n",
    "\n",
    "**`re.compile(patternToMatch, re.IGNORECASE)`**  \n",
    "* Can be added in with the pattern to be matched  \n",
    "* Flag will match pattern regardless of upper or lower case characters  \n",
    "* Shorthand **`re.I`** can be used too  "
   ]
  },
  {
   "cell_type": "markdown",
   "metadata": {},
   "source": [
    "**dotall** flag  \n",
    "\n",
    "**`re.compile(patternToMatch, re.DOTALL)`**  \n",
    "* By default **`.`** matches any characters except a newline. The re.DOTALL makes the **`.`** match all characters **including a newline**  \n",
    "* Shorthand **`re.S`** can be used too  "
   ]
  },
  {
   "cell_type": "markdown",
   "metadata": {},
   "source": [
    "**multiline** flag  \n",
    "\n",
    "**`re.compile(patternToMatch, re.MULTILINE)`**  \n",
    "* The re.MULTILINE makes the **`^`** match at the beginning of a string and at the beginning of each line and $ matches at the end of a string and at the end of each line  \n",
    "* Shorthand **`re.M`** can be used too  "
   ]
  },
  {
   "cell_type": "markdown",
   "metadata": {},
   "source": [
    "[<p style=\"text-align: right;\">**⬆ Table of Contents ⬆**</p>](#Python-Quick-Reference)"
   ]
  },
  {
   "cell_type": "markdown",
   "metadata": {},
   "source": [
    "---"
   ]
  },
  {
   "cell_type": "markdown",
   "metadata": {},
   "source": [
    "## <center>**Tuples:**</center>\n",
    "\n",
    "**`tupVar = (ele1, ele2, ele3)`**\n",
    "* **Round brackets**\n",
    "* Compound data types\n",
    "* **Ordered sequence**\n",
    "* Comma separated elements within parenthesis, can contain **`str`**, **`int`** and **`float`**\n",
    "* **Immutable**\n",
    "* **Concatenate** tuples with round brackets **`newTupVar = tup1Var + (newEle1, newEle2)`**"
   ]
  },
  {
   "cell_type": "markdown",
   "metadata": {},
   "source": [
    "---"
   ]
  },
  {
   "cell_type": "markdown",
   "metadata": {},
   "source": [
    "**Sorted** function  \n",
    "\n",
    "**`outListVar = sorted(tupVar, key=None, reverse=False)`**  \n",
    "* Use function to sort a tuple, list or set, but note it will **output as a list**  \n",
    "* **`Reverse`** is **optional** and set to False if not supplied  \n",
    "* **`key`** is **optional** and is usually a function when passed, this will be used on each **value in the list** to determine the resulting order, Note this can be used to access values in a list of dictionaries for sorting    \n",
    "* **`key`** will be used to determine sort order, but **original values** will be **used in output**  \n",
    "* A new variable must be assigned to save change  \n",
    "* **`sorted`** function does not work on **`int`** and **`str`** at the same time  \n",
    "* **Beware** of typecasting a sorted list back to a set as a set by definition is **unordered**   "
   ]
  },
  {
   "cell_type": "markdown",
   "metadata": {},
   "source": [
    "---"
   ]
  },
  {
   "cell_type": "markdown",
   "metadata": {},
   "source": [
    "**sort** method  \n",
    "\n",
    "**`tupVar.sort(reverse=False)`**  \n",
    "* Similar to sorted function, however this **will affect original variable**\n",
    "* Use method to sort a tuple or list but note it will **output as a list**  \n",
    "* Reverse is **optional** and set to False if not supplied  \n",
    "* **`sort`** method does not work on **`int`** and **`str`** at the same time  \n",
    "* **Beware** of typecasting a sorted list back to a set as a set by definition is **unordered**   "
   ]
  },
  {
   "cell_type": "markdown",
   "metadata": {},
   "source": [
    "---"
   ]
  },
  {
   "cell_type": "markdown",
   "metadata": {},
   "source": [
    "**Join** method  \n",
    "\n",
    "**`string.join(iterable)`**  \n",
    "* Creates **strings** from iterable objects  \n",
    "* Joins each **element** of an iterable (such as lists, strings, tuples, dictionaries and sets) by a **string separator**  "
   ]
  },
  {
   "cell_type": "markdown",
   "metadata": {},
   "source": [
    "---"
   ]
  },
  {
   "cell_type": "markdown",
   "metadata": {},
   "source": [
    "**Nest** tuples \n",
    "\n",
    "**`tupVar = (ele1, (nesTupVar), ele3)`**"
   ]
  },
  {
   "cell_type": "markdown",
   "metadata": {},
   "source": [
    "---"
   ]
  },
  {
   "cell_type": "markdown",
   "metadata": {},
   "source": [
    "**Indexing** nested tuples\n",
    "\n",
    "**`var[outIndex][nextLayerIndex][...][lastLayerIndex]`**"
   ]
  },
  {
   "cell_type": "markdown",
   "metadata": {},
   "source": [
    "---"
   ]
  },
  {
   "cell_type": "markdown",
   "metadata": {},
   "source": [
    "**Unpacking** tuples  \n",
    "\n",
    "**`var1, var2 = tupVar`**  \n",
    "* Allows elements of a tuple to be assigned to variables in one line of code  \n",
    "* Note there will need to be as many variables as elements or an error will occur  \n",
    "* See lists for unpacking more elements than variables  \n",
    "* Dictionary key-value pairs can be unpacked to tuples using the **`.items()`** method  "
   ]
  },
  {
   "cell_type": "markdown",
   "metadata": {},
   "source": [
    "---"
   ]
  },
  {
   "cell_type": "markdown",
   "metadata": {},
   "source": [
    "**Packing** tuples  \n",
    "\n",
    "**`tupVar = ele1, ele2......`**  \n",
    "* Packs elements into a tuple  \n",
    "* See lists for packing leading/trailing elements into a single list  "
   ]
  },
  {
   "cell_type": "markdown",
   "metadata": {},
   "source": [
    "[<p style=\"text-align: right;\">**⬆ Table of Contents ⬆**</p>](#Python-Quick-Reference)"
   ]
  },
  {
   "cell_type": "markdown",
   "metadata": {},
   "source": [
    "---"
   ]
  },
  {
   "cell_type": "markdown",
   "metadata": {},
   "source": [
    "## <center>Lists:</center>\n",
    "\n",
    "**`listVar = [ele1, ele2, ele3]`**\n",
    "* **Square brackets**\n",
    "* Compound data types\n",
    "* **Ordered sequence**\n",
    "* **Mutable** --- each time a method is applied, **will change** original variable unless reassigned\n",
    "* Can contain **`str`**, **`float`**, **`int`**\n",
    "* Can **nest** other **lists**, **tuples** and **other data structures**\n",
    "* **Concatenate** lists with square brackets **`newListVar = list1Var + [newEle1, newEle2]`**"
   ]
  },
  {
   "cell_type": "markdown",
   "metadata": {},
   "source": [
    "---"
   ]
  },
  {
   "cell_type": "markdown",
   "metadata": {},
   "source": [
    "**Sorted** function   \n",
    "\n",
    "**`outListVar = sorted(listVar, key=None, reverse=False)`**  \n",
    "* Use function to sort a tuple, list or set, but note it will **output as a list**  \n",
    "* **`Reverse`** is **optional** and set to False if not supplied  \n",
    "* **`key`** is **optional** and is usually a function when passed, this will be used on each **value in the list** to determine the resulting order, Note this can be used to access values in a list of dictionaries for sorting    \n",
    "* **`key`** will be used to determine sort order, but **original values** will be **used in output**  \n",
    "* A new variable must be assigned to save change  \n",
    "* **`sorted`** function does not work on **`int`** and **`str`** at the same time  \n",
    "* **Beware** of typecasting a sorted list back to a set as a set by definition is **unordered**   "
   ]
  },
  {
   "cell_type": "markdown",
   "metadata": {},
   "source": [
    "---"
   ]
  },
  {
   "cell_type": "markdown",
   "metadata": {},
   "source": [
    "**sort** method  \n",
    "\n",
    "**`listVar.sort(reverse=False)`**  \n",
    "* Similar to sorted function, however this **will affect original variable**\n",
    "* Use method to sort a tuple or list but note it will **output as a list**  \n",
    "* Reverse is **optional** and set to False if not supplied  \n",
    "* **`sort`** method does not work on **`int`** and **`str`** at the same time  \n",
    "* **Beware** of typecasting a sorted list back to a set as a set by definition is **unordered**   "
   ]
  },
  {
   "cell_type": "markdown",
   "metadata": {},
   "source": [
    "---"
   ]
  },
  {
   "cell_type": "markdown",
   "metadata": {},
   "source": [
    "**Extend** lists\n",
    "\n",
    "**`listVar.extend([newEle1, newEle2])`**  \n",
    "* Adds each element as individual elements\n",
    "* Will **change original variable** unless reassigned"
   ]
  },
  {
   "cell_type": "markdown",
   "metadata": {},
   "source": [
    "---"
   ]
  },
  {
   "cell_type": "markdown",
   "metadata": {},
   "source": [
    "**Append**\n",
    "\n",
    "**`listVar.append([newEle1, newEle2])`**  \n",
    "* Adds all the new elements **as only one new element** (nested list)\n",
    "* Will **change original variable** unless reassigned"
   ]
  },
  {
   "cell_type": "markdown",
   "metadata": {},
   "source": [
    "---"
   ]
  },
  {
   "cell_type": "markdown",
   "metadata": {},
   "source": [
    "**Insert**  \n",
    "\n",
    "**`listVar.insert(indexToInsertAt, newEle)`**  \n",
    "* Inserts a element provided at index given"
   ]
  },
  {
   "cell_type": "markdown",
   "metadata": {},
   "source": [
    "---"
   ]
  },
  {
   "cell_type": "markdown",
   "metadata": {},
   "source": [
    "**Change** a list element\n",
    "\n",
    "**`listVar[indexOrSlice] = newEle`**  \n",
    "* Will replace the indexed or sliced element with the new element"
   ]
  },
  {
   "cell_type": "markdown",
   "metadata": {},
   "source": [
    "---"
   ]
  },
  {
   "cell_type": "markdown",
   "metadata": {},
   "source": [
    "**Delete**\n",
    "\n",
    "**`del(listVar[indexOrSlice])`**\n",
    "* Deletes a list element\n",
    "\n",
    "**`del(listVar)`**\n",
    "* Deletes a list"
   ]
  },
  {
   "cell_type": "markdown",
   "metadata": {},
   "source": [
    "---"
   ]
  },
  {
   "cell_type": "markdown",
   "metadata": {},
   "source": [
    "**split** method:  \n",
    "\n",
    "**`listVar = strVar.split(sep=None, maxsplit=-1)`**  \n",
    "* Converts string to a list of words, standard delimiter is a **space**  \n",
    "* **`sep`** is the delimiter, None = **default whitespaces**  \n",
    "* **`maxsplit`** is the maximum number of splits to do, -1 = **default no limit**  "
   ]
  },
  {
   "cell_type": "markdown",
   "metadata": {},
   "source": [
    "---"
   ]
  },
  {
   "cell_type": "markdown",
   "metadata": {},
   "source": [
    "**Join** method  \n",
    "\n",
    "**`string.join(iterable)`**  \n",
    "* Creates **strings** from iterable objects  \n",
    "* Joins each **element** of an iterable (such as lists, strings, tuples, dictionaries and sets) by a **string separator**  "
   ]
  },
  {
   "cell_type": "markdown",
   "metadata": {},
   "source": [
    "---"
   ]
  },
  {
   "cell_type": "markdown",
   "metadata": {},
   "source": [
    "**Copy list**\n",
    "\n",
    "**`listVar1 = listVar2`**  \n",
    "* **Beware** copying by reference, when one variable is set to another, changing one element in a list on one variable will affect the other"
   ]
  },
  {
   "cell_type": "markdown",
   "metadata": {},
   "source": [
    "---"
   ]
  },
  {
   "cell_type": "markdown",
   "metadata": {},
   "source": [
    "**Cloning list**\n",
    "\n",
    "**`listVar1 = listVar2[:]`**  \n",
    "* **Protects** against changes in one list affecting the other"
   ]
  },
  {
   "cell_type": "markdown",
   "metadata": {},
   "source": [
    "---"
   ]
  },
  {
   "cell_type": "markdown",
   "metadata": {},
   "source": [
    "**Unpacking** lists  \n",
    "\n",
    "**`var1, var2 = listVar`**  \n",
    "* Allows elements of a list to be assigned to variables in one line of code  \n",
    "* Note there will need to be as many variables as elements or an error will occur  \n",
    "* Variables proceeded with **`*`** will be an empty list unless there are remaining elements after the manditory variables (those without **`*`** ) in which case all remaining elements will be put in this list  "
   ]
  },
  {
   "cell_type": "markdown",
   "metadata": {},
   "source": [
    "---"
   ]
  },
  {
   "cell_type": "markdown",
   "metadata": {},
   "source": [
    "**Packing** lists  \n",
    "\n",
    "**`*listVar, = ele1, ele2......`**  \n",
    "* With exactly the same number of variables as elements will produce a **tuple** not a list  \n",
    "* To pack elements into a list, proceed variable name with a **`*`** and follow it with **`,`**  \n",
    "* Other vaiables can be added to assign other elements to variables at the same time  "
   ]
  },
  {
   "cell_type": "markdown",
   "metadata": {},
   "source": [
    "[<p style=\"text-align: right;\">**⬆ Table of Contents ⬆**</p>](#Python-Quick-Reference)"
   ]
  },
  {
   "cell_type": "markdown",
   "metadata": {},
   "source": [
    "---"
   ]
  },
  {
   "cell_type": "markdown",
   "metadata": {},
   "source": [
    "## <center>Dictionaries:</center>\n",
    "\n",
    "**`dictVar = {\"key1\" : val1, \"key2\" : [listVal1, listVal2], \"key3\" : (tupVal1, tupVal2)}`**\n",
    "* **curley brackets**\n",
    "* Keys and values separated with a **colon**\n",
    "* Key/value pairs are separated with a **comma**\n",
    "* Type of collection\n",
    "* Dictionaries have keys and values as lists have indexes and elements, but the keys do not need to be integers, they are usually characters \n",
    "* **Keys** must be **mutable and unique**\n",
    "* **Keys** can **only** be **strings, numbers or tuples**\n",
    "* **Values** can be **any data type**\n",
    "* Values can be immutable, mutable and duplicates "
   ]
  },
  {
   "cell_type": "markdown",
   "metadata": {},
   "source": [
    "---"
   ]
  },
  {
   "cell_type": "markdown",
   "metadata": {},
   "source": [
    "**Lookup dictionary value**\n",
    "\n",
    "**`dictVar[key]`**  \n",
    "* Essentially the same as indexing"
   ]
  },
  {
   "cell_type": "markdown",
   "metadata": {},
   "source": [
    "---"
   ]
  },
  {
   "cell_type": "markdown",
   "metadata": {},
   "source": [
    "**Get** method    \n",
    "\n",
    "**`dictVar.get(key)`**  \n",
    "* This will return the value of the key given  \n",
    "* Note this will **not raise an error** if key is not present  "
   ]
  },
  {
   "cell_type": "markdown",
   "metadata": {},
   "source": [
    "---"
   ]
  },
  {
   "cell_type": "markdown",
   "metadata": {},
   "source": [
    "**Add dictionary value**\n",
    "\n",
    "**`dictVar[newKey] = \"newVal\"`**\n",
    "* Will change original dictionary variable unless reassigned"
   ]
  },
  {
   "cell_type": "markdown",
   "metadata": {},
   "source": [
    "---"
   ]
  },
  {
   "cell_type": "markdown",
   "metadata": {},
   "source": [
    "**Delete dictionary entry**\n",
    "\n",
    "**`del(dictVar[key])`**  \n",
    "* Will delete the entered key and its associated values  \n",
    "* Can also delete entire dictionary by just providing dictVar with no key  "
   ]
  },
  {
   "cell_type": "markdown",
   "metadata": {},
   "source": [
    "---"
   ]
  },
  {
   "cell_type": "markdown",
   "metadata": {},
   "source": [
    "**Clear** method  \n",
    "\n",
    "**`dictVar.clear()`**  \n",
    "* Removes all elements from a dictionary but **does not** delete dictionary itself  "
   ]
  },
  {
   "cell_type": "markdown",
   "metadata": {},
   "source": [
    "---"
   ]
  },
  {
   "cell_type": "markdown",
   "metadata": {},
   "source": [
    "**Pop** method  \n",
    "\n",
    "**`dictVar.pop(keyOfValueToBeRemoved)`**  \n",
    "* Will remove key and value from dictionary  \n",
    "* At the same time, it will **\"pop\" and return** the **value**  "
   ]
  },
  {
   "cell_type": "markdown",
   "metadata": {},
   "source": [
    "---"
   ]
  },
  {
   "cell_type": "markdown",
   "metadata": {},
   "source": [
    "**Popitem** method  \n",
    "\n",
    "**`dictVar.popitem()`**  \n",
    "* Removes **last** key and value from dictionary  \n",
    "* **Pops and returns** the key-value **pair**  "
   ]
  },
  {
   "cell_type": "markdown",
   "metadata": {},
   "source": [
    "---"
   ]
  },
  {
   "cell_type": "markdown",
   "metadata": {},
   "source": [
    "**Change value**  \n",
    "\n",
    "**`dictVar[keyOfValueToBeChanged] = newVal`**  \n",
    "* This will replace the old value with the new value  "
   ]
  },
  {
   "cell_type": "markdown",
   "metadata": {},
   "source": [
    "---"
   ]
  },
  {
   "cell_type": "markdown",
   "metadata": {},
   "source": [
    "**In** command\n",
    "\n",
    "**`keyToSearch in dictVar`**  \n",
    "* Used to search a dictionary if a **key** is present or not.  \n",
    "* **Case sensitive**   \n",
    "* If present, it'll return True, else it'll return False\n",
    "* Can also be used for Sets to check for elements"
   ]
  },
  {
   "cell_type": "markdown",
   "metadata": {},
   "source": [
    "---"
   ]
  },
  {
   "cell_type": "markdown",
   "metadata": {},
   "source": [
    "**View all keys**\n",
    "\n",
    "**`dictVar.keys()`**  \n",
    "* Will return all keys in a dictionary as a list-like object (<class 'dict_keys'>)"
   ]
  },
  {
   "cell_type": "markdown",
   "metadata": {},
   "source": [
    "---"
   ]
  },
  {
   "cell_type": "markdown",
   "metadata": {},
   "source": [
    "**View all values**\n",
    "\n",
    "**`dictVar.values()`**  \n",
    "* Will return all values in a dictionary as a list-like object (<class 'dict_values'>)"
   ]
  },
  {
   "cell_type": "markdown",
   "metadata": {},
   "source": [
    "---"
   ]
  },
  {
   "cell_type": "markdown",
   "metadata": {},
   "source": [
    "**items( )** method  \n",
    "\n",
    "**`dictVar.items()`**  \n",
    "* Returns a **view object** containing the **key-value pairs as tuples in a list**  \n",
    "* Note this **will change as the object it references does** even when saved to a variable previously  \n",
    "* Can be used in loops and dictionary comprehension  "
   ]
  },
  {
   "cell_type": "markdown",
   "metadata": {},
   "source": [
    "---"
   ]
  },
  {
   "cell_type": "markdown",
   "metadata": {},
   "source": [
    "**Unpacking** dictionaries  \n",
    "\n",
    "**`var1, var2 = dictVar`**  \n",
    "* Allows **keys** of a dictionary to be assigned to variables in one line of code  \n",
    "* To unpack **values** use **`dictVar.values()`**  \n",
    "* To unpack **key-value pairs as tuples** use **`dictVar.items()`**  \n",
    "* Note there will need to be as many variables as keys or an error will occur  \n",
    "* Variables proceeded with **`*`** will be an empty list unless there are remaining keys after the manditory variables (those without **`*`** ) in which case all remaining keys will be put in this list  "
   ]
  },
  {
   "cell_type": "markdown",
   "metadata": {},
   "source": [
    "---"
   ]
  },
  {
   "cell_type": "markdown",
   "metadata": {},
   "source": [
    "**sorting** dictionaries in a list:  \n",
    "\n",
    "**`outListVar = sorted(listOfDictVar, key=lambda itm: itm[\"dictKeyToSortBy\"])`**  \n",
    "* Usually used to sort a tuple, list or set, but note it will **output as a list**  \n",
    "* **`Reverse`** is **optional** and set to False if not supplied  \n",
    "* **`key`** is **optional** and is usually a function when passed, this will be used on each **value in the list** to determine the resulting order, Note this can be used to access values in a list of dictionaries for sorting    \n",
    "* **`key`** will be used to determine sort order, but **original values** will be **used in output**  \n",
    "* A new variable must be assigned to save change  \n",
    "* **`sorted`** function does not work on **`int`** and **`str`** at the same time  \n",
    "* **Beware** of typecasting a sorted list back to a set as a set by definition is **unordered**   "
   ]
  },
  {
   "cell_type": "markdown",
   "metadata": {},
   "source": [
    "[<p style=\"text-align: right;\">**⬆ Table of Contents ⬆**</p>](#Python-Quick-Reference)"
   ]
  },
  {
   "cell_type": "markdown",
   "metadata": {},
   "source": [
    "---"
   ]
  },
  {
   "cell_type": "markdown",
   "metadata": {},
   "source": [
    "## <center>Sets:</center>\n",
    "\n",
    "**`setVar = {\"ele1\", \"ele2\", \"ele3\"}`**\n",
    "* **Curley brackets** \n",
    "* Sets only have **unique elements**\n",
    "* Type of collection   \n",
    "* **Unordered** meaning element positions are not recorded     \n",
    "* Duplicates can be present in the creation of a set, but there will only be one unique element once the set is created"
   ]
  },
  {
   "cell_type": "markdown",
   "metadata": {},
   "source": [
    "---"
   ]
  },
  {
   "cell_type": "markdown",
   "metadata": {},
   "source": [
    "**Set** function\n",
    "\n",
    "**`set(listVar)`**  \n",
    "* Will convert a list to a set (typecasting)"
   ]
  },
  {
   "cell_type": "markdown",
   "metadata": {},
   "source": [
    "---"
   ]
  },
  {
   "cell_type": "markdown",
   "metadata": {},
   "source": [
    "**Sorted** function  \n",
    "\n",
    "**`outListVar = sorted(setVar, key=None, reverse=False)`**  \n",
    "* Use function to sort a tuple, list or set, but note it will **output as a list**  \n",
    "* **`Reverse`** is **optional** and set to False if not supplied  \n",
    "* **`key`** is **optional** and is usually a function when passed, this will be used on each **value in the list** to determine the resulting order, Note this can be used to access values in a list of dictionaries for sorting    \n",
    "* **`key`** will be used to determine sort order, but **original values** will be **used in output**  \n",
    "* A new variable must be assigned to save change  \n",
    "* **`sorted`** function does not work on **`int`** and **`str`** at the same time  \n",
    "* **Beware** of typecasting a sorted list back to a set as a set by definition is **unordered**  "
   ]
  },
  {
   "cell_type": "markdown",
   "metadata": {},
   "source": [
    "---"
   ]
  },
  {
   "cell_type": "markdown",
   "metadata": {},
   "source": [
    "**Update** method  \n",
    "\n",
    "**`setToBeUpdated.update(setToGetElementsFrom)`**  \n",
    "* Updates a set by **adding** items from another set  "
   ]
  },
  {
   "cell_type": "markdown",
   "metadata": {},
   "source": [
    "---"
   ]
  },
  {
   "cell_type": "markdown",
   "metadata": {},
   "source": [
    "**Join** method  \n",
    "\n",
    "**`string.join(iterable)`**  \n",
    "* Creates **strings** from iterable objects  \n",
    "* Joins each **element** of an iterable (such as lists, strings, tuples, dictionaries and sets) by a **string separator**  "
   ]
  },
  {
   "cell_type": "markdown",
   "metadata": {},
   "source": [
    "---"
   ]
  },
  {
   "cell_type": "markdown",
   "metadata": {},
   "source": [
    "**Add** method  \n",
    "\n",
    "**`setVar.add(newEle)`**  \n",
    "* Will add a new element to a set\n",
    "* If same element is added twice, nothing will happen as cannont have duplicates"
   ]
  },
  {
   "cell_type": "markdown",
   "metadata": {},
   "source": [
    "---"
   ]
  },
  {
   "cell_type": "markdown",
   "metadata": {},
   "source": [
    "**Remove** method  \n",
    "\n",
    "**`setVar.remove(ele)`**  \n",
    "* Will remove element from a set  \n",
    "* Note this **will raise an error** if element to be removed is not present  "
   ]
  },
  {
   "cell_type": "markdown",
   "metadata": {},
   "source": [
    "---"
   ]
  },
  {
   "cell_type": "markdown",
   "metadata": {},
   "source": [
    "**Discard** method    \n",
    "\n",
    "**`setVar.discard(ele)`**  \n",
    "* This will remove element from a set  \n",
    "* Note this will **not raise an error** if element to be removed is not present  "
   ]
  },
  {
   "cell_type": "markdown",
   "metadata": {},
   "source": [
    "---"
   ]
  },
  {
   "cell_type": "markdown",
   "metadata": {},
   "source": [
    "**In** command  \n",
    "\n",
    "**`eleToSearch in setVar`**  \n",
    "* Can be used to search a set if an **element** is present or not.  \n",
    "* **Case sensitive**   \n",
    "* If present, it'll return True, else it'll return False\n",
    "* Can also be used on Dictionaires to check for keys"
   ]
  },
  {
   "cell_type": "markdown",
   "metadata": {},
   "source": [
    "---"
   ]
  },
  {
   "cell_type": "markdown",
   "metadata": {},
   "source": [
    "1. **Union:** $C=A\\cup B$. $C$ is the set obtained by merging $A$ and $B$: $a,b \\in C$\n",
    "1. **Intersection:** $D=A\\cap B$. $D$ is the set obtained by taking the common elements from A and B. This means that if $a\\in A, b\\in B$, then $a \\in D$ if and only if $a=b$\n",
    "\n",
    "<img src=\"https://upload.wikimedia.org/wikipedia/commons/thumb/8/86/A_union_B.svg/1280px-A_union_B.svg.png\" width=\"20%\" style=\"background-color:white\">\n",
    "\n",
    "If $A$ and $B$ do not have elements in common, then they are said _disjoint_: $A\\cap B = \\emptyset$, where $\\emptyset$ denotes the empty set (the set with no elements).\n",
    "\n",
    "If $A\\cap B = A$, this means that all the elements in $A$ are contained in $B$. Therefore, if $B$ contains $A$, then it is denoted as $A\\subset B$ (or $A\\subseteq B$ depending on the case).\n",
    "\n",
    "<img src=\"https://upload.wikimedia.org/wikipedia/commons/thumb/b/b0/Venn_A_subset_B.svg/1024px-Venn_A_subset_B.svg.png\" width=\"20%\" style=\"background-color:white\">"
   ]
  },
  {
   "cell_type": "markdown",
   "metadata": {},
   "source": [
    "---"
   ]
  },
  {
   "cell_type": "markdown",
   "metadata": {},
   "source": [
    "**Intersection** method  \n",
    "\n",
    "**`intersection_SetVar = set1_Var & set2_Var`**  \n",
    "* Uses ampersand operator **`&`**  \n",
    "* Compares set1 and set2 elements, returning the common elements in the new variable"
   ]
  },
  {
   "cell_type": "markdown",
   "metadata": {},
   "source": [
    "---"
   ]
  },
  {
   "cell_type": "markdown",
   "metadata": {},
   "source": [
    "**Union** method  \n",
    "\n",
    "**`union_setVar = set1_Var.union(set2_Var)`**  \n",
    "* Combines all of set1 and set2 elements into a new set variable"
   ]
  },
  {
   "cell_type": "markdown",
   "metadata": {},
   "source": [
    "---"
   ]
  },
  {
   "cell_type": "markdown",
   "metadata": {},
   "source": [
    "**Difference** method  \n",
    "\n",
    "**`difference_setVar = set1_Var.difference(set2_Var)`**  \n",
    "* Elements that are **only in set1** are returned in a new set variable"
   ]
  },
  {
   "cell_type": "markdown",
   "metadata": {},
   "source": [
    "---"
   ]
  },
  {
   "cell_type": "markdown",
   "metadata": {},
   "source": [
    "**Symmetric Difference** method  \n",
    "\n",
    "**`symmetric_differenceSetVar = set1.symmetric_difference(set2)`**  \n",
    "* Returns **all** elements that **only** appear in one or other of the sets"
   ]
  },
  {
   "cell_type": "markdown",
   "metadata": {},
   "source": [
    "---"
   ]
  },
  {
   "cell_type": "markdown",
   "metadata": {},
   "source": [
    "**Issubset** method  \n",
    "\n",
    "**`set_to_check.issubset(against_this_set)`**  \n",
    "* Checks if a set is a subset and all of its elements are contained in another set\n",
    "* Returns True or False"
   ]
  },
  {
   "cell_type": "markdown",
   "metadata": {},
   "source": [
    "---"
   ]
  },
  {
   "cell_type": "markdown",
   "metadata": {},
   "source": [
    "**Issuperset** method  \n",
    "\n",
    "**`set_to_check.issuperset(against_this_set)`**  \n",
    "* Checks if a set is a superset and contains a minimum of all elements of another set\n",
    "* Returns True or False"
   ]
  },
  {
   "cell_type": "markdown",
   "metadata": {},
   "source": [
    "[<p style=\"text-align: right;\">**⬆ Table of Contents ⬆**</p>](#Python-Quick-Reference)"
   ]
  },
  {
   "cell_type": "markdown",
   "metadata": {},
   "source": [
    "---"
   ]
  },
  {
   "cell_type": "markdown",
   "metadata": {},
   "source": [
    "## <center>Branching:</center>"
   ]
  },
  {
   "cell_type": "markdown",
   "metadata": {},
   "source": [
    "* Has <ins>**OPTIONAL**</ins> **round brackets** followed by <ins>**COMPULSARY**</ins> **colon**  \n",
    "* Must use comparison operator in test argument, **Not** just regular operator e.g., **`=`**  \n",
    "* Variable to be tested must be defined **prior** to \"if statement\"  "
   ]
  },
  {
   "cell_type": "markdown",
   "metadata": {},
   "source": [
    "---"
   ]
  },
  {
   "cell_type": "markdown",
   "metadata": {},
   "source": [
    "**If** statement  \n",
    "\n",
    "**`if(test_argument):`**  \n",
    "    **`    when_true_do_this_and_continue (note indent)`**  \n",
    "**`when_false_continue_from_here (note no indent)`**  \n",
    "* When \"True\", **both** true and false branches will be actioned\n",
    "* When \"False\", **only false** branch will be actioned\n",
    "* **Must Not** indent false branch or it will be deemed part of true branch\n"
   ]
  },
  {
   "cell_type": "markdown",
   "metadata": {},
   "source": [
    "---"
   ]
  },
  {
   "cell_type": "markdown",
   "metadata": {},
   "source": [
    "**Else** statement  \n",
    "\n",
    "**`if(test_argument):`**  \n",
    "    **`    when_true_do_this_and_continue (note indent)`**   \n",
    "**`else:`**  \n",
    "    **`    when_false_do_this_and_continue (note indent)`**  \n",
    "**`then_continue_from_here (note no indent)`**  \n",
    "* \"Else\" branch will **only** be done when \"if\" argument is \"False\"  \n",
    "* Program will continue from line after \"else\" branch that is **Not** indented after completing relevant branch"
   ]
  },
  {
   "cell_type": "markdown",
   "metadata": {},
   "source": [
    "---"
   ]
  },
  {
   "cell_type": "markdown",
   "metadata": {},
   "source": [
    "**Elif** statement  \n",
    "\n",
    "**`if(test_argument):`**  \n",
    "    **`    when_true_do_this_and_continue (note indent)`**  \n",
    "**`elif(test_argument_when_false):`**  \n",
    "    **`    when_true_for_second_argument_do_this_and_continue (note indent)`**  \n",
    "**`else:`**  \n",
    "    **`    when_false_do_this_and_continue (note indent)`**  \n",
    "**`then_continue_from_here (note no indent)`**  \n",
    "* Continues \"if\" statement without ending code block as would happen with a further \"if\" statement\n",
    "* \"Elif\" branch will **only** be done when previous \"if\" argument and previous \"elif\" arguments in block are \"false\"   \n",
    "* Program will continue from line after \"else\" branch that is **Not** indented after completing relevant branch"
   ]
  },
  {
   "cell_type": "markdown",
   "metadata": {},
   "source": [
    "[<p style=\"text-align: right;\">**⬆ Table of Contents ⬆**</p>](#Python-Quick-Reference)"
   ]
  },
  {
   "cell_type": "markdown",
   "metadata": {},
   "source": [
    "---"
   ]
  },
  {
   "cell_type": "markdown",
   "metadata": {},
   "source": [
    "## <center>Logic Operators:</center>"
   ]
  },
  {
   "cell_type": "markdown",
   "metadata": {},
   "source": [
    "* Takes boolean values and produces different boolean values  \n",
    "* Can be combined with branching"
   ]
  },
  {
   "cell_type": "markdown",
   "metadata": {},
   "source": [
    "---"
   ]
  },
  {
   "cell_type": "markdown",
   "metadata": {},
   "source": [
    "**not** operator  \n",
    "\n",
    "**`not(test_argument)`**   \n",
    "* Returns opposite boolean value to test argument"
   ]
  },
  {
   "cell_type": "markdown",
   "metadata": {},
   "source": [
    "---"
   ]
  },
  {
   "cell_type": "markdown",
   "metadata": {},
   "source": [
    "**or** operator  \n",
    "\n",
    "**`(test_argument_1) or (test_argument_2)`**  \n",
    "* Returns \"True\" when **either or both** arguments are **\"True\"**  \n",
    "* **Inclusive** or  "
   ]
  },
  {
   "cell_type": "markdown",
   "metadata": {},
   "source": [
    "---"
   ]
  },
  {
   "cell_type": "markdown",
   "metadata": {},
   "source": [
    "**and** operator  \n",
    "\n",
    "**`(test_argument_1) and (test_argument_2)`**  \n",
    "* Returns \"True\" when **Both** arguments are **\"True\"**"
   ]
  },
  {
   "cell_type": "markdown",
   "metadata": {},
   "source": [
    "[<p style=\"text-align: right;\">**⬆ Table of Contents ⬆**</p>](#Python-Quick-Reference)"
   ]
  },
  {
   "cell_type": "markdown",
   "metadata": {},
   "source": [
    "---"
   ]
  },
  {
   "cell_type": "markdown",
   "metadata": {},
   "source": [
    "## <center>Loops:</center>"
   ]
  },
  {
   "cell_type": "markdown",
   "metadata": {},
   "source": [
    "* Must include **colon**  \n",
    "* Must **indent** loop \"block\" (\"do_this\") section "
   ]
  },
  {
   "cell_type": "markdown",
   "metadata": {},
   "source": [
    "---"
   ]
  },
  {
   "cell_type": "markdown",
   "metadata": {},
   "source": [
    "**for** loop  \n",
    "\n",
    "**`for var in sequence :`**  \n",
    "    **`    do_this_with_var`**  \n",
    "* Used when number of times loop is to be executed is **known** or **fixed** \n",
    "* \"Var\" is a variable that is used for iterating over a \"sequence\", on every iteration it takes the next value from \"sequence\"  until the end of \"sequence\" is reached  \n",
    "* \"Var\" is **not required** to be defined prior to loop as loop will automatically increase incrementally as per sequence given   "
   ]
  },
  {
   "cell_type": "markdown",
   "metadata": {},
   "source": [
    "---"
   ]
  },
  {
   "cell_type": "markdown",
   "metadata": {},
   "source": [
    "**Parallel iteration**  \n",
    "\n",
    "**`for a,b..... in zip(iterableA, iterableB.....):`**  \n",
    "    **`    do something with a, b etc.`**  \n",
    "* **zip** can be used to **iterate** over **multiple iterables in parallel** when used with **for loop**  "
   ]
  },
  {
   "cell_type": "markdown",
   "metadata": {},
   "source": [
    "---"
   ]
  },
  {
   "cell_type": "markdown",
   "metadata": {},
   "source": [
    "**List comprehension**  \n",
    "\n",
    "**`[eleToReturn for var in sequence condition]`**  \n",
    "* Keywords **for** and **in** are compulsary  \n",
    "* List comprehensions are given in **square brackets**  \n",
    "* Must assign to a new variable to save changes  \n",
    "* `sequence` is the **sequence** to **extract each variable** from, can be a range or a list etc  \n",
    "* `var` is the **variable** to test against the condition given from the sequence\n",
    "* `eleToReturn` will usually be the same as `var`....this is what will be **entered in the return list if condition is met**  "
   ]
  },
  {
   "cell_type": "markdown",
   "metadata": {},
   "source": [
    "---"
   ]
  },
  {
   "cell_type": "markdown",
   "metadata": {},
   "source": [
    "**Dictionary comprehension**  \n",
    "\n",
    "**`{elementToReturn for key,value in dictVar.items() condition}`**  \n",
    "* Similar to list comprehension, but contained in **`{}`** brackets  \n",
    "* **elementToReturn** will usually be **key:value**, or maybe just **key**  \n",
    "* **.items()** method is used to **obtain key:value pair** to carry out condition check on  \n",
    "* **value** can be used in the **condition** statement  "
   ]
  },
  {
   "cell_type": "markdown",
   "metadata": {},
   "source": [
    "---"
   ]
  },
  {
   "cell_type": "markdown",
   "metadata": {},
   "source": [
    "**while** loop  \n",
    "  \n",
    "**`while condition_statement :`**  \n",
    "    **`    do_this`**  \n",
    "* Used when number of times loop will need to be executed is **unknown**  \n",
    "* \"While\" loop will continue whilst condition_statement remains \"True\"     \n",
    "* Ensure to **define** any variable used in \"condition_statement\" **prior** to loop to \"get into loop\"  \n",
    "* Ensure to **adjust the value** of any variable used in \"condition_statement\" **within** loop, otherwise may create an infinite loop  "
   ]
  },
  {
   "cell_type": "markdown",
   "metadata": {},
   "source": [
    "---"
   ]
  },
  {
   "cell_type": "markdown",
   "metadata": {},
   "source": [
    "**break** statement\n",
    "\n",
    "**`for var in sequence:`**  \n",
    "    **`    if (test argument):`**  \n",
    "    **`        break  (exit loop when condition is True)`**  \n",
    "    **`    else:`**  \n",
    "    **`        do_this`**  \n",
    "* Break statement in Python is used to **bring the control out of the loop** when some external condition is triggered  \n",
    "* Statement is put inside the loop body (generally after if condition)  "
   ]
  },
  {
   "cell_type": "markdown",
   "metadata": {},
   "source": [
    "---"
   ]
  },
  {
   "cell_type": "markdown",
   "metadata": {},
   "source": [
    "**continue** statement  \n",
    "  \n",
    "**`for var in sequence:`**  \n",
    "    **`    if (test argument):`**  \n",
    "    **`        continue (do next iteration when condition is True)`**  \n",
    "    **`    else:`**  \n",
    "    **`        do_this`**  \n",
    "* Continue statement is opposite to that of break statement, instead of terminating the loop, it **forces the program to execute the next iteration of the loop**  \n",
    "* Statement is put inside the loop body (generally after if condition)  "
   ]
  },
  {
   "cell_type": "markdown",
   "metadata": {},
   "source": [
    "---"
   ]
  },
  {
   "cell_type": "markdown",
   "metadata": {},
   "source": [
    "**pass** statement  \n",
    "  \n",
    "**`for var in sequence:`**  \n",
    "    **`    pass (do nothing and continue program)`**  \n",
    "* Generally used as a **placeholder for future code**  \n",
    "* When the pass statement is executed, nothing happens, but you avoid getting an error when empty code is not allowed  \n",
    "* Difference between pass and comment is that comment is ignored by the interpreter whereas pass is not ignored  \n",
    "* Empty code is not allowed in **loops, function definitions, class definitions, or in if statements**   "
   ]
  },
  {
   "cell_type": "markdown",
   "metadata": {},
   "source": [
    "[<p style=\"text-align: right;\">**⬆ Table of Contents ⬆**</p>](#Python-Quick-Reference)"
   ]
  },
  {
   "cell_type": "markdown",
   "metadata": {},
   "source": [
    "---"
   ]
  },
  {
   "cell_type": "markdown",
   "metadata": {},
   "source": [
    "## <center>Exception Handling:</center>"
   ]
  },
  {
   "cell_type": "markdown",
   "metadata": {},
   "source": [
    "**exceptions:**  \n",
    "* Exceptions are a Python object that represents an **error**  \n",
    "* When a Python script raises an exception, it must either **handle the exception immediately otherwise it terminates and quits**  "
   ]
  },
  {
   "cell_type": "markdown",
   "metadata": {},
   "source": [
    "---"
   ]
  },
  {
   "cell_type": "markdown",
   "metadata": {},
   "source": [
    "[**List of Built-in Exceptions**](https://docs.python.org/3/library/exceptions)"
   ]
  },
  {
   "cell_type": "markdown",
   "metadata": {},
   "source": [
    "---"
   ]
  },
  {
   "cell_type": "markdown",
   "metadata": {},
   "source": [
    "**try except (else finally)** statement:  \n",
    "\n",
    "**`# potential code before try catch`**\n",
    "\n",
    "**`try:`**  \n",
    "    **`    try_this`**  \n",
    "**`except exception_name:`**  \n",
    "    **`    run_this_if_named_exception_occurs`**  \n",
    "**`except (another_exception_name, a_further_exception_name):`**  \n",
    "    **`    run_this_if_any_named_exception_occurs`**  \n",
    "**`except:`**  \n",
    "    **`    run_this_if_any_other_exception_occurs`**  \n",
    "**`else:`**  \n",
    "    **`    run_this_if_no_exceptions`**  \n",
    "**`finally:`**  \n",
    "    **`    run_this_regardless_of_exceptions`**  \n",
    "* All **colons** are **manditory**  \n",
    "* Using **\"except\"** statement **without specifying exceptions** can be **bad practice** as will catch all error without notifying programmer of root cause of problems that may occur  \n",
    "* **Multiple exception names** can be entered into one except branch in **round brackets seperated by comma**\n",
    "* **Else** branch will run **if no errors** are encountered   \n",
    "* **Finally** branch will run **regardless of errors** encountered  \n",
    "* Can have 1 or many except branchs, if including except branch without specifying exceptions, this must be **last of the except branchs**  \n",
    "* **else** branch is **optional**  \n",
    "* **finally** branch is **optional**  \n",
    "* Can use further indented \"try\" branches instead of \"else\" branch, **however is not good practice**"
   ]
  },
  {
   "cell_type": "markdown",
   "metadata": {},
   "source": [
    "---"
   ]
  },
  {
   "cell_type": "markdown",
   "metadata": {},
   "source": [
    "**raise** exception  \n",
    "\n",
    "**`raise Exception_Name (\"info on why exception raised\")`**  \n",
    "* **Bad practice** to handle all Exceptions with a **single statement, better to be specific**  \n",
    "* Can manually raise or cause an exception to be thrown with keyword **\"raise\"**  \n",
    "* \"exception_name\" should be a built in exception  \n",
    "* **Optional** information can be provided in **round brackets** but ideally should provide more information on why exception was raised  \n",
    "* **Different errors** can be raised, note has **capital letter** at beginning. These include (but not limited to):  \n",
    "    * **ValueError** \n",
    "    * **TypeError**  \n",
    "    * **Exception**  "
   ]
  },
  {
   "cell_type": "markdown",
   "metadata": {},
   "source": [
    "---"
   ]
  },
  {
   "cell_type": "markdown",
   "metadata": {},
   "source": [
    "**Create custom exception**  \n",
    "\n",
    "**`class ExceptionName(Exception):`**       # inherits from Exception  \n",
    "$\\;\\;\\;\\;$ **`def __init__(self,*args,**kwargs):`**  \n",
    "$\\;\\;\\;\\;\\;\\;\\;\\;$**`super().__init__(*args,**kwargs)`**  \n",
    "* Creates custom Exception that can be raised the same as any other  \n",
    "* Only benefits of having your own exception is to make code more readable and to write for aimed error handling  "
   ]
  },
  {
   "cell_type": "markdown",
   "metadata": {},
   "source": [
    "---"
   ]
  },
  {
   "cell_type": "markdown",
   "metadata": {},
   "source": [
    "**Traceback**  \n",
    "\n",
    "A python module that provides a standard interface to extract, format and print stack traces of a python program  \n",
    "When it prints the stack trace it exactly mimics the behaviour of a python interpreter  \n",
    "Useful when you want to print the stack trace at any step, usually seen when an exception occurs  \n",
    "Since a traceback gives all the information regarding the exception it becomes easier to track one and fix it  \n",
    "\n",
    "**`import traceback`**  \n",
    "\n",
    "**`try:`**  \n",
    "$\\;\\;\\;\\;$**`some code`**  \n",
    "**`except:`**  \n",
    "$\\;\\;\\;\\;$**` traceback.print_exc()`**  "
   ]
  },
  {
   "cell_type": "markdown",
   "metadata": {},
   "source": [
    "---"
   ]
  },
  {
   "cell_type": "markdown",
   "metadata": {},
   "source": [
    "**assert**  \n",
    "\n",
    "**`try:`**  \n",
    "$\\;\\;\\;\\;$**`assert condition, errorMessage`**  \n",
    "**`except AssertionError as ae:`**  \n",
    "$\\;\\;\\;\\;$**`other code`**  \n",
    "$\\;\\;\\;\\;$**`raise ae`**  \n",
    "* **Keyword** **`assert`** lets you test if a condition in your code returns True, if not, the program will raise an AssertionError  \n",
    "* assert **does nothing when** condition returns **True**  \n",
    "* assert can be done outside of a try, except, but shown here to show calling AssertionError created  "
   ]
  },
  {
   "cell_type": "markdown",
   "metadata": {},
   "source": [
    "[<p style=\"text-align: right;\">**⬆ Table of Contents ⬆**</p>](#Python-Quick-Reference)"
   ]
  },
  {
   "cell_type": "markdown",
   "metadata": {},
   "source": [
    "---"
   ]
  },
  {
   "cell_type": "markdown",
   "metadata": {},
   "source": [
    "## <center> Useful Built-in Functions:</center>"
   ]
  },
  {
   "cell_type": "markdown",
   "metadata": {},
   "source": [
    "**range** function    \n",
    "\n",
    "**`range(start,stop,step)`**  \n",
    "* Represents a range of immutable sequence of numbers  \n",
    "* \"stop\" **IS required**, will stop at and **NOT** include that value   \n",
    "* \"start\" is **NOT required**, set to \"0\" if not given  \n",
    "* \"step\" is **NOT required**, set to \"1\" if not given  \n",
    "* Will print as a **\"range\"** unless typecasted  "
   ]
  },
  {
   "cell_type": "markdown",
   "metadata": {},
   "source": [
    "---"
   ]
  },
  {
   "cell_type": "markdown",
   "metadata": {},
   "source": [
    "**enumerate** function  \n",
    "\n",
    "**`enumerate(iterable, start=0)`**\n",
    "* Outputs **(index value + start value)** with each element stored as a tuple, whilst the entire object is stored as an **enumerate** list  \n",
    "* \"iterable\" can be any object that supports iteration  \n",
    "* \"start\" is **NOT** required, it is the value from which the counter is to be started, by default it is \"0\"   "
   ]
  },
  {
   "cell_type": "markdown",
   "metadata": {},
   "source": [
    "---"
   ]
  },
  {
   "cell_type": "markdown",
   "metadata": {},
   "source": [
    "**count** method  \n",
    "\n",
    "**`var.count(object)`**  \n",
    "* Counts number of times \"object\" occurs in \"var\"  "
   ]
  },
  {
   "cell_type": "markdown",
   "metadata": {},
   "source": [
    "---"
   ]
  },
  {
   "cell_type": "markdown",
   "metadata": {},
   "source": [
    "**sum** function  \n",
    "\n",
    "**`sum(iterable, start=0)`**  \n",
    "* Sum of elements in \"iterable\"  \n",
    "* Starts at **value** given for start, if no value given, defaults to \"0\"  "
   ]
  },
  {
   "cell_type": "markdown",
   "metadata": {},
   "source": [
    "---"
   ]
  },
  {
   "cell_type": "markdown",
   "metadata": {},
   "source": [
    "**isnumeric( )** function  \n",
    "\n",
    "**`var.isnumeric()`**  \n",
    "* Checks variable to see if it is a number and returns a boolean  \n",
    "* Useful for checking input before converting to an int  "
   ]
  },
  {
   "cell_type": "markdown",
   "metadata": {},
   "source": [
    "---"
   ]
  },
  {
   "cell_type": "markdown",
   "metadata": {},
   "source": [
    "**isinstance( )** function  \n",
    "\n",
    "**`isinstance(var, typeToCheckFor)`**  \n",
    "* Checks given variable if it is of type given, returns **boolean**  \n",
    "* Considers **subclasses** too unlike type(x) == .....  "
   ]
  },
  {
   "cell_type": "markdown",
   "metadata": {},
   "source": [
    "---"
   ]
  },
  {
   "cell_type": "markdown",
   "metadata": {},
   "source": [
    "**zip** function  \n",
    "\n",
    "**`zip(iterable1, iterable2)`**  \n",
    "* **Combines** items one at a time taking **first from iterable1, then from iterable2**  \n",
    "* **Iterable with** the **least** items **defines** the **length of output** zip object  \n",
    "* If iterables are **tuples** and **one** has **exactly 1 object** whilst the other has multiple, it will be **elements** from that object which will be used  \n",
    "* **NOTE** zip objects can **ONLY** be **iterated** over **ONCE before it is exhaused** and the zipped object will be **empty**   \n",
    "* Can **avoid exhausting** the zipped object by **typecasting** to a list for example **when assigning to a variable** rather than when using the zipped object.  "
   ]
  },
  {
   "cell_type": "markdown",
   "metadata": {},
   "source": [
    "**Create tuples from zip object**  \n",
    "\n",
    "**`tupVar1, tupVar2, tupVar3... = zip(*zippedObject)`**  \n",
    "* The **`*`** defines splitting function  \n",
    "* As long as the zippedObject has not been iterated over already, this will **split each zipped elements into defined tuples**  \n",
    "* Must define same number of **tuples as components in each zippedObject elements**  "
   ]
  },
  {
   "cell_type": "markdown",
   "metadata": {},
   "source": [
    "---"
   ]
  },
  {
   "cell_type": "markdown",
   "metadata": {},
   "source": [
    "**map** function  \n",
    "\n",
    "**`map(function, iterables)`**  \n",
    "* Executes a specified function for each item in an iterable  \n",
    "* **`iterables`** are a sequence, collection or an iterator object  \n",
    "* Can send as many iterables as you like, just make sure the function has one parameter for each iterable  \n",
    "* Outputs as a **map object**  "
   ]
  },
  {
   "cell_type": "markdown",
   "metadata": {},
   "source": [
    "[<p style=\"text-align: right;\">**⬆ Table of Contents ⬆**</p>](#Python-Quick-Reference)"
   ]
  },
  {
   "cell_type": "markdown",
   "metadata": {},
   "source": [
    "---"
   ]
  },
  {
   "cell_type": "markdown",
   "metadata": {},
   "source": [
    "## <center> Building Functions:</center>"
   ]
  },
  {
   "cell_type": "markdown",
   "metadata": {},
   "source": [
    "Build functions to replace **repeating lines of code**  "
   ]
  },
  {
   "cell_type": "markdown",
   "metadata": {},
   "source": [
    "**functions**  \n",
    "\n",
    "* Functions are a block of code that is also called by its name (**independent**)\n",
    "* The function can have different parameters or may not have any at all. If any data is passed, they are **passed explicitly**  \n",
    "* It **may or may not** return any data  \n",
    "* Function does not deal with class and its instance concept  "
   ]
  },
  {
   "cell_type": "markdown",
   "metadata": {},
   "source": [
    "**difference between methods and functions**:  \n",
    "\n",
    "* Functions and Methods both look similar as they perform in almost similar ways, but the key difference is the concept of ‘Class and its Object‘  \n",
    "* Functions can be called only by its name, as it is defined independently  \n",
    "* Methods can’t be called by its name only, we need to invoke the class by a reference of that class in which it is defined, i.e., method is defined within a class and hence they are dependent on that class and so methods need to be called on an object    \n",
    "* A method may alter an object’s state, but Python function usually only operates on it, and then prints something or returns a value  \n",
    "\n",
    "**typical function**:  \n",
    "**`func_name(arguments)`**  \n",
    "  \n",
    "**typical method**:  \n",
    "**`obj.meth_name(arguments)`**  "
   ]
  },
  {
   "cell_type": "markdown",
   "metadata": {},
   "source": [
    "---"
   ]
  },
  {
   "cell_type": "markdown",
   "metadata": {},
   "source": [
    "**define function**  \n",
    "\n",
    "**`def funcName(para1, para2, *variadicPara, keywordArg=value, **kwargs):`**  \n",
    "$\\;\\;\\;\\;$**`\"\"\"description of func for help()\"\"\"`**  \n",
    "$\\;\\;\\;\\;$**`code block`**  \n",
    "$\\;\\;\\;\\;$**`return \"this\"`**  \n",
    "* Function name should be descriptive  \n",
    "* Parameters (\"para\") is what will be taken from program and applied in code block, these are **optional**   \n",
    "* Must include **colon**  \n",
    "* **Optional** help description is in **triple quotes**  \n",
    "* Code block is **indented**  \n",
    "* Can have **single or multiple \"positional\" parameters** seperated with a **comma**  \n",
    "* Positional arguments are defined by **name only**  \n",
    "* **Positional** arguments can be passed in a **different order** by **assigning to parameter name when calling function**  \n",
    "* **Positional arguments** can have **multiple argument entries** when parameter is preceded with a **`*`** allowing unlimited number of arguments, this is defined in description as **`*args`**  \n",
    "* **Positional arguments** are implemented as a **tuple**  \n",
    "* Keyword arguments are defined by **name and default value** (after the assignment operator). These must be **after** any **positional arguments**  \n",
    "* **Keyword arguments** can take **unlimited keyword arguments** when parameter is preceded with **`**`**. These must be **after** any **positional arguments**. This is defined in description as **`**kwargs`**\n",
    "* **Keyword arguments** are implemented as **dictionaries**  \n",
    "* **Beware** of functions where code contains **multiplication** **`*`**, if a string is passed to function, could cause unexpected errors  \n",
    "* **Return** statement exits a function, optionally passing back a value. It is not required in some circumstances, however without it can cause errors in passing data back to the main program  \n",
    "* Functions that perform no task will return \"none\" "
   ]
  },
  {
   "cell_type": "markdown",
   "metadata": {},
   "source": [
    "---"
   ]
  },
  {
   "cell_type": "markdown",
   "metadata": {},
   "source": [
    "**calling** a function    \n",
    "\n",
    "**`funcName(argument)`**  \n",
    "* Argument value is sent to function parameter  \n",
    "* Function result can be assigned to a variable or printed in usual way  \n",
    "* **Without parentheses** will return function **parameter format**  "
   ]
  },
  {
   "cell_type": "markdown",
   "metadata": {},
   "source": [
    "---"
   ]
  },
  {
   "cell_type": "markdown",
   "metadata": {},
   "source": [
    "**help** on a function   \n",
    "\n",
    "**`help(funcName)`**  \n",
    "* Will return \"help description\" part of function and module function is in  "
   ]
  },
  {
   "cell_type": "markdown",
   "metadata": {},
   "source": [
    "---"
   ]
  },
  {
   "cell_type": "markdown",
   "metadata": {},
   "source": [
    "**global and local scope variables**  \n",
    "\n",
    "* Variables can be **local** to the function, requires no defining as such, these will **not have name conflicts** with variables already defined in main program, they will be seperate allowing them to have same variable names with different stored values which are deleted after function is executed  \n",
    "* Variables can be **global**, define variable name preceded by **\"global\"** in the function, in this case they will not be deleted after function is executed, **alternatively** do not define variable inside function requiring it to be defined prior to function being run in the main program  "
   ]
  },
  {
   "cell_type": "markdown",
   "metadata": {},
   "source": [
    "---"
   ]
  },
  {
   "cell_type": "markdown",
   "metadata": {},
   "source": [
    "**Lambda functions**  \n",
    "\n",
    "**`functionName = lambda arguments : expression`**  \n",
    "* Lambda functions are small anonymous functions.  \n",
    "* Can take **any** number of **arguments**  \n",
    "* Can **only** have **one expression**  \n",
    "* Can be used inside another function  \n",
    "* If, else in expression **does not** contain colon **`:`**  "
   ]
  },
  {
   "cell_type": "markdown",
   "metadata": {},
   "source": [
    "[<p style=\"text-align: right;\">**⬆ Table of Contents ⬆**</p>](#Python-Quick-Reference)"
   ]
  },
  {
   "cell_type": "markdown",
   "metadata": {},
   "source": [
    "---"
   ]
  },
  {
   "cell_type": "markdown",
   "metadata": {},
   "source": [
    "## <center>Classes, Objects and Methods:</center>"
   ]
  },
  {
   "cell_type": "markdown",
   "metadata": {},
   "source": [
    "**classes**  \n",
    "\n",
    "* Classes are **user-defined types** or blueprint from which objects are created  \n",
    "* They provide a means of bundling data and functionality together  \n",
    "* Creating a new class creates a **new type of object**, allowing new instances (objects) of that type to be made  \n",
    "* Each class instance can have **attributes** attached to it for **maintaining its state**  \n",
    "* Class instances can also have **methods (defined by its class) for modifying its state**"
   ]
  },
  {
   "cell_type": "markdown",
   "metadata": {},
   "source": [
    "---"
   ]
  },
  {
   "cell_type": "markdown",
   "metadata": {},
   "source": [
    "**define class**  \n",
    "\n",
    "**`class ClassName(object):`**  \n",
    "$\\;\\;\\;\\;$**`\"\"\"help() description in triple quotes\"\"\"`**  \n",
    "\n",
    "$\\;\\;\\;\\;$**`attribbute1 = None`**  ---- Good practice to add attributes at top and assign them None for better readability  \n",
    "$\\;\\;\\;\\;$**`attribute2 = None`**  \n",
    "\n",
    "$\\;\\;\\;\\;$**`# constructor to initialize the object`**  \n",
    "$\\;\\;\\;\\;$**`def __init__(self,attribute1,attribute2 = optionalDefautValue):`**  \n",
    "$\\;\\;\\;\\;\\;\\;\\;\\;$**`self.attribute1 = attribute1`**  \n",
    "$\\;\\;\\;\\;\\;\\;\\;\\;$**`self.attribute2 = attribute2`**  \n",
    "        \n",
    "$\\;\\;\\;\\;$**`# method(s) to access and modify the objects argument state values`**  \n",
    "$\\;\\;\\;\\;$**`def meth_Name(self, parameter):`**  \n",
    "$\\;\\;\\;\\;\\;\\;\\;\\;$**`self.attribute1 = code_to_modify_attribute1 (e.g.; self.attribute1 = self.attribute1 + parameter)`**  \n",
    "$\\;\\;\\;\\;\\;\\;\\;\\;$**`return(self.attribute1)`**   \n",
    "* Created by keyword **class**  \n",
    "* Class names should be **Capitalised**  \n",
    "* Must include **colon**  \n",
    "* Must include the term **object**  \n",
    "* **`__init__`** is a special method which is called as a constructor when an object is created from a class and it allows the class to **initialize the attributes** of the class, has **double underscores** either side  \n",
    "* **`self`** is a parameter in function and the user can use another parameter name in place of it, however it is advisable to use self because it increases the readability of code  \n",
    "* **`self`** represents the instance of the class. By using the **`self`** keyword we can access the attributes and methods of the class in Python. It binds the attributes with the given arguments  \n",
    "* Can include **default values** for attributes by setting them with **`=`** in the constructor  \n",
    "* **Attribute** = variable of any type that belongs to or is declared directly in a class  \n",
    "* Attributes are always public and accessed by using dot (.) operator e.g.; className.attribute1  \n",
    "* **Parameter** = temporary variable names within functions, placeholders for the argument it is passed  \n",
    "* **Argument** = value that is assigned to that temporary variable"
   ]
  },
  {
   "cell_type": "markdown",
   "metadata": {},
   "source": [
    "---"
   ]
  },
  {
   "cell_type": "markdown",
   "metadata": {},
   "source": [
    "**objects**  \n",
    "\n",
    "* An object is an instance of a class. A class is like a blueprint while an instance is a copy of the class with actual values. It’s not an idea anymore  \n",
    "* An object consists of :  \n",
    "    **Identity** : It gives a **unique name** to an object and enables one object to interact with other objects  \n",
    "    **State** : It is represented by **attributes** of an object. It also reflects the properties of an object  \n",
    "    **Behavior** : It is represented by **methods** of an object. It also reflects the response of an object with other objects  "
   ]
  },
  {
   "cell_type": "markdown",
   "metadata": {},
   "source": [
    "---"
   ]
  },
  {
   "cell_type": "markdown",
   "metadata": {},
   "source": [
    "**creating** an object  \n",
    "\n",
    "**`objVar_Name = ClassName(attribute1_value, attribute2_value)`**  \n",
    "* Object constructor consists of the name of the class as well as the parameters to be passed  "
   ]
  },
  {
   "cell_type": "markdown",
   "metadata": {},
   "source": [
    "---"
   ]
  },
  {
   "cell_type": "markdown",
   "metadata": {},
   "source": [
    "**Inheritance**  \n",
    "\n",
    "* Unlike other languages, Python can inherit from **multiple classes**  \n",
    "* Python **does not** have **method overloading** (several methods with same name but different signature)  "
   ]
  },
  {
   "cell_type": "markdown",
   "metadata": {},
   "source": [
    "**`class ChildClassName(ParentClassName1, ParentClassName2):`**  \n",
    "$\\;\\;\\;\\;$**`pass`**  \n",
    "* Inheriting from multiple classes is defined after class name in parentheses  \n",
    "* Keyword pass will allow child class to inherit all parent classes properties and methods when you do not want to add any new ones  "
   ]
  },
  {
   "cell_type": "markdown",
   "metadata": {},
   "source": [
    "**`class ChildClassName(ParentClassName):`**  \n",
    "$\\;\\;\\;\\;$**`def __init__(self, attribute1, attribute2):`**  \n",
    "$\\;\\;\\;\\;\\;\\;\\;\\;$**`# add properties etc.`**  \n",
    "* When the \\_\\_init\\_\\_ function is used, it will automatically **override the parents \\_\\_init\\_\\_ function**  "
   ]
  },
  {
   "cell_type": "markdown",
   "metadata": {},
   "source": [
    "**`class ChildClassName(ParentClassName):`**  \n",
    "$\\;\\;\\;\\;$**`def __init__(self, attribute1, attribute2):`**  \n",
    "$\\;\\;\\;\\;\\;\\;\\;\\;$**`ParentClassName.__init__(self, attribute1, attribute2)`** \n",
    "* A call to the parents \\_\\_init\\_\\_ function will allow the child class to **inherit the \\_\\_init\\_\\_ function**  \n",
    "* Note the **.** before the \\_\\_init\\_\\_ call  \n",
    "* Note **no parentheses** after ParentClassName  "
   ]
  },
  {
   "cell_type": "markdown",
   "metadata": {},
   "source": [
    "**`class ChildClassName(ParentClassName):`**  \n",
    "\n",
    "$\\;\\;\\;\\;$**`def __init__(self, attribute1, attribute2):`**  \n",
    "$\\;\\;\\;\\;\\;\\;\\;\\;$**`super().__init__(attribute1, attribute2)`**  \n",
    "* The super() function will allow the child class to **inherit all the properties and methods** of the parent class  \n",
    "* When wanting to **modify the output** of a parent method when **overriding a method**, use super() call in the method  \n",
    "* Further attributes for the child class can be passed in its own \\_\\_init\\_\\_ and set in the normal way (along with further methods) after and below the super call  \n",
    "* Note Python 2.x and earlier requires calls to the super class be defined as  \n",
    "    **`super(Derived_Class_Name, self).__init__(Parameters_of_Super_Class_Constructor)`**  "
   ]
  },
  {
   "cell_type": "markdown",
   "metadata": {},
   "source": [
    "---"
   ]
  },
  {
   "cell_type": "markdown",
   "metadata": {},
   "source": [
    "**Method Resolution Order (MRO)**:  \n",
    "\n",
    "**`ClassName.mro()`**  \n",
    "**OR**  \n",
    "**`ClassName.__mro__`**  \n",
    "* Defines the order in which the base classes are searched when executing a method  \n",
    "* Old style (Python 2.x and older) classes use DLR or depth-first left to right algorithm (depth first, then left to right) whereas new style classes use Linearization. Child classes are preceeded before their parents, and left to right is searched for each depth level before proceeding to the next parent  \n",
    "\n",
    "A  &emsp;&emsp;&emsp;&emsp;&ensp;&nbsp;&nbsp; **5th:** Base class is searched last  \n",
    "|&ensp;\\  \n",
    "|&emsp;B  &emsp;&emsp;&emsp;&emsp; **4th:** Next level up parent is searched (again left to right if more than one)  \n",
    "|&emsp;&ensp;&nbsp;\\  \n",
    "C&emsp;&emsp;D  &emsp;&emsp;&ensp; **2nd & 3rd:** Immediate parent classes are searched left to right after child class    \n",
    "|&emsp;&ensp;&nbsp;/  \n",
    "|&emsp;/  \n",
    "&nbsp;E  &emsp;&emsp;&emsp;&emsp;&emsp; **1st:** Child class is searched first  "
   ]
  },
  {
   "cell_type": "markdown",
   "metadata": {},
   "source": [
    "---"
   ]
  },
  {
   "cell_type": "markdown",
   "metadata": {},
   "source": [
    "**accessing attribute** values  \n",
    "\n",
    "**`objVar_Name.attributeName`**  \n",
    "* This will display the current value of the attribute stored for the object  "
   ]
  },
  {
   "cell_type": "markdown",
   "metadata": {},
   "source": [
    "---"
   ]
  },
  {
   "cell_type": "markdown",
   "metadata": {},
   "source": [
    "**changing data attributes** directly  \n",
    "\n",
    "**`objVar_Name.attributeName = new_AttributeValue`**  \n",
    "* This will set a new value of the attribute for the object  "
   ]
  },
  {
   "cell_type": "markdown",
   "metadata": {},
   "source": [
    "---"
   ]
  },
  {
   "cell_type": "markdown",
   "metadata": {},
   "source": [
    "**methods**  \n",
    "\n",
    "* Methods are called by its name, but it's associated to an object (**dependent**)  \n",
    "* A method is **implicitly passed to the object** on which it is invoked  \n",
    "* It **may or may not** return any data  \n",
    "* Methods can operate on the data (instance variables) that is contained by the corresponding class"
   ]
  },
  {
   "cell_type": "markdown",
   "metadata": {},
   "source": [
    "---"
   ]
  },
  {
   "cell_type": "markdown",
   "metadata": {},
   "source": [
    "**difference between methods and functions**:  \n",
    "\n",
    "* Functions and Methods both look similar as they perform in almost similar ways, but the key difference is the concept of ‘Class and its Object‘  \n",
    "* Functions can be called only by its name, as it is defined independently  \n",
    "* Methods can’t be called by its name only, we need to invoke the class by a reference of that class in which it is defined, i.e., method is defined within a class and hence they are dependent on that class and so methods need to be called on an object    \n",
    "* A method may alter an object’s state, but Python function usually only operates on it, and then prints something or returns a value  \n",
    "\n",
    "**typical function**:  \n",
    "**`func_name(arguments)`**  \n",
    "  \n",
    "**typical method**:  \n",
    "**`obj.meth_name(arguments)`**  "
   ]
  },
  {
   "cell_type": "markdown",
   "metadata": {},
   "source": [
    "---"
   ]
  },
  {
   "cell_type": "markdown",
   "metadata": {},
   "source": [
    "**calling** a method  \n",
    "\n",
    "**`objVar_Name.meth_Name(argument)`**  \n",
    "* This will call the method named and change or interact with the data attributes stored for the object as denoted by the method code block  \n",
    "* **Without parentheses** will return method **parameter format**  "
   ]
  },
  {
   "cell_type": "markdown",
   "metadata": {},
   "source": [
    "---"
   ]
  },
  {
   "cell_type": "markdown",
   "metadata": {},
   "source": [
    "**Method and attribute types (access modifiers)**  \n",
    "\n",
    "* Python **does not** implement access modifiers as such, **everything is visible to everyone always**  \n",
    "* Access to variables or functions can be limited in python, but note **above**  \n",
    "\n",
    "**Public**:  \n",
    "Attribues and methods defined without any underscores, these are accessible from outside the Class through an object of the class.  \n",
    "\n",
    "**Protected**:  \n",
    "Attributes and methods defined with **1 leading underscore**  \n",
    "The members declared as Protected are accessible from outside the class but only in a class derived from it that is in the child or subclass.  \n",
    "\n",
    "**Private**:  \n",
    "Attributes and methods defined with **2 leading underscores**  \n",
    "These members are only accessible from within the class. No outside Access is allowed.  \n",
    "\n",
    "\n",
    "Though note **Python internally renames** the property's and method's names starting with **`__`** with   \n",
    "**`_CLASSNAME__PROPERTYNAME/METHODNAME`**  \n",
    "This means they **can actually be accessed** (see above)  \n",
    "\n",
    "**Special Methods aka Dunder Methods**:  \n",
    "Methods defined with **2 leading AND 2 trailing underscores**  \n",
    "These are typically reserved for Python built in and predefined methods and it is **discouraged to create your own** to avoid clashes  "
   ]
  },
  {
   "cell_type": "markdown",
   "metadata": {},
   "source": [
    "---"
   ]
  },
  {
   "cell_type": "markdown",
   "metadata": {},
   "source": [
    "**Special methods**  \n",
    "\n",
    "**<center>Arithmetic:<center>**  \n",
    "\n",
    "|**Operator**|**Description**|**Special Method**|\n",
    "|:---:|:---|:---|\n",
    "|+|Addition|\\_ \\_add_ _(self,other)|\n",
    "|-|Subtraction|\\_ \\_sub_ _(self,other)|\n",
    "|\\*|Multiplication|\\_ \\_mul_ _(self,other)|\n",
    "|/|Division|\\_ \\_div_ _(self,other)|\n",
    "|%|Modulus|\\_ \\_mod_ _(self,other)|\n",
    "|\\*\\*|Exponentiation|\\_ \\_pow_ _(self,other)|\n",
    "|+=|In-place addition|\\_ \\_iadd_ _(self,other)|\n",
    "|-=|In-place subtraction|\\_ \\_isub_ _(self,other)|\n",
    "|\\*=|In-place multiplication|\\_ \\_imul_ _(self,other)|\n",
    "|/=|In-place division|\\_ \\_idiv_ _(self,other)|\n",
    "|%=|In-place modulus|\\_ \\_imod_ _(self,other)|\n",
    "|\\*\\*=|In-place exponentiation|\\_ \\_ipow_ _(self,other)|  "
   ]
  },
  {
   "cell_type": "markdown",
   "metadata": {},
   "source": [
    "**<center>Comparison Operators:<center>**  \n",
    "\n",
    "|**Operator**|**Description**|**Special Method**|\n",
    "|:---:|:---|:---|\n",
    "|==|Equal|\\_ \\_eq_ _(self,other)|\n",
    "|!=|Not Equal|\\_ \\_ne_ _(self,other)|\n",
    "|>|Greater than|\\_ \\_gt_ _(self,other)|\n",
    "|>=|Greater or equal than|\\_ \\_ge_ _(self,other)|\n",
    "|<|Less than|\\_ \\_lt_ _(self,other)|\n",
    "|<=|Less or equal than|\\_ \\_le_ _(self,other)|"
   ]
  },
  {
   "cell_type": "markdown",
   "metadata": {},
   "source": [
    "**<center>Type Conversion Operators:<center>**  \n",
    "\n",
    "|**Operator**|**Description**|**Special Method**|\n",
    "|:---:|:---|:---|\n",
    "|str( )|String representation|\\_ \\_str_ _(self)|\n",
    "|repr( )|Printable representation (very similar to str())|\\_ \\_repr_ _(self)|\n",
    "|int( )|Integer representation|\\_ \\_int_ _(self)|\n",
    "|float( )|Float representation|\\_ \\_float_ _(self)|"
   ]
  },
  {
   "cell_type": "markdown",
   "metadata": {},
   "source": [
    "**<center>Sequence Operators<center>**  \n",
    "    \n",
    "|**Operator**|**Usage**|**Description**|**Special Method**|\n",
    "|:---:|:---|:---|:---|\n",
    "|[ ]|myObj [ key ]|Get an item from myObj|\\_ \\_getitem_ _(self, key)|\n",
    "|[ ]=|[ key ] = value|Set an item in myObj|\\_ \\_setitem_ _(self, key, value)|\n",
    "|del|del myObj[ key ]|Deletes an item in myObj|\\_ \\_delitem_ _(self, key)|\n",
    "|[ : ]|myObj[ i : j ]|Get a slice from myObj|\\_ \\_getslice_ _(self, i, j)|\n",
    "|[ : ]=|myObj[ i : j ]=values|Set a slice in myObj|\\_ \\_setslice_ _(self, i, j, values)|\n",
    "|in|value in myObj|Returns True if value is in myObj|\\_ \\_contains_ _(self, value)|\n",
    "|len|len(myObj)|Returns the length of myObj|\\_ \\_len_ _(self)|"
   ]
  },
  {
   "cell_type": "markdown",
   "metadata": {},
   "source": [
    "---"
   ]
  },
  {
   "cell_type": "markdown",
   "metadata": {},
   "source": [
    "**Getters and Setters**:  \n",
    "\n",
    "**Getter:**  \n",
    "**`@property`**  \n",
    "**`def attributeName(self):`**  \n",
    "$\\;\\;\\;\\;$**`return self.__privateAttribute`**  \n",
    "\n",
    "**Call with:**  \n",
    "**`obj.attributeName`**  \n",
    "\n",
    "**Setter:**  \n",
    "**`@attributeName.setter`**  \n",
    "**`def attributeName(self, newVal):`**  \n",
    "$\\;\\;\\;\\;$**`validataion checks prior to setting...`**  \n",
    "$\\;\\;\\;\\;$**`self.__privateAttribute = newVal`**  \n",
    "\n",
    "**Set with:**  \n",
    "**`obj.attributeName = newVal`**  \n",
    "\n",
    "* **`attributeName`** is the name of the method or attribute to set using the decorator and should not be private here, however ensure to call the private attribute and set accordingly within the method  \n",
    "* Can be done in a similar way to Java with seperate methods for getting and setting attributes, however this means methods will need to be explicitly called otherwise relevant validation checks will not be carried out, or even the wrong attribute may be changed  \n",
    "* In Python, we can use the **@property** decorator as the getter, and **@attributeName.setter**  "
   ]
  },
  {
   "cell_type": "markdown",
   "metadata": {},
   "source": [
    "---"
   ]
  },
  {
   "cell_type": "markdown",
   "metadata": {},
   "source": [
    "**dir** function  \n",
    "\n",
    "**`dir(objVar_Name)`**  \n",
    "* This returns a list of the attributes and methods of the named object  "
   ]
  },
  {
   "cell_type": "markdown",
   "metadata": {},
   "source": [
    "---"
   ]
  },
  {
   "cell_type": "markdown",
   "metadata": {},
   "source": [
    "**Duck typing**  \n",
    "\n",
    "* In Python, an object or classes type is of lesser importance than the methods or attributes it defines  \n",
    "* If two or more classes contains a certain attribute or method, they can all be passed to the same function which makes use of that attribute or method without issue  "
   ]
  },
  {
   "cell_type": "markdown",
   "metadata": {},
   "source": [
    "[<p style=\"text-align: right;\">**⬆ Table of Contents ⬆**</p>](#Python-Quick-Reference)"
   ]
  },
  {
   "cell_type": "markdown",
   "metadata": {},
   "source": [
    "---"
   ]
  },
  {
   "cell_type": "markdown",
   "metadata": {},
   "source": [
    "## <center>Command line arguments:</center>"
   ]
  },
  {
   "cell_type": "markdown",
   "metadata": {},
   "source": [
    "**Using sys**  \n",
    "\n",
    "**`import sys`**  \n",
    "**`for i,v in enumerate(sys.argv):`**  \n",
    "$\\;\\;\\;\\;$**`print(\"Parameter #{}: {}\".format(i,v))`**  \n",
    "* Iterates over command line parameters  \n",
    "* **`argv[0]`** is the **script name** (it is operating system dependent whether this is a full pathname or not)  "
   ]
  },
  {
   "cell_type": "markdown",
   "metadata": {},
   "source": [
    "**argparse**  \n",
    "\n",
    "**`import argparse`**  \n",
    "\n",
    "\n",
    "**`parser = argparse.ArgumentParser(prog=None, description=None)`**  \n",
    "* **`prog`** = name of program (default: sys.argv[0])  \n",
    "* **`description`** = Description of what the program does  \n",
    "\n",
    "\n",
    "**`parser.add_argument('--parameterFullName', '-p', dest='var', type=str, help='Some help info', required=False, default='defaultValue', choices\n",
    "=['ele1','ele2'], nargs=intNumberOfArgs, metavar='nameOfExpectedValue', action='append')`**  \n",
    "* **`-p`** is an abreviation (leading with a single **`-`** ) of **`parametersFullName`** ( leading with double **`--`** ) and either can be used to provide the input  \n",
    "* **`dest`** is the variable name you want to save the parameter to (accessed: args.var), if none given, name is inferred from the option  \n",
    "* **`choices`** option limits arguments to the given list  \n",
    "* **`nargs`** specifies the exact number of command-line arguments that should be provided, **`'*'`** specifies variable  \n",
    "* **`metavar`** option gives a name to the expected value in error and help outputs  \n",
    "* **`action`** allows grouping of repeating inputs  \n",
    "\n",
    "\n",
    "\n",
    "**`args = parser.parse_args()`**  \n",
    "* Adds arguments to a variable  \n",
    "\n",
    "**`argVar = args.dest`**  \n",
    "* Access variable 'dest' and saves to variable, other parameters can be accessed in a similar way  "
   ]
  },
  {
   "cell_type": "markdown",
   "metadata": {},
   "source": [
    "**exit codes**  \n",
    "\n",
    "**`import sys`**  \n",
    "\n",
    "**`{code}`**  \n",
    "\n",
    "**`sys.exit(intExitCode)`**  \n",
    "* Usually used after an if statement  \n",
    "* If no exit code provided, then system exit code **`0`** is used which is considered **successful termination**  \n",
    "* A string can also be passed as an exit code message, and will have the exit code **`1`**  \n",
    "* In Windows, the exit code from the last program run can be obtained in PowerShell using command **`echo $lastexitcode`**  "
   ]
  },
  {
   "cell_type": "markdown",
   "metadata": {},
   "source": [
    "[<p style=\"text-align: right;\">**⬆ Table of Contents ⬆**</p>](#Python-Quick-Reference)"
   ]
  },
  {
   "cell_type": "markdown",
   "metadata": {},
   "source": [
    "---"
   ]
  },
  {
   "cell_type": "markdown",
   "metadata": {},
   "source": [
    "## <center>PIP:</center>"
   ]
  },
  {
   "cell_type": "markdown",
   "metadata": {},
   "source": [
    "* PIP is a package manager for Python that allows you to install and manage additional libraries and dependencies that are not distributed as part of the standard library  \n",
    "* A package is a unit of distribution that can contain a library or an executable or both  \n",
    "* a library is a set of modules which makes sense to be together and that can be used in a program or another library  "
   ]
  },
  {
   "cell_type": "markdown",
   "metadata": {},
   "source": [
    "---"
   ]
  },
  {
   "cell_type": "markdown",
   "metadata": {},
   "source": [
    "**get pip version**  \n",
    "\n",
    "**`!pip --version`** \n",
    "* Returns version of PIP"
   ]
  },
  {
   "cell_type": "markdown",
   "metadata": {},
   "source": [
    "---"
   ]
  },
  {
   "cell_type": "markdown",
   "metadata": {},
   "source": [
    "**list installed packages**  \n",
    "\n",
    "**`!pip list`**  \n",
    "* Returns a list of installed packages  "
   ]
  },
  {
   "cell_type": "markdown",
   "metadata": {},
   "source": [
    "---"
   ]
  },
  {
   "cell_type": "markdown",
   "metadata": {},
   "source": [
    "**install PIP package**  \n",
    "\n",
    "**`!pip install package_name`**  \n",
    "* Will install package named  \n",
    "* Once installed, packages / modules can be imported  "
   ]
  },
  {
   "cell_type": "markdown",
   "metadata": {},
   "source": [
    "---"
   ]
  },
  {
   "cell_type": "markdown",
   "metadata": {},
   "source": [
    "**uninstall PIP packages**  \n",
    "\n",
    "**`!pip uninstall package_name`**  \n",
    "* Will uninstall package named  "
   ]
  },
  {
   "cell_type": "markdown",
   "metadata": {},
   "source": [
    "[<p style=\"text-align: right;\">**⬆ Table of Contents ⬆**</p>](#Python-Quick-Reference)"
   ]
  },
  {
   "cell_type": "markdown",
   "metadata": {},
   "source": [
    "---"
   ]
  },
  {
   "cell_type": "markdown",
   "metadata": {
    "tags": []
   },
   "source": [
    "## <center>Working with files</center>"
   ]
  },
  {
   "cell_type": "markdown",
   "metadata": {},
   "source": [
    "### <center>Opening and Reading Files:</center>"
   ]
  },
  {
   "cell_type": "markdown",
   "metadata": {},
   "source": [
    "**open** function  \n",
    "\n",
    "**`open(\"file\", \"mode\")`**  \n",
    "* Built in function  \n",
    "* Opens a file and returns a corresponding file object  \n",
    "* Both **\"file\" and \"mode\"** must be entered as a **string within parentheses**  \n",
    "* \"file\" is a path-like object made up of **file name and directory**  \n",
    "* \"mode\" is an **optional** string which specifies which mode file is to be opened in, common modes include:<br>\n",
    "**'r'** = **reading (default mode)**, will **fail** if file does **not exist**<br>\n",
    "**'a'** = **appending**, stream is positioned at **end of file**, **creates new file** if file does **not exist**<br>\n",
    "**'w'** = **writing**, will **truncate file first** (empty contents), or **create new file** if file does **not exist**  \n",
    "**'+'** = **updating**, add **'+'** after any usual mode e.g. 'w+' to allow **reading and writing**, note 'w+' mode will still truncate file first, 'r+' will overwrite what is in streams way  "
   ]
  },
  {
   "cell_type": "markdown",
   "metadata": {},
   "source": [
    "---"
   ]
  },
  {
   "cell_type": "markdown",
   "metadata": {},
   "source": [
    "**file object**\n",
    "\n",
    "**`varFile_Obj = open(file, mode)`**  \n",
    "* **Information** about the file can be obtained by setting the open function to a **file object variable**  \n",
    "* \"mode\" is again **optional**  \n",
    "* Once a file is opened and data saved as a file object, then the following methods can be used on it  \n",
    "* **MUST close** file object once finished using file unless using with statement (see below)"
   ]
  },
  {
   "cell_type": "markdown",
   "metadata": {},
   "source": [
    "---"
   ]
  },
  {
   "cell_type": "markdown",
   "metadata": {},
   "source": [
    "**name** method\n",
    "\n",
    "**`varFile_Obj.name`**\n",
    "* Returns **name** of the file "
   ]
  },
  {
   "cell_type": "markdown",
   "metadata": {},
   "source": [
    "---"
   ]
  },
  {
   "cell_type": "markdown",
   "metadata": {},
   "source": [
    "**mode** method  \n",
    "\n",
    "**`varFile_Obj.mode`**  \n",
    "* Returns **mode** of file object  "
   ]
  },
  {
   "cell_type": "markdown",
   "metadata": {},
   "source": [
    "---"
   ]
  },
  {
   "cell_type": "markdown",
   "metadata": {},
   "source": [
    "**close** method  \n",
    "\n",
    "**`varFile_Obj.close()`**  \n",
    "* **Closes** a file  \n",
    "* **ALWAYS** close a file after opening with the above function \n",
    "* Note it is the **file object variable** that is closed  \n",
    "* Must include **parenthesis**  "
   ]
  },
  {
   "cell_type": "markdown",
   "metadata": {},
   "source": [
    "---"
   ]
  },
  {
   "cell_type": "markdown",
   "metadata": {},
   "source": [
    "**closed** method  \n",
    "\n",
    "**`varFile_Obj.closed`**  \n",
    "* Checks if a file is **closed** and returns **True** if is"
   ]
  },
  {
   "cell_type": "markdown",
   "metadata": {},
   "source": [
    "---"
   ]
  },
  {
   "cell_type": "markdown",
   "metadata": {},
   "source": [
    "**with** statment  \n",
    "\n",
    "**`with open(file, mode) as varFile_Obj:`**  \n",
    "    **`    var = varFile_Obj.read()`**  \n",
    "* **Better practice** to use **\"with\" statment** to open files as it **automatically closes** them \n",
    "* Code will **run everything indented, then close file**  \n",
    "* Can check file is closed as well as print file content, but **cannot read from file** outside of code block  \n",
    "* Must include **colon**"
   ]
  },
  {
   "cell_type": "markdown",
   "metadata": {},
   "source": [
    "---"
   ]
  },
  {
   "cell_type": "markdown",
   "metadata": {},
   "source": [
    "**read** method  \n",
    "\n",
    "**`.read()`**  \n",
    "* File read as a **whole** and stores values in the variable \"var\" as a **string**  \n",
    "* Stream positioned at the end of the file after running   \n",
    "* **Optional argument** determines **number of characters read** each time method is run moving stream position accordingly, note new line characters \"\\n\" count as a single character  \n",
    "* Stream position reset if the file is reopened "
   ]
  },
  {
   "cell_type": "markdown",
   "metadata": {},
   "source": [
    "---"
   ]
  },
  {
   "cell_type": "markdown",
   "metadata": {},
   "source": [
    "**readline** method  \n",
    "\n",
    "**`.readline()`**  \n",
    "* Reads **each line** of file each time code is run and stream is updated accordingly  \n",
    "* Stores values as a **string**  \n",
    "* **Optional argument** determines **number of characters read** each time method is run up to **max end of line**  \n",
    "* If line has **NOT** been completely read, stream will **stay in position** and continue from there next time code is run  \n",
    "* Stream position reset if the file is reopened  \n",
    "* Must include **colon**"
   ]
  },
  {
   "cell_type": "markdown",
   "metadata": {},
   "source": [
    "---"
   ]
  },
  {
   "cell_type": "markdown",
   "metadata": {},
   "source": [
    "**readlines** method  \n",
    "\n",
    "**`.readlines()`**  \n",
    "* Outputs **each line** as an **element** in a **list**  \n",
    "* **Optional argument** will read **complete lines up to the end of the line** which equals the number of Characters entered, note new line characters **\"\\n\" count as the beginning of a line**  \n",
    "* Must include **colon**"
   ]
  },
  {
   "cell_type": "code",
   "execution_count": null,
   "metadata": {},
   "outputs": [],
   "source": [
    "help(print)"
   ]
  },
  {
   "cell_type": "markdown",
   "metadata": {},
   "source": [
    "---"
   ]
  },
  {
   "cell_type": "markdown",
   "metadata": {},
   "source": [
    "using a **loop** with open  \n",
    "\n",
    "**`with open(file, mode) as varFile_Obj:`**  \n",
    "    **`    for var as varFile_Obj:`**  \n",
    "    **`        var = var.strip()  # Optional to remove newline characters from file lines if not using keyword end in print function`**  \n",
    "    **`        print(var, end='')`**  \n",
    "* Will print out **each line** in the file as an **individual string**  \n",
    "* Note function **`print()`** contains a **\\n by default**, but **so will each line in the file**, can change the **keyword argument in print to `end= ''`**....**Alternatively, use** the string method **`.strip()`** to remove from each line before print function  \n",
    "* **Better** method to use **`strip`** **than** **`end`** as it will remove white spaces as well which can prevent errors in reading files  "
   ]
  },
  {
   "cell_type": "markdown",
   "metadata": {},
   "source": [
    "using a **loop** to print **each line** individually  \n",
    "\n",
    "**`with open(file_name, \"r\") as file_obj5:`**  \n",
    "$\\;\\;\\;\\;$**`i = 1      # Used as an iterator`**  \n",
    "$\\;\\;\\;\\;$**`for line in file_obj5:`**  \n",
    "$\\;\\;\\;\\;\\;\\;\\;\\;$**`print(\"Line \", i, \": \", line)`**  \n",
    "$\\;\\;\\;\\;\\;\\;\\;\\;$**`i+=1`**  \n",
    "* Two methods to read file line by line:  \n",
    "    * Either read the file as before and break the rows manually, this can be troublesome as different systems use differnt **end-of-line** characters \n",
    "    * Or read them line by line as shown here delegating this task to the underlying library allowing code to be **cross-platform**  "
   ]
  },
  {
   "cell_type": "markdown",
   "metadata": {},
   "source": [
    "[<p style=\"text-align: right;\">**⬆ Table of Contents ⬆**</p>](#Python-Quick-Reference)"
   ]
  },
  {
   "cell_type": "markdown",
   "metadata": {},
   "source": [
    "---"
   ]
  },
  {
   "cell_type": "markdown",
   "metadata": {
    "tags": []
   },
   "source": [
    "## <Center>Working with Files</center>"
   ]
  },
  {
   "cell_type": "markdown",
   "metadata": {},
   "source": [
    "### <center>Writing to Files:</center>"
   ]
  },
  {
   "cell_type": "markdown",
   "metadata": {},
   "source": [
    "**write** method  \n",
    "\n",
    "**`file_obj.write(\"text_to_be_written_to_file\")`**  \n",
    "* Open file as detailed in section above in a writable mode  \n",
    "* This will write string in argument as text in file  \n",
    "* If wanting to start a new line, **add \"\\n\"** escape character to **end of string**  \n",
    "* Unless using **\"with statement\"**, remember to **close** file  \n",
    "* No need to assign to variable as with read() method  "
   ]
  },
  {
   "cell_type": "markdown",
   "metadata": {},
   "source": [
    "---"
   ]
  },
  {
   "cell_type": "markdown",
   "metadata": {},
   "source": [
    "**with** statment  \n",
    "\n",
    "**`with open(file, mode) as varFile_Obj:`**  \n",
    "    **`    varFile_Obj.write(\"text_to_be_written_to_file\")`**  \n",
    "* **Better practice** to use \"with\" statment to open files as it **automatically closes** them \n",
    "* Code will **run everything indented, then close file**  \n",
    "* Can check file is closed as well as print file content, but **cannot read from file** outside of code block  \n",
    "* Must include **colon**"
   ]
  },
  {
   "cell_type": "markdown",
   "metadata": {},
   "source": [
    "---"
   ]
  },
  {
   "cell_type": "markdown",
   "metadata": {},
   "source": [
    "**seek** method  \n",
    "\n",
    "**`file_obj.seek(offset, whence=0)`**  \n",
    "* Used to **set** the **streams position** within a file \n",
    "* **\"offset\"** is **required**, determines number of characters to skip over  \n",
    "* **\"whence\"** is **optional** and **defaults to 0**  \n",
    "* whence can be set to 0 = absolute file positioning (from beginning), 1 = seek relative to current position, 2 = set stream at end of file...in Python 3 CANNOT seek backwards  \n",
    "* Theres **no return value**  "
   ]
  },
  {
   "cell_type": "markdown",
   "metadata": {},
   "source": [
    "---"
   ]
  },
  {
   "cell_type": "markdown",
   "metadata": {},
   "source": [
    "**tell** method  \n",
    "\n",
    "**`file_obj.tell()`**  \n",
    "* Will return **current stream position**, when file is opened stream will be at 0 (beginning of file) unless opened in append mode  "
   ]
  },
  {
   "cell_type": "markdown",
   "metadata": {},
   "source": [
    "---"
   ]
  },
  {
   "cell_type": "markdown",
   "metadata": {},
   "source": [
    "**writing from a list**  \n",
    "\n",
    "**`list_var = [\"line1\", \"line2\",....]`**\n",
    "\n",
    "**`with open(\"file\", \"mode\") as file_obj:`**  \n",
    "    **`    for each_line in list_var:`**    \n",
    "    **`        file_obj.write(each_line)`**  \n",
    "* **Must** use **loop** to iterate over each element to write, **cannot write list direct** to file (writing to file needs to be a string)  \n",
    "* Ensure mode opened in is a writable mode  "
   ]
  },
  {
   "cell_type": "markdown",
   "metadata": {},
   "source": [
    "---"
   ]
  },
  {
   "cell_type": "markdown",
   "metadata": {},
   "source": [
    "**copying files**  \n",
    "  \n",
    "**`with open(\"file\", \"readable_mode\") as readfile_obj:`**  \n",
    "    **`    with open(\"file2\", \"writable_mode\") as writefile_obj:`**  \n",
    "    **`        for each_line in readfile_obj:`**  \n",
    "    **`            writefile_obj.write(each_line)`**  \n",
    "* **Must** open file to be copied in a **readable mode** e.g. \"r\" or \"r+\"  \n",
    "* **Must** open file to be written to in a **writable / appendable mode** e.g. \"w\" or \"a\"  \n",
    "* Use **loop** to iterate over each line from file to be copied  "
   ]
  },
  {
   "cell_type": "markdown",
   "metadata": {},
   "source": [
    "[<p style=\"text-align: right;\">**⬆ Table of Contents ⬆**</p>](#Python-Quick-Reference)"
   ]
  },
  {
   "cell_type": "markdown",
   "metadata": {},
   "source": [
    "---"
   ]
  },
  {
   "cell_type": "markdown",
   "metadata": {},
   "source": [
    "## <center>CSV Library:<center>"
   ]
  },
  {
   "cell_type": "markdown",
   "metadata": {},
   "source": [
    "**CSV files**  \n",
    "\n",
    "* csv files are \"comma-separated values\" and is a structured text file  \n",
    "* Each line contains an entry in the dataset  \n",
    "* Each attribute is separated by a **delimiter** (typically a comma or semi-colon)  \n",
    "* **Usually** the first line is the **column headers**  \n",
    "* CSV files are normally created by programs that handle large amounts of data. They are a convenient way to export data from spreadsheets and databases as well as import or use it in other programs  \n",
    "* Can **read** and **write** to **csv files** with **pandas**, see pandas section for more info  "
   ]
  },
  {
   "cell_type": "markdown",
   "metadata": {},
   "source": [
    "---"
   ]
  },
  {
   "cell_type": "markdown",
   "metadata": {},
   "source": [
    "**Reading csv files**  \n",
    "\n",
    "csv files can be opened in the normal way (though better to use **csv** or **pandas** libraries:  \n",
    "**`with open(filePath,mode) as file_objVar:`**  \n",
    "$\\;\\;\\;\\;$**`text = file_objVar.read()`**  \n",
    "$\\;\\;\\;\\;$**`print(text)`**  \n",
    "* Note **end of line characters** are still **present**  "
   ]
  },
  {
   "cell_type": "markdown",
   "metadata": {},
   "source": [
    "---"
   ]
  },
  {
   "cell_type": "markdown",
   "metadata": {},
   "source": [
    "**Reading csv to a dataset list**  \n",
    "\n",
    "csv files can also be read in splitting each line element by its delimiter and adding each line as an entry to a list  \n",
    "This is **easier** to do **using the csv library** (see below)  \n",
    "**`datasetVar = [ ]`**  \n",
    "**`with open(filePath) as file_objVar:`**  \n",
    "$\\;\\;\\;\\;$**`headerVar = file_objVar.readline()`**  \n",
    "$\\;\\;\\;\\;$**`for line in file_objVar:`**  \n",
    "$\\;\\;\\;\\;\\;\\;\\;\\;$**`datasetVar.append( line.split(delimeter))`**  \n",
    "* **Header** can be read off as the first line outside of the for loop to its own variable  \n",
    "* Each line is read one at a time before spliting each element by the given delimeter and appending the entry as an element in the dataset  \n",
    "* Note **end of line characters** are still **present**  "
   ]
  },
  {
   "cell_type": "markdown",
   "metadata": {},
   "source": [
    "---"
   ]
  },
  {
   "cell_type": "markdown",
   "metadata": {},
   "source": [
    "**Using csv library**:  \n",
    "\n",
    "**`import csv`**  \n",
    "\n",
    "**`datasetVar = [ ]`**  \n",
    "**`with open(filePath) as file_objVar:`**  \n",
    "$\\;\\;\\;\\;$**`csvReaderObj = csv.reader(file_objVar, delimiter= delimeter)`**  \n",
    "$\\;\\;\\;\\;$**`for listEntryRead/rowVar in csvReaderObj:`**  \n",
    "$\\;\\;\\;\\;\\;\\;\\;\\;$**`datasetVar.append(listEntryRead/rowVar)`**  \n",
    "* **`delimiter`** defaults to **`\",\"`**  \n",
    "* This method will read in the **header row** as the first element in the dataset (**index [0]**)  \n",
    "* Library will **remove end of line characters**  \n",
    "* **Faster than Pandas** for **small datasets (<1k rows)**  \n",
    "* Though **Pandas** is **faster** for **large datasets**  "
   ]
  },
  {
   "cell_type": "markdown",
   "metadata": {},
   "source": [
    "---"
   ]
  },
  {
   "cell_type": "markdown",
   "metadata": {},
   "source": [
    "**Using pandas to read csv to dataframe**  \n",
    "\n",
    "**`import pandas as pd`**  \n",
    "\n",
    "**`df = pd.read_csv('filePath',header=None)`**  \n",
    "* Reads csv file to dataframe  \n",
    "* **`header`** is optional, defaults to using column names, set to none (as above) if none present in file  "
   ]
  },
  {
   "cell_type": "markdown",
   "metadata": {},
   "source": [
    "---"
   ]
  },
  {
   "cell_type": "markdown",
   "metadata": {},
   "source": [
    "**Writing to csv file**:  \n",
    "\n",
    "**Better to use csv library** (see below)  \n",
    "**`populatedDataset = [[entry1_ele1, entry1_ele2],[entry2_ele1, entry2_ele2]...]`**  \n",
    "**`with open(filePath, 'w') as file_objVar:`**  \n",
    "$\\;\\;\\;\\;$**`for line in populatedDataset:`**  \n",
    "$\\;\\;\\;\\;\\;\\;\\;\\;$**`file_objVar.write(delimeterToUse.join(line)+\"\\n\")`**  \n",
    "* Writes to a csv file from a dataset (list of lists)  \n",
    "* **join** method used to set delimeter between each element of an entry  \n",
    "* **`\\n`** used to start a new line after each entry added to file  "
   ]
  },
  {
   "cell_type": "markdown",
   "metadata": {},
   "source": [
    "---"
   ]
  },
  {
   "cell_type": "markdown",
   "metadata": {},
   "source": [
    "**Using csv library**:  \n",
    "\n",
    "**`populatedDataset = [[entry1_ele1, entry1_ele2],[entry2_ele1, entry2_ele2]...]`**  \n",
    "**`with open(filePath, 'w') as file_objVar:`**  \n",
    "$\\;\\;\\;\\;$**`csv_writerObj = csv.writer(file_objVar, delimiter= delimiter)`**  \n",
    "$\\;\\;\\;\\;$**`for line in populatedDataset:`**  \n",
    "$\\;\\;\\;\\;\\;\\;\\;\\;$**`csv_writerObj.writerow(line)`**  \n",
    "* Writes to a csv file from a dataset (list of lists)  \n",
    "* **`delimeter`** is defaulted to **`\",\"`**   "
   ]
  },
  {
   "cell_type": "markdown",
   "metadata": {},
   "source": [
    "[<p style=\"text-align: right;\">**⬆ Table of Contents ⬆**</p>](#Python-Quick-Reference)"
   ]
  },
  {
   "cell_type": "markdown",
   "metadata": {},
   "source": [
    "---"
   ]
  },
  {
   "cell_type": "markdown",
   "metadata": {},
   "source": [
    "## <center>Excel Files:<center>"
   ]
  },
  {
   "cell_type": "markdown",
   "metadata": {},
   "source": [
    "[How to Work with Excel files in Pandas (see if getting errors)](https://towardsdatascience.com/how-to-work-with-excel-files-in-pandas-c584abb67bfb)"
   ]
  },
  {
   "cell_type": "markdown",
   "metadata": {},
   "source": [
    "**Read Excel files**  \n",
    "\n",
    "**`import pandas as pd`**  \n",
    "* Must first **import pandas**  "
   ]
  },
  {
   "cell_type": "markdown",
   "metadata": {},
   "source": [
    "---"
   ]
  },
  {
   "cell_type": "markdown",
   "metadata": {},
   "source": [
    "**`dataframe_varObj = pd.read_excel(path_var_and_extension, sheet_name=’…’, header=0, skipfooter=0)`**  \n",
    "* Function will read excel file to a **dataframe**  \n",
    "* **Not the best way** to read excel files as excel files can be messy containing comments/explanations in the first and/or last couple of rows, better to use **ExcelFile** (see below)    \n",
    "* For **`sheet_name`**:  \n",
    "    * **not** provided, then the **first sheet** will be read in **as pandas dataframe** \n",
    "    * If **Sheet name** is provided, that **specific sheet** will be read in **as pandas dataframe**  \n",
    "    * **None** specified, then **all sheets** will be read in **as dictionary of dataframes** where the **keys** will be **sheet names**  \n",
    "    * Read in **Multiple specific sheets** by providing names of sheets wanted as a **list**  \n",
    "* **`header`** defaults to 0, and is the index of the row to start reading, the **first row** is used for the **names** of the **dataframe columns**  \n",
    "* **`skipfooter`** defaults to 0 and specifies the **number of rows** at the **bottom of** the **file** to **NOT read**  "
   ]
  },
  {
   "cell_type": "markdown",
   "metadata": {},
   "source": [
    "---"
   ]
  },
  {
   "cell_type": "markdown",
   "metadata": {},
   "source": [
    "**ExcelFile**  \n",
    "\n",
    "**`pdExcelFileObj = pd.ExcelFile(filePathAndExtension)`**  \n",
    "* Reads an excel file into a **pandas ExcelFile object**  \n",
    "* Has **built-in methods** to make it easy to retrieve and manipulate data  "
   ]
  },
  {
   "cell_type": "markdown",
   "metadata": {},
   "source": [
    "---"
   ]
  },
  {
   "cell_type": "markdown",
   "metadata": {},
   "source": [
    "**sheets** method  \n",
    "\n",
    "**`xlsxFIleObj.sheet_names`**  \n",
    "* Returns a list of all the **sheet names** in the file  "
   ]
  },
  {
   "cell_type": "markdown",
   "metadata": {},
   "source": [
    "---"
   ]
  },
  {
   "cell_type": "markdown",
   "metadata": {},
   "source": [
    "**parse** method  \n",
    "\n",
    "**`xlsxFileObj.parse(self, sheet_name=0, header=0, skipfooter=0)`**  \n",
    "* If no arguments passed, the **first excel sheet** will be returned as a **pandas dataframe**  \n",
    "* **Each sheet** can be accessed by passing the **index OR sheet name as a string**  \n",
    "* The other arguments are similar to **`pd.read_excel()`** method above  "
   ]
  },
  {
   "cell_type": "markdown",
   "metadata": {},
   "source": [
    "---"
   ]
  },
  {
   "cell_type": "markdown",
   "metadata": {},
   "source": [
    "**Writing to excel**  \n",
    "\n",
    "**`dataFrameObj.to_excel(filePathWithExtension, sheet_name='Sheet1', index=True)`**  \n",
    "* **`sheet_name`** is **optional, defaulting to `Sheet1`** or equivalent number  \n",
    "* By default **`index=` True**, this will **write** the **index column to the excel file**, set to **False** to **turn off**  \n",
    "* Note if trying to write a different sheet to the same file, it will **overwrite** the previous with just 1 sheet  \n",
    "* To write **multiple sheets to file** use **`ExcelWriter`** method (see below)  "
   ]
  },
  {
   "cell_type": "markdown",
   "metadata": {},
   "source": [
    "---"
   ]
  },
  {
   "cell_type": "markdown",
   "metadata": {},
   "source": [
    "**ExcelWriter** method  \n",
    "\n",
    "**`with pd.ExcelWriter(filePathWithExtension, mode='w') as writerObj:`**  \n",
    "$\\;\\;\\;\\;$**`dataFrameObj.to_excel(writerObj, sheet_name='Sheet1', index=True)`**  \n",
    "$\\;\\;\\;\\;$**`dataFrameObj.to_excel(writerObj, sheet_name='Sheet1', index=True)`**  \n",
    "* This will add multiple sheets to an excel file  \n",
    "* If no **`sheet_name`** provided to **any**, **only 1 sheet** will get **written**, providing the **1st but not the 2nd**, and the **2nd sheet** will default to **`Sheet1`**  \n",
    "* If wanting to **add sheets** to an **existing excel file**, set **`mode`** to **`'a'` (append)**  "
   ]
  },
  {
   "cell_type": "markdown",
   "metadata": {},
   "source": [
    "---"
   ]
  },
  {
   "cell_type": "markdown",
   "metadata": {},
   "source": [
    "**Writing formula to an Excel file**  \n",
    "\n",
    "* Formula can be written directly into the dataset as a string, this will then be interpreted by Excel as formulas  "
   ]
  },
  {
   "cell_type": "markdown",
   "metadata": {},
   "source": [
    "[<p style=\"text-align: right;\">**⬆ Table of Contents ⬆**</p>](#Python-Quick-Reference)"
   ]
  },
  {
   "cell_type": "markdown",
   "metadata": {},
   "source": [
    "---"
   ]
  },
  {
   "cell_type": "markdown",
   "metadata": {
    "tags": []
   },
   "source": [
    "## <center>Pandas:</center>"
   ]
  },
  {
   "cell_type": "markdown",
   "metadata": {},
   "source": [
    "* Pandas are a Python library for data analysis, mainly used for tabular data  "
   ]
  },
  {
   "cell_type": "markdown",
   "metadata": {},
   "source": [
    "---"
   ]
  },
  {
   "cell_type": "markdown",
   "metadata": {},
   "source": [
    "**import pandas**  \n",
    "\n",
    "**`import pandas as pd`**  \n",
    "\n",
    "* Keyword **\"import\"** to import library  \n",
    "* **\"pandas\"** is the library name  \n",
    "* Keyword **\"as\"** is **optional** to change name referred to in script...in this case \"pd\"  \n",
    "* Once the library has been imported, we have access to pre-built functions and classes  "
   ]
  },
  {
   "cell_type": "markdown",
   "metadata": {},
   "source": [
    "**import specific package**  \n",
    "\n",
    "**`from libraryName import packageName`**  \n",
    "* Will import only the package named from the library named  \n",
    "* Can change name package will be referred to in script by optionally including **as newReferringName** after imported package name  "
   ]
  },
  {
   "cell_type": "markdown",
   "metadata": {},
   "source": [
    "---"
   ]
  },
  {
   "cell_type": "markdown",
   "metadata": {},
   "source": [
    "**print all variables and function names of a module**:  \n",
    "\n",
    "**`print(dir(moduleName))`**  \n",
    "* This will print all the variables and function names from the module given  "
   ]
  },
  {
   "cell_type": "markdown",
   "metadata": {},
   "source": [
    "---"
   ]
  },
  {
   "cell_type": "markdown",
   "metadata": {},
   "source": [
    "**Reading files to dataframes**  \n",
    "\n",
    "**`path_var = \"file_path.ext\"`**  \n",
    "**`dataframe_varObj = pd.read_fileType(path_var)`**  \n",
    "* The above assigns the **file path to a variable** then applies the **read function to assign the data** to a **dataframe object**  \n",
    "* This then allows various methods to be applied to be able to work with the data in the dataframe  \n",
    "* **Dataframes** are comprised of **rows and colums**  \n",
    "* Ensure to **include extension** in file_path  "
   ]
  },
  {
   "cell_type": "markdown",
   "metadata": {},
   "source": [
    "---"
   ]
  },
  {
   "cell_type": "markdown",
   "metadata": {},
   "source": [
    "**create dataframes from a dictionary**  \n",
    "\n",
    "**`dic_var = {\"key1\":[listVal1, listVal2], \"key2\":[listVal1,listVal2]}`**  \n",
    "**`dataframe_varObj = pd.DataFrame(dic_var, *index)`**  \n",
    "* **Values must be in list format** to ensure order  \n",
    "* Keyword **\"DataFrame\"** is **capitalized** as shown  \n",
    "* **\"index\"** is **optional** and can be used to **define own indexing (row identifiers)** by assigning a list or tuple ect  "
   ]
  },
  {
   "cell_type": "markdown",
   "metadata": {},
   "source": [
    "---"
   ]
  },
  {
   "cell_type": "markdown",
   "metadata": {},
   "source": [
    "**new dataframe from columns**  \n",
    "\n",
    "**`new_df_varObj = df_varObj[[\"col_header1\", \"col_header2\"...]]`**  \n",
    "* New Dataframes can be created from the column headers  \n",
    "* **TWO Square brackets** are required to create it **as a Dataframe**  \n",
    "* When **only ONE square bracket** is used, it will create a **series**....Panda series are essentially a 1D Dataframe  \n",
    "* Column headers are **case sensitive**  "
   ]
  },
  {
   "cell_type": "markdown",
   "metadata": {},
   "source": [
    "---"
   ]
  },
  {
   "cell_type": "markdown",
   "metadata": {},
   "source": [
    "**append column**:  \n",
    "    \n",
    "**`df_varObj[\"new_col_header\"] = [\"row1\", \"row2\"...]`**  \n",
    "* Must contain **same number** of **elements** as current dataframe number of **rows**  \n",
    "* Will append new column to last column of dataframe  "
   ]
  },
  {
   "cell_type": "markdown",
   "metadata": {},
   "source": [
    "---"
   ]
  },
  {
   "cell_type": "markdown",
   "metadata": {},
   "source": [
    "**series**  \n",
    "\n",
    "**`df_varObj[\"col_header\"]`**  \n",
    "* A series is a **one dimentional** labled array, capable of holding data of any type  \n",
    "* Method shown here will return the **entire column**  "
   ]
  },
  {
   "cell_type": "markdown",
   "metadata": {},
   "source": [
    "---"
   ]
  },
  {
   "cell_type": "markdown",
   "metadata": {},
   "source": [
    "**saving dataframes**:  \n",
    " \n",
    "To convert a dataset (list) to a dataframe:  \n",
    "**`dataframeVar = pd.DataFrame(populatedDataset[1:],columns=populatedDataset[0])`**  \n",
    "* This uses the first entry of the dataset as the column headers  \n",
    "\n",
    "**`df.to_fileType(\"file_name.extension\", sep=\",\", columns=None, header=True, index=True, index_label=None)`**  \n",
    "* Use this method to save a dataframe to a file  \n",
    "* **`sep=`** is the desired delimiter, defaults to **`\",\"`**   \n",
    "* **`columns=`** defaults to **None**, option to pass a sequence of column headers (present in dataframe) to write to file. **Columns not passed, will not be written to file**  \n",
    "* **`header=`** defaults to **True**, when true, writes column headers. If a list of strings is given it is assumed to be aliases for the column names  \n",
    "* **`index=`** defaults to **True**, when true, writes row names (index), note this **adds an extra column** to the file  \n",
    "* **`index_label`** defaults to **None**, option to pass a str or sequence to rename columns, though note **current column headers are still present, but moved further along**  "
   ]
  },
  {
   "cell_type": "markdown",
   "metadata": {},
   "source": [
    "---"
   ]
  },
  {
   "cell_type": "markdown",
   "metadata": {},
   "source": [
    "**head** method  \n",
    "\n",
    "**`dataframe_varObj.head()`**  \n",
    "* **.head( ) method** allows the **first 5 rows** to be examined \n",
    "* Can specify how many **rows to be displayed** in argument"
   ]
  },
  {
   "cell_type": "markdown",
   "metadata": {},
   "source": [
    "---"
   ]
  },
  {
   "cell_type": "markdown",
   "metadata": {},
   "source": [
    "**tail** method  \n",
    "\n",
    "**`dataframe_varObj.tail()`**  \n",
    "* **.tail( ) method** allows the **last 5 rows** to be examined \n",
    "* Can specify how many **rows to be displayed** in argument"
   ]
  },
  {
   "cell_type": "markdown",
   "metadata": {},
   "source": [
    "---"
   ]
  },
  {
   "cell_type": "markdown",
   "metadata": {},
   "source": [
    "**return column names**  \n",
    "\n",
    "**`df_varObj.columns`**  \n",
    "* Will return all the **column headers**  "
   ]
  },
  {
   "cell_type": "markdown",
   "metadata": {},
   "source": [
    "---"
   ]
  },
  {
   "cell_type": "markdown",
   "metadata": {},
   "source": [
    "**return index**  \n",
    "\n",
    "**`df_varObj.index`**  \n",
    "* Will return **range for rows** or **index names** if not integers    "
   ]
  },
  {
   "cell_type": "markdown",
   "metadata": {},
   "source": [
    "---"
   ]
  },
  {
   "cell_type": "markdown",
   "metadata": {},
   "source": [
    "**shape** method  \n",
    "\n",
    "**`df_varObj.shape`**  \n",
    "* Will return **size of dataframe** (# rows, # columns)  \n",
    "* Note **index NOT included** as a column in the dataframe  "
   ]
  },
  {
   "cell_type": "markdown",
   "metadata": {},
   "source": [
    "---"
   ]
  },
  {
   "cell_type": "markdown",
   "metadata": {},
   "source": [
    "**.loc[ ]** method (Label of column)  \n",
    "\n",
    "**`df_varObj.loc[row_index_Name, \"col_header\"]`**  \n",
    "* Selection by **label**  \n",
    "* If only inputting **`row_index_Name`** , this will return the entire row selected  \n",
    "* Rows start at **0**  \n",
    "* **NOTE** row index is the **name of the row** and not necessarily an integer...**IT IS NOT** the **\"index\"**  \n",
    "* **Square brackets**  \n",
    "* Returns **KeyError** if **column header not found**"
   ]
  },
  {
   "cell_type": "markdown",
   "metadata": {},
   "source": [
    "---"
   ]
  },
  {
   "cell_type": "markdown",
   "metadata": {},
   "source": [
    "**slicing using loc**  \n",
    "\n",
    "**`df_varObj.loc[start_row_index_Name : end_row_index_Name, start_col_header : end_col_header]`**  \n",
    "* This will slice a dataframe to create a new one  \n",
    "* **Square** brackets  \n",
    "* **NOTE** row index is the **name of the row** and not necessarily an integer...**IT IS NOT** the **\"index\"**  \n",
    "* **Bewear** If row index names are default integers, a slice such as 1:3 will return rows 2,3 and 4 with names 1,2 and 3 accordingly   \n",
    "* Can be assigned to a new variable to save  \n",
    "* If **only selecting one column or row**, this will **return as Pandas Series** rather than a dataframe   "
   ]
  },
  {
   "cell_type": "markdown",
   "metadata": {},
   "source": [
    "---"
   ]
  },
  {
   "cell_type": "markdown",
   "metadata": {},
   "source": [
    "**.iloc[ ]** method (Index-label of column)   \n",
    "\n",
    "**`df_varObj.iloc[row_index, col_index]`**  \n",
    "* Selection by **position**  \n",
    "* If only inputting **`row_index`** , this will return the entire row selected  \n",
    "* Rows and Columns start at **0**  \n",
    "* **Square brackets**  \n",
    "* Returns **IndexError** if requested indexer is out-of-bounds  "
   ]
  },
  {
   "cell_type": "markdown",
   "metadata": {},
   "source": [
    "---"
   ]
  },
  {
   "cell_type": "markdown",
   "metadata": {},
   "source": [
    "**slicing using .iloc[ ]** method  \n",
    "\n",
    "**`df_varObj.iloc[start_row_index : end_row_index, start_col_index : end_col_index]`**  \n",
    "* This will slice a dataframe to create a new one  \n",
    "* Can be assigned to a new variable to save  \n",
    "* **Square** brackets  \n",
    "* If **only selecting one column or row**, this will **return as Pandas Series** rather than a dataframe   "
   ]
  },
  {
   "cell_type": "markdown",
   "metadata": {},
   "source": [
    "---"
   ]
  },
  {
   "cell_type": "markdown",
   "metadata": {},
   "source": [
    "**unique** method  \n",
    "\n",
    "**`df_varObj[\"col_header_toCheck\"].unique()`**  \n",
    "* Finds unique values in a column and returns values as an array  \n",
    "* **Square** brackets  "
   ]
  },
  {
   "cell_type": "markdown",
   "metadata": {},
   "source": [
    "---"
   ]
  },
  {
   "cell_type": "markdown",
   "metadata": {},
   "source": [
    "**selecting data with condition**  \n",
    "\n",
    "**`df_varObj[df_varObj.col_header condition_to_check]`**  \n",
    "**Can also be written:**  \n",
    "**`df_varObj[df_varObj[\"col_header\"]condition_to_check]`**  \n",
    "* Without the first df_varObj name and first set of square brackets, this will return a series with boolean values relevant to the conditon to be checked against  \n",
    "* Assign to a new variable to save  "
   ]
  },
  {
   "cell_type": "markdown",
   "metadata": {},
   "source": [
    "---"
   ]
  },
  {
   "cell_type": "markdown",
   "metadata": {},
   "source": [
    "**rename columns with a list**:  \n",
    "\n",
    "**`df_varObj.columns = [\"col_header1\", \"col_header2\"...]`**  \n",
    "* Must contain **same number** of **elements** as current dataframe number of **columns**  \n",
    "* Will replace column headers in order of list  "
   ]
  },
  {
   "cell_type": "markdown",
   "metadata": {},
   "source": [
    "---"
   ]
  },
  {
   "cell_type": "markdown",
   "metadata": {},
   "source": [
    "**reorder columns**:  \n",
    "\n",
    "**`df_varObj = df_varObj[[\"new_1st_col_header\", \"new_2nd_col_header\"...]]`**  \n",
    "* Will reorder columns with their related data  "
   ]
  },
  {
   "cell_type": "markdown",
   "metadata": {},
   "source": [
    "---"
   ]
  },
  {
   "cell_type": "markdown",
   "metadata": {},
   "source": [
    "**set index**  \n",
    "\n",
    "**`df_varObj.set_index([\"col_header1\",\"col_header2\"], *drop=Bool, append=Bool, inplace=Bool)`**  \n",
    "* If only using one column to set index, square brackets are not required  \n",
    "* **drop** is **optional**, defaults to True, when False will keep original column as well as assign to index  \n",
    "* **append** is **optional**, defaults to False, when True will add new index to existing rather than replacing  \n",
    "* **inplace** is **optional**, defaults to False, when True will make changes to original dataframe rather than having to set it to a new dataframe variable object  "
   ]
  },
  {
   "cell_type": "markdown",
   "metadata": {},
   "source": [
    "---"
   ]
  },
  {
   "cell_type": "markdown",
   "metadata": {},
   "source": [
    "**set index with list or tuple**  \n",
    "\n",
    "**`df_varObj.index = list or tuple`**  \n",
    "* This will replace the existing index with the given list or tuple elements  \n",
    "* There must be the same number of elements as current index values  \n",
    "* **Overwrites** current dataframe unless assinging to a new one  \n",
    "* **Will NOT** reset indexes to original columns  "
   ]
  },
  {
   "cell_type": "markdown",
   "metadata": {},
   "source": [
    "---"
   ]
  },
  {
   "cell_type": "markdown",
   "metadata": {},
   "source": [
    "**set index name**  \n",
    "\n",
    "**`df_varObj.index.name = \"New Name\"`**  \n",
    "* This will set the index columns name  \n",
    "* Setting to **None** will clear the indexes name  "
   ]
  },
  {
   "cell_type": "markdown",
   "metadata": {},
   "source": [
    "---"
   ]
  },
  {
   "cell_type": "markdown",
   "metadata": {},
   "source": [
    "**reset to default index**  \n",
    "\n",
    "**`df_varObj.reset_index(*drop=Bool, *inplace=Bool)`**  \n",
    "* Will reset index values to default integers  \n",
    "* **drop** is **optional**, defaults to False, when **True will NOT reinsert column** back into dataframe   \n",
    "* **inplace** is **optional**, defaults to False, when True will make changes to original dataframe rather than having to set it to a new dataframe variable object  \n",
    "* If index had no column header, new header (when column is reinserted to dataframe) will be \"index\"  "
   ]
  },
  {
   "cell_type": "markdown",
   "metadata": {},
   "source": [
    "---"
   ]
  },
  {
   "cell_type": "markdown",
   "metadata": {},
   "source": [
    "**drop** function  \n",
    "\n",
    "**`df_varObj.drop(self, labels=None, axis=0, index=None, columns=None)`**  \n",
    "* **`labels`** = Index or column labels to drop  \n",
    "* **`axis`** = Whether to drop labels from the index (0 or ‘index’) or columns (1 or ‘columns’)  \n",
    "* **`index`** = Alternative to specifying axis (labels, axis=0 is equivalent to index=labels)  \n",
    "* **`columns`** = Alternative to specifying axis (labels, axis=1 is equivalent to columns=labels)  "
   ]
  },
  {
   "cell_type": "markdown",
   "metadata": {},
   "source": [
    "---"
   ]
  },
  {
   "cell_type": "markdown",
   "metadata": {},
   "source": [
    "**groupby( )** method  \n",
    "\n",
    "**`groupedDataFrameObj = dataFrameObj.groupby(groupingCriteria)`**  \n",
    "* **`groupingCriteria`** is usually a column header but can be any function by which to split the data  \n",
    "* if **`groupingCriteria`** is a **single** column, it can be passed as a **string**, **multiple** should be passed as a **list**  \n",
    "* The dataframe can be displayed by determining how to display each group value:  \n",
    "\n",
    "$\\;\\;\\;\\;\\;\\;\\;\\;$**`groupedDataFrameObj.first( )`**  \n",
    "* **`first( )`** displays the first in the table for each group  \n",
    "* **`last( )`** displays the last in the table  \n",
    "* **`min( )`** displays the minimum for each group  \n",
    "* **`max( )`** displays the maximum for each group  \n",
    "* **`mean( )`** displays the mean for each group  \n",
    "\n",
    "\n",
    "* This can be saved back to a csv or excel file as a dataframe object can be  "
   ]
  },
  {
   "cell_type": "markdown",
   "metadata": {},
   "source": [
    "[<p style=\"text-align: right;\">**⬆ Table of Contents ⬆**</p>](#Python-Quick-Reference)"
   ]
  },
  {
   "cell_type": "markdown",
   "metadata": {},
   "source": [
    "---"
   ]
  },
  {
   "cell_type": "markdown",
   "metadata": {},
   "source": [
    "## <center>NumPy:</center>"
   ]
  },
  {
   "cell_type": "markdown",
   "metadata": {},
   "source": [
    "* NumPy is a Python library for data analysis, mainly used for numerical data  \n",
    "* Can be computationally faster and require less memory than regular Python  "
   ]
  },
  {
   "cell_type": "markdown",
   "metadata": {},
   "source": [
    "---"
   ]
  },
  {
   "cell_type": "markdown",
   "metadata": {},
   "source": [
    "**import numpy**  \n",
    "\n",
    "**`import numpy as np`**  \n",
    "\n",
    "* Keyword **\"import\"** to import library  \n",
    "* **\"numpy\"** is the library name  \n",
    "* Keyword **\"as\"** is **optional** to change name referred to in script...in this case to the standard abbreviation \"np\"  \n",
    "* Once the library has been imported, we have access to pre-built functions and classes  "
   ]
  },
  {
   "cell_type": "markdown",
   "metadata": {},
   "source": [
    "**import specific package**  \n",
    "\n",
    "**`from libraryName import packageName`**  \n",
    "* Will import only the package named from the library named  \n",
    "* Can change name package will be referred to in script by optionally including **as newReferringName** after imported package name  "
   ]
  },
  {
   "cell_type": "markdown",
   "metadata": {},
   "source": [
    "---"
   ]
  },
  {
   "cell_type": "markdown",
   "metadata": {},
   "source": [
    "**print all variables and function names of a module**:  \n",
    "\n",
    "**`print(dir(moduleName))`**  \n",
    "* This will print all the variables and function names from the module given  "
   ]
  },
  {
   "cell_type": "markdown",
   "metadata": {},
   "source": [
    "---"
   ]
  },
  {
   "cell_type": "markdown",
   "metadata": {},
   "source": [
    "**cast list to numpy n-dimensional (nd) array**  \n",
    "\n",
    "**`np_var = np.array([ele1, ele2...])`**  \n",
    "* An array is a list that is arranged in **multiple directions**, see picture below  \n",
    "* When there are more dimensions there will be more nested lists, note Python will print out as a table for easier viewing  \n",
    "* Assign to a variable to save  \n",
    "* \"np\" is the library name as imported  *\n",
    "* Requires **round AND square** brackets  \n",
    "* NumPy **array elements** need to be the **SAME type**  \n",
    "* The main **difference between np.array** and **np.asarray** is that np.array creates a copy of the object array and does not reflect changes to the original array. np.asarray reflects changes to the original array  "
   ]
  },
  {
   "cell_type": "markdown",
   "metadata": {},
   "source": [
    "![](http://venus.ifca.unican.es/Rintro/_images/dataStructuresNew.png \"visualization of Vectors, Matrices and Arrays\")"
   ]
  },
  {
   "cell_type": "markdown",
   "metadata": {},
   "source": [
    "---"
   ]
  },
  {
   "cell_type": "markdown",
   "metadata": {},
   "source": [
    "**numpy matrix object**  \n",
    "\n",
    "**`np_var = np.matrix([[ele11,ele12...],`**  \n",
    "&emsp;&emsp;&emsp;&emsp;&emsp;&emsp;&emsp;&emsp;&emsp;&emsp;**`[ele21, ele22...]])`**  \n",
    "* Returns a matrix from an array-like object, or from a string of data  \n",
    "* A matrix is a specialized 2-D array that retains its 2-D nature through operations  \n",
    "* It has certain special operators, such as `*` (matrix multiplication) and `**` (matrix power)  "
   ]
  },
  {
   "cell_type": "markdown",
   "metadata": {},
   "source": [
    "---"
   ]
  },
  {
   "cell_type": "markdown",
   "metadata": {},
   "source": [
    "**largest element in an array or matrix**  \n",
    "\n",
    "**`np.max(np_var)`**  \n",
    "* Returns the largest element in array or matrix  "
   ]
  },
  {
   "cell_type": "markdown",
   "metadata": {},
   "source": [
    "---"
   ]
  },
  {
   "cell_type": "markdown",
   "metadata": {},
   "source": [
    "**zeros**  \n",
    "\n",
    "**`np.zeros(shape)`**  \n",
    "* Creates an array of given shape **filled with zeros**  \n",
    "* **`shape`** is the number of elements in each direction in the array, **1D arrays** need just the **number of elements**, **2D arrays** should be given as a **tuple** (10,3) would produce an array with 10 rows, each with 3 elements  \n",
    "* Note the zeros will be entered as **floats**  \n",
    "* **If you don't have the data**, best practice is to initialise a matrix with zeros and populate it"
   ]
  },
  {
   "cell_type": "markdown",
   "metadata": {},
   "source": [
    "---"
   ]
  },
  {
   "cell_type": "markdown",
   "metadata": {},
   "source": [
    "**ones**  \n",
    "\n",
    "**`np.ones(shape)`**  \n",
    "* Similar to zeros (above), but fills the array with ones  \n",
    "* Note the ones are entered as **floats**  "
   ]
  },
  {
   "cell_type": "markdown",
   "metadata": {},
   "source": [
    "---"
   ]
  },
  {
   "cell_type": "markdown",
   "metadata": {},
   "source": [
    "**eye** function (**Identity matrix**)  \n",
    "\n",
    "**`np.eye(N, M=None)`**  \n",
    "* **`N`** is the number of **rows** in the output  \n",
    "* **`M`** is the number of **columns**, defaults to **`N`** when set to **None**  \n",
    "* Produces a matrix filled with **zeros**, with **ones on the diagonal**  \n",
    "* If **`M`** is not specified, produces a **square matrix** (same number of rows and columns)  \n",
    "* Matrices of this form (max one '1' per row and column) are called permutation matrices  "
   ]
  },
  {
   "cell_type": "markdown",
   "metadata": {},
   "source": [
    "---"
   ]
  },
  {
   "cell_type": "markdown",
   "metadata": {},
   "source": [
    "**empty** function  \n",
    "\n",
    "**`np.empty(shape, dtype=float)`**  \n",
    "* **`dtype`** Desired output data-type for the array, e.g, numpy.int8. Default is numpy.float64  \n",
    "* Use **`dtype='U10'`** for **unicode string of max length 10**  "
   ]
  },
  {
   "cell_type": "markdown",
   "metadata": {},
   "source": [
    "---"
   ]
  },
  {
   "cell_type": "markdown",
   "metadata": {},
   "source": [
    "**Cast dataset (list) as ndarray**  \n",
    "\n",
    "**`ndarrayVar = np.asarray(dataset)`**  \n",
    "* Casts **`dataset`** as ndarray  \n",
    "* The main **difference between np.array** and **np.asarray** is that np.array creates a copy of the object array and does not reflect changes to the original array. np.asarray reflects changes to the original array  "
   ]
  },
  {
   "cell_type": "markdown",
   "metadata": {},
   "source": [
    "---"
   ]
  },
  {
   "cell_type": "markdown",
   "metadata": {},
   "source": [
    "**index numpy arrays**  \n",
    "\n",
    "**`np_var[list_index(row_in_2D)][element_index(column_in_2D]`**  \n",
    "**OR**  \n",
    "**`np_var[row, column]`**  \n",
    "* As with indexing lists, **first element starts at \"0\"**  \n",
    "* **Square brackets** to index  \n",
    "* **Change** element with **\"=\"**, this will make change to original array  \n",
    "* When indexing multiple dimension arrays, start with highest level  \n",
    "* Indexing 1D arrays will only require element index  \n",
    "* Indexing a **3D** array would be **`np_var[slice, row, column]`**  "
   ]
  },
  {
   "cell_type": "markdown",
   "metadata": {},
   "source": [
    "---"
   ]
  },
  {
   "cell_type": "markdown",
   "metadata": {},
   "source": [
    "**slice nd array**  \n",
    "\n",
    "**`np_var[index:index]`** \n",
    "\n",
    "**slice 2D array**:\n",
    "\n",
    "**`np_var[row_indexFrom:row_indexTo,col_indexFrom:col_indexTo]`**  \n",
    "* Same as slicing lists and tuples  \n",
    "* **Square brackets**  \n",
    "* Change selected elements with **\"=\"**, this will make change to original array  \n",
    "* When changing elements, cannot use this method to add extra elements, however can change more than one element to the same thing  \n",
    "* **Note how Python prints arrays** for easier viewing of diemensions and more like tables, when slicing 2D arrays this can be helpful as first index refers to the row and second index refers to the column  "
   ]
  },
  {
   "cell_type": "markdown",
   "metadata": {},
   "source": [
    "---"
   ]
  },
  {
   "cell_type": "markdown",
   "metadata": {},
   "source": [
    "**obtain data type of nd array**  \n",
    "\n",
    "**`np_var.dtype`**  \n",
    "* Will return datatype of \"np_var\"  "
   ]
  },
  {
   "cell_type": "markdown",
   "metadata": {},
   "source": [
    "---"
   ]
  },
  {
   "cell_type": "markdown",
   "metadata": {},
   "source": [
    "**number of elements in nd array**  \n",
    "\n",
    "**`np_var.size`**  \n",
    "* Will return number of elements in nd array"
   ]
  },
  {
   "cell_type": "markdown",
   "metadata": {},
   "source": [
    "---"
   ]
  },
  {
   "cell_type": "markdown",
   "metadata": {},
   "source": [
    "**number of dimensions in nd array**  \n",
    "\n",
    "**`np_var.ndim`**  \n",
    "* Will return number of dimensions in nd array  \n",
    "* Think of this as how many nested lists there are i.e. **number of levels NOT number of lists at bottom level** as this would be the arrays shape,  \n",
    "e.g. **`1D = array( [...] )` `2D = array( [[...],[...],[...]] )` `3D = array( [[[...],[...]]] )`**  "
   ]
  },
  {
   "cell_type": "markdown",
   "metadata": {},
   "source": [
    "---"
   ]
  },
  {
   "cell_type": "markdown",
   "metadata": {},
   "source": [
    "**shape: size of nd array in each dimension**  \n",
    "\n",
    "**`np_var.shape`**  \n",
    "* Will return number of elements in each dimension (direction)  "
   ]
  },
  {
   "cell_type": "markdown",
   "metadata": {},
   "source": [
    "---"
   ]
  },
  {
   "cell_type": "markdown",
   "metadata": {},
   "source": [
    "**unique** function  \n",
    "\n",
    "**`np.unique(np_var, return_index=False, return_inverse=False, return_counts=False, axis=None)`**  \n",
    "* Returns the sorted unique elements of an array  \n",
    "* If **`return_index=True`** also return the indices of **`np_var`** that result in the unique array  \n",
    "* If **`return_inverse=True`** also return the indices of the unique array that can be used to reconstruct **`np_var`**  \n",
    "* If **`return_counts=True`** also return the number of times each unique item appears in **`np_var`**  "
   ]
  },
  {
   "cell_type": "markdown",
   "metadata": {},
   "source": [
    "---"
   ]
  },
  {
   "cell_type": "markdown",
   "metadata": {},
   "source": [
    "**array addition / subtraction**  \n",
    "\n",
    "**`np_var3 = np_var +/- np_var2`**  \n",
    "* Arrays can be added / subtracted  \n",
    "* Arrays must be **SAME SHAPE** to be added or subtracted together  \n",
    "* Will add or subtract elements of the same position  \n",
    "* Can **add/subtract scalers** to a **single array** in a similar way  \n",
    "* Can also **add/subtract vectors** (another array containing the same number of elements as the 2D array e.g.:   \n",
    "$\\;\\;\\;\\;$**`matrix = np.array([[1,2,3],[4,5,6]])`**  \n",
    "$\\;\\;\\;\\;$**`vector = np.array([0.5 ,0.25,0.8 ])`**  \n",
    "$\\;\\;\\;\\;$**`matrix + vector = ([1.5 ,2.25,3.8 ],[4.5 ,5.25,6.8 ])`**  \n",
    "    * **Above** example would **broadcast** across the **columns** (3 elements in the vector, and 3 columns in the matrix)  \n",
    "    * To **broadcast** across the **rows**, vector must be in the **same shape** as the **matrix**, for the above, the vector would be:  \n",
    "$\\;\\;\\;\\;$**`np.array([[0.25], [0.5]])`**  \n",
    "* Results in another array of the same size as those added or subtracted together  "
   ]
  },
  {
   "cell_type": "markdown",
   "metadata": {},
   "source": [
    "![](https://mathinsight.org/media/image/image/vector_2d_add.png \"Vector addition\")"
   ]
  },
  {
   "cell_type": "markdown",
   "metadata": {},
   "source": [
    "---"
   ]
  },
  {
   "cell_type": "markdown",
   "metadata": {},
   "source": [
    "**array multiplication**  \n",
    "\n",
    "**`np_var2 = #timesToMultiply * np_var`**  \n",
    "* This will multiply the array by a scalar  \n",
    "* A constant can also be added or subtracted to every element in a similar way (this is called **Broadcasting**)  "
   ]
  },
  {
   "cell_type": "markdown",
   "metadata": {},
   "source": [
    "---"
   ]
  },
  {
   "cell_type": "markdown",
   "metadata": {},
   "source": [
    "**add axis to array**  \n",
    "\n",
    "**`newArrayVar = arrayVar[:,:,np.newaxis]`**  \n",
    "* The number of passed dimensions ( **`:,`** ) should match the current arrays shape  "
   ]
  },
  {
   "cell_type": "markdown",
   "metadata": {},
   "source": [
    "---"
   ]
  },
  {
   "cell_type": "markdown",
   "metadata": {},
   "source": [
    "**hadamard product ( X ◦ Y )**  \n",
    "\n",
    "**`np_var3 = np_var * np_var2`**  \n",
    "* Each element in corresponding positions will be multiplied together producing an array of equal shape  \n",
    "* **Arrays must** be of **equal size** \n",
    "* See matrix multiplication for arrays of larger dimensions  "
   ]
  },
  {
   "cell_type": "markdown",
   "metadata": {},
   "source": [
    "---"
   ]
  },
  {
   "cell_type": "markdown",
   "metadata": {},
   "source": [
    "**dot product / scalar product ( X · Y )**  \n",
    "\n",
    "**`np.dot(np_var1, np_var2)`**  \n",
    "OR  \n",
    "**`np_var1 @ np_var2`**  \n",
    "* Among other things, the dot product can be used to test if two vectors are **perpendicular**, this will be shown if the dot product is **== 0**  \n",
    "* Arrays **must be compatible size** (n x m, m x p) -> (n x p)  \n",
    "* np.matrix can be used instead of arrays, when multiplying with np.matrix, dot product can be obtained with **\\***, however be careful, as **\\*** with arrays will try to broadcast rather than calculate the dot product  "
   ]
  },
  {
   "cell_type": "markdown",
   "metadata": {},
   "source": [
    "---"
   ]
  },
  {
   "cell_type": "markdown",
   "metadata": {},
   "source": [
    "**matrix multiplication**  \n",
    "\n",
    "**`np.dot(np_var1, np_var2)`**  \n",
    "* **Matrix A's number of columns must be equal to Matrix B's number of rows** to be able to muliply matrices  \n",
    "* **Different** process to that of 1D array dot product  \n",
    "* Assisn to new array variable to save  \n",
    "* NOTE - **`originalMatrix @ inverseOfMatrix = IdentityMatrix`** (Matrix multiplied by its inverse will give the matrix of 1's on the main diagonal and zeros everywhere else)  \n",
    "* Creates a new array by obtaining the dot product of Matrix A's i'th row to Matrix B's j'th column:  \n",
    "\n",
    "**1st row, 1st column:**  \n",
    "1x7 + 2x9 + 3x11 = 58![](https://www.mathsisfun.com/algebra/images/matrix-multiply-a.svg \"matrix mulitiplication\")  \n",
    "\n",
    "**1st row, 2nd column:**  \n",
    "1x8 + 2x10 + 3x12 = 64![](https://www.mathsisfun.com/algebra/images/matrix-multiply-b.svg \"matrix mulitiplication\")  \n",
    "\n",
    "**completed:**\n",
    "![](https://www.mathsisfun.com/algebra/images/matrix-multiply-c.svg \"matrix mulitiplication\")"
   ]
  },
  {
   "cell_type": "markdown",
   "metadata": {},
   "source": [
    "---"
   ]
  },
  {
   "cell_type": "markdown",
   "metadata": {},
   "source": [
    "**Norm of a matrix or vector**  \n",
    "\n",
    "**`np.linalg.norm(np_var)`**  \n",
    "* Returns the Frobenius norm by default (Squareroot of the sum of all squared elements)  "
   ]
  },
  {
   "cell_type": "markdown",
   "metadata": {},
   "source": [
    "---"
   ]
  },
  {
   "cell_type": "markdown",
   "metadata": {},
   "source": [
    "**transpose a matrix**  \n",
    "\n",
    "**`np_var.T`**  \n",
    "* Keyword **T** will transpose an array or matrix (flips a matrix over its diagonal which switches the row and column indices to create a new matrix)  "
   ]
  },
  {
   "cell_type": "markdown",
   "metadata": {},
   "source": [
    "---"
   ]
  },
  {
   "cell_type": "markdown",
   "metadata": {},
   "source": [
    "**trace of a matrix**  \n",
    "\n",
    "**`np.trace(np_array_var)`**  \n",
    "* Computes sum of elements[i, i+row index]  \n",
    "* The trace of a matrix is the **sum of the main diagonal elements**  \n",
    "* Note a trace of a matrix **ONLY exits** for a **square matrix**, however if array/matrix is not square in numpy, it still computes because **numpy trace does NOT include a check for square matrix**  "
   ]
  },
  {
   "cell_type": "markdown",
   "metadata": {},
   "source": [
    "---"
   ]
  },
  {
   "cell_type": "markdown",
   "metadata": {},
   "source": [
    "**determinant of a matrix**  \n",
    "\n",
    "**`np.linalg.det(np_array_var)`**  \n",
    "* Array/matrix **MUST** be **square**  \n",
    "* Calculates the determinant of a matrix (sum of products of elements of any row or column and theri corresponding cofactors)  \n",
    "* Note numpy uses approximations to calculate determinants and so **may not be accurate**  "
   ]
  },
  {
   "cell_type": "markdown",
   "metadata": {},
   "source": [
    "---"
   ]
  },
  {
   "cell_type": "markdown",
   "metadata": {},
   "source": [
    "**inverse of a matrix**  \n",
    "\n",
    "**`np.linalg.inv(np_array_var)`**  \n",
    "OR  \n",
    "**`matrixVar.I`**  \n",
    "* Returns the **inverse** of an array or matrix   \n",
    "* Array/matrix **MUST** be **square**  \n",
    "* **`.I`** method **ONLY** works on **numpy matrix** objects  \n",
    "* NOTE - **`originalMatrix @ inverseOfMatrix = IdentityMatrix`** (Matrix multiplied by its inverse will give the matrix of 1's on the main diagonal and zeros everywhere else)  "
   ]
  },
  {
   "cell_type": "markdown",
   "metadata": {},
   "source": [
    "---"
   ]
  },
  {
   "cell_type": "markdown",
   "metadata": {},
   "source": [
    "**Moore-Penrose pseudoinverse of a matrix**  \n",
    "\n",
    "**`np.linalg.pinv(np_array_var)`**  \n",
    "* **Non-square matrix** version of matrix **inverse**  \n",
    "* **A<sup>+</sup>· A = I** &emsp; but &emsp; **A · A<sup>+</sup> ≠ I**  \n",
    "* Note numpy approximates, and so sometimes this can be **inaccurate**  "
   ]
  },
  {
   "cell_type": "markdown",
   "metadata": {},
   "source": [
    "---"
   ]
  },
  {
   "cell_type": "markdown",
   "metadata": {},
   "source": [
    "**eig function**  \n",
    "\n",
    "**`np.linalg.eig(np_var)`**  \n",
    "* Returns the eigenvalues as an array (w) and corresponding eigenvectors as another array (v)  "
   ]
  },
  {
   "cell_type": "markdown",
   "metadata": {},
   "source": [
    "---"
   ]
  },
  {
   "cell_type": "markdown",
   "metadata": {},
   "source": [
    "**min** method  \n",
    "\n",
    "**`np_var.min(axis=None)`**  \n",
    "* Returns lowest value in array  \n",
    "* **`axis`** calculates across an axis rather than of all elements, and refers to the index of the axis. e.g. in a 2D array:  \n",
    "    * **`axis=0`** would calculate across the columns  \n",
    "    * **`axis=1`** would calculate across the rows  "
   ]
  },
  {
   "cell_type": "markdown",
   "metadata": {},
   "source": [
    "---"
   ]
  },
  {
   "cell_type": "markdown",
   "metadata": {},
   "source": [
    "**max** method  \n",
    "\n",
    "**`np_var.max(axis=None)`**  \n",
    "* Will return higest value element  \n",
    "* **`axis`** calculates across an axis rather than of all elements, and refers to the index of the axis. e.g. in a 2D array:  \n",
    "    * **`axis=0`** would calculate across the columns  \n",
    "    * **`axis=1`** would calculate across the rows  "
   ]
  },
  {
   "cell_type": "markdown",
   "metadata": {},
   "source": [
    "---"
   ]
  },
  {
   "cell_type": "markdown",
   "metadata": {},
   "source": [
    "**square root** method  \n",
    "\n",
    "**`np.sqrt(np_var)`**  \n",
    "* Calculates square root of **each element** in an array  "
   ]
  },
  {
   "cell_type": "markdown",
   "metadata": {},
   "source": [
    "---"
   ]
  },
  {
   "cell_type": "markdown",
   "metadata": {},
   "source": [
    "**mean of array elements**  \n",
    "\n",
    "**`np_var.mean(axis=None)`**  \n",
    "* Calculates mean (average) of all elements in an array  \n",
    "* **`axis`** calculates across an axis rather than of all elements, and refers to the index of the axis. e.g. in a 2D array:  \n",
    "    * **`axis=0`** would calculate across the columns  \n",
    "    * **`axis=1`** would calculate across the rows  \n",
    "* **Mean** is denoted by the following symbols:  \n",
    "    * **μ** - (mu) population parameter, i.e. the mean of the entire population  \n",
    "    * **x̅** - (x-bar) is the mean of a sample  "
   ]
  },
  {
   "cell_type": "markdown",
   "metadata": {},
   "source": [
    "---"
   ]
  },
  {
   "cell_type": "markdown",
   "metadata": {},
   "source": [
    "**variance of elements**:  \n",
    "\n",
    "**`np_var.var(axis=None)`**  \n",
    "**OR**  \n",
    "**`((np_var.mean( ) - np_var)**2).sum( ) / np_var.size`**  \n",
    "* * Returns variance of the elements in the array  \n",
    "* **`axis`** calculates across an axis rather than of all elements, and refers to the index of the axis. e.g. in a 2D array:  \n",
    "    * **`axis=0`** would calculate across the columns  \n",
    "    * **`axis=1`** would calculate across the rows  \n",
    "* **Variance measures the average degree to which each point differs from the mean**  \n",
    "* **Variance is the average of all data points within a group**  \n",
    "* **Variance gives an actual value to how much the numbers in a data set vary from the mean**  \n",
    "* **Variance** is denoted by **σ$^2$** (sigma squared)  \n",
    "\n",
    "**Defined:**  \n",
    "$\\sigma^2(x) = \\frac{1}{N} \\sum_{i=1}^N (x_i - \\bar{x})^2$"
   ]
  },
  {
   "cell_type": "markdown",
   "metadata": {},
   "source": [
    "---"
   ]
  },
  {
   "cell_type": "markdown",
   "metadata": {},
   "source": [
    "**standard deviation of elements**  \n",
    "\n",
    "**`np_var.std(axis=None)`**  \n",
    "**OR**  \n",
    "**`np.sqrt(((np_var.mean( ) - np_var)**2).sum( ) / np_var.size)`**  \n",
    "* Returns standard deviation of the elements in the array  \n",
    "* **`axis`** calculates across an axis rather than of all elements, and refers to the index of the axis. e.g. in a 2D array:  \n",
    "    * **`axis=0`** would calculate across the columns  \n",
    "    * **`axis=1`** would calculate across the rows  \n",
    "* **Standard deviation** is the **spread of a group of numbers from the mean**  \n",
    "* **Standard deviation is the square root of the variance**  \n",
    "* **Standard deviation** is a statistical measure that people can use **to determine how spread out numbers are in a data set**  \n",
    "* **Standard deviation** is denoted by **σ** (sigma)  \n",
    "\n",
    "**Defined:**  \n",
    "$\\sigma(x) = \\sqrt{\\frac{1}{N} \\sum_{i=1}^N (x_i - \\bar{x})^2}$  \n",
    "\n",
    "**Normal distribution:**  \n",
    "![](https://i.insider.com/546e68776bb3f74f68b7d0ba?width=769&format=jpeg)"
   ]
  },
  {
   "cell_type": "markdown",
   "metadata": {},
   "source": [
    "---"
   ]
  },
  {
   "cell_type": "markdown",
   "metadata": {},
   "source": [
    "**access value of pi π**  \n",
    "\n",
    "**`np.pi`**  \n",
    "* Will return value of Pi"
   ]
  },
  {
   "cell_type": "markdown",
   "metadata": {},
   "source": [
    "---"
   ]
  },
  {
   "cell_type": "markdown",
   "metadata": {},
   "source": [
    "**Random numbers with NumPy**  \n",
    "\n",
    "Part of NumPy library, option to import just package:  \n",
    "**`from numpy import random`**  "
   ]
  },
  {
   "cell_type": "markdown",
   "metadata": {},
   "source": [
    "---"
   ]
  },
  {
   "cell_type": "markdown",
   "metadata": {},
   "source": [
    "**Random int**  \n",
    "\n",
    "**`np.random.randint(low, high=None, size=None)`**  \n",
    "* Returns a random int  \n",
    "* **`low`** = lowest integer to be drawn from distribution  \n",
    "* **`high`** = if provided, this is one above the largest initeger to be drawn  \n",
    "* **`size`** = output shape  \n",
    "* If **only 1 parameter** provided, this is taken as the high value and low = 0   "
   ]
  },
  {
   "cell_type": "markdown",
   "metadata": {},
   "source": [
    "---"
   ]
  },
  {
   "cell_type": "markdown",
   "metadata": {},
   "source": [
    "**Random float**  \n",
    "\n",
    "**`np.random.rand(d0,d1...dn)`**  \n",
    "* Returns a random float between 0 and 1\n",
    "* **`d0, d1...dn`** is optional and defines the return shape  "
   ]
  },
  {
   "cell_type": "markdown",
   "metadata": {},
   "source": [
    "---"
   ]
  },
  {
   "cell_type": "markdown",
   "metadata": {},
   "source": [
    "**Random Seed**  \n",
    "\n",
    "**`np.random.seed(self, seed=None)`**  \n",
    "* The random number generator needs a number to start with (a seed value), to be able to generate a random number  \n",
    "* By default the random number generator uses the current system time  \n",
    "* Use the seed() method to customize the start number of the random number generator  \n",
    "* Note: If you use the same seed value twice you will get the same random number twice  "
   ]
  },
  {
   "cell_type": "markdown",
   "metadata": {},
   "source": [
    "---"
   ]
  },
  {
   "cell_type": "markdown",
   "metadata": {},
   "source": [
    "**Random Binomial**  \n",
    "\n",
    "Binomials have:  \n",
    "* A fixed number of trials  \n",
    "* Only have 2 possible outcomes  \n",
    "* the outcomes are independent of each other  \n",
    "* the probability of success remains the same for each trial  \n",
    "\n",
    "**`np.random.binomial(n, p, size=None)`**  \n",
    "* **`n`** is number or trials per experiment  \n",
    "* **`p`** is probability of sucess. In the interval [0,1]  \n",
    "* **`size`** Number of times to run the experiment, default None = 1\n",
    "* **Returns number of successes for each experiment**  "
   ]
  },
  {
   "cell_type": "markdown",
   "metadata": {},
   "source": [
    "---"
   ]
  },
  {
   "cell_type": "markdown",
   "metadata": {},
   "source": [
    "**Random Uniform**  \n",
    "\n",
    "**`np.random.uniform(low=0.0, high=1.0, size=None)`**  \n",
    "* Generates random numbers between low and high (inclusive) with equal probability  \n",
    "* **`size`** is samples drawn  "
   ]
  },
  {
   "cell_type": "markdown",
   "metadata": {},
   "source": [
    "---"
   ]
  },
  {
   "cell_type": "markdown",
   "metadata": {},
   "source": [
    "**Random Poisson**  \n",
    "\n",
    "**`np.random.poisson(lam=1.0, size=None)`**  \n",
    "* **`lam`** is expectation of interval, must be >= 0  \n",
    "* **`size`** is samples drawn  "
   ]
  },
  {
   "cell_type": "markdown",
   "metadata": {},
   "source": [
    "---"
   ]
  },
  {
   "cell_type": "markdown",
   "metadata": {},
   "source": [
    "**Random Normal Distribution**  \n",
    "\n",
    "**`np.random.randn(d0,d1,...dn)`**  \n",
    "* **`d0,d1,...dn`** is the dimentions of the returned array, **must be non-negative**  "
   ]
  },
  {
   "cell_type": "markdown",
   "metadata": {},
   "source": [
    "---"
   ]
  },
  {
   "cell_type": "markdown",
   "metadata": {},
   "source": [
    "**Random Gassian distribution**  \n",
    "\n",
    "**`Normal distribution * σ + μ`**  \n",
    "* See above for normal distribution  \n",
    "* **`σ`** is **standard deviation**  \n",
    "* **`μ`** is **mean**  "
   ]
  },
  {
   "cell_type": "markdown",
   "metadata": {},
   "source": [
    "---"
   ]
  },
  {
   "cell_type": "markdown",
   "metadata": {},
   "source": [
    "**linspace**\n",
    "\n",
    "**`np.linspace(start, stop, num= #samples_to_generate)`**  \n",
    "* Returns evenly spaced numbers from **\"start\" to \"stop\"**  \n",
    "* **\"num=\"** is parameter which defines how many samples to produce, defaults to 50  \n",
    "* Prounounced \"line space\"  "
   ]
  },
  {
   "cell_type": "markdown",
   "metadata": {},
   "source": [
    "---"
   ]
  },
  {
   "cell_type": "markdown",
   "metadata": {},
   "source": [
    "**matplotlib**  \n",
    "\n",
    "[Link to info on matplotlibs colourmap](https://matplotlib.org/stable/tutorials/colors/colormaps.html)\n",
    "\n",
    "* MatPlotLib is a library used to creat static, animated, and interactive visualizations in Python  \n",
    "\n",
    "Import library:  \n",
    "**`import matplotlib.pyplot as plt`**  \n",
    "* Will import matplotlib library, optional standard abbreviation \"plt\"  \n",
    "\n",
    "Display plots in Jupyter Notebook:  \n",
    "**`%matplotlib inline`**  "
   ]
  },
  {
   "cell_type": "markdown",
   "metadata": {},
   "source": [
    "**subplots**:  \n",
    "\n",
    "**`plt.subplot(numberRows=1, numberCols=1, index=1)`**  \n",
    "* Plots several images in the same cell  "
   ]
  },
  {
   "cell_type": "markdown",
   "metadata": {},
   "source": [
    "[<p style=\"text-align: right;\">**⬆ Table of Contents ⬆**</p>](#Python-Quick-Reference)"
   ]
  },
  {
   "cell_type": "markdown",
   "metadata": {},
   "source": [
    "---"
   ]
  },
  {
   "cell_type": "markdown",
   "metadata": {},
   "source": [
    "## <center>Working with Images:<center>"
   ]
  },
  {
   "cell_type": "markdown",
   "metadata": {},
   "source": [
    "Colour images are represented using the **RGB colour space**. Each colour is represented by a triplet quantifying the amount of red, green, and blue colours. Each colour is represented by an integer number in **`[0, 255]`**   \n",
    "Some examples:  \n",
    "\n",
    "* RED: **`[255,0,0]`**  \n",
    "* GREEN: **`[0,255,0]`**  \n",
    "* BLUE: **`[0,0,255]`**  \n",
    "* YELLOW: **`[255,255,0]`**  \n",
    "* GRAY: **`[100,100,100]`** (by varying the value, you'll get other shades of gray, often defined using **equal values for all three parameters**)\n",
    "* BLACK: **`[0,0,0]`**   \n",
    "* WHITE: **`[255,255,255]`**   \n",
    "\n",
    "If we have an image of size 200x200, we will have a 3D dimensional array (a list containing three tables of size 200x200 &mdash; python won't use this exact representation, but this is a way to see it -- one per each colour).\n",
    "![RGB Image representation](https://www.researchgate.net/profile/Jane_Courtney2/publication/267210444/figure/fig6/AS:295732335661069@1447519491773/A-three-dimensional-RGB-matrix-Each-layer-of-the-matrix-is-a-two-dimensional-matrix.png)  \n",
    "\n",
    "**Set array for image channel**:  \n",
    "**`channelArrayVar = ImageObjVar[:,:,channelIndex]`**  \n",
    "* Set **`channelIndex`** to the following to set an array for the:  \n",
    "    * **red channel = 0**  \n",
    "    * **green channel = 1**  \n",
    "    * **blue channel = 2**  \n",
    "\n",
    "**RGBA** color values are an extension of RGB color values with an Alpha channel - which specifies the opacity for a color  \n",
    "**`rgba(red, green, blue, alpha)`**  \n",
    "* **`alpha`** is a number between 0.0 (fully transparent) and 1.0 (not transparent at all)  "
   ]
  },
  {
   "cell_type": "markdown",
   "metadata": {},
   "source": [
    "---"
   ]
  },
  {
   "cell_type": "markdown",
   "metadata": {},
   "source": [
    "**Pillow (aka PIL)** module  \n",
    "\n",
    "**`!pip install pillow`**  \n",
    "* Is not built-in, install as shown using **pip**  \n",
    "* Pillow is a module for processing images in Python  \n",
    "* It is built on the top of PIL (Python Image Library)  \n",
    "* Pillow supports many image file formats including BMP, PNG, JPEG, and TIFF  "
   ]
  },
  {
   "cell_type": "markdown",
   "metadata": {},
   "source": [
    "**Import Image module**  \n",
    "\n",
    "**`from PIL import Image`**  \n",
    "* Allows images to be opened and provides functions to load images from files, and to create new images  \n",
    "* PIL is the Python Imaging Library which provides the python interpreter with image editing capabilities  "
   ]
  },
  {
   "cell_type": "markdown",
   "metadata": {},
   "source": [
    "---"
   ]
  },
  {
   "cell_type": "markdown",
   "metadata": {},
   "source": [
    "**open( )** function  \n",
    "\n",
    "**`ImageFileObj = Image.open(imageFilePathAndExtension)`**  \n",
    "* **pillow provides** the **`open( )`** function read the image  \n",
    "* A lazy operation; function identifies the file, but the file remains open and the actual image data is not read from the file until you try to process the data (or call the load( ) method)  "
   ]
  },
  {
   "cell_type": "markdown",
   "metadata": {},
   "source": [
    "---"
   ]
  },
  {
   "cell_type": "markdown",
   "metadata": {},
   "source": [
    "**show( )** function  \n",
    "\n",
    "**`ImageFileObj.show( )`**  \n",
    "* **pillow module provides** **`show( )`** function  \n",
    "* **`show( )`** function displays the image  \n",
    "* The method is mainly intended for debugging purposes, **better to use matplotlib**    \n",
    "* On Unix platforms, this method saves the image to a temporary PPM file, and calls the xv utility. On Windows, it saves the image to a temporary BMP file, and **uses** the **standard BMP display utility to show it (usually Paint)**  \n",
    "* For displaying the image Pillow first converts the image to a .png format (on Windows OS) and stores it in a temporary buffer and then displays it. Therefore, due to the conversion of the image format to .png some properties of the original image file format might be lost (like animation). Therefore, it is advised to use this method only for test purposes  "
   ]
  },
  {
   "cell_type": "markdown",
   "metadata": {},
   "source": [
    "---"
   ]
  },
  {
   "cell_type": "markdown",
   "metadata": {},
   "source": [
    "Using **pyplot** from **matplotlib**  \n",
    "\n",
    "**`from matplotlib import pyplot as plt`**  \n",
    "**OR**  \n",
    "**`import matplotlib.pyplot as plt`**  \n",
    "* Imports **pyplot** sublibrary from matplotlib library  "
   ]
  },
  {
   "cell_type": "markdown",
   "metadata": {},
   "source": [
    "**imshow( )** function  \n",
    "\n",
    "**`plt.imshow(ImageFileObj, cmap=None)`**  \n",
    "* **matplotlib** function  \n",
    "* Used to display data as an image  \n",
    "* **`ImageFileObj`** is the **data of the image**  \n",
    "* **`cmap`** is **used** when the **shape** of the array is **2D** (grayscale), but **ignored** when **shape** of the array is **3D**  \n",
    "[Info on **`imshow`**](https://matplotlib.org/3.5.0/api/_as_gen/matplotlib.pyplot.imshow.html)  \n",
    "[See for using **`cmap`** parameter - info on matplotlibs colourmap](https://matplotlib.org/stable/tutorials/colors/colormaps.html)  \n",
    "[More info on cmap](https://stackoverflow.com/questions/25625952/matplotlib-what-is-the-function-of-cmap-in-imshow)"
   ]
  },
  {
   "cell_type": "markdown",
   "metadata": {},
   "source": [
    "---"
   ]
  },
  {
   "cell_type": "markdown",
   "metadata": {},
   "source": [
    "**size** attribute  \n",
    "\n",
    "**`ImageFileObj.size`**  \n",
    "* Provides the size of the image returned as a **tuple** that contains **width** and **height**  \n",
    "* Part of **Image class**  "
   ]
  },
  {
   "cell_type": "markdown",
   "metadata": {},
   "source": [
    "---"
   ]
  },
  {
   "cell_type": "markdown",
   "metadata": {},
   "source": [
    "**format** attribute  \n",
    "\n",
    "**`ImageFileObj.format`**  \n",
    "* Returns the **format** of the image file  \n",
    "* Part of **Image class**  "
   ]
  },
  {
   "cell_type": "markdown",
   "metadata": {},
   "source": [
    "---"
   ]
  },
  {
   "cell_type": "markdown",
   "metadata": {},
   "source": [
    "**mode** attribute  \n",
    "\n",
    "**`ImageFileObj.mode`**  \n",
    "* Part of **Image class**  \n",
    "* Tells the type and depth of the pixel in the image  \n",
    "* A 1-bit pixel has a range of 0-1, and an 8-bit pixel has a range of 0-255  \n",
    "* There are different modes provided by this module. A few of them are:\n",
    "\n",
    "|**Mode**|**Description**|\n",
    "|:---|:---|\n",
    "|1|1-bit pixels, black and white|\n",
    "|L|8-bit pixels, Greyscale|\n",
    "|P|8-bit pixels, mapped to any other mode using a color palette|\n",
    "|RGB|3×8-bit pixels, true color|\n",
    "|RGBA|4×8-bit pixels, true color with transparency mask|"
   ]
  },
  {
   "cell_type": "markdown",
   "metadata": {},
   "source": [
    "---"
   ]
  },
  {
   "cell_type": "markdown",
   "metadata": {},
   "source": [
    "**Resize an image**  \n",
    "\n",
    "**`rescaledVar = ImageFileObj.resize(newSize)`**  \n",
    "* **`newSize`** should be passed as a **tuple**  \n",
    "* Part of **Image class**  "
   ]
  },
  {
   "cell_type": "markdown",
   "metadata": {},
   "source": [
    "---"
   ]
  },
  {
   "cell_type": "markdown",
   "metadata": {},
   "source": [
    "**Save image**  \n",
    "\n",
    "**`PIL_imageObj.save(filePathWithExtension, imageType)`**  \n",
    "* Part of **Image class**  \n",
    "* Saves an image that has been previously loaded - easier as **PIL image object** than image file object  \n",
    "* Note you can save an image as a different **`imageType`** than the original was opened as  "
   ]
  },
  {
   "cell_type": "markdown",
   "metadata": {},
   "source": [
    "---"
   ]
  },
  {
   "cell_type": "markdown",
   "metadata": {},
   "source": [
    "**Create ndarray from an image**  \n",
    "\n",
    "**`imgArrayVar = np.asarray(ImageFileObj)`**  \n",
    "* Creates a numpy array from an Image file object  \n",
    "* Images will be a 3D array  "
   ]
  },
  {
   "cell_type": "markdown",
   "metadata": {},
   "source": [
    "---"
   ]
  },
  {
   "cell_type": "markdown",
   "metadata": {},
   "source": [
    "**Clipping images**  \n",
    "\n",
    "**`newArrayVar = ndarrayVar/255`**$\\;\\;\\;\\;$**(or other mathematical operation)**  \n",
    "* By using **mathematical operators**, we can adjust the values in an **array for an image**  \n",
    "* **matplotlib (plt)** is able to show images represented as **floats** in the range **[0..1]** and **integers** in the range **[0..255]**  \n",
    "* Values **below 0 are considered as 0**, values **above 1 are considered as 1**  for **floats**, **same applies** when outside **integer range**  "
   ]
  },
  {
   "cell_type": "markdown",
   "metadata": {},
   "source": [
    "---"
   ]
  },
  {
   "cell_type": "markdown",
   "metadata": {},
   "source": [
    "**Broadcasting to an image**  \n",
    "\n",
    "**`newImgVar = clippedImageVar*broadcastArray`**  \n",
    "* **`clippedImageVar`** should be **clipped** to keep any **scaled values** inside the **image range** for floats (0-1)  \n",
    "* **`broadcastArray`** should be **same shape** as image  \n",
    "* Sometimes you may need to add an axis to an array to make it the same shape (see Numpy)  "
   ]
  },
  {
   "cell_type": "markdown",
   "metadata": {},
   "source": [
    "[<p style=\"text-align: right;\">**⬆ Table of Contents ⬆**</p>](#Python-Quick-Reference)"
   ]
  },
  {
   "cell_type": "markdown",
   "metadata": {},
   "source": [
    "---"
   ]
  },
  {
   "cell_type": "markdown",
   "metadata": {},
   "source": [
    "## <center>Basic Statistics:</center>"
   ]
  },
  {
   "cell_type": "markdown",
   "metadata": {},
   "source": [
    "**Statistical types of data**  \n",
    "\n",
    "Three main types:\n",
    "- $x$ is an **ordinal** variable if $x\\in\\mathbb{N}$ (**Natural numbers** - whole, positive, **typically does not include 0**);  \n",
    "$\\;\\;\\;\\;$e.g:  \n",
    "    * Our age  \n",
    "    * Amazon star reviews  \n",
    "    * Likert scale (strongly agree [5], agree [4], neutral [3], disgree [2], strongly disagree [1])  \n",
    "- $x$ is a **numerical** variable if $x\\in\\mathbb{R}$ (**Real numbers** - all rational and irrational numbers;  \n",
    "- $x$ is an **categorical (or nominal)** variable if $x\\in C$, where $C$ is a **finite set** of element (and typically there's **no order between the elements** of $C$)  \n",
    "$\\;\\;\\;\\;$e.g:  \n",
    "    * Yes/No,  \n",
    "    * The categories of films/books  "
   ]
  },
  {
   "cell_type": "markdown",
   "metadata": {},
   "source": [
    "**Types of probability distribution**  \n",
    "\n",
    "There are **two main types**:  \n",
    "* **Discrete**; good for **categorical / ordinal** data  \n",
    "* **Continuous**; good for **numerical** data  "
   ]
  },
  {
   "cell_type": "markdown",
   "metadata": {},
   "source": [
    "**Discrete probability distributions** include  \n",
    "\n",
    "* Bernoulli Distribution  \n",
    "* Uniform Distribution  \n",
    "* Poisson Distribution  "
   ]
  },
  {
   "cell_type": "markdown",
   "metadata": {},
   "source": [
    "**Continuous probability distributions** include  \n",
    "\n",
    "* Continuous Uniform Distribution  \n",
    "* Gaussian Distribution  "
   ]
  },
  {
   "cell_type": "markdown",
   "metadata": {},
   "source": [
    "**Bernoulli Distribution**  \n",
    "\n",
    "See NumPy section for creating random distributions in Python  \n",
    "\n",
    "Any kind of events with **two possible outcomes (binary events**), e.g. flipping a fair coin  \n",
    "The **probability mass function (PMF) `f`** over possible outcomes **k** is:  \n",
    "![](https://wikimedia.org/api/rest_v1/media/math/render/svg/614e0c64d59f0ff2e926deafcb2de6e502394fac)  \n",
    "**k** = success - outcome you want to keep track of (1 = success)  \n",
    "**p** = probability of success (probability of failiure is 1-p)  \n",
    "Every Bernoulli trial must be an **independant event**  \n",
    "\n",
    "![](https://valelab4.ucsf.edu/svn/3rdpartypublic/boost/libs/math/doc/sf_and_dist/graphs/bernoulli_pdf.png)"
   ]
  },
  {
   "cell_type": "markdown",
   "metadata": {},
   "source": [
    "**Uniform Distribution**  \n",
    "\n",
    "See NumPy section for creating random distributions in Python  \n",
    "\n",
    "Good to formalise **events with equal probability**  \n",
    "e.g. drawing a heart, diamond, club, or spade from a deck of cards,  \n",
    "$\\;\\;\\;\\;$ or rolling a number on a dice  \n",
    "Has **one parameter n (the number of events)** where each event has the **same probability**  \n",
    "from the set of realisation {a-b}, (otherwise probability is zero)  \n",
    "**probability mass function (PMF) `f`**:  \n",
    "![](https://www.math.net/mj/Zih4KSA9IFxmcmFjMW4gXCAsIFwgXHRleHR7eCA9IDEsIDIsIDMsIC4uLiwgbn0=_100.svg)  \n",
    "**n** = number of events  \n",
    "\n",
    "![](https://upload.wikimedia.org/wikipedia/commons/thumb/1/1f/Uniform_discrete_pmf_svg.svg/488px-Uniform_discrete_pmf_svg.svg.png)"
   ]
  },
  {
   "cell_type": "markdown",
   "metadata": {},
   "source": [
    "**Poisson Distribution**  \n",
    "\n",
    "See NumPy section for creating random distributions in Python  \n",
    "\n",
    "Good to formalise **events occurring in a fixed interval of time (or space), or other specified interval types such as distance, area or volume**  \n",
    "e.g. Number of patients visiting the GP between 10-11am  \n",
    "$\\;\\;\\;\\;$or Number of rainy days in Edinburgh in a year  \n",
    "**probability mass function (PMF) `f`**:  \n",
    "\n",
    "![](https://wikimedia.org/api/rest_v1/media/math/render/svg/6c429d187b5d4ef8ddea32a2d224f423cf9fe5b0)  \n",
    "Valid **only for values on the x-axis** \n",
    "\n",
    "e is Euler's number (e = 2.71828...)  \n",
    "k is the number of occurrences  \n",
    "k! is the factorial of x  \n",
    "λ (sometimes written μ) is a potitive number equal to the expected value (EV) of X when that is also equal to its variance   \n",
    "![](https://wikimedia.org/api/rest_v1/media/math/render/svg/2debd3f9adf97c8af4919aa69ed4a7121b47a737)\n",
    "\n",
    "![](https://wsproject.org/images/poisson3.gif)"
   ]
  },
  {
   "cell_type": "markdown",
   "metadata": {},
   "source": [
    "**Continuous probability distributions** include  \n",
    "\n",
    "* Continuous Uniform Distribution  \n",
    "* Gaussian Distribution  "
   ]
  },
  {
   "cell_type": "markdown",
   "metadata": {},
   "source": [
    "**Continuous Uniform Distribution**  \n",
    "\n",
    "The distribution describes an experiment where there is an **arbitrary outcome that lies between certain bounds**  \n",
    "The **bounds are** defined by the parameters, **a and b**, which are the **minimum and maximum values**  \n",
    "**probability density function (PDF) `f`**:  \n",
    "\n",
    "![](https://wikimedia.org/api/rest_v1/media/math/render/svg/b701524dbfea89ed90316dbc48c5b62954d7411c)  \n",
    "\n",
    "![](https://upload.wikimedia.org/wikipedia/commons/thumb/9/96/Uniform_Distribution_PDF_SVG.svg/375px-Uniform_Distribution_PDF_SVG.svg.png)  "
   ]
  },
  {
   "cell_type": "markdown",
   "metadata": {},
   "source": [
    "**Gaussian Distribution**  \n",
    "\n",
    "See NumPy section for creating random distributions in Python  \n",
    "\n",
    "For a **real-valued** (Rational and irrational numbers) random variable \n",
    "Informally called a bell curve, but there are other types of bell shaped distributions  \n",
    "**probability density function (PDF) `f`**:  \n",
    "\n",
    "![](https://wikimedia.org/api/rest_v1/media/math/render/svg/00cb9b2c9b866378626bcfa45c86a6de2f2b2e40)  \n",
    "\n",
    "**μ** (Mu) is the **mean** or expectation of the distribution (and also its median and mode)  \n",
    "**σ** (Sigma) is the **standard deviation**  \n",
    "\n",
    "When **μ=0 and σ=1**, this is called **Normal Distribution (Z)**  \n",
    "\n",
    "![](https://upload.wikimedia.org/wikipedia/commons/thumb/7/74/Normal_Distribution_PDF.svg/330px-Normal_Distribution_PDF.svg.png)  \n",
    "Red curve is the **Standard normal distribution**  \n",
    "\n",
    "**Normal distribution:**  \n",
    "![](https://i.insider.com/546e68776bb3f74f68b7d0ba?width=769&format=jpeg)  "
   ]
  },
  {
   "cell_type": "markdown",
   "metadata": {},
   "source": [
    "**Expected value**  \n",
    "\n",
    "The return you can expect for some kind of action  \n",
    "Generalised as the weighted average  \n",
    "For **discrete binomial events** (2 outcomes):  \n",
    "![](https://www.superprof.co.uk/resources/wp-content/ql-cache/quicklatex.com-7ab0e984c43345bb465953f789344174_l3.png)  \n",
    "\n",
    "For **discrete multiple events** (multiple probabilities):  \n",
    "![](https://www.superprof.co.uk/resources/wp-content/ql-cache/quicklatex.com-4e0f834dd559812ee38b8c28b3c2b91b_l3.png)  \n",
    "\n",
    "**P(x)** = probability of success  \n",
    "**X** = number of trials  \n",
    "\n",
    "For a **continuous random variable**:  \n",
    "![](https://study.com/cimages/multimages/16/visual4-1.png)  \n",
    "\n",
    "The curve is esscentially broken up into smaller and smaller intervals and the weighted average is calculated similar to discrete distribution  4"
   ]
  },
  {
   "cell_type": "markdown",
   "metadata": {},
   "source": [
    "**Mode**  \n",
    "\n",
    "Mode is the value with the highest probability (this will be in the center of a symetric distribution)  \n",
    "\n",
    "Single mode = **Unimodel**  \n",
    "Two or more modes = **Multimodel**  "
   ]
  },
  {
   "cell_type": "markdown",
   "metadata": {},
   "source": [
    "**Variance**  \n",
    "\n",
    "Quantifies the spread around the mean  \n",
    "Defined as the mean of the squared difference between the mean and the data  \n",
    "For **Discrete** random variable:  \n",
    "![](https://wikimedia.org/api/rest_v1/media/math/render/svg/2577f2b00102ca127d8867a756b85e17d97eab5f)  \n",
    "**μ** = expected value  \n",
    "\n",
    "For **Continuous** random variable:  \n",
    "![](https://wikimedia.org/api/rest_v1/media/math/render/svg/15af4223be86b41d179dfd36b2ecbc27fd2d467a)  \n",
    "**f(x)** = PDF  "
   ]
  },
  {
   "cell_type": "markdown",
   "metadata": {},
   "source": [
    "**Medium**  \n",
    "\n",
    "The **middle value** in a sorted, ascending or descending, list of values  \n",
    "![](https://upload.wikimedia.org/wikipedia/commons/thumb/c/cf/Finding_the_median.png/330px-Finding_the_median.png)  \n",
    "\n",
    "![](https://ubalt.pressbooks.pub/app/uploads/sites/11/2020/12/ch29a-redone.png)  "
   ]
  },
  {
   "cell_type": "markdown",
   "metadata": {},
   "source": [
    "**Pearson correlation coefficient (PCC)**  \n",
    "\n",
    "A measure of **linear correlation** between two sets of data  \n",
    "It is the ratio between the covariance of two variables and the product of their standard deviations; thus it is essentially a normalized measurement of the covariance, such that the result always has a value between −1 and 1  \n",
    "\n",
    "![](https://wikimedia.org/api/rest_v1/media/math/render/svg/2b9c2079a3ffc1aacd36201ea0a3fb2460dc226f)  \n",
    "Where:\n",
    "**n** = sample size  \n",
    "**x<sub>i</sub>, y<sub>i</sub>** = individual sample points indexed with *i*  \n",
    "![](https://wikimedia.org/api/rest_v1/media/math/render/svg/5792e9289b8786ab64a5ef4e0cd083f9c151062e) = (the sample mean); and analogously for ȳ  \n",
    "\n",
    "Does not exactly mean that one event causes the other (but we can have an idea)  \n",
    "Values closer to $\\pm$1 = high correlation  \n",
    "Values closer to 0 = low correlation  \n",
    "\n",
    "![](https://upload.wikimedia.org/wikipedia/commons/thumb/3/34/Correlation_coefficient.png/600px-Correlation_coefficient.png)"
   ]
  },
  {
   "cell_type": "markdown",
   "metadata": {},
   "source": [
    "[<p style=\"text-align: right;\">**⬆ Table of Contents ⬆**</p>](#Python-Quick-Reference)"
   ]
  },
  {
   "cell_type": "markdown",
   "metadata": {},
   "source": [
    "---"
   ]
  },
  {
   "cell_type": "markdown",
   "metadata": {},
   "source": [
    "## <center>Data Preprocessing:</center>"
   ]
  },
  {
   "cell_type": "markdown",
   "metadata": {},
   "source": [
    "---"
   ]
  },
  {
   "cell_type": "markdown",
   "metadata": {},
   "source": [
    "**Data Scaling**  \n",
    "\n",
    "**`min = npArrayVar.min(axis=0)`**  \n",
    "**`max = npArrayVar.max(axis=0)`**  \n",
    "\n",
    "**`scaledArrayVar = (npArrayVar - min)/ (max-min)`**  \n",
    "* **Scaleing** the range of the **data [min,max] to [0,1]**  \n",
    "* **`axis=0`** restricts calculations to columns of data to **treat each feature separately**  "
   ]
  },
  {
   "cell_type": "markdown",
   "metadata": {},
   "source": [
    "---"
   ]
  },
  {
   "cell_type": "markdown",
   "metadata": {},
   "source": [
    "**Data Normalisation**  \n",
    "\n",
    "**`normalisedVar = (npArrayVar-npArrayVar.mean(axis=0))/npArrayVar.std(axis=0)`**  \n",
    "* Another way to **scale dataset**, purpose is to make the **mean of your data equal (or very close to) 0**, while the **standard deviation becomes 1**  \n",
    "* Calculated by **subtracting** the **mean from** your **data and** by **dividing** the **result by** the **standard deviation**  \n",
    "* **`axis=0`** restricts calculations to columns of data to **treat each feature separately**  "
   ]
  },
  {
   "cell_type": "markdown",
   "metadata": {},
   "source": [
    "---"
   ]
  },
  {
   "cell_type": "markdown",
   "metadata": {},
   "source": [
    "**Ordinal Encoding**  \n",
    "\n",
    "Most categorical data cannot be handled in machine learning and cannot be processed as above  \n",
    "Can assign numbers to each and create an array as follows:  \n",
    "\n",
    "**`categoriesArray = np.unique(npArrayCategoricalVar)`**$\\;\\;\\;\\;$**Can be done from dataset or array**  \n",
    "**`dictCat = {}`**  \n",
    "\n",
    "**`for i,cat in enumerate (categoriesArray):`**  \n",
    "$\\;\\;\\;\\;$**`dictCat[cat] = i`**  \n",
    "\n",
    "**`ordinalArray = np.zeros((npArrayCategoricalVar.size,),dtype=np.int32)`**  \n",
    "\n",
    "**`for i in range(ordinalArray.size):`**  \n",
    "$\\;\\;\\;\\;$**`ordinalArray[i] = dictCat[npArrayCategoricalVar[i]]`**  \n",
    "* Returns an array where each category has been replaced with a unique number  "
   ]
  },
  {
   "cell_type": "markdown",
   "metadata": {},
   "source": [
    "---"
   ]
  },
  {
   "cell_type": "markdown",
   "metadata": {},
   "source": [
    "**One-hot encoding**  \n",
    "\n",
    "**`oneHotArrayVar = np.eye(categoriesArrayVar.size)[ordinalArrayVar]`**  \n",
    "* Converts ordinal encoding to a **group of 'bits'** where each bit relates to a category  \n",
    "* Makes it **easier to concatinate array with original array** (See below)  \n",
    "* Each column represents a category, each row will have 1 in one category and 0 in the rest, the resulting row is a binary variable encoding for each category  "
   ]
  },
  {
   "cell_type": "markdown",
   "metadata": {},
   "source": [
    "---"
   ]
  },
  {
   "cell_type": "markdown",
   "metadata": {},
   "source": [
    "**Concatenate arrays**  \n",
    "\n",
    "**`concatenatedArray = np.concatenate(firstArray, secondArray, axis=0)`**  \n",
    "* **`axis`** **defaults to 0 (columns)**, set to **1** to concatenate **rows**, set to **None** to **flattern arrays before use**  \n",
    "* The arrays must have the same shape, except in the dimension corresponding to **`axis`** (the first, by default)  "
   ]
  },
  {
   "cell_type": "markdown",
   "metadata": {},
   "source": [
    "[<p style=\"text-align: right;\">**⬆ Table of Contents ⬆**</p>](#Python-Quick-Reference)"
   ]
  },
  {
   "cell_type": "markdown",
   "metadata": {},
   "source": [
    "---"
   ]
  },
  {
   "cell_type": "markdown",
   "metadata": {},
   "source": [
    "## <center>Simple APIs:</center>"
   ]
  },
  {
   "cell_type": "code",
   "execution_count": null,
   "metadata": {},
   "outputs": [],
   "source": []
  },
  {
   "cell_type": "code",
   "execution_count": null,
   "metadata": {},
   "outputs": [],
   "source": []
  },
  {
   "cell_type": "code",
   "execution_count": null,
   "metadata": {},
   "outputs": [],
   "source": []
  },
  {
   "cell_type": "code",
   "execution_count": null,
   "metadata": {},
   "outputs": [],
   "source": []
  },
  {
   "cell_type": "markdown",
   "metadata": {},
   "source": [
    "[<p style=\"text-align: right;\">**⬆ Table of Contents ⬆**</p>](#Python-Quick-Reference)"
   ]
  },
  {
   "cell_type": "markdown",
   "metadata": {},
   "source": [
    "---"
   ]
  },
  {
   "cell_type": "markdown",
   "metadata": {},
   "source": [
    "## <center>Notes:</center>"
   ]
  },
  {
   "cell_type": "code",
   "execution_count": null,
   "metadata": {},
   "outputs": [],
   "source": []
  },
  {
   "cell_type": "code",
   "execution_count": null,
   "metadata": {},
   "outputs": [],
   "source": []
  },
  {
   "cell_type": "code",
   "execution_count": null,
   "metadata": {},
   "outputs": [],
   "source": []
  },
  {
   "cell_type": "markdown",
   "metadata": {},
   "source": [
    "[<p style=\"text-align: right;\">**⬆ Table of Contents ⬆**</p>](#Python-Quick-Reference)"
   ]
  },
  {
   "cell_type": "code",
   "execution_count": null,
   "metadata": {},
   "outputs": [],
   "source": []
  },
  {
   "cell_type": "code",
   "execution_count": null,
   "metadata": {},
   "outputs": [],
   "source": []
  }
 ],
 "metadata": {
  "kernelspec": {
   "display_name": "Python 3 (ipykernel)",
   "language": "python",
   "name": "python3"
  },
  "language_info": {
   "codemirror_mode": {
    "name": "ipython",
    "version": 3
   },
   "file_extension": ".py",
   "mimetype": "text/x-python",
   "name": "python",
   "nbconvert_exporter": "python",
   "pygments_lexer": "ipython3",
   "version": "3.9.7"
  }
 },
 "nbformat": 4,
 "nbformat_minor": 4
}
